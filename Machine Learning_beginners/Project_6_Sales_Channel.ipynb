{
 "cells": [
  {
   "cell_type": "code",
   "execution_count": 1,
   "metadata": {},
   "outputs": [],
   "source": [
    "import numpy as np\n",
    "import pandas as pd\n",
    "import warnings\n",
    "warnings.filterwarnings('ignore')"
   ]
  },
  {
   "cell_type": "code",
   "execution_count": 2,
   "metadata": {},
   "outputs": [],
   "source": [
    "#importing the csv file\n",
    "sl=pd.read_csv(\"advertising.csv\")"
   ]
  },
  {
   "cell_type": "code",
   "execution_count": 3,
   "metadata": {},
   "outputs": [
    {
     "data": {
      "text/html": [
       "<div>\n",
       "<style scoped>\n",
       "    .dataframe tbody tr th:only-of-type {\n",
       "        vertical-align: middle;\n",
       "    }\n",
       "\n",
       "    .dataframe tbody tr th {\n",
       "        vertical-align: top;\n",
       "    }\n",
       "\n",
       "    .dataframe thead th {\n",
       "        text-align: right;\n",
       "    }\n",
       "</style>\n",
       "<table border=\"1\" class=\"dataframe\">\n",
       "  <thead>\n",
       "    <tr style=\"text-align: right;\">\n",
       "      <th></th>\n",
       "      <th>Unnamed: 0</th>\n",
       "      <th>TV</th>\n",
       "      <th>radio</th>\n",
       "      <th>newspaper</th>\n",
       "      <th>sales</th>\n",
       "    </tr>\n",
       "  </thead>\n",
       "  <tbody>\n",
       "    <tr>\n",
       "      <th>0</th>\n",
       "      <td>1</td>\n",
       "      <td>230.1</td>\n",
       "      <td>37.8</td>\n",
       "      <td>69.2</td>\n",
       "      <td>22.1</td>\n",
       "    </tr>\n",
       "    <tr>\n",
       "      <th>1</th>\n",
       "      <td>2</td>\n",
       "      <td>44.5</td>\n",
       "      <td>39.3</td>\n",
       "      <td>45.1</td>\n",
       "      <td>10.4</td>\n",
       "    </tr>\n",
       "    <tr>\n",
       "      <th>2</th>\n",
       "      <td>3</td>\n",
       "      <td>17.2</td>\n",
       "      <td>45.9</td>\n",
       "      <td>69.3</td>\n",
       "      <td>9.3</td>\n",
       "    </tr>\n",
       "    <tr>\n",
       "      <th>3</th>\n",
       "      <td>4</td>\n",
       "      <td>151.5</td>\n",
       "      <td>41.3</td>\n",
       "      <td>58.5</td>\n",
       "      <td>18.5</td>\n",
       "    </tr>\n",
       "    <tr>\n",
       "      <th>4</th>\n",
       "      <td>5</td>\n",
       "      <td>180.8</td>\n",
       "      <td>10.8</td>\n",
       "      <td>58.4</td>\n",
       "      <td>12.9</td>\n",
       "    </tr>\n",
       "    <tr>\n",
       "      <th>...</th>\n",
       "      <td>...</td>\n",
       "      <td>...</td>\n",
       "      <td>...</td>\n",
       "      <td>...</td>\n",
       "      <td>...</td>\n",
       "    </tr>\n",
       "    <tr>\n",
       "      <th>195</th>\n",
       "      <td>196</td>\n",
       "      <td>38.2</td>\n",
       "      <td>3.7</td>\n",
       "      <td>13.8</td>\n",
       "      <td>7.6</td>\n",
       "    </tr>\n",
       "    <tr>\n",
       "      <th>196</th>\n",
       "      <td>197</td>\n",
       "      <td>94.2</td>\n",
       "      <td>4.9</td>\n",
       "      <td>8.1</td>\n",
       "      <td>9.7</td>\n",
       "    </tr>\n",
       "    <tr>\n",
       "      <th>197</th>\n",
       "      <td>198</td>\n",
       "      <td>177.0</td>\n",
       "      <td>9.3</td>\n",
       "      <td>6.4</td>\n",
       "      <td>12.8</td>\n",
       "    </tr>\n",
       "    <tr>\n",
       "      <th>198</th>\n",
       "      <td>199</td>\n",
       "      <td>283.6</td>\n",
       "      <td>42.0</td>\n",
       "      <td>66.2</td>\n",
       "      <td>25.5</td>\n",
       "    </tr>\n",
       "    <tr>\n",
       "      <th>199</th>\n",
       "      <td>200</td>\n",
       "      <td>232.1</td>\n",
       "      <td>8.6</td>\n",
       "      <td>8.7</td>\n",
       "      <td>13.4</td>\n",
       "    </tr>\n",
       "  </tbody>\n",
       "</table>\n",
       "<p>200 rows × 5 columns</p>\n",
       "</div>"
      ],
      "text/plain": [
       "     Unnamed: 0     TV  radio  newspaper  sales\n",
       "0             1  230.1   37.8       69.2   22.1\n",
       "1             2   44.5   39.3       45.1   10.4\n",
       "2             3   17.2   45.9       69.3    9.3\n",
       "3             4  151.5   41.3       58.5   18.5\n",
       "4             5  180.8   10.8       58.4   12.9\n",
       "..          ...    ...    ...        ...    ...\n",
       "195         196   38.2    3.7       13.8    7.6\n",
       "196         197   94.2    4.9        8.1    9.7\n",
       "197         198  177.0    9.3        6.4   12.8\n",
       "198         199  283.6   42.0       66.2   25.5\n",
       "199         200  232.1    8.6        8.7   13.4\n",
       "\n",
       "[200 rows x 5 columns]"
      ]
     },
     "execution_count": 3,
     "metadata": {},
     "output_type": "execute_result"
    }
   ],
   "source": [
    "sl"
   ]
  },
  {
   "cell_type": "code",
   "execution_count": 11,
   "metadata": {},
   "outputs": [],
   "source": [
    "#As the first column is unnamed and is taking by the system as one of the column(consist of only counts) so we are dropping it.\n",
    "sl.drop(columns=['Unnamed: 0'],inplace=True)"
   ]
  },
  {
   "cell_type": "code",
   "execution_count": 12,
   "metadata": {},
   "outputs": [
    {
     "data": {
      "text/html": [
       "<div>\n",
       "<style scoped>\n",
       "    .dataframe tbody tr th:only-of-type {\n",
       "        vertical-align: middle;\n",
       "    }\n",
       "\n",
       "    .dataframe tbody tr th {\n",
       "        vertical-align: top;\n",
       "    }\n",
       "\n",
       "    .dataframe thead th {\n",
       "        text-align: right;\n",
       "    }\n",
       "</style>\n",
       "<table border=\"1\" class=\"dataframe\">\n",
       "  <thead>\n",
       "    <tr style=\"text-align: right;\">\n",
       "      <th></th>\n",
       "      <th>TV</th>\n",
       "      <th>radio</th>\n",
       "      <th>newspaper</th>\n",
       "      <th>sales</th>\n",
       "    </tr>\n",
       "  </thead>\n",
       "  <tbody>\n",
       "    <tr>\n",
       "      <th>0</th>\n",
       "      <td>230.1</td>\n",
       "      <td>37.8</td>\n",
       "      <td>69.2</td>\n",
       "      <td>22.1</td>\n",
       "    </tr>\n",
       "    <tr>\n",
       "      <th>1</th>\n",
       "      <td>44.5</td>\n",
       "      <td>39.3</td>\n",
       "      <td>45.1</td>\n",
       "      <td>10.4</td>\n",
       "    </tr>\n",
       "    <tr>\n",
       "      <th>2</th>\n",
       "      <td>17.2</td>\n",
       "      <td>45.9</td>\n",
       "      <td>69.3</td>\n",
       "      <td>9.3</td>\n",
       "    </tr>\n",
       "    <tr>\n",
       "      <th>3</th>\n",
       "      <td>151.5</td>\n",
       "      <td>41.3</td>\n",
       "      <td>58.5</td>\n",
       "      <td>18.5</td>\n",
       "    </tr>\n",
       "    <tr>\n",
       "      <th>4</th>\n",
       "      <td>180.8</td>\n",
       "      <td>10.8</td>\n",
       "      <td>58.4</td>\n",
       "      <td>12.9</td>\n",
       "    </tr>\n",
       "    <tr>\n",
       "      <th>...</th>\n",
       "      <td>...</td>\n",
       "      <td>...</td>\n",
       "      <td>...</td>\n",
       "      <td>...</td>\n",
       "    </tr>\n",
       "    <tr>\n",
       "      <th>195</th>\n",
       "      <td>38.2</td>\n",
       "      <td>3.7</td>\n",
       "      <td>13.8</td>\n",
       "      <td>7.6</td>\n",
       "    </tr>\n",
       "    <tr>\n",
       "      <th>196</th>\n",
       "      <td>94.2</td>\n",
       "      <td>4.9</td>\n",
       "      <td>8.1</td>\n",
       "      <td>9.7</td>\n",
       "    </tr>\n",
       "    <tr>\n",
       "      <th>197</th>\n",
       "      <td>177.0</td>\n",
       "      <td>9.3</td>\n",
       "      <td>6.4</td>\n",
       "      <td>12.8</td>\n",
       "    </tr>\n",
       "    <tr>\n",
       "      <th>198</th>\n",
       "      <td>283.6</td>\n",
       "      <td>42.0</td>\n",
       "      <td>66.2</td>\n",
       "      <td>25.5</td>\n",
       "    </tr>\n",
       "    <tr>\n",
       "      <th>199</th>\n",
       "      <td>232.1</td>\n",
       "      <td>8.6</td>\n",
       "      <td>8.7</td>\n",
       "      <td>13.4</td>\n",
       "    </tr>\n",
       "  </tbody>\n",
       "</table>\n",
       "<p>200 rows × 4 columns</p>\n",
       "</div>"
      ],
      "text/plain": [
       "        TV  radio  newspaper  sales\n",
       "0    230.1   37.8       69.2   22.1\n",
       "1     44.5   39.3       45.1   10.4\n",
       "2     17.2   45.9       69.3    9.3\n",
       "3    151.5   41.3       58.5   18.5\n",
       "4    180.8   10.8       58.4   12.9\n",
       "..     ...    ...        ...    ...\n",
       "195   38.2    3.7       13.8    7.6\n",
       "196   94.2    4.9        8.1    9.7\n",
       "197  177.0    9.3        6.4   12.8\n",
       "198  283.6   42.0       66.2   25.5\n",
       "199  232.1    8.6        8.7   13.4\n",
       "\n",
       "[200 rows x 4 columns]"
      ]
     },
     "execution_count": 12,
     "metadata": {},
     "output_type": "execute_result"
    }
   ],
   "source": [
    "sl"
   ]
  },
  {
   "cell_type": "code",
   "execution_count": 13,
   "metadata": {},
   "outputs": [
    {
     "data": {
      "text/plain": [
       "TV           float64\n",
       "radio        float64\n",
       "newspaper    float64\n",
       "sales        float64\n",
       "dtype: object"
      ]
     },
     "execution_count": 13,
     "metadata": {},
     "output_type": "execute_result"
    }
   ],
   "source": [
    "#checking of datatypes\n",
    "sl.dtypes"
   ]
  },
  {
   "cell_type": "code",
   "execution_count": 14,
   "metadata": {},
   "outputs": [
    {
     "name": "stdout",
     "output_type": "stream",
     "text": [
      "<class 'pandas.core.frame.DataFrame'>\n",
      "RangeIndex: 200 entries, 0 to 199\n",
      "Data columns (total 4 columns):\n",
      " #   Column     Non-Null Count  Dtype  \n",
      "---  ------     --------------  -----  \n",
      " 0   TV         200 non-null    float64\n",
      " 1   radio      200 non-null    float64\n",
      " 2   newspaper  200 non-null    float64\n",
      " 3   sales      200 non-null    float64\n",
      "dtypes: float64(4)\n",
      "memory usage: 6.4 KB\n"
     ]
    }
   ],
   "source": [
    "sl.info()"
   ]
  },
  {
   "cell_type": "code",
   "execution_count": 15,
   "metadata": {},
   "outputs": [
    {
     "data": {
      "text/plain": [
       "(200, 4)"
      ]
     },
     "execution_count": 15,
     "metadata": {},
     "output_type": "execute_result"
    }
   ],
   "source": [
    "sl.shape"
   ]
  },
  {
   "cell_type": "code",
   "execution_count": 16,
   "metadata": {},
   "outputs": [
    {
     "data": {
      "text/html": [
       "<div>\n",
       "<style scoped>\n",
       "    .dataframe tbody tr th:only-of-type {\n",
       "        vertical-align: middle;\n",
       "    }\n",
       "\n",
       "    .dataframe tbody tr th {\n",
       "        vertical-align: top;\n",
       "    }\n",
       "\n",
       "    .dataframe thead th {\n",
       "        text-align: right;\n",
       "    }\n",
       "</style>\n",
       "<table border=\"1\" class=\"dataframe\">\n",
       "  <thead>\n",
       "    <tr style=\"text-align: right;\">\n",
       "      <th></th>\n",
       "      <th>TV</th>\n",
       "      <th>radio</th>\n",
       "      <th>newspaper</th>\n",
       "      <th>sales</th>\n",
       "    </tr>\n",
       "  </thead>\n",
       "  <tbody>\n",
       "    <tr>\n",
       "      <th>count</th>\n",
       "      <td>200.000000</td>\n",
       "      <td>200.000000</td>\n",
       "      <td>200.000000</td>\n",
       "      <td>200.000000</td>\n",
       "    </tr>\n",
       "    <tr>\n",
       "      <th>mean</th>\n",
       "      <td>147.042500</td>\n",
       "      <td>23.264000</td>\n",
       "      <td>30.554000</td>\n",
       "      <td>14.022500</td>\n",
       "    </tr>\n",
       "    <tr>\n",
       "      <th>std</th>\n",
       "      <td>85.854236</td>\n",
       "      <td>14.846809</td>\n",
       "      <td>21.778621</td>\n",
       "      <td>5.217457</td>\n",
       "    </tr>\n",
       "    <tr>\n",
       "      <th>min</th>\n",
       "      <td>0.700000</td>\n",
       "      <td>0.000000</td>\n",
       "      <td>0.300000</td>\n",
       "      <td>1.600000</td>\n",
       "    </tr>\n",
       "    <tr>\n",
       "      <th>25%</th>\n",
       "      <td>74.375000</td>\n",
       "      <td>9.975000</td>\n",
       "      <td>12.750000</td>\n",
       "      <td>10.375000</td>\n",
       "    </tr>\n",
       "    <tr>\n",
       "      <th>50%</th>\n",
       "      <td>149.750000</td>\n",
       "      <td>22.900000</td>\n",
       "      <td>25.750000</td>\n",
       "      <td>12.900000</td>\n",
       "    </tr>\n",
       "    <tr>\n",
       "      <th>75%</th>\n",
       "      <td>218.825000</td>\n",
       "      <td>36.525000</td>\n",
       "      <td>45.100000</td>\n",
       "      <td>17.400000</td>\n",
       "    </tr>\n",
       "    <tr>\n",
       "      <th>max</th>\n",
       "      <td>296.400000</td>\n",
       "      <td>49.600000</td>\n",
       "      <td>114.000000</td>\n",
       "      <td>27.000000</td>\n",
       "    </tr>\n",
       "  </tbody>\n",
       "</table>\n",
       "</div>"
      ],
      "text/plain": [
       "               TV       radio   newspaper       sales\n",
       "count  200.000000  200.000000  200.000000  200.000000\n",
       "mean   147.042500   23.264000   30.554000   14.022500\n",
       "std     85.854236   14.846809   21.778621    5.217457\n",
       "min      0.700000    0.000000    0.300000    1.600000\n",
       "25%     74.375000    9.975000   12.750000   10.375000\n",
       "50%    149.750000   22.900000   25.750000   12.900000\n",
       "75%    218.825000   36.525000   45.100000   17.400000\n",
       "max    296.400000   49.600000  114.000000   27.000000"
      ]
     },
     "execution_count": 16,
     "metadata": {},
     "output_type": "execute_result"
    }
   ],
   "source": [
    "#describing the dataset\n",
    "sl.describe()"
   ]
  },
  {
   "cell_type": "code",
   "execution_count": 17,
   "metadata": {},
   "outputs": [
    {
     "data": {
      "text/plain": [
       "TV           0\n",
       "radio        0\n",
       "newspaper    0\n",
       "sales        0\n",
       "dtype: int64"
      ]
     },
     "execution_count": 17,
     "metadata": {},
     "output_type": "execute_result"
    }
   ],
   "source": [
    "#checking of null values\n",
    "sl.isnull().sum()"
   ]
  },
  {
   "cell_type": "code",
   "execution_count": 18,
   "metadata": {},
   "outputs": [],
   "source": [
    "import seaborn as sns\n",
    "import matplotlib as plt"
   ]
  },
  {
   "cell_type": "code",
   "execution_count": 19,
   "metadata": {},
   "outputs": [
    {
     "data": {
      "text/plain": [
       "<matplotlib.axes._subplots.AxesSubplot at 0x2327e266f88>"
      ]
     },
     "execution_count": 19,
     "metadata": {},
     "output_type": "execute_result"
    },
    {
     "data": {
      "image/png": "[encoded data removed]",
      "text/plain": [
       "<Figure size 432x288 with 2 Axes>"
      ]
     },
     "metadata": {
      "needs_background": "light"
     },
     "output_type": "display_data"
    }
   ],
   "source": [
    "#checking of null values through heatmap\n",
    "sns.heatmap(sl.isnull())"
   ]
  },
  {
   "cell_type": "code",
   "execution_count": 64,
   "metadata": {},
   "outputs": [
    {
     "data": {
      "text/html": [
       "<div>\n",
       "<style scoped>\n",
       "    .dataframe tbody tr th:only-of-type {\n",
       "        vertical-align: middle;\n",
       "    }\n",
       "\n",
       "    .dataframe tbody tr th {\n",
       "        vertical-align: top;\n",
       "    }\n",
       "\n",
       "    .dataframe thead th {\n",
       "        text-align: right;\n",
       "    }\n",
       "</style>\n",
       "<table border=\"1\" class=\"dataframe\">\n",
       "  <thead>\n",
       "    <tr style=\"text-align: right;\">\n",
       "      <th></th>\n",
       "      <th>TV</th>\n",
       "      <th>radio</th>\n",
       "      <th>newspaper</th>\n",
       "      <th>sales</th>\n",
       "    </tr>\n",
       "  </thead>\n",
       "  <tbody>\n",
       "    <tr>\n",
       "      <th>TV</th>\n",
       "      <td>1.000000</td>\n",
       "      <td>0.054809</td>\n",
       "      <td>0.056648</td>\n",
       "      <td>0.782224</td>\n",
       "    </tr>\n",
       "    <tr>\n",
       "      <th>radio</th>\n",
       "      <td>0.054809</td>\n",
       "      <td>1.000000</td>\n",
       "      <td>0.354104</td>\n",
       "      <td>0.576223</td>\n",
       "    </tr>\n",
       "    <tr>\n",
       "      <th>newspaper</th>\n",
       "      <td>0.056648</td>\n",
       "      <td>0.354104</td>\n",
       "      <td>1.000000</td>\n",
       "      <td>0.228299</td>\n",
       "    </tr>\n",
       "    <tr>\n",
       "      <th>sales</th>\n",
       "      <td>0.782224</td>\n",
       "      <td>0.576223</td>\n",
       "      <td>0.228299</td>\n",
       "      <td>1.000000</td>\n",
       "    </tr>\n",
       "  </tbody>\n",
       "</table>\n",
       "</div>"
      ],
      "text/plain": [
       "                 TV     radio  newspaper     sales\n",
       "TV         1.000000  0.054809   0.056648  0.782224\n",
       "radio      0.054809  1.000000   0.354104  0.576223\n",
       "newspaper  0.056648  0.354104   1.000000  0.228299\n",
       "sales      0.782224  0.576223   0.228299  1.000000"
      ]
     },
     "execution_count": 64,
     "metadata": {},
     "output_type": "execute_result"
    }
   ],
   "source": [
    "#checking the correlation \n",
    "sl.cor=sl.corr()\n",
    "sl.cor"
   ]
  },
  {
   "cell_type": "code",
   "execution_count": 22,
   "metadata": {},
   "outputs": [
    {
     "data": {
      "text/plain": [
       "<seaborn.axisgrid.JointGrid at 0x2320128a448>"
      ]
     },
     "execution_count": 22,
     "metadata": {},
     "output_type": "execute_result"
    },
    {
     "data": {
      "image/png": "[encoded data removed]",
      "text/plain": [
       "<Figure size 432x432 with 3 Axes>"
      ]
     },
     "metadata": {
      "needs_background": "light"
     },
     "output_type": "display_data"
    }
   ],
   "source": [
    "sns.jointplot(data=sl,x='TV',y='sales',kind='hex')\n",
    "#from the below jointplot it can be seen that TV and Sales have strong relationships between them"
   ]
  },
  {
   "cell_type": "code",
   "execution_count": 23,
   "metadata": {},
   "outputs": [
    {
     "data": {
      "text/plain": [
       "<matplotlib.axes._subplots.AxesSubplot at 0x23201877ac8>"
      ]
     },
     "execution_count": 23,
     "metadata": {},
     "output_type": "execute_result"
    },
    {
     "data": {
      "image/png": "[encoded data removed]",
      "text/plain": [
       "<Figure size 432x288 with 1 Axes>"
      ]
     },
     "metadata": {
      "needs_background": "light"
     },
     "output_type": "display_data"
    }
   ],
   "source": [
    "sns.boxplot(x=sl.radio)\n",
    "#below boxplot shows the maximum no. of dollar are spent at which product"
   ]
  },
  {
   "cell_type": "code",
   "execution_count": 24,
   "metadata": {},
   "outputs": [
    {
     "data": {
      "text/plain": [
       "<matplotlib.axes._subplots.AxesSubplot at 0x232028d1548>"
      ]
     },
     "execution_count": 24,
     "metadata": {},
     "output_type": "execute_result"
    },
    {
     "data": {
      "image/png": "[encoded data removed]",
      "text/plain": [
       "<Figure size 432x288 with 1 Axes>"
      ]
     },
     "metadata": {
      "needs_background": "light"
     },
     "output_type": "display_data"
    }
   ],
   "source": [
    "sl.newspaper.hist(bins=20)"
   ]
  },
  {
   "cell_type": "code",
   "execution_count": 28,
   "metadata": {},
   "outputs": [
    {
     "data": {
      "text/plain": [
       "<seaborn.axisgrid.PairGrid at 0x232029c5188>"
      ]
     },
     "execution_count": 28,
     "metadata": {},
     "output_type": "execute_result"
    },
    {
     "data": {
      "image/png": "[encoded data removed]",
      "text/plain": [
       "<Figure size 720x720 with 20 Axes>"
      ]
     },
     "metadata": {
      "needs_background": "light"
     },
     "output_type": "display_data"
    }
   ],
   "source": [
    "sns.pairplot(sl)"
   ]
  },
  {
   "cell_type": "code",
   "execution_count": 30,
   "metadata": {},
   "outputs": [
    {
     "name": "stdout",
     "output_type": "stream",
     "text": [
      "(200, 4)\n",
      "(198, 4)\n"
     ]
    }
   ],
   "source": [
    "#removing of outliers\n",
    "from scipy.stats import zscore\n",
    "z_score=abs(zscore(sl))\n",
    "print(sl.shape)\n",
    "sl_final=sl.loc[(z_score<3).all(axis=1)]\n",
    "print(sl_final.shape)"
   ]
  },
  {
   "cell_type": "code",
   "execution_count": 31,
   "metadata": {},
   "outputs": [
    {
     "data": {
      "text/plain": [
       "TV          -0.069853\n",
       "radio        0.094175\n",
       "newspaper    0.894720\n",
       "sales        0.407571\n",
       "dtype: float64"
      ]
     },
     "execution_count": 31,
     "metadata": {},
     "output_type": "execute_result"
    }
   ],
   "source": [
    "#checking of skewness\n",
    "sl.skew()"
   ]
  },
  {
   "cell_type": "code",
   "execution_count": 32,
   "metadata": {},
   "outputs": [],
   "source": [
    "#removing the skewness\n",
    "for index in sl_final.skew().index:\n",
    "    if sl_final.skew().loc[index]>0.5:\n",
    "        sl_final[index]=np.sqrt(sl_final[index])"
   ]
  },
  {
   "cell_type": "code",
   "execution_count": 33,
   "metadata": {},
   "outputs": [
    {
     "data": {
      "text/plain": [
       "TV          -0.082332\n",
       "radio        0.114842\n",
       "newspaper   -0.040649\n",
       "sales        0.407130\n",
       "dtype: float64"
      ]
     },
     "execution_count": 33,
     "metadata": {},
     "output_type": "execute_result"
    }
   ],
   "source": [
    "sl_final.skew()"
   ]
  },
  {
   "cell_type": "code",
   "execution_count": 37,
   "metadata": {},
   "outputs": [],
   "source": [
    "#assigning x and y values for training and testing\n",
    "x=sl_final.drop(columns=[\"sales\"])\n",
    "y=sl_final[[\"sales\"]]"
   ]
  },
  {
   "cell_type": "code",
   "execution_count": 38,
   "metadata": {},
   "outputs": [
    {
     "name": "stdout",
     "output_type": "stream",
     "text": [
      "        TV  radio  newspaper\n",
      "0    230.1   37.8   8.318654\n",
      "1     44.5   39.3   6.715653\n",
      "2     17.2   45.9   8.324662\n",
      "3    151.5   41.3   7.648529\n",
      "4    180.8   10.8   7.641989\n",
      "..     ...    ...        ...\n",
      "195   38.2    3.7   3.714835\n",
      "196   94.2    4.9   2.846050\n",
      "197  177.0    9.3   2.529822\n",
      "198  283.6   42.0   8.136338\n",
      "199  232.1    8.6   2.949576\n",
      "\n",
      "[198 rows x 3 columns]\n",
      "     sales\n",
      "0     22.1\n",
      "1     10.4\n",
      "2      9.3\n",
      "3     18.5\n",
      "4     12.9\n",
      "..     ...\n",
      "195    7.6\n",
      "196    9.7\n",
      "197   12.8\n",
      "198   25.5\n",
      "199   13.4\n",
      "\n",
      "[198 rows x 1 columns]\n"
     ]
    }
   ],
   "source": [
    "print(x)\n",
    "print(y)"
   ]
  },
  {
   "cell_type": "code",
   "execution_count": 39,
   "metadata": {},
   "outputs": [
    {
     "data": {
      "text/plain": [
       "(198, 3)"
      ]
     },
     "execution_count": 39,
     "metadata": {},
     "output_type": "execute_result"
    }
   ],
   "source": [
    "x.shape"
   ]
  },
  {
   "cell_type": "code",
   "execution_count": 42,
   "metadata": {},
   "outputs": [
    {
     "data": {
      "text/plain": [
       "array([[ 9.78697339e-01,  9.89521352e-01,  1.63669060e+00],\n",
       "       [-1.19901165e+00,  1.09070498e+00,  8.24807889e-01],\n",
       "       [-1.51933199e+00,  1.53591293e+00,  1.63973373e+00],\n",
       "       [ 5.64563564e-02,  1.22561648e+00,  1.29728802e+00],\n",
       "       [ 4.00243389e-01, -8.31783915e-01,  1.29397566e+00],\n",
       "       [-1.61906543e+00,  1.73828018e+00,  1.80970327e+00],\n",
       "       [-1.04647815e+00,  6.52242599e-01, -1.21277595e-01],\n",
       "       [-3.10797368e-01, -2.38173309e-01, -8.51517342e-01],\n",
       "       [-1.62023876e+00, -1.41864895e+00, -2.07003868e+00],\n",
       "       [ 6.23176960e-01, -1.38492107e+00, -2.44520695e-01],\n",
       "       [-9.45571378e-01, -1.16906267e+00, -8.49785485e-02],\n",
       "       [ 7.98003813e-01,  5.86319933e-02, -1.56356175e+00],\n",
       "       [-1.44189191e+00,  8.07390825e-01,  1.53500409e+00],\n",
       "       [-5.77144318e-01, -1.04764232e+00, -1.21749539e+00],\n",
       "       [ 6.73630347e-01,  6.58988174e-01,  8.58578063e-01],\n",
       "       [ 5.71550238e-01,  1.65733328e+00,  1.10721196e+00],\n",
       "       [ 1.58061798e+00,  1.11094170e+00,  1.20683655e+00],\n",
       "       [-9.09198006e-01, -1.77463134e-01, -4.09883309e-01],\n",
       "       [ 7.17630394e-03,  5.18864183e-02, -3.63031787e-01],\n",
       "       [ 8.41417193e-01,  3.08218271e-01,  1.12457994e+00],\n",
       "       [ 1.06435076e+00, -1.21628169e+00, -1.21277595e-01],\n",
       "       [-1.56626537e+00, -4.87759587e-01,  9.90463015e-01],\n",
       "       [ 9.57577316e-01, -4.20303836e-01,  1.59339442e-02],\n",
       "       [-9.90158092e-01, -7.10363564e-01, -4.09883309e-01],\n",
       "       [ 1.36355108e+00, -1.32421089e+00, -3.39974042e-01],\n",
       "       [-4.44504177e-02,  4.16147472e-01, -7.78700851e-01],\n",
       "       [ 1.09603080e+00, -4.33794986e-01, -1.52823719e-01],\n",
       "       [ 1.19811091e+00,  2.67744820e-01, -1.52823719e-01],\n",
       "       [-8.92771321e-01, -4.81014012e-01,  6.58599590e-01],\n",
       "       [ 1.71555146e+00,  3.48691721e-01,  7.52390467e-01],\n",
       "       [-3.96450793e-01, -3.86575961e-01,  5.70169760e-01],\n",
       "       [-5.80664322e-01, -1.45912240e+00,  1.97572788e-01],\n",
       "       [ 1.39523112e+00, -2.11191009e-01, -2.29910677e+00],\n",
       "       [-5.98264341e-01, -1.46586797e+00, -1.19874940e+00],\n",
       "       [ 1.68973810e+00, -1.28373744e+00, -1.09989430e+00],\n",
       "       [ 1.41048447e+00,  1.39425586e+00, -1.44399876e+00],\n",
       "       [-8.44664603e-01,  1.77200806e+00,  8.47358347e-01],\n",
       "       [-1.21543833e+00,  2.40762520e-01,  4.24119778e-01],\n",
       "       [ 9.54057313e-01,  9.82775777e-01,  2.88550568e-01],\n",
       "       [ 6.54856994e-01, -5.60427827e-02,  2.70587593e-01],\n",
       "       [ 3.55656675e-01,  6.92716049e-01,  5.74243141e-01],\n",
       "       [ 1.72376480e+00,  3.08218271e-01, -1.89700550e+00],\n",
       "       [ 7.06483716e-01, -9.93677716e-01,  2.58099783e-02],\n",
       "       [-1.42663856e+00,  1.73306769e-01,  7.56241141e-01],\n",
       "       [ 3.33363318e-01, -4.25516326e-02,  2.66079113e-01],\n",
       "       [-6.68664416e-01, -8.92494090e-01,  4.49657561e-01],\n",
       "       [ 1.09368413e+00,  1.23910763e+00, -3.98075961e-01],\n",
       "       [ 9.44670636e-01, -4.94505162e-01,  1.00123399e+00],\n",
       "       [-9.36184701e-01, -7.71073739e-01,  4.95925574e-01],\n",
       "       [ 6.23176960e-01, -1.35119319e+00,  4.02671073e-01],\n",
       "       [-5.43117616e-01, -9.12730816e-01, -1.61554320e+00],\n",
       "       [ 8.17950501e-01,  1.25259878e+00,  6.10669308e-01],\n",
       "       [ 4.21363412e-01,  1.55614966e+00,  1.30390426e+00],\n",
       "       [ 1.36120441e+00,  3.82419596e-01, -5.56948772e-01],\n",
       "       [ 6.12616949e-01,  1.77200806e+00,  1.34663783e+00],\n",
       "       [-1.63549211e+00,  3.35200571e-01,  6.82300384e-01],\n",
       "       [-1.23063835e-01, -2.65155610e-01, -5.12971709e-01],\n",
       "       [ 7.52243764e-01,  1.78549921e+00,  5.33269242e-01],\n",
       "       [ 7.51070430e-01,  4.29638622e-01, -1.03196856e+00],\n",
       "       [-1.09341154e+00, -1.42539452e+00, -2.33546540e-01],\n",
       "       [ 1.34477773e+00,  1.32005453e+00,  1.16935983e+00],\n",
       "       [ 1.08664412e+00, -5.14741887e-01,  6.97960611e-02],\n",
       "       [-5.16130920e-01,  4.36384197e-01, -1.10860601e+00],\n",
       "       [-1.82903899e-01,  1.32680011e+00,  1.46239552e-01],\n",
       "       [-9.11544675e-01, -9.32967541e-01, -2.09602940e+00],\n",
       "       [-1.35154514e+00,  9.91054437e-02, -1.82528892e+00],\n",
       "       [-8.66904627e-02, -5.82197638e-01, -9.58958009e-01],\n",
       "       [ 1.06435076e+00,  2.94727121e-01, -8.96721665e-01],\n",
       "       [ 8.22643839e-01,  1.40100143e+00,  6.49448899e-02],\n",
       "       [ 6.14963618e-01,  5.03839947e-01,  5.74243141e-01],\n",
       "       [-4.32824165e-01, -5.95688788e-01,  2.75088945e-01],\n",
       "       [-1.40669187e+00,  6.65733749e-01, -3.51473046e-01],\n",
       "       [-2.02850586e-01, -1.17580824e+00,  2.57040634e-01],\n",
       "       [ 7.82750463e-01,  9.91054437e-02, -7.43376950e-01],\n",
       "       [-1.52285199e+00,  1.38751028e+00,  2.21230345e+00],\n",
       "       [-1.39847853e+00, -1.45237682e+00, -2.72184721e-01],\n",
       "       [-3.07277364e-01,  3.62182871e-01, -6.67964297e-01],\n",
       "       [-1.65778547e+00,  4.56620922e-01, -1.02368674e+00],\n",
       "       [-3.60077421e-01, -1.04089674e+00, -1.42262920e-01],\n",
       "       [-8.24717916e-01,  2.40762520e-01, -1.84785890e-01],\n",
       "       [ 1.09251079e+00, -1.28373744e+00,  5.00097255e-01],\n",
       "       [-8.37624596e-01, -1.90954284e-01,  3.10847139e-01],\n",
       "       [-9.18584682e-01,  1.44147488e+00,  4.45416251e-01],\n",
       "       [ 7.83923798e-01,  1.34029126e+00,  3.68028190e-01],\n",
       "       [ 5.45736878e-01, -3.19120210e-01,  1.52876032e+00],\n",
       "       [-8.25891250e-01,  2.94727121e-01, -5.50607887e-01],\n",
       "       [-4.22264154e-01,  1.17839745e+00,  1.44989635e+00],\n",
       "       [-6.85091100e-01,  1.59815619e-01,  1.76266471e+00],\n",
       "       [-4.32824165e-01,  1.66407886e+00,  1.05460963e+00],\n",
       "       [-1.45357192e-01, -1.22977284e+00, -1.03196856e+00],\n",
       "       [-1.38557185e+00, -1.45912240e+00,  3.32972847e-01],\n",
       "       [ 8.33203850e-01,  6.99461624e-01,  1.31380751e+00],\n",
       "       [ 1.22275093e+00,  9.01828876e-01,  1.73002768e+00],\n",
       "       [-4.60984195e-01, -6.15925513e-01, -9.04374525e-01],\n",
       "       [ 1.94909837e-01,  5.71295698e-01,  1.10721196e+00],\n",
       "       [ 5.97363599e-01, -1.32421089e+00, -1.34628742e+00],\n",
       "       [ 4.48350107e-01, -1.43735259e-01, -2.00928232e-01],\n",
       "       [ 1.67800475e+00,  1.29307223e+00,  1.04753830e+00],\n",
       "       [-1.34797181e-01,  1.25259878e+00,  8.54842234e-01],\n",
       "       [ 8.88350576e-01, -1.27024629e+00,  9.97647269e-01],\n",
       "       [ 1.56653796e+00, -8.79002940e-01, -2.33546540e-01],\n",
       "       [ 4.83550145e-01, -4.00067111e-01, -4.33693178e-01],\n",
       "       [ 1.07373744e+00,  7.53426225e-01, -1.41051815e+00],\n",
       "       [-1.03117147e-01,  1.56964081e+00,  1.31380751e+00],\n",
       "       [-1.42781189e+00, -8.18292765e-01,  1.83667495e-01],\n",
       "       [-6.60451074e-01, -1.54006930e+00, -1.36999665e-01],\n",
       "       [-1.56743871e+00, -1.53332372e+00, -1.39225166e-02],\n",
       "       [ 1.27555099e+00,  2.54253670e-01, -1.38872192e+00],\n",
       "       [ 9.28243952e-01, -1.00716887e+00,  1.23049329e+00],\n",
       "       [ 1.11480415e+00,  1.00301250e+00, -1.36999665e-01],\n",
       "       [ 3.40403326e-01, -5.21487462e-01, -1.79188492e+00],\n",
       "       [ 7.38163749e-01, -1.70717559e-01, -9.19786292e-01],\n",
       "       [-8.03597893e-01,  1.59662311e+00,  3.98362775e-01],\n",
       "       [-8.39971265e-01,  8.00645250e-01,  1.10024180e+00],\n",
       "       [-8.78637973e-02, -5.95688788e-01, -1.39225166e-02],\n",
       "       [-8.24717916e-01, -1.50634142e+00, -6.28059954e-01],\n",
       "       [-2.46263966e-01,  9.28811176e-01,  1.93084453e+00],\n",
       "       [-1.49351863e+00, -4.81014012e-01, -1.84785890e-01],\n",
       "       [-6.32237711e-02,  2.47508095e-01,  8.66037558e-01],\n",
       "       [-1.50055864e+00, -9.65162331e-02,  1.01911391e+00],\n",
       "       [ 9.07123929e-01, -1.39841222e+00, -5.76092017e-01],\n",
       "       [-2.76770665e-01,  7.73662950e-01, -7.93026297e-01],\n",
       "       [ 9.71657331e-01,  6.18514724e-01,  1.78624739e+00],\n",
       "       [-6.97997781e-01, -7.64328164e-01,  1.04894337e-03],\n",
       "       [-1.62962544e+00,  1.06372268e+00,  1.02624103e+00],\n",
       "       [-7.80131201e-01, -1.56030602e+00, -1.04029502e+00],\n",
       "       [ 8.63710550e-01,  1.74502576e+00, -1.67050213e+00],\n",
       "       [-1.02183813e+00, -7.50837014e-01,  7.48535335e-01],\n",
       "       [-1.71293220e+00,  1.11094170e+00, -1.08262329e+00],\n",
       "       [ 1.39053778e+00, -1.36468434e+00,  7.44675727e-01],\n",
       "       [-1.62258543e+00,  2.74490395e-01, -1.84256081e+00],\n",
       "       [ 8.57843877e-01,  6.99461624e-01,  8.24807889e-01],\n",
       "       [-1.28818508e+00,  1.04348595e+00,  1.52563488e+00],\n",
       "       [-1.15442493e+00,  1.61011426e+00, -1.09989430e+00],\n",
       "       [-1.42077188e+00,  1.07046825e+00, -1.03196856e+00],\n",
       "       [ 1.49027122e+00,  3.89165171e-01,  1.33681765e+00],\n",
       "       [-1.21661167e+00,  1.86797920e-01, -2.83343774e-01],\n",
       "       [ 4.48350107e-01,  1.40100143e+00, -1.91615048e+00],\n",
       "       [-8.59917953e-01, -4.13558261e-01, -7.57424197e-01],\n",
       "       [ 5.51603551e-01,  8.27627550e-01,  1.82721320e+00],\n",
       "       [ 8.66057219e-01,  6.79224899e-01,  5.41507097e-01],\n",
       "       [-4.93837563e-01, -1.17580824e+00,  3.94048228e-01],\n",
       "       [-5.92397668e-01, -5.61960912e-01,  5.82374145e-01],\n",
       "       [-7.49571169e-02, -1.43214010e+00, -1.05708482e+00],\n",
       "       [ 1.09603080e+00, -1.06787904e+00, -1.08262329e+00],\n",
       "       [ 1.13240417e+00,  1.74502576e+00,  7.94505962e-01],\n",
       "       [-1.27527840e+00,  1.15816073e+00, -8.29353714e-01],\n",
       "       [-1.19666498e+00,  1.80052344e-01, -2.77757477e-01],\n",
       "       [ 1.57240464e+00, -6.22671088e-01,  5.04263286e-01],\n",
       "       [-3.01410691e-01, -9.93677716e-01,  9.57953165e-01],\n",
       "       [ 5.97363599e-01,  1.14129679e-02, -6.67964297e-01],\n",
       "       [ 2.88776604e-01,  1.11768728e+00,  5.33269242e-01],\n",
       "       [ 4.82376810e-01, -1.36989683e-01, -1.01544887e+00],\n",
       "       [-1.67303882e+00, -7.77819314e-01, -1.36731851e+00],\n",
       "       [-6.19384363e-01,  1.37401913e+00,  1.02267923e+00],\n",
       "       [ 3.65096685e-02, -1.47261355e+00, -7.98360517e-02],\n",
       "       [-1.58386539e+00,  9.28811176e-01,  8.28576670e-01],\n",
       "       [-1.75863891e-01, -3.19120210e-01,  4.02671073e-01],\n",
       "       [ 3.02856619e-01, -3.39356935e-01,  2.29750531e-01],\n",
       "       [-7.15597799e-01,  8.54609851e-01,  9.79659420e-01],\n",
       "       [ 4.89416818e-01, -3.39356935e-01, -1.39225166e-02],\n",
       "       [ 1.97256506e-01,  9.22065601e-01, -1.19874940e+00],\n",
       "       [-3.45997406e-01, -5.68706487e-01, -1.39956958e+00],\n",
       "       [ 1.03032406e+00, -1.33095647e+00,  2.08747422e+00],\n",
       "       [-1.51111865e+00,  9.76030202e-01, -2.22623548e-01],\n",
       "       [ 7.05310381e-01, -1.20953612e+00, -3.45716135e-01],\n",
       "       [ 8.06217155e-01,  3.16496931e-02,  1.26737403e+00],\n",
       "       [ 1.61464468e+00, -8.45275065e-01, -1.29521906e+00],\n",
       "       [-1.13447825e+00, -7.77819314e-01, -4.03971613e-01],\n",
       "       [ 2.08989852e-01, -1.50480834e-01,  9.10459436e-01],\n",
       "       [-1.49117196e+00, -2.04445434e-01, -4.88257728e-01],\n",
       "       [ 2.54749901e-01, -1.08137019e+00, -7.64488656e-01],\n",
       "       [ 8.88350576e-01, -1.33095647e+00, -7.43376950e-01],\n",
       "       [ 1.52781792e+00,  1.73828018e+00,  6.98005613e-01],\n",
       "       [ 1.19341757e+00,  4.76857647e-01, -2.94557396e-01],\n",
       "       [ 2.75869923e-01, -1.03415117e+00,  4.28391148e-01],\n",
       "       [ 1.52547125e+00, -1.40515780e+00, -1.10851909e-01],\n",
       "       [ 2.21896533e-01, -8.85748515e-01, -4.51725665e-01],\n",
       "       [ 1.16296420e-01, -1.38492107e+00, -1.11736972e+00],\n",
       "       [ 8.42590527e-01, -1.19604497e+00,  7.46383555e-02],\n",
       "       [-1.06173150e+00, -1.17580824e+00,  1.83667495e-01],\n",
       "       [ 1.65336472e+00,  1.34029126e+00,  1.71511062e+00],\n",
       "       [ 1.25677764e+00, -1.23498533e-01,  1.97572788e-01],\n",
       "       [ 6.84190358e-01,  1.48194833e+00, -3.34246653e-01],\n",
       "       [-8.43437935e-02, -1.41864895e+00,  3.56486734e-02],\n",
       "       [ 5.21096851e-01,  3.75674021e-01, -4.15811178e-01],\n",
       "       [ 1.63459137e+00, -6.22671088e-01, -1.60228778e+00],\n",
       "       [-1.50173197e+00, -7.44091439e-01, -1.26507075e-01],\n",
       "       [-1.25767838e+00,  1.21212533e+00, -1.35675764e+00],\n",
       "       [-8.35277927e-01, -8.31783915e-01, -1.33590556e+00],\n",
       "       [-1.51933199e+00, -1.28373744e+00,  2.70587593e-01],\n",
       "       [ 2.35976548e-01,  1.27283550e+00, -1.61554320e+00],\n",
       "       [ 3.53363339e-02,  8.41118701e-01, -1.33590556e+00],\n",
       "       [-1.27293173e+00, -1.31071974e+00, -6.95037318e-01],\n",
       "       [-6.15864360e-01, -1.22977284e+00, -1.13505699e+00],\n",
       "       [ 3.55656675e-01, -9.32967541e-01, -1.29521906e+00],\n",
       "       [ 1.60643134e+00,  1.27283550e+00,  1.54435201e+00],\n",
       "       [ 1.00216403e+00, -9.80186566e-01, -1.08262329e+00]])"
      ]
     },
     "execution_count": 42,
     "metadata": {},
     "output_type": "execute_result"
    }
   ],
   "source": [
    "from sklearn.preprocessing import StandardScaler\n",
    "scx=StandardScaler()\n",
    "x=scx.fit_transform(x)\n",
    "x"
   ]
  },
  {
   "cell_type": "code",
   "execution_count": 43,
   "metadata": {},
   "outputs": [],
   "source": [
    "from sklearn.linear_model import LinearRegression\n",
    "from sklearn.model_selection import train_test_split\n",
    "from sklearn.metrics import r2_score"
   ]
  },
  {
   "cell_type": "code",
   "execution_count": 44,
   "metadata": {},
   "outputs": [],
   "source": [
    "def maxr2_score(regr,x,y):\n",
    "    max_r_score=0\n",
    "    for r_state in range(42,100):\n",
    "        x_train,x_test,y_train,y_test=train_test_split(x,y,random_state=r_state,test_size=0.22)\n",
    "        regr.fit(x_train,y_train)\n",
    "        y_pred=regr.predict(x_test)\n",
    "        r2_scr=r2_score(y_test,y_pred)\n",
    "        print(\"r2_score for :\",r_state,\" is\", r2_scr)\n",
    "        if r2_scr>max_r_score:\n",
    "            max_r_score=r2_scr\n",
    "            final_r_state=r_state\n",
    "    print(\"maximum r2_score to :\",final_r_state,\" is :\",max_r_score)\n",
    "    return final_r_state"
   ]
  },
  {
   "cell_type": "code",
   "execution_count": 45,
   "metadata": {},
   "outputs": [],
   "source": [
    "lregr=LinearRegression()"
   ]
  },
  {
   "cell_type": "code",
   "execution_count": 46,
   "metadata": {},
   "outputs": [
    {
     "name": "stdout",
     "output_type": "stream",
     "text": [
      "r2_score for : 42  is 0.8676195050932685\n",
      "r2_score for : 43  is 0.8718598615640082\n",
      "r2_score for : 44  is 0.802913273452689\n",
      "r2_score for : 45  is 0.9079313195282692\n",
      "r2_score for : 46  is 0.8901433098995474\n",
      "r2_score for : 47  is 0.8933128373205268\n",
      "r2_score for : 48  is 0.8671267276212342\n",
      "r2_score for : 49  is 0.8356887052483304\n",
      "r2_score for : 50  is 0.8594837337473658\n",
      "r2_score for : 51  is 0.9010880467985356\n",
      "r2_score for : 52  is 0.89148846388298\n",
      "r2_score for : 53  is 0.8535810037056347\n",
      "r2_score for : 54  is 0.8551859322805222\n",
      "r2_score for : 55  is 0.8923659195101822\n",
      "r2_score for : 56  is 0.8667317841504739\n",
      "r2_score for : 57  is 0.8750943103036617\n",
      "r2_score for : 58  is 0.927227797105984\n",
      "r2_score for : 59  is 0.9222966812787994\n",
      "r2_score for : 60  is 0.8904969689328694\n",
      "r2_score for : 61  is 0.8666331918329043\n",
      "r2_score for : 62  is 0.8675661967481245\n",
      "r2_score for : 63  is 0.8877220927483047\n",
      "r2_score for : 64  is 0.9188446499794984\n",
      "r2_score for : 65  is 0.8830451089047668\n",
      "r2_score for : 66  is 0.8888145163055222\n",
      "r2_score for : 67  is 0.8300211486497607\n",
      "r2_score for : 68  is 0.8493577794575822\n",
      "r2_score for : 69  is 0.9156073851318645\n",
      "r2_score for : 70  is 0.9235575002003069\n",
      "r2_score for : 71  is 0.8230787013897888\n",
      "r2_score for : 72  is 0.9161507127450327\n",
      "r2_score for : 73  is 0.8842769168041262\n",
      "r2_score for : 74  is 0.9290559836972601\n",
      "r2_score for : 75  is 0.880040076900579\n",
      "r2_score for : 76  is 0.8566420371089442\n",
      "r2_score for : 77  is 0.8784225630085725\n",
      "r2_score for : 78  is 0.7972619504151646\n",
      "r2_score for : 79  is 0.9003299669093452\n",
      "r2_score for : 80  is 0.8483192033089966\n",
      "r2_score for : 81  is 0.9237346651494406\n",
      "r2_score for : 82  is 0.8478042546782203\n",
      "r2_score for : 83  is 0.8784443017803527\n",
      "r2_score for : 84  is 0.9275182527626755\n",
      "r2_score for : 85  is 0.7700912355067816\n",
      "r2_score for : 86  is 0.9135369426668482\n",
      "r2_score for : 87  is 0.8378396162319454\n",
      "r2_score for : 88  is 0.8819688986451115\n",
      "r2_score for : 89  is 0.8352524083693318\n",
      "r2_score for : 90  is 0.9432115790158647\n",
      "r2_score for : 91  is 0.8920500589824096\n",
      "r2_score for : 92  is 0.8975933135769667\n",
      "r2_score for : 93  is 0.8405815622798624\n",
      "r2_score for : 94  is 0.8549712420803656\n",
      "r2_score for : 95  is 0.849919323683938\n",
      "r2_score for : 96  is 0.842616739912593\n",
      "r2_score for : 97  is 0.896890846225739\n",
      "r2_score for : 98  is 0.8505596101550501\n",
      "r2_score for : 99  is 0.9196461894230625\n",
      "maximum r2_score to : 90  is : 0.9432115790158647\n"
     ]
    }
   ],
   "source": [
    "r_state=maxr2_score(lregr,x,y)"
   ]
  },
  {
   "cell_type": "code",
   "execution_count": 47,
   "metadata": {},
   "outputs": [
    {
     "data": {
      "text/plain": [
       "0.8857406146589945"
      ]
     },
     "execution_count": 47,
     "metadata": {},
     "output_type": "execute_result"
    }
   ],
   "source": [
    "#doing cross validation to check whether the model is suffering from overfitting or underfitting\n",
    "from sklearn.model_selection import cross_val_score\n",
    "cross_val_score(lregr,x,y,cv=5,scoring=\"r2\").mean()\n",
    "#not suffering from over fitting over under fitting"
   ]
  },
  {
   "cell_type": "code",
   "execution_count": 48,
   "metadata": {},
   "outputs": [],
   "source": [
    "#checking more models to see if any other model is scoring more than logisitic_Regression\n",
    "#checking with decision_tree_classifier\n",
    "from sklearn.tree import DecisionTreeRegressor\n",
    "dt=DecisionTreeRegressor()"
   ]
  },
  {
   "cell_type": "code",
   "execution_count": 49,
   "metadata": {},
   "outputs": [
    {
     "name": "stdout",
     "output_type": "stream",
     "text": [
      "r2_score for : 42  is 0.9415629723047589\n",
      "r2_score for : 43  is 0.9683271291882513\n",
      "r2_score for : 44  is 0.924780299706338\n",
      "r2_score for : 45  is 0.9458834117093793\n",
      "r2_score for : 46  is 0.9652600921629739\n",
      "r2_score for : 47  is 0.9036176712909337\n",
      "r2_score for : 48  is 0.9503235339579202\n",
      "r2_score for : 49  is 0.966385695061101\n",
      "r2_score for : 50  is 0.9658882660206197\n",
      "r2_score for : 51  is 0.9580371744373246\n",
      "r2_score for : 52  is 0.9524106486735309\n",
      "r2_score for : 53  is 0.9435984096550565\n",
      "r2_score for : 54  is 0.970435000091921\n",
      "r2_score for : 55  is 0.9515263116592838\n",
      "r2_score for : 56  is 0.9675663670912154\n",
      "r2_score for : 57  is 0.9299457967593273\n",
      "r2_score for : 58  is 0.9687317076459825\n",
      "r2_score for : 59  is 0.9631613306816237\n",
      "r2_score for : 60  is 0.9696023170553304\n",
      "r2_score for : 61  is 0.9365352684336756\n",
      "r2_score for : 62  is 0.9171106387529335\n",
      "r2_score for : 63  is 0.969054211770686\n",
      "r2_score for : 64  is 0.9234329791853377\n",
      "r2_score for : 65  is 0.9569105219589568\n",
      "r2_score for : 66  is 0.9572671748729\n",
      "r2_score for : 67  is 0.9485331656792989\n",
      "r2_score for : 68  is 0.9338230177400954\n",
      "r2_score for : 69  is 0.9619928813604637\n",
      "r2_score for : 70  is 0.9620065164580863\n",
      "r2_score for : 71  is 0.9597202195326412\n",
      "r2_score for : 72  is 0.9638104934248773\n",
      "r2_score for : 73  is 0.9171003226125444\n",
      "r2_score for : 74  is 0.9739870152644109\n",
      "r2_score for : 75  is 0.9546201823293887\n",
      "r2_score for : 76  is 0.9676147531595409\n",
      "r2_score for : 77  is 0.9524640611632452\n",
      "r2_score for : 78  is 0.9277142826099625\n",
      "r2_score for : 79  is 0.9417793262345308\n",
      "r2_score for : 80  is 0.9457637789051406\n",
      "r2_score for : 81  is 0.9751376339539989\n",
      "r2_score for : 82  is 0.9526392305971818\n",
      "r2_score for : 83  is 0.9562061356891322\n",
      "r2_score for : 84  is 0.9685396590066716\n",
      "r2_score for : 85  is 0.9278379773406346\n",
      "r2_score for : 86  is 0.9447684950749718\n",
      "r2_score for : 87  is 0.950862579399824\n",
      "r2_score for : 88  is 0.9555461356539394\n",
      "r2_score for : 89  is 0.9324258212244857\n",
      "r2_score for : 90  is 0.9708779524375345\n",
      "r2_score for : 91  is 0.9683380928974438\n",
      "r2_score for : 92  is 0.9658857537804048\n",
      "r2_score for : 93  is 0.9324268976659394\n",
      "r2_score for : 94  is 0.954929273782257\n",
      "r2_score for : 95  is 0.9355123654647494\n",
      "r2_score for : 96  is 0.9429075840872294\n",
      "r2_score for : 97  is 0.956740212181343\n",
      "r2_score for : 98  is 0.9460636843466395\n",
      "r2_score for : 99  is 0.9506030998151297\n",
      "maximum r2_score to : 81  is : 0.9751376339539989\n"
     ]
    }
   ],
   "source": [
    "r_state=maxr2_score(dt,x,y)"
   ]
  },
  {
   "cell_type": "code",
   "execution_count": 50,
   "metadata": {},
   "outputs": [
    {
     "data": {
      "text/plain": [
       "0.9530103401491044"
      ]
     },
     "execution_count": 50,
     "metadata": {},
     "output_type": "execute_result"
    }
   ],
   "source": [
    "#doing cross validation to check whether the model is suffering from overfitting or underfitting\n",
    "from sklearn.model_selection import cross_val_score\n",
    "cross_val_score(dt,x,y,cv=5,scoring=\"r2\").mean()\n",
    "#not suffering from over fitting over under fitting"
   ]
  },
  {
   "cell_type": "code",
   "execution_count": 51,
   "metadata": {},
   "outputs": [],
   "source": [
    "#Using KNeighbors\n",
    "from sklearn.neighbors import KNeighborsRegressor\n",
    "from sklearn.model_selection import GridSearchCV"
   ]
  },
  {
   "cell_type": "code",
   "execution_count": 52,
   "metadata": {},
   "outputs": [
    {
     "data": {
      "text/plain": [
       "{'n_neighbors': 5}"
      ]
     },
     "execution_count": 52,
     "metadata": {},
     "output_type": "execute_result"
    }
   ],
   "source": [
    "neighbors={\"n_neighbors\":range(1,30)}\n",
    "knn=KNeighborsRegressor()\n",
    "grs=GridSearchCV(knn,neighbors,cv=10)\n",
    "grs.fit(x,y)\n",
    "grs.best_params_"
   ]
  },
  {
   "cell_type": "code",
   "execution_count": 53,
   "metadata": {},
   "outputs": [
    {
     "name": "stdout",
     "output_type": "stream",
     "text": [
      "r2_score for : 42  is 0.9237051029830663\n",
      "r2_score for : 43  is 0.9125199224678294\n",
      "r2_score for : 44  is 0.922654602190904\n",
      "r2_score for : 45  is 0.9319651155778834\n",
      "r2_score for : 46  is 0.9079201333556782\n",
      "r2_score for : 47  is 0.9381750643000956\n",
      "r2_score for : 48  is 0.9204446674686808\n",
      "r2_score for : 49  is 0.9039804028745108\n",
      "r2_score for : 50  is 0.9366616523231509\n",
      "r2_score for : 51  is 0.9246569541396491\n",
      "r2_score for : 52  is 0.9642111416545275\n",
      "r2_score for : 53  is 0.8751011879476535\n",
      "r2_score for : 54  is 0.9178036112597671\n",
      "r2_score for : 55  is 0.9424453458385987\n",
      "r2_score for : 56  is 0.8710658622790626\n",
      "r2_score for : 57  is 0.9031674635052745\n",
      "r2_score for : 58  is 0.9531786989619312\n",
      "r2_score for : 59  is 0.9292977462992443\n",
      "r2_score for : 60  is 0.9120600093729121\n",
      "r2_score for : 61  is 0.9026343486167605\n",
      "r2_score for : 62  is 0.9313145424388493\n",
      "r2_score for : 63  is 0.9636022352197599\n",
      "r2_score for : 64  is 0.8954378506087086\n",
      "r2_score for : 65  is 0.9447921933338983\n",
      "r2_score for : 66  is 0.9145124828075393\n",
      "r2_score for : 67  is 0.8917297040296976\n",
      "r2_score for : 68  is 0.9154251991572329\n",
      "r2_score for : 69  is 0.9625172882753517\n",
      "r2_score for : 70  is 0.9319594817445036\n",
      "r2_score for : 71  is 0.931636398332767\n",
      "r2_score for : 72  is 0.9259041133232826\n",
      "r2_score for : 73  is 0.9486413679035061\n",
      "r2_score for : 74  is 0.9478226497638736\n",
      "r2_score for : 75  is 0.9439227499632364\n",
      "r2_score for : 76  is 0.9413047418673673\n",
      "r2_score for : 77  is 0.8894368181085636\n",
      "r2_score for : 78  is 0.868241162450502\n",
      "r2_score for : 79  is 0.9169225520750072\n",
      "r2_score for : 80  is 0.912838215905979\n",
      "r2_score for : 81  is 0.9474518012683754\n",
      "r2_score for : 82  is 0.8923363504327466\n",
      "r2_score for : 83  is 0.9101643313564354\n",
      "r2_score for : 84  is 0.8721541882876205\n",
      "r2_score for : 85  is 0.8824665523417853\n",
      "r2_score for : 86  is 0.936593520446971\n",
      "r2_score for : 87  is 0.93150169177652\n",
      "r2_score for : 88  is 0.9461811882317025\n",
      "r2_score for : 89  is 0.9362614603245053\n",
      "r2_score for : 90  is 0.9308603804210436\n",
      "r2_score for : 91  is 0.9484333846984285\n",
      "r2_score for : 92  is 0.9215015074089795\n",
      "r2_score for : 93  is 0.9069024652866282\n",
      "r2_score for : 94  is 0.9182819352666776\n",
      "r2_score for : 95  is 0.9016983604763908\n",
      "r2_score for : 96  is 0.9259082518454825\n",
      "r2_score for : 97  is 0.9681289663400646\n",
      "r2_score for : 98  is 0.8914903051950295\n",
      "r2_score for : 99  is 0.9335868635781066\n",
      "maximum r2_score to : 97  is : 0.9681289663400646\n"
     ]
    }
   ],
   "source": [
    "knn=KNeighborsRegressor(n_neighbors=5)\n",
    "r_state=maxr2_score(knn,x,y)"
   ]
  },
  {
   "cell_type": "code",
   "execution_count": 54,
   "metadata": {},
   "outputs": [
    {
     "name": "stdout",
     "output_type": "stream",
     "text": [
      "Mean r2 score for KNN Regression:  0.9358043941034188\n",
      "standard deviation in r2 score for KNN Regression:  0.03206995726981771\n",
      "[0.94412733 0.95671675 0.95845528 0.87260099 0.94712163]\n"
     ]
    }
   ],
   "source": [
    "#doing cross validation to check whether the model is suffering from overfitting or underfitting\n",
    "print(\"Mean r2 score for KNN Regression: \",cross_val_score(knn,x,y,cv=5,scoring=\"r2\").mean())\n",
    "print(\"standard deviation in r2 score for KNN Regression: \",cross_val_score(knn,x,y,cv=5,scoring=\"r2\").std())\n",
    "print(cross_val_score(knn,x,y,cv=5,scoring=\"r2\"))\n",
    "#not suffering from overfitting or underfitting"
   ]
  },
  {
   "cell_type": "code",
   "execution_count": 55,
   "metadata": {},
   "outputs": [
    {
     "data": {
      "text/plain": [
       "{'C': 10, 'kernel': 'rbf'}"
      ]
     },
     "execution_count": 55,
     "metadata": {},
     "output_type": "execute_result"
    }
   ],
   "source": [
    "#Using SVM model\n",
    "from sklearn.svm import SVR\n",
    "svm=SVR()\n",
    "parameters={\"kernel\":[\"linear\", \"poly\", \"rbf\"],\"C\":[0.001,0.01,0.1,1,10]}\n",
    "grs = GridSearchCV(svm, parameters, cv=10)\n",
    "grs.fit(x,y)\n",
    "grs.best_params_"
   ]
  },
  {
   "cell_type": "code",
   "execution_count": 56,
   "metadata": {},
   "outputs": [
    {
     "name": "stdout",
     "output_type": "stream",
     "text": [
      "r2_score for : 42  is 0.9703335533974511\n",
      "r2_score for : 43  is 0.9580984571894273\n",
      "r2_score for : 44  is 0.9752414973911225\n",
      "r2_score for : 45  is 0.9903084363001728\n",
      "r2_score for : 46  is 0.9605934569844062\n",
      "r2_score for : 47  is 0.9813636646000993\n",
      "r2_score for : 48  is 0.950294724732767\n",
      "r2_score for : 49  is 0.9498964525171399\n",
      "r2_score for : 50  is 0.9829712541970975\n",
      "r2_score for : 51  is 0.9730955123623939\n",
      "r2_score for : 52  is 0.970844982298738\n",
      "r2_score for : 53  is 0.9357263125598732\n",
      "r2_score for : 54  is 0.9824218946198017\n",
      "r2_score for : 55  is 0.9839666442738735\n",
      "r2_score for : 56  is 0.9412027517081915\n",
      "r2_score for : 57  is 0.9444941540273522\n",
      "r2_score for : 58  is 0.9819780265275884\n",
      "r2_score for : 59  is 0.9869202920943145\n",
      "r2_score for : 60  is 0.9651630813017087\n",
      "r2_score for : 61  is 0.9578583750533364\n",
      "r2_score for : 62  is 0.9757400187690108\n",
      "r2_score for : 63  is 0.9921137932959339\n",
      "r2_score for : 64  is 0.9694847523866529\n",
      "r2_score for : 65  is 0.9798579845825757\n",
      "r2_score for : 66  is 0.9528453188405506\n",
      "r2_score for : 67  is 0.9457836040346383\n",
      "r2_score for : 68  is 0.9582138105948359\n",
      "r2_score for : 69  is 0.9861299730464993\n",
      "r2_score for : 70  is 0.983530409918249\n",
      "r2_score for : 71  is 0.9709906252357353\n",
      "r2_score for : 72  is 0.9828870369327292\n",
      "r2_score for : 73  is 0.9792088583585589\n",
      "r2_score for : 74  is 0.9835850030507219\n",
      "r2_score for : 75  is 0.9818308486404038\n",
      "r2_score for : 76  is 0.9811386274978152\n",
      "r2_score for : 77  is 0.9569755309089891\n",
      "r2_score for : 78  is 0.9347567449275587\n",
      "r2_score for : 79  is 0.9742041287990323\n",
      "r2_score for : 80  is 0.9560993643392435\n",
      "r2_score for : 81  is 0.9816845446738015\n",
      "r2_score for : 82  is 0.955244513194135\n",
      "r2_score for : 83  is 0.9601658411543122\n",
      "r2_score for : 84  is 0.947449902294112\n",
      "r2_score for : 85  is 0.9325713733930737\n",
      "r2_score for : 86  is 0.9784204160762339\n",
      "r2_score for : 87  is 0.9553460971859532\n",
      "r2_score for : 88  is 0.9817931878010381\n",
      "r2_score for : 89  is 0.96262577840319\n",
      "r2_score for : 90  is 0.9801109791595456\n",
      "r2_score for : 91  is 0.9823942183463263\n",
      "r2_score for : 92  is 0.9706090933142746\n",
      "r2_score for : 93  is 0.9496198664306631\n",
      "r2_score for : 94  is 0.9454078353895508\n",
      "r2_score for : 95  is 0.9506609486164965\n",
      "r2_score for : 96  is 0.9832576800066203\n",
      "r2_score for : 97  is 0.9863015605393832\n",
      "r2_score for : 98  is 0.9434681068676768\n",
      "r2_score for : 99  is 0.9850651799855016\n",
      "maximum r2_score to : 63  is : 0.9921137932959339\n"
     ]
    }
   ],
   "source": [
    "svm=SVR(kernel=\"rbf\",C=10)\n",
    "r_state=maxr2_score(svm,x,y)\n",
    "#by SVM we are getting the 99% score which means this model has learnt better than the other models"
   ]
  },
  {
   "cell_type": "code",
   "execution_count": 57,
   "metadata": {},
   "outputs": [
    {
     "data": {
      "text/plain": [
       "0.9754906234980829"
      ]
     },
     "execution_count": 57,
     "metadata": {},
     "output_type": "execute_result"
    }
   ],
   "source": [
    "from sklearn.model_selection import cross_val_score\n",
    "cross_val_score(svm,x,y,cv=5,scoring=\"r2\").mean()\n",
    "#not suffering from over fitting over under fitting"
   ]
  },
  {
   "cell_type": "code",
   "execution_count": 58,
   "metadata": {},
   "outputs": [],
   "source": [
    "#As SVM is showing the best results so we will save it for the production\n",
    "x_train,x_test,y_train,y_test=train_test_split(x,y,random_state=63,test_size=0.22)\n",
    "svm=SVR(kernel=\"rbf\",C=10)\n",
    "svm.fit(x_train,y_train)\n",
    "y_pred=svm.predict(x_test)"
   ]
  },
  {
   "cell_type": "code",
   "execution_count": 60,
   "metadata": {},
   "outputs": [
    {
     "name": "stdout",
     "output_type": "stream",
     "text": [
      "r2 score is: 0.9921137932959339\n",
      "RMSE is: 0.44146827492163243\n"
     ]
    }
   ],
   "source": [
    "from sklearn.metrics import mean_squared_error\n",
    "print(\"r2 score is:\" ,r2_score(y_test,y_pred))\n",
    "print(\"RMSE is:\" ,np.sqrt(mean_squared_error(y_test,y_pred)))"
   ]
  },
  {
   "cell_type": "code",
   "execution_count": 63,
   "metadata": {},
   "outputs": [
    {
     "data": {
      "text/plain": [
       "['Sales_Channel_svm.pk1']"
      ]
     },
     "execution_count": 63,
     "metadata": {},
     "output_type": "execute_result"
    }
   ],
   "source": [
    "#Saving the model\n",
    "from sklearn.externals import joblib\n",
    "joblib.dump(svm,'Sales_Channel_svm.pk1')"
   ]
  },
  {
   "cell_type": "code",
   "execution_count": null,
   "metadata": {},
   "outputs": [],
   "source": []
  }
 ],
 "metadata": {
  "kernelspec": {
   "display_name": "Python 3",
   "language": "python",
   "name": "python3"
  },
  "language_info": {
   "codemirror_mode": {
    "name": "ipython",
    "version": 3
   },
   "file_extension": ".py",
   "mimetype": "text/x-python",
   "name": "python",
   "nbconvert_exporter": "python",
   "pygments_lexer": "ipython3",
   "version": "3.7.6"
  }
 },
 "nbformat": 4,
 "nbformat_minor": 4
}
