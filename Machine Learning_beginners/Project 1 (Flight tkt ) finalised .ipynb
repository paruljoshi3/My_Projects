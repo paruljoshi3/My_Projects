{
 "cells": [
  {
   "cell_type": "code",
   "execution_count": 158,
   "metadata": {},
   "outputs": [],
   "source": [
    "import numpy as np\n",
    "import pandas as pd\n",
    "import matplotlib.pyplot as plt\n",
    "import seaborn as sns "
   ]
  },
  {
   "cell_type": "code",
   "execution_count": 159,
   "metadata": {},
   "outputs": [
    {
     "data": {
      "text/html": [
       "<div>\n",
       "<style scoped>\n",
       "    .dataframe tbody tr th:only-of-type {\n",
       "        vertical-align: middle;\n",
       "    }\n",
       "\n",
       "    .dataframe tbody tr th {\n",
       "        vertical-align: top;\n",
       "    }\n",
       "\n",
       "    .dataframe thead th {\n",
       "        text-align: right;\n",
       "    }\n",
       "</style>\n",
       "<table border=\"1\" class=\"dataframe\">\n",
       "  <thead>\n",
       "    <tr style=\"text-align: right;\">\n",
       "      <th></th>\n",
       "      <th>Airline</th>\n",
       "      <th>Date_of_Journey</th>\n",
       "      <th>Source</th>\n",
       "      <th>Destination</th>\n",
       "      <th>Route</th>\n",
       "      <th>Dep_Time</th>\n",
       "      <th>Arrival_Time</th>\n",
       "      <th>Duration</th>\n",
       "      <th>Total_Stops</th>\n",
       "      <th>Additional_Info</th>\n",
       "      <th>Price</th>\n",
       "    </tr>\n",
       "  </thead>\n",
       "  <tbody>\n",
       "    <tr>\n",
       "      <th>0</th>\n",
       "      <td>IndiGo</td>\n",
       "      <td>24-03-2019</td>\n",
       "      <td>Banglore</td>\n",
       "      <td>New Delhi</td>\n",
       "      <td>BLR ? DEL</td>\n",
       "      <td>22:20</td>\n",
       "      <td>22-03-2019 01:10</td>\n",
       "      <td>2h 50m</td>\n",
       "      <td>non-stop</td>\n",
       "      <td>No info</td>\n",
       "      <td>3897</td>\n",
       "    </tr>\n",
       "    <tr>\n",
       "      <th>1</th>\n",
       "      <td>Air India</td>\n",
       "      <td>01-05-2019</td>\n",
       "      <td>Kolkata</td>\n",
       "      <td>Banglore</td>\n",
       "      <td>CCU ? IXR ? BBI ? BLR</td>\n",
       "      <td>5:50</td>\n",
       "      <td>13:15</td>\n",
       "      <td>7h 25m</td>\n",
       "      <td>2 stops</td>\n",
       "      <td>No info</td>\n",
       "      <td>7662</td>\n",
       "    </tr>\n",
       "    <tr>\n",
       "      <th>2</th>\n",
       "      <td>Jet Airways</td>\n",
       "      <td>09-06-2019</td>\n",
       "      <td>Delhi</td>\n",
       "      <td>Cochin</td>\n",
       "      <td>DEL ? LKO ? BOM ? COK</td>\n",
       "      <td>9:25</td>\n",
       "      <td>10-06-2019 04:25</td>\n",
       "      <td>19h</td>\n",
       "      <td>2 stops</td>\n",
       "      <td>No info</td>\n",
       "      <td>13882</td>\n",
       "    </tr>\n",
       "  </tbody>\n",
       "</table>\n",
       "</div>"
      ],
      "text/plain": [
       "       Airline Date_of_Journey    Source Destination                  Route  \\\n",
       "0       IndiGo      24-03-2019  Banglore   New Delhi              BLR ? DEL   \n",
       "1    Air India      01-05-2019   Kolkata    Banglore  CCU ? IXR ? BBI ? BLR   \n",
       "2  Jet Airways      09-06-2019     Delhi      Cochin  DEL ? LKO ? BOM ? COK   \n",
       "\n",
       "  Dep_Time      Arrival_Time Duration Total_Stops Additional_Info  Price  \n",
       "0    22:20  22-03-2019 01:10   2h 50m    non-stop         No info   3897  \n",
       "1     5:50             13:15   7h 25m     2 stops         No info   7662  \n",
       "2     9:25  10-06-2019 04:25      19h     2 stops         No info  13882  "
      ]
     },
     "execution_count": 159,
     "metadata": {},
     "output_type": "execute_result"
    }
   ],
   "source": [
    "training_set=pd.read_csv(\"Data_Train.csv\")\n",
    "\n",
    "training_set.head(3)\n"
   ]
  },
  {
   "cell_type": "code",
   "execution_count": 160,
   "metadata": {},
   "outputs": [
    {
     "data": {
      "text/html": [
       "<div>\n",
       "<style scoped>\n",
       "    .dataframe tbody tr th:only-of-type {\n",
       "        vertical-align: middle;\n",
       "    }\n",
       "\n",
       "    .dataframe tbody tr th {\n",
       "        vertical-align: top;\n",
       "    }\n",
       "\n",
       "    .dataframe thead th {\n",
       "        text-align: right;\n",
       "    }\n",
       "</style>\n",
       "<table border=\"1\" class=\"dataframe\">\n",
       "  <thead>\n",
       "    <tr style=\"text-align: right;\">\n",
       "      <th></th>\n",
       "      <th>Airline</th>\n",
       "      <th>Date_of_Journey</th>\n",
       "      <th>Source</th>\n",
       "      <th>Destination</th>\n",
       "      <th>Route</th>\n",
       "      <th>Dep_Time</th>\n",
       "      <th>Arrival_Time</th>\n",
       "      <th>Duration</th>\n",
       "      <th>Total_Stops</th>\n",
       "      <th>Additional_Info</th>\n",
       "    </tr>\n",
       "  </thead>\n",
       "  <tbody>\n",
       "    <tr>\n",
       "      <th>0</th>\n",
       "      <td>Jet Airways</td>\n",
       "      <td>6/06/2019</td>\n",
       "      <td>Delhi</td>\n",
       "      <td>Cochin</td>\n",
       "      <td>DEL ? BOM ? COK</td>\n",
       "      <td>17:30</td>\n",
       "      <td>04:25 07 Jun</td>\n",
       "      <td>10h 55m</td>\n",
       "      <td>1 stop</td>\n",
       "      <td>No info</td>\n",
       "    </tr>\n",
       "    <tr>\n",
       "      <th>1</th>\n",
       "      <td>IndiGo</td>\n",
       "      <td>12/05/2019</td>\n",
       "      <td>Kolkata</td>\n",
       "      <td>Banglore</td>\n",
       "      <td>CCU ? MAA ? BLR</td>\n",
       "      <td>06:20</td>\n",
       "      <td>10:20</td>\n",
       "      <td>4h</td>\n",
       "      <td>1 stop</td>\n",
       "      <td>No info</td>\n",
       "    </tr>\n",
       "    <tr>\n",
       "      <th>2</th>\n",
       "      <td>Jet Airways</td>\n",
       "      <td>21/05/2019</td>\n",
       "      <td>Delhi</td>\n",
       "      <td>Cochin</td>\n",
       "      <td>DEL ? BOM ? COK</td>\n",
       "      <td>19:15</td>\n",
       "      <td>19:00 22 May</td>\n",
       "      <td>23h 45m</td>\n",
       "      <td>1 stop</td>\n",
       "      <td>In-flight meal not included</td>\n",
       "    </tr>\n",
       "  </tbody>\n",
       "</table>\n",
       "</div>"
      ],
      "text/plain": [
       "       Airline Date_of_Journey   Source Destination            Route Dep_Time  \\\n",
       "0  Jet Airways       6/06/2019    Delhi      Cochin  DEL ? BOM ? COK    17:30   \n",
       "1       IndiGo      12/05/2019  Kolkata    Banglore  CCU ? MAA ? BLR    06:20   \n",
       "2  Jet Airways      21/05/2019    Delhi      Cochin  DEL ? BOM ? COK    19:15   \n",
       "\n",
       "   Arrival_Time Duration Total_Stops              Additional_Info  \n",
       "0  04:25 07 Jun  10h 55m      1 stop                      No info  \n",
       "1         10:20       4h      1 stop                      No info  \n",
       "2  19:00 22 May  23h 45m      1 stop  In-flight meal not included  "
      ]
     },
     "execution_count": 160,
     "metadata": {},
     "output_type": "execute_result"
    }
   ],
   "source": [
    "test_set=pd.read_csv(\"Test_set.csv\")\n",
    "test_set.head(3)"
   ]
  },
  {
   "cell_type": "code",
   "execution_count": 161,
   "metadata": {},
   "outputs": [],
   "source": [
    "training_set['Journey_day']=pd.to_datetime(training_set['Date_of_Journey']).dt.day\n",
    "\n",
    "training_set['Journey_Month']=pd.to_datetime(training_set['Date_of_Journey']).dt.month\n",
    "\n",
    "training_set=training_set.drop(columns=['Date_of_Journey'], axis=1)"
   ]
  },
  {
   "cell_type": "code",
   "execution_count": 162,
   "metadata": {},
   "outputs": [],
   "source": [
    "test_set['Journey_day']=pd.to_datetime(test_set['Date_of_Journey']).dt.day\n",
    "\n",
    "test_set['Journey_Month']=pd.to_datetime(test_set['Date_of_Journey']).dt.month\n",
    "\n",
    "test_set=test_set.drop(columns=['Date_of_Journey'], axis=1)"
   ]
  },
  {
   "cell_type": "code",
   "execution_count": 163,
   "metadata": {},
   "outputs": [
    {
     "data": {
      "text/html": [
       "<div>\n",
       "<style scoped>\n",
       "    .dataframe tbody tr th:only-of-type {\n",
       "        vertical-align: middle;\n",
       "    }\n",
       "\n",
       "    .dataframe tbody tr th {\n",
       "        vertical-align: top;\n",
       "    }\n",
       "\n",
       "    .dataframe thead th {\n",
       "        text-align: right;\n",
       "    }\n",
       "</style>\n",
       "<table border=\"1\" class=\"dataframe\">\n",
       "  <thead>\n",
       "    <tr style=\"text-align: right;\">\n",
       "      <th></th>\n",
       "      <th>Airline</th>\n",
       "      <th>Source</th>\n",
       "      <th>Destination</th>\n",
       "      <th>Route</th>\n",
       "      <th>Dep_Time</th>\n",
       "      <th>Arrival_Time</th>\n",
       "      <th>Duration</th>\n",
       "      <th>Total_Stops</th>\n",
       "      <th>Additional_Info</th>\n",
       "      <th>Price</th>\n",
       "      <th>Journey_day</th>\n",
       "      <th>Journey_Month</th>\n",
       "    </tr>\n",
       "  </thead>\n",
       "  <tbody>\n",
       "    <tr>\n",
       "      <th>0</th>\n",
       "      <td>IndiGo</td>\n",
       "      <td>Banglore</td>\n",
       "      <td>New Delhi</td>\n",
       "      <td>BLR ? DEL</td>\n",
       "      <td>22:20</td>\n",
       "      <td>22-03-2019 01:10</td>\n",
       "      <td>2h 50m</td>\n",
       "      <td>non-stop</td>\n",
       "      <td>No info</td>\n",
       "      <td>3897</td>\n",
       "      <td>24</td>\n",
       "      <td>3</td>\n",
       "    </tr>\n",
       "    <tr>\n",
       "      <th>1</th>\n",
       "      <td>Air India</td>\n",
       "      <td>Kolkata</td>\n",
       "      <td>Banglore</td>\n",
       "      <td>CCU ? IXR ? BBI ? BLR</td>\n",
       "      <td>5:50</td>\n",
       "      <td>13:15</td>\n",
       "      <td>7h 25m</td>\n",
       "      <td>2 stops</td>\n",
       "      <td>No info</td>\n",
       "      <td>7662</td>\n",
       "      <td>5</td>\n",
       "      <td>1</td>\n",
       "    </tr>\n",
       "  </tbody>\n",
       "</table>\n",
       "</div>"
      ],
      "text/plain": [
       "     Airline    Source Destination                  Route Dep_Time  \\\n",
       "0     IndiGo  Banglore   New Delhi              BLR ? DEL    22:20   \n",
       "1  Air India   Kolkata    Banglore  CCU ? IXR ? BBI ? BLR     5:50   \n",
       "\n",
       "       Arrival_Time Duration Total_Stops Additional_Info  Price  Journey_day  \\\n",
       "0  22-03-2019 01:10   2h 50m    non-stop         No info   3897           24   \n",
       "1             13:15   7h 25m     2 stops         No info   7662            5   \n",
       "\n",
       "   Journey_Month  \n",
       "0              3  \n",
       "1              1  "
      ]
     },
     "execution_count": 163,
     "metadata": {},
     "output_type": "execute_result"
    }
   ],
   "source": [
    "training_set.head(2)"
   ]
  },
  {
   "cell_type": "code",
   "execution_count": 164,
   "metadata": {},
   "outputs": [
    {
     "data": {
      "text/html": [
       "<div>\n",
       "<style scoped>\n",
       "    .dataframe tbody tr th:only-of-type {\n",
       "        vertical-align: middle;\n",
       "    }\n",
       "\n",
       "    .dataframe tbody tr th {\n",
       "        vertical-align: top;\n",
       "    }\n",
       "\n",
       "    .dataframe thead th {\n",
       "        text-align: right;\n",
       "    }\n",
       "</style>\n",
       "<table border=\"1\" class=\"dataframe\">\n",
       "  <thead>\n",
       "    <tr style=\"text-align: right;\">\n",
       "      <th></th>\n",
       "      <th>Airline</th>\n",
       "      <th>Source</th>\n",
       "      <th>Destination</th>\n",
       "      <th>Route</th>\n",
       "      <th>Dep_Time</th>\n",
       "      <th>Arrival_Time</th>\n",
       "      <th>Duration</th>\n",
       "      <th>Total_Stops</th>\n",
       "      <th>Additional_Info</th>\n",
       "      <th>Journey_day</th>\n",
       "      <th>Journey_Month</th>\n",
       "    </tr>\n",
       "  </thead>\n",
       "  <tbody>\n",
       "    <tr>\n",
       "      <th>0</th>\n",
       "      <td>Jet Airways</td>\n",
       "      <td>Delhi</td>\n",
       "      <td>Cochin</td>\n",
       "      <td>DEL ? BOM ? COK</td>\n",
       "      <td>17:30</td>\n",
       "      <td>04:25 07 Jun</td>\n",
       "      <td>10h 55m</td>\n",
       "      <td>1 stop</td>\n",
       "      <td>No info</td>\n",
       "      <td>6</td>\n",
       "      <td>6</td>\n",
       "    </tr>\n",
       "    <tr>\n",
       "      <th>1</th>\n",
       "      <td>IndiGo</td>\n",
       "      <td>Kolkata</td>\n",
       "      <td>Banglore</td>\n",
       "      <td>CCU ? MAA ? BLR</td>\n",
       "      <td>06:20</td>\n",
       "      <td>10:20</td>\n",
       "      <td>4h</td>\n",
       "      <td>1 stop</td>\n",
       "      <td>No info</td>\n",
       "      <td>5</td>\n",
       "      <td>12</td>\n",
       "    </tr>\n",
       "  </tbody>\n",
       "</table>\n",
       "</div>"
      ],
      "text/plain": [
       "       Airline   Source Destination            Route Dep_Time  Arrival_Time  \\\n",
       "0  Jet Airways    Delhi      Cochin  DEL ? BOM ? COK    17:30  04:25 07 Jun   \n",
       "1       IndiGo  Kolkata    Banglore  CCU ? MAA ? BLR    06:20         10:20   \n",
       "\n",
       "  Duration Total_Stops Additional_Info  Journey_day  Journey_Month  \n",
       "0  10h 55m      1 stop         No info            6              6  \n",
       "1       4h      1 stop         No info            5             12  "
      ]
     },
     "execution_count": 164,
     "metadata": {},
     "output_type": "execute_result"
    }
   ],
   "source": [
    "test_set.head(2)"
   ]
  },
  {
   "cell_type": "code",
   "execution_count": 165,
   "metadata": {},
   "outputs": [],
   "source": [
    "# Dept Time\n",
    "\n",
    "training_set['Dept_time_hr']=pd.to_datetime(training_set['Dep_Time']).dt.hour\n",
    "\n",
    "training_set['Dept_time_min']=pd.to_datetime(training_set['Dep_Time']).dt.minute\n",
    "\n",
    "training_set=training_set.drop(columns=['Dep_Time'], axis=1)\n",
    "\n",
    "#Arrival Time\n",
    "\n",
    "training_set['Arrival_time_hr']=pd.to_datetime(training_set['Arrival_Time']).dt.hour\n",
    "training_set['Arrival_time_min']=pd.to_datetime(training_set['Arrival_Time']).dt.minute\n",
    "\n",
    "\n",
    "training_set=training_set.drop(columns=['Arrival_Time'], axis=1)\n"
   ]
  },
  {
   "cell_type": "code",
   "execution_count": 166,
   "metadata": {},
   "outputs": [
    {
     "data": {
      "text/html": [
       "<div>\n",
       "<style scoped>\n",
       "    .dataframe tbody tr th:only-of-type {\n",
       "        vertical-align: middle;\n",
       "    }\n",
       "\n",
       "    .dataframe tbody tr th {\n",
       "        vertical-align: top;\n",
       "    }\n",
       "\n",
       "    .dataframe thead th {\n",
       "        text-align: right;\n",
       "    }\n",
       "</style>\n",
       "<table border=\"1\" class=\"dataframe\">\n",
       "  <thead>\n",
       "    <tr style=\"text-align: right;\">\n",
       "      <th></th>\n",
       "      <th>Airline</th>\n",
       "      <th>Source</th>\n",
       "      <th>Destination</th>\n",
       "      <th>Route</th>\n",
       "      <th>Duration</th>\n",
       "      <th>Total_Stops</th>\n",
       "      <th>Additional_Info</th>\n",
       "      <th>Price</th>\n",
       "      <th>Journey_day</th>\n",
       "      <th>Journey_Month</th>\n",
       "      <th>Dept_time_hr</th>\n",
       "      <th>Dept_time_min</th>\n",
       "      <th>Arrival_time_hr</th>\n",
       "      <th>Arrival_time_min</th>\n",
       "    </tr>\n",
       "  </thead>\n",
       "  <tbody>\n",
       "    <tr>\n",
       "      <th>0</th>\n",
       "      <td>IndiGo</td>\n",
       "      <td>Banglore</td>\n",
       "      <td>New Delhi</td>\n",
       "      <td>BLR ? DEL</td>\n",
       "      <td>2h 50m</td>\n",
       "      <td>non-stop</td>\n",
       "      <td>No info</td>\n",
       "      <td>3897</td>\n",
       "      <td>24</td>\n",
       "      <td>3</td>\n",
       "      <td>22</td>\n",
       "      <td>20</td>\n",
       "      <td>1</td>\n",
       "      <td>10</td>\n",
       "    </tr>\n",
       "    <tr>\n",
       "      <th>1</th>\n",
       "      <td>Air India</td>\n",
       "      <td>Kolkata</td>\n",
       "      <td>Banglore</td>\n",
       "      <td>CCU ? IXR ? BBI ? BLR</td>\n",
       "      <td>7h 25m</td>\n",
       "      <td>2 stops</td>\n",
       "      <td>No info</td>\n",
       "      <td>7662</td>\n",
       "      <td>5</td>\n",
       "      <td>1</td>\n",
       "      <td>5</td>\n",
       "      <td>50</td>\n",
       "      <td>13</td>\n",
       "      <td>15</td>\n",
       "    </tr>\n",
       "  </tbody>\n",
       "</table>\n",
       "</div>"
      ],
      "text/plain": [
       "     Airline    Source Destination                  Route Duration  \\\n",
       "0     IndiGo  Banglore   New Delhi              BLR ? DEL   2h 50m   \n",
       "1  Air India   Kolkata    Banglore  CCU ? IXR ? BBI ? BLR   7h 25m   \n",
       "\n",
       "  Total_Stops Additional_Info  Price  Journey_day  Journey_Month  \\\n",
       "0    non-stop         No info   3897           24              3   \n",
       "1     2 stops         No info   7662            5              1   \n",
       "\n",
       "   Dept_time_hr  Dept_time_min  Arrival_time_hr  Arrival_time_min  \n",
       "0            22             20                1                10  \n",
       "1             5             50               13                15  "
      ]
     },
     "execution_count": 166,
     "metadata": {},
     "output_type": "execute_result"
    }
   ],
   "source": [
    "training_set.head(2)"
   ]
  },
  {
   "cell_type": "code",
   "execution_count": 167,
   "metadata": {},
   "outputs": [],
   "source": [
    "# Dept Time  TEST DATASET\n",
    "\n",
    "test_set['Dept_time_hr']=pd.to_datetime(test_set['Dep_Time']).dt.hour\n",
    "\n",
    "test_set['Dept_time_min']=pd.to_datetime(test_set['Dep_Time']).dt.minute\n",
    "\n",
    "test_set=test_set.drop(columns=['Dep_Time'], axis=1)\n",
    "\n",
    "#Arrival Time\n",
    "\n",
    "test_set['Arrival_time_hr']=pd.to_datetime(test_set['Arrival_Time']).dt.hour\n",
    "test_set['Arrival_time_min']=pd.to_datetime(test_set['Arrival_Time']).dt.minute\n",
    "\n",
    "\n",
    "test_set=test_set.drop(columns=['Arrival_Time'], axis=1)\n"
   ]
  },
  {
   "cell_type": "code",
   "execution_count": 168,
   "metadata": {},
   "outputs": [
    {
     "data": {
      "text/html": [
       "<div>\n",
       "<style scoped>\n",
       "    .dataframe tbody tr th:only-of-type {\n",
       "        vertical-align: middle;\n",
       "    }\n",
       "\n",
       "    .dataframe tbody tr th {\n",
       "        vertical-align: top;\n",
       "    }\n",
       "\n",
       "    .dataframe thead th {\n",
       "        text-align: right;\n",
       "    }\n",
       "</style>\n",
       "<table border=\"1\" class=\"dataframe\">\n",
       "  <thead>\n",
       "    <tr style=\"text-align: right;\">\n",
       "      <th></th>\n",
       "      <th>Airline</th>\n",
       "      <th>Source</th>\n",
       "      <th>Destination</th>\n",
       "      <th>Route</th>\n",
       "      <th>Duration</th>\n",
       "      <th>Total_Stops</th>\n",
       "      <th>Additional_Info</th>\n",
       "      <th>Journey_day</th>\n",
       "      <th>Journey_Month</th>\n",
       "      <th>Dept_time_hr</th>\n",
       "      <th>Dept_time_min</th>\n",
       "      <th>Arrival_time_hr</th>\n",
       "      <th>Arrival_time_min</th>\n",
       "    </tr>\n",
       "  </thead>\n",
       "  <tbody>\n",
       "    <tr>\n",
       "      <th>0</th>\n",
       "      <td>Jet Airways</td>\n",
       "      <td>Delhi</td>\n",
       "      <td>Cochin</td>\n",
       "      <td>DEL ? BOM ? COK</td>\n",
       "      <td>10h 55m</td>\n",
       "      <td>1 stop</td>\n",
       "      <td>No info</td>\n",
       "      <td>6</td>\n",
       "      <td>6</td>\n",
       "      <td>17</td>\n",
       "      <td>30</td>\n",
       "      <td>4</td>\n",
       "      <td>25</td>\n",
       "    </tr>\n",
       "    <tr>\n",
       "      <th>1</th>\n",
       "      <td>IndiGo</td>\n",
       "      <td>Kolkata</td>\n",
       "      <td>Banglore</td>\n",
       "      <td>CCU ? MAA ? BLR</td>\n",
       "      <td>4h</td>\n",
       "      <td>1 stop</td>\n",
       "      <td>No info</td>\n",
       "      <td>5</td>\n",
       "      <td>12</td>\n",
       "      <td>6</td>\n",
       "      <td>20</td>\n",
       "      <td>10</td>\n",
       "      <td>20</td>\n",
       "    </tr>\n",
       "  </tbody>\n",
       "</table>\n",
       "</div>"
      ],
      "text/plain": [
       "       Airline   Source Destination            Route Duration Total_Stops  \\\n",
       "0  Jet Airways    Delhi      Cochin  DEL ? BOM ? COK  10h 55m      1 stop   \n",
       "1       IndiGo  Kolkata    Banglore  CCU ? MAA ? BLR       4h      1 stop   \n",
       "\n",
       "  Additional_Info  Journey_day  Journey_Month  Dept_time_hr  Dept_time_min  \\\n",
       "0         No info            6              6            17             30   \n",
       "1         No info            5             12             6             20   \n",
       "\n",
       "   Arrival_time_hr  Arrival_time_min  \n",
       "0                4                25  \n",
       "1               10                20  "
      ]
     },
     "execution_count": 168,
     "metadata": {},
     "output_type": "execute_result"
    }
   ],
   "source": [
    "test_set.head(2)"
   ]
  },
  {
   "cell_type": "code",
   "execution_count": 169,
   "metadata": {},
   "outputs": [
    {
     "data": {
      "text/plain": [
       "0                  BLR  DEL\n",
       "1        CCU  IXR  BBI  BLR\n",
       "2        DEL  LKO  BOM  COK\n",
       "3             CCU  NAG  BLR\n",
       "4             BLR  NAG  DEL\n",
       "5                  CCU  BLR\n",
       "6             BLR  BOM  DEL\n",
       "7             BLR  BOM  DEL\n",
       "8             BLR  BOM  DEL\n",
       "9             DEL  BOM  COK\n",
       "10            DEL  BLR  COK\n",
       "11                 CCU  BLR\n",
       "12                 MAA  CCU\n",
       "13            CCU  BOM  BLR\n",
       "14                 CCU  BLR\n",
       "15       DEL  AMD  BOM  COK\n",
       "16            DEL  PNQ  COK\n",
       "17            DEL  BOM  COK\n",
       "18       DEL  CCU  BOM  COK\n",
       "19            DEL  BOM  COK\n",
       "20            DEL  BOM  COK\n",
       "21            BLR  COK  DEL\n",
       "22                 BLR  DEL\n",
       "23                 BLR  DEL\n",
       "24            CCU  BOM  BLR\n",
       "25       DEL  IDR  BOM  COK\n",
       "26            DEL  LKO  COK\n",
       "27            DEL  BOM  COK\n",
       "28                 BLR  DEL\n",
       "29                 MAA  CCU\n",
       "                ...        \n",
       "10653         CCU  BOM  BLR\n",
       "10654              BLR  DEL\n",
       "10655              BOM  HYD\n",
       "10656              BLR  DEL\n",
       "10657         CCU  BOM  BLR\n",
       "10658              BLR  DEL\n",
       "10659              BLR  DEL\n",
       "10660              BLR  DEL\n",
       "10661         DEL  BOM  COK\n",
       "10662    CCU  BOM  GOI  BLR\n",
       "10663    DEL  JAI  BOM  COK\n",
       "10664              BLR  DEL\n",
       "10665              CCU  BLR\n",
       "10666         DEL  BOM  COK\n",
       "10667         BLR  BOM  DEL\n",
       "10668    DEL  JDH  BOM  COK\n",
       "10669         DEL  BOM  COK\n",
       "10670    CCU  IXR  DEL  BLR\n",
       "10671              BOM  HYD\n",
       "10672    DEL  AMD  BOM  COK\n",
       "10673    DEL  AMD  BOM  COK\n",
       "10674         BLR  BOM  DEL\n",
       "10675              BOM  HYD\n",
       "10676         DEL  BOM  COK\n",
       "10677              BLR  DEL\n",
       "10678              CCU  BLR\n",
       "10679              CCU  BLR\n",
       "10680              BLR  DEL\n",
       "10681              BLR  DEL\n",
       "10682    DEL  GOI  BOM  COK\n",
       "Name: Route, Length: 10683, dtype: object"
      ]
     },
     "execution_count": 169,
     "metadata": {},
     "output_type": "execute_result"
    }
   ],
   "source": [
    "training_set.Route.str.replace(\"[({':?]\", \"\")"
   ]
  },
  {
   "cell_type": "code",
   "execution_count": 170,
   "metadata": {},
   "outputs": [
    {
     "data": {
      "text/plain": [
       "0            DEL  BOM  COK\n",
       "1            CCU  MAA  BLR\n",
       "2            DEL  BOM  COK\n",
       "3            DEL  BOM  COK\n",
       "4                 BLR  DEL\n",
       "5            DEL  BOM  COK\n",
       "6            BLR  TRV  DEL\n",
       "7            CCU  HYD  BLR\n",
       "8                 CCU  BLR\n",
       "9            CCU  BOM  BLR\n",
       "10      DEL  MAA  BOM  COK\n",
       "11           DEL  HYD  COK\n",
       "12           DEL  BOM  COK\n",
       "13           BLR  BOM  DEL\n",
       "14           DEL  BOM  COK\n",
       "15           BLR  BOM  DEL\n",
       "16           DEL  HYD  COK\n",
       "17           CCU  DEL  BLR\n",
       "18           DEL  BOM  COK\n",
       "19           BLR  BOM  DEL\n",
       "20           DEL  BOM  COK\n",
       "21           CCU  BOM  BLR\n",
       "22           BLR  BOM  DEL\n",
       "23      DEL  JAI  BOM  COK\n",
       "24                BLR  DEL\n",
       "25           DEL  BOM  COK\n",
       "26                CCU  BLR\n",
       "27           DEL  BOM  COK\n",
       "28           DEL  BOM  COK\n",
       "29           DEL  BOM  COK\n",
       "               ...        \n",
       "2641         DEL  BOM  COK\n",
       "2642         DEL  BOM  COK\n",
       "2643    DEL  HYD  MAA  COK\n",
       "2644         DEL  BOM  COK\n",
       "2645         BLR  BOM  DEL\n",
       "2646    DEL  AMD  BOM  COK\n",
       "2647    CCU  GAU  DEL  BLR\n",
       "2648              DEL  COK\n",
       "2649              BLR  DEL\n",
       "2650    CCU  IXR  DEL  BLR\n",
       "2651         CCU  DEL  BLR\n",
       "2652         BLR  BOM  DEL\n",
       "2653         CCU  BOM  BLR\n",
       "2654         DEL  BOM  COK\n",
       "2655         DEL  BOM  COK\n",
       "2656         CCU  BOM  BLR\n",
       "2657         DEL  BOM  COK\n",
       "2658         DEL  BOM  COK\n",
       "2659    DEL  BHO  BOM  COK\n",
       "2660    BOM  GOI  PNQ  HYD\n",
       "2661    DEL  AMD  BOM  COK\n",
       "2662              BOM  HYD\n",
       "2663         CCU  BOM  BLR\n",
       "2664         DEL  BOM  COK\n",
       "2665              BOM  HYD\n",
       "2666         CCU  DEL  BLR\n",
       "2667              CCU  BLR\n",
       "2668         DEL  BOM  COK\n",
       "2669         DEL  BOM  COK\n",
       "2670         DEL  BOM  COK\n",
       "Name: Route, Length: 2671, dtype: object"
      ]
     },
     "execution_count": 170,
     "metadata": {},
     "output_type": "execute_result"
    }
   ],
   "source": [
    "test_set.Route.str.replace(\"[({':?]\", \"\")"
   ]
  },
  {
   "cell_type": "code",
   "execution_count": 171,
   "metadata": {},
   "outputs": [],
   "source": [
    "training_set['Route']=training_set.Route.str.replace(\"[({':?]\", \"\")\n",
    "\n",
    "training_set['Total_Stops']=training_set.Total_Stops.str.replace(\"non-stop\", \"0\")\n",
    "training_set['Total_Stops']=training_set.Total_Stops.str.replace(\"1 stop\", \"1\")\n",
    "training_set['Total_Stops']=training_set.Total_Stops.str.replace(\"2 stops\", \"2\")\n",
    "training_set['Total_Stops']=training_set.Total_Stops.str.replace(\"3 stops\", \"3\")\n",
    "training_set['Total_Stops']=training_set.Total_Stops.str.replace(\"4 stops\", \"4\")"
   ]
  },
  {
   "cell_type": "code",
   "execution_count": 172,
   "metadata": {},
   "outputs": [],
   "source": [
    "test_set['Route']=test_set.Route.str.replace(\"[({':?]\", \"\")\n",
    "\n",
    "test_set['Total_Stops']=test_set.Total_Stops.str.replace(\"non-stop\", \"0\")\n",
    "test_set['Total_Stops']=test_set.Total_Stops.str.replace(\"1 stop\", \"1\")\n",
    "test_set['Total_Stops']=test_set.Total_Stops.str.replace(\"2 stops\", \"2\")\n",
    "test_set['Total_Stops']=test_set.Total_Stops.str.replace(\"3 stops\", \"3\")\n",
    "test_set['Total_Stops']=test_set.Total_Stops.str.replace(\"4 stops\", \"4\")"
   ]
  },
  {
   "cell_type": "code",
   "execution_count": 173,
   "metadata": {},
   "outputs": [
    {
     "data": {
      "text/plain": [
       "Airline             0\n",
       "Source              0\n",
       "Destination         0\n",
       "Route               1\n",
       "Duration            0\n",
       "Total_Stops         1\n",
       "Additional_Info     0\n",
       "Price               0\n",
       "Journey_day         0\n",
       "Journey_Month       0\n",
       "Dept_time_hr        0\n",
       "Dept_time_min       0\n",
       "Arrival_time_hr     0\n",
       "Arrival_time_min    0\n",
       "dtype: int64"
      ]
     },
     "execution_count": 173,
     "metadata": {},
     "output_type": "execute_result"
    }
   ],
   "source": [
    "training_set.isnull().sum(axis=0)"
   ]
  },
  {
   "cell_type": "code",
   "execution_count": 174,
   "metadata": {},
   "outputs": [],
   "source": [
    "training_set=training_set.dropna()"
   ]
  },
  {
   "cell_type": "code",
   "execution_count": 175,
   "metadata": {},
   "outputs": [
    {
     "data": {
      "text/plain": [
       "Airline             0\n",
       "Source              0\n",
       "Destination         0\n",
       "Route               0\n",
       "Duration            0\n",
       "Total_Stops         0\n",
       "Additional_Info     0\n",
       "Price               0\n",
       "Journey_day         0\n",
       "Journey_Month       0\n",
       "Dept_time_hr        0\n",
       "Dept_time_min       0\n",
       "Arrival_time_hr     0\n",
       "Arrival_time_min    0\n",
       "dtype: int64"
      ]
     },
     "execution_count": 175,
     "metadata": {},
     "output_type": "execute_result"
    }
   ],
   "source": [
    "training_set.isnull().sum(axis=0)"
   ]
  },
  {
   "cell_type": "code",
   "execution_count": 176,
   "metadata": {},
   "outputs": [
    {
     "data": {
      "text/plain": [
       "Airline             0\n",
       "Source              0\n",
       "Destination         0\n",
       "Route               0\n",
       "Duration            0\n",
       "Total_Stops         0\n",
       "Additional_Info     0\n",
       "Journey_day         0\n",
       "Journey_Month       0\n",
       "Dept_time_hr        0\n",
       "Dept_time_min       0\n",
       "Arrival_time_hr     0\n",
       "Arrival_time_min    0\n",
       "dtype: int64"
      ]
     },
     "execution_count": 176,
     "metadata": {},
     "output_type": "execute_result"
    }
   ],
   "source": [
    "test_set.isnull().sum(axis=0)"
   ]
  },
  {
   "cell_type": "code",
   "execution_count": 177,
   "metadata": {},
   "outputs": [
    {
     "data": {
      "text/html": [
       "<div>\n",
       "<style scoped>\n",
       "    .dataframe tbody tr th:only-of-type {\n",
       "        vertical-align: middle;\n",
       "    }\n",
       "\n",
       "    .dataframe tbody tr th {\n",
       "        vertical-align: top;\n",
       "    }\n",
       "\n",
       "    .dataframe thead th {\n",
       "        text-align: right;\n",
       "    }\n",
       "</style>\n",
       "<table border=\"1\" class=\"dataframe\">\n",
       "  <thead>\n",
       "    <tr style=\"text-align: right;\">\n",
       "      <th></th>\n",
       "      <th>Airline</th>\n",
       "      <th>Source</th>\n",
       "      <th>Destination</th>\n",
       "      <th>Route</th>\n",
       "      <th>Duration</th>\n",
       "      <th>Total_Stops</th>\n",
       "      <th>Additional_Info</th>\n",
       "      <th>Price</th>\n",
       "      <th>Journey_day</th>\n",
       "      <th>Journey_Month</th>\n",
       "      <th>Dept_time_hr</th>\n",
       "      <th>Dept_time_min</th>\n",
       "      <th>Arrival_time_hr</th>\n",
       "      <th>Arrival_time_min</th>\n",
       "    </tr>\n",
       "  </thead>\n",
       "  <tbody>\n",
       "    <tr>\n",
       "      <th>0</th>\n",
       "      <td>IndiGo</td>\n",
       "      <td>Banglore</td>\n",
       "      <td>New Delhi</td>\n",
       "      <td>BLR  DEL</td>\n",
       "      <td>2h 50m</td>\n",
       "      <td>0</td>\n",
       "      <td>No info</td>\n",
       "      <td>3897</td>\n",
       "      <td>24</td>\n",
       "      <td>3</td>\n",
       "      <td>22</td>\n",
       "      <td>20</td>\n",
       "      <td>1</td>\n",
       "      <td>10</td>\n",
       "    </tr>\n",
       "    <tr>\n",
       "      <th>1</th>\n",
       "      <td>Air India</td>\n",
       "      <td>Kolkata</td>\n",
       "      <td>Banglore</td>\n",
       "      <td>CCU  IXR  BBI  BLR</td>\n",
       "      <td>7h 25m</td>\n",
       "      <td>2</td>\n",
       "      <td>No info</td>\n",
       "      <td>7662</td>\n",
       "      <td>5</td>\n",
       "      <td>1</td>\n",
       "      <td>5</td>\n",
       "      <td>50</td>\n",
       "      <td>13</td>\n",
       "      <td>15</td>\n",
       "    </tr>\n",
       "  </tbody>\n",
       "</table>\n",
       "</div>"
      ],
      "text/plain": [
       "     Airline    Source Destination               Route Duration Total_Stops  \\\n",
       "0     IndiGo  Banglore   New Delhi            BLR  DEL   2h 50m           0   \n",
       "1  Air India   Kolkata    Banglore  CCU  IXR  BBI  BLR   7h 25m           2   \n",
       "\n",
       "  Additional_Info  Price  Journey_day  Journey_Month  Dept_time_hr  \\\n",
       "0         No info   3897           24              3            22   \n",
       "1         No info   7662            5              1             5   \n",
       "\n",
       "   Dept_time_min  Arrival_time_hr  Arrival_time_min  \n",
       "0             20                1                10  \n",
       "1             50               13                15  "
      ]
     },
     "execution_count": 177,
     "metadata": {},
     "output_type": "execute_result"
    }
   ],
   "source": [
    "#y=training_set.iloc[:,training_set.columns=='Price'].values\n",
    "#y\n",
    "\n",
    "training_set.head(2)"
   ]
  },
  {
   "cell_type": "code",
   "execution_count": 178,
   "metadata": {},
   "outputs": [],
   "source": [
    "# Dependent Variable\n",
    "Y_train = training_set.iloc[:,7].values  # 6 is the index of \"Price\" in the Training Set \n",
    "\n",
    "# Independent Variables\n",
    "X_train =training_set.iloc[:,training_set.columns != 'Price'].values # selects all columns except \"Price\"\n",
    "\n",
    "# Independent Variables for Test Set\n",
    "X_test = test_set.iloc[:,:].values"
   ]
  },
  {
   "cell_type": "code",
   "execution_count": 179,
   "metadata": {},
   "outputs": [],
   "source": [
    "X_train=training_set.iloc[:,training_set.columns!='Price']"
   ]
  },
  {
   "cell_type": "code",
   "execution_count": 206,
   "metadata": {},
   "outputs": [
    {
     "data": {
      "text/plain": [
       "pandas.core.frame.DataFrame"
      ]
     },
     "execution_count": 206,
     "metadata": {},
     "output_type": "execute_result"
    }
   ],
   "source": [
    "X_train.shape\n",
    "type(X_train)"
   ]
  },
  {
   "cell_type": "code",
   "execution_count": 207,
   "metadata": {},
   "outputs": [
    {
     "data": {
      "text/plain": [
       "(2671, 13)"
      ]
     },
     "execution_count": 207,
     "metadata": {},
     "output_type": "execute_result"
    }
   ],
   "source": [
    "X_test.shape"
   ]
  },
  {
   "cell_type": "code",
   "execution_count": 208,
   "metadata": {},
   "outputs": [],
   "source": [
    "X_test=pd.DataFrame(X_test)"
   ]
  },
  {
   "cell_type": "code",
   "execution_count": 209,
   "metadata": {},
   "outputs": [],
   "source": [
    "## training Set\n",
    "\n",
    "\n",
    "from sklearn.preprocessing import LabelEncoder\n",
    "X_train.shape\n",
    "le_1=LabelEncoder()\n",
    "\n",
    "X_train.values[:,0] = le_1.fit_transform(X_train.values[:,0])\n",
    "X_train.values[:,1] = le_1.fit_transform(X_train.values[:,1])\n",
    "X_train.values[:,2] = le_1.fit_transform(X_train.values[:,2])\n",
    "\n",
    "X_train.values[:,3] = le_1.fit_transform(X_train.values[:,3])\n",
    "\n",
    "X_train.values[:,4] = le_1.fit_transform(X_train.values[:,4])\n",
    "\n",
    "X_train.values[:,5] = le_1.fit_transform(X_train.values[:,5])\n",
    "\n",
    "X_train.values[:,6] = le_1.fit_transform(X_train.values[:,6])\n",
    "\n",
    "\n"
   ]
  },
  {
   "cell_type": "code",
   "execution_count": 210,
   "metadata": {},
   "outputs": [],
   "source": [
    "#X=x.apply(LabelEncoder().fit_transform)\n",
    "X_train=X_train.apply(le_1.fit_transform)\n"
   ]
  },
  {
   "cell_type": "code",
   "execution_count": 211,
   "metadata": {},
   "outputs": [],
   "source": [
    "## Test SET\n",
    "\n",
    "le_2=LabelEncoder()\n",
    "\n",
    "X_test.values[:,0] = le_2.fit_transform(X_test.values[:,0])\n",
    "X_test.values[:,1] = le_2.fit_transform(X_test.values[:,1])\n",
    "X_test.values[:,2] = le_2.fit_transform(X_test.values[:,2])\n",
    "\n",
    "X_test.values[:,3] = le_2.fit_transform(X_test.values[:,3])\n",
    "\n",
    "X_test.values[:,4] = le_2.fit_transform(X_test.values[:,4])\n",
    "\n",
    "X_test.values[:,5] = le_2.fit_transform(X_test.values[:,5])\n",
    "\n",
    "X_test.values[:,6] = le_2.fit_transform(X_test.values[:,6])\n",
    "\n"
   ]
  },
  {
   "cell_type": "code",
   "execution_count": 212,
   "metadata": {},
   "outputs": [
    {
     "data": {
      "text/plain": [
       "pandas.core.frame.DataFrame"
      ]
     },
     "execution_count": 212,
     "metadata": {},
     "output_type": "execute_result"
    }
   ],
   "source": [
    "X_test.shape\n",
    "type(X_test)"
   ]
  },
  {
   "cell_type": "code",
   "execution_count": 213,
   "metadata": {},
   "outputs": [],
   "source": [
    "X_test=X_test.apply(le_2.fit_transform)"
   ]
  },
  {
   "cell_type": "code",
   "execution_count": 214,
   "metadata": {},
   "outputs": [
    {
     "data": {
      "text/plain": [
       "(10682,)"
      ]
     },
     "execution_count": 214,
     "metadata": {},
     "output_type": "execute_result"
    }
   ],
   "source": [
    "Y_train.shape"
   ]
  },
  {
   "cell_type": "code",
   "execution_count": 215,
   "metadata": {},
   "outputs": [
    {
     "data": {
      "text/plain": [
       "(10682, 1)"
      ]
     },
     "execution_count": 215,
     "metadata": {},
     "output_type": "execute_result"
    }
   ],
   "source": [
    "Y_train=Y_train.reshape(-1,1)\n",
    "Y_train.shape"
   ]
  },
  {
   "cell_type": "code",
   "execution_count": 216,
   "metadata": {},
   "outputs": [
    {
     "name": "stderr",
     "output_type": "stream",
     "text": [
      "C:\\Users\\ADMIN\\AppData\\Local\\Continuum\\anaconda3\\lib\\site-packages\\sklearn\\preprocessing\\data.py:625: DataConversionWarning: Data with input dtype int64 were all converted to float64 by StandardScaler.\n",
      "  return self.partial_fit(X, y)\n",
      "C:\\Users\\ADMIN\\AppData\\Local\\Continuum\\anaconda3\\lib\\site-packages\\sklearn\\base.py:462: DataConversionWarning: Data with input dtype int64 were all converted to float64 by StandardScaler.\n",
      "  return self.fit(X, **fit_params).transform(X)\n",
      "C:\\Users\\ADMIN\\AppData\\Local\\Continuum\\anaconda3\\lib\\site-packages\\sklearn\\preprocessing\\data.py:625: DataConversionWarning: Data with input dtype int64 were all converted to float64 by StandardScaler.\n",
      "  return self.partial_fit(X, y)\n",
      "C:\\Users\\ADMIN\\AppData\\Local\\Continuum\\anaconda3\\lib\\site-packages\\sklearn\\base.py:462: DataConversionWarning: Data with input dtype int64 were all converted to float64 by StandardScaler.\n",
      "  return self.fit(X, **fit_params).transform(X)\n",
      "C:\\Users\\ADMIN\\AppData\\Local\\Continuum\\anaconda3\\lib\\site-packages\\sklearn\\utils\\validation.py:595: DataConversionWarning: Data with input dtype int64 was converted to float64 by StandardScaler.\n",
      "  warnings.warn(msg, DataConversionWarning)\n",
      "C:\\Users\\ADMIN\\AppData\\Local\\Continuum\\anaconda3\\lib\\site-packages\\sklearn\\utils\\validation.py:595: DataConversionWarning: Data with input dtype int64 was converted to float64 by StandardScaler.\n",
      "  warnings.warn(msg, DataConversionWarning)\n"
     ]
    }
   ],
   "source": [
    "from sklearn.preprocessing import StandardScaler\n",
    "\n",
    "SS= StandardScaler()\n",
    "\n",
    "#_train = sc_X.fit_transform(X_train)\n",
    "X_train= SS.fit_transform(X_train)\n",
    "\n",
    "X_test=SS.fit_transform(X_test)\n",
    "\n",
    "#_test = X_test.apply(sc_X.fit_transform(X_test))\n",
    "\n",
    "#X_test = sc_X.fit_transform(X_test)\n",
    "\n",
    "Y_train = SS.fit_transform(Y_train)\n",
    "\n",
    "\n",
    "# Y_train = Y_train.ravel()"
   ]
  },
  {
   "cell_type": "code",
   "execution_count": null,
   "metadata": {},
   "outputs": [],
   "source": [
    "#from sklearn.model_selection import train_test_split\n"
   ]
  },
  {
   "cell_type": "code",
   "execution_count": null,
   "metadata": {},
   "outputs": [],
   "source": [
    "#train_x,test_x,train_y,test_y=train_test_split(X,y,test_size=0.30,random_state=60)"
   ]
  },
  {
   "cell_type": "code",
   "execution_count": null,
   "metadata": {},
   "outputs": [],
   "source": [
    "#train_x.shape"
   ]
  },
  {
   "cell_type": "code",
   "execution_count": null,
   "metadata": {},
   "outputs": [],
   "source": [
    "#test_x.shape"
   ]
  },
  {
   "cell_type": "code",
   "execution_count": null,
   "metadata": {},
   "outputs": [],
   "source": [
    "#train_y.shape"
   ]
  },
  {
   "cell_type": "code",
   "execution_count": null,
   "metadata": {},
   "outputs": [],
   "source": [
    "#test_y.shape"
   ]
  },
  {
   "cell_type": "code",
   "execution_count": 219,
   "metadata": {},
   "outputs": [
    {
     "name": "stderr",
     "output_type": "stream",
     "text": [
      "C:\\Users\\ADMIN\\AppData\\Local\\Continuum\\anaconda3\\lib\\site-packages\\sklearn\\utils\\validation.py:761: DataConversionWarning: A column-vector y was passed when a 1d array was expected. Please change the shape of y to (n_samples, ), for example using ravel().\n",
      "  y = column_or_1d(y, warn=True)\n"
     ]
    }
   ],
   "source": [
    "from sklearn.svm import SVR\n",
    "\n",
    "svr = SVR(kernel = \"rbf\")\n",
    "\n",
    "svr.fit(X_train,Y_train)\n",
    "\n",
    "#pred_y = sc_X.inverse_transform(svr.predict(X_test))\n",
    "pred_y = svr.predict(X_test)\n",
    "\n",
    "pd.DataFrame(pred_y, columns = ['Price']).to_excel(\"Final_Pred.xlsx\", index = False)"
   ]
  },
  {
   "cell_type": "code",
   "execution_count": 220,
   "metadata": {},
   "outputs": [
    {
     "name": "stdout",
     "output_type": "stream",
     "text": [
      "          0\n",
      "0  0.306694\n",
      "1 -0.472585\n",
      "2  0.524928\n",
      "3  0.260264\n",
      "4 -1.163580\n"
     ]
    }
   ],
   "source": [
    "print(pd.DataFrame(pred_y).head())"
   ]
  },
  {
   "cell_type": "code",
   "execution_count": 221,
   "metadata": {},
   "outputs": [],
   "source": [
    "from sklearn.metrics import r2_score"
   ]
  },
  {
   "cell_type": "code",
   "execution_count": 223,
   "metadata": {},
   "outputs": [
    {
     "name": "stdout",
     "output_type": "stream",
     "text": [
      "Score= 0.7701860986496867\n"
     ]
    }
   ],
   "source": [
    "A=svr.score(X_train,Y_train)\n",
    "print('Score=',A)\n"
   ]
  },
  {
   "cell_type": "code",
   "execution_count": null,
   "metadata": {},
   "outputs": [],
   "source": []
  }
 ],
 "metadata": {
  "kernelspec": {
   "display_name": "Python 3",
   "language": "python",
   "name": "python3"
  },
  "language_info": {
   "codemirror_mode": {
    "name": "ipython",
    "version": 3
   },
   "file_extension": ".py",
   "mimetype": "text/x-python",
   "name": "python",
   "nbconvert_exporter": "python",
   "pygments_lexer": "ipython3",
   "version": "3.7.1"
  }
 },
 "nbformat": 4,
 "nbformat_minor": 2
}
