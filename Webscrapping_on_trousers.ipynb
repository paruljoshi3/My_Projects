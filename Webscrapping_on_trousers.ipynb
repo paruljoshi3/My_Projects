{
 "cells": [
  {
   "cell_type": "code",
   "execution_count": 2,
   "metadata": {},
   "outputs": [],
   "source": [
    "from selenium import webdriver\n",
    "import pandas as pd\n",
    "import os\n",
    "import scrapy"
   ]
  },
  {
   "cell_type": "code",
   "execution_count": 4,
   "metadata": {},
   "outputs": [],
   "source": [
    "driver=webdriver.Chrome(executable_path=r'C:\\Users\\parul\\AppData\\Local\\Temp\\Temp1_chromedriver_win32.zip\\chromedriver.exe')"
   ]
  },
  {
   "cell_type": "code",
   "execution_count": 5,
   "metadata": {},
   "outputs": [],
   "source": [
    "my_page=driver.get(\"https://www.flipkart.com/clothing-and-accessories/bottomwear/trouser/men-trouser/pr?sid=clo%2Cvua%2Cmle%2Clhk&otracker=categorytree&p%5B%5D=facets.occasion%255B%255D%3DCasual&p%5B%5D=facets.occasion%255B%255D%3DParty&p%5B%5D=facets.occasion%255B%255D%3DLounge%2BWear&otracker=nmenu_sub_Men_0_Casual%20Trousers\")"
   ]
  },
  {
   "cell_type": "code",
   "execution_count": 6,
   "metadata": {},
   "outputs": [],
   "source": [
    "dirname=\"Men Trousers\""
   ]
  },
  {
   "cell_type": "code",
   "execution_count": 8,
   "metadata": {},
   "outputs": [],
   "source": [
    "def make_directory(dirname):\n",
    "    current_path=os.getcwd()\n",
    "    path=os.path.join(current_path,dirname)\n",
    "    if not os.path.exists(path):\n",
    "        os.makedirs(path)"
   ]
  },
  {
   "cell_type": "code",
   "execution_count": 9,
   "metadata": {},
   "outputs": [],
   "source": [
    "make_directory(dirname)"
   ]
  },
  {
   "cell_type": "code",
   "execution_count": 10,
   "metadata": {},
   "outputs": [],
   "source": [
    "images=driver.find_elements_by_xpath(\"//img[@class='_3togXc']\")"
   ]
  },
  {
   "cell_type": "code",
   "execution_count": 11,
   "metadata": {},
   "outputs": [
    {
     "data": {
      "text/plain": [
       "<selenium.webdriver.remote.webelement.WebElement (session=\"54982f3c302edf429efc0cfccd50559c\", element=\"3a3811eb-f206-4ea3-98b2-fcc65d0e85d0\")>"
      ]
     },
     "execution_count": 11,
     "metadata": {},
     "output_type": "execute_result"
    }
   ],
   "source": [
    "images[0]"
   ]
  },
  {
   "cell_type": "code",
   "execution_count": 12,
   "metadata": {},
   "outputs": [
    {
     "name": "stdout",
     "output_type": "stream",
     "text": [
      "https://rukminim1.flixcart.com/image/330/396/jt8yxe80/trouser/u/t/r/32-pctfcslpq79459-peter-england-original-imafen9ezerbz89d.jpeg?q=50\n",
      "https://rukminim1.flixcart.com/image/330/396/k8ytaq80/trouser/2/x/k/32-petfmctfe11092-peter-england-original-imafquyjyb3vbm3h.jpeg?q=50\n",
      "https://rukminim1.flixcart.com/image/330/396/k37mg7k0/trouser/z/3/8/28-pcty00366-o4-park-avenue-original-imafme4f6sh5zavn.jpeg?q=50\n",
      "https://rukminim1.flixcart.com/image/330/396/jt4olu80/trouser/e/t/5/36-jogger-green-plus91-original-imafek22njetaexx.jpeg?q=50\n",
      "https://rukminim1.flixcart.com/image/330/396/k3erngw0/trouser/b/3/f/36-pcty00372-n3-park-avenue-original-imafme5d8pb32gjg.jpeg?q=50\n",
      "https://rukminim1.flixcart.com/image/330/396/jvb9tow0/trouser/g/b/9/32-276491761-ruggers-original-imafg8y6jujp8u9g.jpeg?q=50\n",
      "https://rukminim1.flixcart.com/image/330/396/k7m8brk0/trouser/z/f/k/32-fmtro1008-flying-machine-original-imafpt74kgvghjfc.jpeg?q=50\n",
      "https://rukminim1.flixcart.com/image/330/396/k5zn9u80/trouser/e/v/v/34-pctfcsspq27903-peter-england-original-imafzk4wnhjrcrm4.jpeg?q=50\n",
      "https://rukminim1.flixcart.com/image/330/396/k7nnrm80/trouser/m/w/r/32-fmtro1002-flying-machine-original-imafptbtdjeytdkg.jpeg?q=50\n",
      "https://rukminim1.flixcart.com/image/330/396/k3erngw0/trouser/m/p/x/32-pcty00368-o1-park-avenue-original-imafme6gvcs7g3vr.jpeg?q=50\n",
      "https://rukminim1.flixcart.com/image/330/396/k3t21zk0/trouser/e/h/d/36-kctr-5555-bk-fubar-original-imafmuzabfsh5yzp.jpeg?q=50\n",
      "https://rukminim1.flixcart.com/image/330/396/k7w8eq80/trouser/a/p/n/32-fmtro1006-flying-machine-original-imafpws5dfjnvz4v.jpeg?q=50\n",
      "https://rukminim1.flixcart.com/image/330/396/k7usyvk0/trouser/j/2/f/32-fmtro1016-flying-machine-original-imafpyzdfghr42gj.jpeg?q=50\n",
      "https://rukminim1.flixcart.com/image/330/396/k3ahbww0/trouser/k/x/v/32-rctl00428-k8-raymond-original-imafmdfhwshttkyq.jpeg?q=50\n",
      "https://rukminim1.flixcart.com/image/330/396/k7tdj0w0/trouser/6/q/x/32-fmtro1004-flying-machine-original-imafpwz7gsjjycrh.jpeg?q=50\n",
      "https://rukminim1.flixcart.com/image/330/396/k6nxrbk0/trouser/4/y/p/28-kctr-5555-nb-fubar-original-imafp2j6cphgy9xf.jpeg?q=50\n",
      "https://rukminim1.flixcart.com/image/330/396/k7w8eq80/trouser/p/a/r/32-fmtro1009-flying-machine-original-imafpzvg5mvq8vzh.jpeg?q=50\n",
      "https://rukminim1.flixcart.com/image/330/396/jrz8u4w0/trouser/e/g/c/36-bmw-cotton-trs-ben-martin-original-imafdnrptfmmxwqv.jpeg?q=50\n",
      "https://rukminim1.flixcart.com/image/330/396/k4k7f680/trouser/c/y/y/32-xmtd02890-h6-parx-original-imafnepve4emxn9m.jpeg?q=50\n",
      "https://rukminim1.flixcart.com/image/330/396/kcdp5zk0/trouser/h/u/j/34-t376-trouser-double150-aa-ad-av-original-imafthz29gh6xxjr.jpeg?q=50\n",
      "https://rukminim1.flixcart.com/image/330/396/k70spzk0/trouser/m/z/y/30-hltr003897-highlander-original-imafpchqyhedsn4k.jpeg?q=50\n",
      "https://rukminim1.flixcart.com/image/330/396/k20r8nk0/trouser/h/b/v/32-fmtro022-flying-machine-original-imafhcw59epdp7df.jpeg?q=50\n",
      "https://rukminim1.flixcart.com/image/330/396/jvb9tow0/trouser/k/a/y/36-276491779-ruggers-original-imafg8z6d8my7hcy.jpeg?q=50\n",
      "https://rukminim1.flixcart.com/image/330/396/k2xmd8w0/trouser/8/a/3/42-astfwsrft64200-allen-solly-original-imafm5jhxae7j9pz.jpeg?q=50\n",
      "https://rukminim1.flixcart.com/image/330/396/kb9ou4w0/trouser/p/m/e/32-pctfcskp381480-peter-england-original-imafsnpdecg8am4f.jpeg?q=50\n",
      "https://rukminim1.flixcart.com/image/330/396/k3erngw0/trouser/a/j/7/30-pcty00370-o6-park-avenue-original-imafme6fhgnn3bmz.jpeg?q=50\n",
      "https://rukminim1.flixcart.com/image/330/396/k70spzk0/trouser/e/r/p/30-hltr003917-highlander-original-imafpchqzbuvcgay.jpeg?q=50\n",
      "https://rukminim1.flixcart.com/image/330/396/kb6tyfk0/trouser/q/9/f/32-putfussp440837-peter-england-university-original-imafsgqjegem54xz.jpeg?q=50\n",
      "https://rukminim1.flixcart.com/image/330/396/k70spzk0/trouser/h/k/u/30-hltr003959-highlander-original-imafpchqmyqyxf8h.jpeg?q=50\n",
      "https://rukminim1.flixcart.com/image/330/396/k05ljm80/trouser/a/z/v/32-84394-0001-levi-s-original-imafkybefzu2qp3a.jpeg?q=50\n",
      "https://rukminim1.flixcart.com/image/330/396/k70spzk0/trouser/x/z/6/30-hltr003912-highlander-original-imafpchtyjzcyfcy.jpeg?q=50\n",
      "https://rukminim1.flixcart.com/image/330/396/k7nnrm80/trouser/y/r/h/32-fmtro1007-flying-machine-original-imafptdjx9wqgzak.jpeg?q=50\n",
      "https://rukminim1.flixcart.com/image/330/396/k687wy80/trouser/w/x/z/28-pctfcsspi07520-peter-england-original-imafzpzwvhgcyzek.jpeg?q=50\n",
      "https://rukminim1.flixcart.com/image/330/396/jskofww0/trouser/g/f/8/32-74716-0000-levi-s-original-imafe4g2fvsmx6me.jpeg?q=50\n",
      "https://rukminim1.flixcart.com/image/330/396/k3yrte80/trouser/9/j/z/32-pcty00373-o7-park-avenue-original-imafmvx67kauxttk.jpeg?q=50\n",
      "https://rukminim1.flixcart.com/image/330/396/k6nxrbk0/trouser/y/u/f/28-kctr-5555-crm-fubar-original-imafp2j6pdqymytg.jpeg?q=50\n",
      "https://rukminim1.flixcart.com/image/330/396/jxqfonk0/trouser/3/t/q/38-bmw-cotton-trs-ben-martin-original-imafg4vhtcgztehc.jpeg?q=50\n",
      "https://rukminim1.flixcart.com/image/330/396/k687wy80/trouser/v/j/f/32-l38152248147-lee-original-imafzpzmaehaabja.jpeg?q=50\n",
      "https://rukminim1.flixcart.com/image/330/396/k7tdj0w0/trouser/c/p/g/32-fmtro1020-flying-machine-original-imafpx3yneevzg6b.jpeg?q=50\n",
      "https://rukminim1.flixcart.com/image/330/396/k7assy80/trouser/s/r/v/32-astfwsrfy46882-allen-solly-original-imafz37hghuwugnt.jpeg?q=50\n"
     ]
    }
   ],
   "source": [
    "urls=[]\n",
    "for image in images:\n",
    "    source=image.get_attribute('src')\n",
    "    urls.append(source)\n",
    "    print(source)"
   ]
  },
  {
   "cell_type": "code",
   "execution_count": 13,
   "metadata": {},
   "outputs": [],
   "source": [
    "import shutil\n",
    "import requests"
   ]
  },
  {
   "cell_type": "code",
   "execution_count": 15,
   "metadata": {},
   "outputs": [
    {
     "name": "stdout",
     "output_type": "stream",
     "text": [
      "Downloading 1 of 40 images from page 1\n",
      "Downloading 2 of 40 images from page 1\n",
      "Downloading 3 of 40 images from page 1\n",
      "Downloading 4 of 40 images from page 1\n",
      "Downloading 5 of 40 images from page 1\n",
      "Downloading 6 of 40 images from page 1\n",
      "Downloading 7 of 40 images from page 1\n",
      "Downloading 8 of 40 images from page 1\n",
      "Downloading 9 of 40 images from page 1\n",
      "Downloading 10 of 40 images from page 1\n",
      "Downloading 11 of 40 images from page 1\n",
      "Downloading 12 of 40 images from page 1\n",
      "Downloading 13 of 40 images from page 1\n",
      "Downloading 14 of 40 images from page 1\n",
      "Downloading 15 of 40 images from page 1\n",
      "Downloading 16 of 40 images from page 1\n",
      "Downloading 17 of 40 images from page 1\n",
      "Downloading 18 of 40 images from page 1\n",
      "Downloading 19 of 40 images from page 1\n",
      "Downloading 20 of 40 images from page 1\n",
      "Downloading 21 of 40 images from page 1\n",
      "Downloading 22 of 40 images from page 1\n",
      "Downloading 23 of 40 images from page 1\n",
      "Downloading 24 of 40 images from page 1\n",
      "Downloading 25 of 40 images from page 1\n",
      "Downloading 26 of 40 images from page 1\n",
      "Downloading 27 of 40 images from page 1\n",
      "Downloading 28 of 40 images from page 1\n",
      "Downloading 29 of 40 images from page 1\n",
      "Downloading 30 of 40 images from page 1\n",
      "Downloading 31 of 40 images from page 1\n",
      "Downloading 32 of 40 images from page 1\n",
      "Downloading 33 of 40 images from page 1\n",
      "Downloading 34 of 40 images from page 1\n",
      "Downloading 35 of 40 images from page 1\n",
      "Downloading 36 of 40 images from page 1\n",
      "Downloading 37 of 40 images from page 1\n",
      "Downloading 38 of 40 images from page 1\n",
      "Downloading 39 of 40 images from page 1\n",
      "Downloading 40 of 40 images from page 1\n"
     ]
    }
   ],
   "source": [
    "page=1\n",
    "for index ,link in enumerate(urls):\n",
    "    print(\"Downloading {0} of {1} images from page 1\".format(index+1, len(urls)))\n",
    "    response=requests.get(link)\n",
    "    with open ('Men Trousers/img_{0}{1}.jpeg'.format(index,page),\"wb\")as file:\n",
    "        file.write(response.content)"
   ]
  },
  {
   "cell_type": "code",
   "execution_count": 16,
   "metadata": {},
   "outputs": [],
   "source": [
    "next_page=driver.find_element_by_xpath(\"//a[@class='_3fVaIS']\").click()"
   ]
  },
  {
   "cell_type": "code",
   "execution_count": 17,
   "metadata": {},
   "outputs": [],
   "source": [
    "images=driver.find_elements_by_xpath(\"//img[@class='_3togXc']\")"
   ]
  },
  {
   "cell_type": "code",
   "execution_count": 18,
   "metadata": {},
   "outputs": [
    {
     "name": "stdout",
     "output_type": "stream",
     "text": [
      "https://rukminim1.flixcart.com/image/330/396/k7tdj0w0/trouser/c/p/g/32-fmtro1020-flying-machine-original-imafpx3yneevzg6b.jpeg?q=50\n",
      "https://rukminim1.flixcart.com/image/330/396/jzk5xu80/trouser/a/k/9/38-pctpcctpp27516-peter-england-original-imafjgyhm3vmtgdm.jpeg?q=50\n",
      "https://rukminim1.flixcart.com/image/330/396/k2z1t3k0/trouser/r/u/q/34-xmtx02864-n4-parx-original-imafm7gmaeuraahu.jpeg?q=50\n",
      "https://rukminim1.flixcart.com/image/330/396/jt8yxe80/trouser/u/t/r/32-pctfcslpq79459-peter-england-original-imafen9ezerbz89d.jpeg?q=50\n",
      "https://rukminim1.flixcart.com/image/330/396/k5wse4w0/trouser/p/s/g/28-xmtx02865-f2-parx-original-imafzhqhyn2xdexs.jpeg?q=50\n",
      "https://rukminim1.flixcart.com/image/330/396/k73nlow0/trouser/9/v/f/32-84408-0000-levi-s-original-imafpehgmdmwtkeh.jpeg?q=50\n",
      "https://rukminim1.flixcart.com/image/330/396/jxqfonk0/trouser/k/w/z/28-bmw-cotton-trs-ben-martin-original-imafhh8yv8aybb2c.jpeg?q=50\n",
      "https://rukminim1.flixcart.com/image/330/396/k4hcjgw0/trouser/c/h/g/32-pcty00367-fi-park-avenue-original-imafndwuxqmduw3h.jpeg?q=50\n",
      "https://rukminim1.flixcart.com/image/330/396/kb6tyfk0/trouser/h/b/a/32-putfusspt20411-peter-england-university-original-imafshfsu8u2jsx6.jpeg?q=50\n",
      "https://rukminim1.flixcart.com/image/330/396/k8ytaq80/trouser/2/x/k/32-petfmctfe11092-peter-england-original-imafquyjyb3vbm3h.jpeg?q=50\n",
      "https://rukminim1.flixcart.com/image/330/396/k0r15e80/trouser/g/b/y/32-84393-0000-levi-s-original-imafkh75hu2qfcjv.jpeg?q=50\n",
      "https://rukminim1.flixcart.com/image/330/396/k0zlsi80/trouser/r/t/z/32-ustro7002-u-s-polo-association-original-imafkz6jftphrqnx.jpeg?q=50\n",
      "https://rukminim1.flixcart.com/image/330/396/k6s82vk0/trouser/4/z/k/32-putfusspw77086-peter-england-university-original-imafpyk2enuevmzh.jpeg?q=50\n",
      "https://rukminim1.flixcart.com/image/330/396/kcdp5zk0/trouser/h/u/j/34-t376-trouser-double150-aa-ad-av-original-imafthz29gh6xxjr.jpeg?q=50\n",
      "https://rukminim1.flixcart.com/image/330/396/k0zlsi80/trouser/9/s/a/32-aw19ch005b-metronaut-original-imafkz5qathuvxjw.jpeg?q=50\n",
      "https://rukminim1.flixcart.com/image/330/396/k7usyvk0/trouser/p/h/5/32-fmtro1017-flying-machine-original-imafpyve9zs9mfwf.jpeg?q=50\n",
      "https://rukminim1.flixcart.com/image/330/396/k12go7k0/trouser/7/j/n/32-aw19ch005c-metronaut-original-imafkq3qhhdsbykg.jpeg?q=50\n",
      "https://rukminim1.flixcart.com/image/330/396/jtoorrk0/trouser/s/h/q/32-74713-0000-levi-s-original-imafez9ad47rvgge.jpeg?q=50\n",
      "https://rukminim1.flixcart.com/image/330/396/jwkzwy80/trouser/x/u/z/30-273732792-roots-by-ruggers-original-imaffndcecq5h4na.jpeg?q=50\n",
      "https://rukminim1.flixcart.com/image/330/396/k2xmd8w0/trouser/8/a/3/42-astfwsrft64200-allen-solly-original-imafm5jhxae7j9pz.jpeg?q=50\n",
      "https://rukminim1.flixcart.com/image/330/396/k73nlow0/trouser/k/t/x/32-84408-0002-levi-s-original-imafpehggkzjh6kg.jpeg?q=50\n",
      "https://rukminim1.flixcart.com/image/330/396/k4k7f680/trouser/x/k/z/32-xmtd02891-o8-parx-original-imafnepvtwhhdakv.jpeg?q=50\n",
      "https://rukminim1.flixcart.com/image/330/396/kavefm80/trouser/p/3/x/32-mss20ctr015e-metronaut-original-imafscr6vwzhstdh.jpeg?q=50\n",
      "https://rukminim1.flixcart.com/image/330/396/k05ljm80/trouser/a/z/v/32-84394-0001-levi-s-original-imafkybefzu2qp3a.jpeg?q=50\n",
      "https://rukminim1.flixcart.com/image/330/396/k70spzk0/trouser/m/k/c/30-hltr003862-highlander-original-imafpcht4d48ngmc.jpeg?q=50\n",
      "https://rukminim1.flixcart.com/image/330/396/k70spzk0/trouser/n/w/w/30-hltr003937-highlander-original-imafpchuwcsxhg8f.jpeg?q=50\n",
      "https://rukminim1.flixcart.com/image/330/396/k5y7tzk0/trouser/e/h/n/32-asyotr2553-arrow-sports-original-imafzhyjj75vgnr3.jpeg?q=50\n",
      "https://rukminim1.flixcart.com/image/330/396/k4k7f680/trouser/m/x/s/32-xmtd02890-g8-parx-original-imafnepvhvuxhqry.jpeg?q=50\n",
      "https://rukminim1.flixcart.com/image/330/396/k7usyvk0/trouser/z/g/y/32-putfusspz62660-peter-england-university-original-imafpyyzbyr38ycj.jpeg?q=50\n",
      "https://rukminim1.flixcart.com/image/330/396/jskofww0/trouser/g/f/8/32-74716-0000-levi-s-original-imafe4g2fvsmx6me.jpeg?q=50\n",
      "https://rukminim1.flixcart.com/image/330/396/jrz8u4w0/trouser/c/r/y/38-bmw-cotton-trs-ben-martin-original-imafdnrpbaxpp6ya.jpeg?q=50\n",
      "https://rukminim1.flixcart.com/image/330/396/kb2jmvk0/trouser/d/f/h/32-putfussp265878-peter-england-university-original-imafsfpv3nwhn5ya.jpeg?q=50\n",
      "https://rukminim1.flixcart.com/image/330/396/k7m8brk0/trouser/w/c/9/32-fmtro1018-flying-machine-original-imafpt7qxxzubs66.jpeg?q=50\n",
      "https://rukminim1.flixcart.com/image/330/396/k73nlow0/trouser/u/y/u/32-84399-0000-levi-s-original-imafpehgkyemhuf6.jpeg?q=50\n",
      "https://rukminim1.flixcart.com/image/330/396/kb6tyfk0/trouser/h/j/n/32-putfusspo48518-peter-england-university-original-imafsk52vg98nnph.jpeg?q=50\n",
      "https://rukminim1.flixcart.com/image/330/396/k70spzk0/trouser/a/2/g/30-hltr003909-highlander-original-imafpchtbrkknm56.jpeg?q=50\n",
      "https://rukminim1.flixcart.com/image/330/396/k3ahbww0/trouser/k/x/v/32-rctl00428-k8-raymond-original-imafmdfhwshttkyq.jpeg?q=50\n",
      "https://rukminim1.flixcart.com/image/330/396/k687wy80/trouser/y/g/n/32-l38149248147-lee-original-imafzpzm5rfxvzan.jpeg?q=50\n",
      "https://rukminim1.flixcart.com/image/330/396/k2z1t3k0/trouser/f/t/s/34-rmts03535-f2-raymond-original-imafm7gmfdduxcs5.jpeg?q=50\n",
      "https://rukminim1.flixcart.com/image/330/396/k7assy80/trouser/s/r/v/32-astfwsrfy46882-allen-solly-original-imafz37hghuwugnt.jpeg?q=50\n"
     ]
    }
   ],
   "source": [
    "urls=[]\n",
    "for image in images:\n",
    "    source=image.get_attribute('src')\n",
    "    urls.append(source)\n",
    "    print(source)"
   ]
  },
  {
   "cell_type": "code",
   "execution_count": 19,
   "metadata": {},
   "outputs": [
    {
     "name": "stdout",
     "output_type": "stream",
     "text": [
      "Downloading 1 of 40 images from page 2\n",
      "Downloading 2 of 40 images from page 2\n",
      "Downloading 3 of 40 images from page 2\n",
      "Downloading 4 of 40 images from page 2\n",
      "Downloading 5 of 40 images from page 2\n",
      "Downloading 6 of 40 images from page 2\n",
      "Downloading 7 of 40 images from page 2\n",
      "Downloading 8 of 40 images from page 2\n",
      "Downloading 9 of 40 images from page 2\n",
      "Downloading 10 of 40 images from page 2\n",
      "Downloading 11 of 40 images from page 2\n",
      "Downloading 12 of 40 images from page 2\n",
      "Downloading 13 of 40 images from page 2\n",
      "Downloading 14 of 40 images from page 2\n",
      "Downloading 15 of 40 images from page 2\n",
      "Downloading 16 of 40 images from page 2\n",
      "Downloading 17 of 40 images from page 2\n",
      "Downloading 18 of 40 images from page 2\n",
      "Downloading 19 of 40 images from page 2\n",
      "Downloading 20 of 40 images from page 2\n",
      "Downloading 21 of 40 images from page 2\n",
      "Downloading 22 of 40 images from page 2\n",
      "Downloading 23 of 40 images from page 2\n",
      "Downloading 24 of 40 images from page 2\n",
      "Downloading 25 of 40 images from page 2\n",
      "Downloading 26 of 40 images from page 2\n",
      "Downloading 27 of 40 images from page 2\n",
      "Downloading 28 of 40 images from page 2\n",
      "Downloading 29 of 40 images from page 2\n",
      "Downloading 30 of 40 images from page 2\n",
      "Downloading 31 of 40 images from page 2\n",
      "Downloading 32 of 40 images from page 2\n",
      "Downloading 33 of 40 images from page 2\n",
      "Downloading 34 of 40 images from page 2\n",
      "Downloading 35 of 40 images from page 2\n",
      "Downloading 36 of 40 images from page 2\n",
      "Downloading 37 of 40 images from page 2\n",
      "Downloading 38 of 40 images from page 2\n",
      "Downloading 39 of 40 images from page 2\n",
      "Downloading 40 of 40 images from page 2\n"
     ]
    }
   ],
   "source": [
    "page=2\n",
    "for index ,link in enumerate(urls):\n",
    "    print(\"Downloading {0} of {1} images from page 2\".format(index+1, len(urls)))\n",
    "    response=requests.get(link)\n",
    "    with open ('Men Trousers/img_{0}{1}.jpeg'.format(index,page),\"wb\")as file:\n",
    "        file.write(response.content)"
   ]
  },
  {
   "cell_type": "code",
   "execution_count": 24,
   "metadata": {},
   "outputs": [],
   "source": [
    "third_page=driver.find_element_by_xpath(\"//a[@class='_2Xp0TH fyt9Eu']\").click()"
   ]
  },
  {
   "cell_type": "code",
   "execution_count": 25,
   "metadata": {},
   "outputs": [],
   "source": [
    "images=driver.find_elements_by_xpath(\"//img[@class='_3togXc']\")"
   ]
  },
  {
   "cell_type": "code",
   "execution_count": 26,
   "metadata": {},
   "outputs": [
    {
     "name": "stdout",
     "output_type": "stream",
     "text": [
      "https://rukminim1.flixcart.com/image/330/396/k0r15e80/trouser/g/b/y/32-84393-0000-levi-s-original-imafkh75hu2qfcjv.jpeg?q=50\n",
      "https://rukminim1.flixcart.com/image/330/396/k6s82vk0/trouser/4/z/k/32-putfusspw77086-peter-england-university-original-imafpyk2enuevmzh.jpeg?q=50\n",
      "https://rukminim1.flixcart.com/image/330/396/k0zlsi80/trouser/r/t/z/32-ustro7002-u-s-polo-association-original-imafkz6jftphrqnx.jpeg?q=50\n",
      "https://rukminim1.flixcart.com/image/330/396/k8ytaq80/trouser/2/x/k/32-petfmctfe11092-peter-england-original-imafquyjyb3vbm3h.jpeg?q=50\n",
      "https://rukminim1.flixcart.com/image/330/396/k0zlsi80/trouser/9/s/a/32-aw19ch005b-metronaut-original-imafkz5qathuvxjw.jpeg?q=50\n",
      "https://rukminim1.flixcart.com/image/330/396/k7usyvk0/trouser/p/h/5/32-fmtro1017-flying-machine-original-imafpyve9zs9mfwf.jpeg?q=50\n",
      "https://rukminim1.flixcart.com/image/330/396/k12go7k0/trouser/7/j/n/32-aw19ch005c-metronaut-original-imafkq3qhhdsbykg.jpeg?q=50\n",
      "https://rukminim1.flixcart.com/image/330/396/jtoorrk0/trouser/s/h/q/32-74713-0000-levi-s-original-imafez9ad47rvgge.jpeg?q=50\n",
      "https://rukminim1.flixcart.com/image/330/396/jwkzwy80/trouser/x/u/z/30-273732792-roots-by-ruggers-original-imaffndcecq5h4na.jpeg?q=50\n",
      "https://rukminim1.flixcart.com/image/330/396/jt8yxe80/trouser/u/t/r/32-pctfcslpq79459-peter-england-original-imafen9ezerbz89d.jpeg?q=50\n",
      "https://rukminim1.flixcart.com/image/330/396/k73nlow0/trouser/k/t/x/32-84408-0002-levi-s-original-imafpehggkzjh6kg.jpeg?q=50\n",
      "https://rukminim1.flixcart.com/image/330/396/k4k7f680/trouser/x/k/z/32-xmtd02891-o8-parx-original-imafnepvtwhhdakv.jpeg?q=50\n",
      "https://rukminim1.flixcart.com/image/330/396/kavefm80/trouser/p/3/x/32-mss20ctr015e-metronaut-original-imafscr6vwzhstdh.jpeg?q=50\n",
      "https://rukminim1.flixcart.com/image/330/396/k2xmd8w0/trouser/8/a/3/42-astfwsrft64200-allen-solly-original-imafm5jhxae7j9pz.jpeg?q=50\n",
      "https://rukminim1.flixcart.com/image/330/396/k70spzk0/trouser/m/k/c/30-hltr003862-highlander-original-imafpcht4d48ngmc.jpeg?q=50\n",
      "https://rukminim1.flixcart.com/image/330/396/k70spzk0/trouser/n/w/w/30-hltr003937-highlander-original-imafpchuwcsxhg8f.jpeg?q=50\n",
      "https://rukminim1.flixcart.com/image/330/396/k5y7tzk0/trouser/e/h/n/32-asyotr2553-arrow-sports-original-imafzhyjj75vgnr3.jpeg?q=50\n",
      "https://rukminim1.flixcart.com/image/330/396/k4k7f680/trouser/m/x/s/32-xmtd02890-g8-parx-original-imafnepvhvuxhqry.jpeg?q=50\n",
      "https://rukminim1.flixcart.com/image/330/396/k7usyvk0/trouser/z/g/y/32-putfusspz62660-peter-england-university-original-imafpyyzbyr38ycj.jpeg?q=50\n",
      "https://rukminim1.flixcart.com/image/330/396/k7assy80/trouser/s/r/v/32-astfwsrfy46882-allen-solly-original-imafz37hghuwugnt.jpeg?q=50\n",
      "https://rukminim1.flixcart.com/image/330/396/jrz8u4w0/trouser/c/r/y/38-bmw-cotton-trs-ben-martin-original-imafdnrpbaxpp6ya.jpeg?q=50\n",
      "https://rukminim1.flixcart.com/image/330/396/kb2jmvk0/trouser/d/f/h/32-putfussp265878-peter-england-university-original-imafsfpv3nwhn5ya.jpeg?q=50\n",
      "https://rukminim1.flixcart.com/image/330/396/k7m8brk0/trouser/w/c/9/32-fmtro1018-flying-machine-original-imafpt7qxxzubs66.jpeg?q=50\n",
      "https://rukminim1.flixcart.com/image/330/396/k6zda4w0/trouser/q/4/r/32-pctfcsspd83051-peter-england-original-imafpbjhnyfkwtyb.jpeg?q=50\n",
      "https://rukminim1.flixcart.com/image/330/396/kb6tyfk0/trouser/h/j/n/32-putfusspo48518-peter-england-university-original-imafsk52vg98nnph.jpeg?q=50\n",
      "https://rukminim1.flixcart.com/image/330/396/k70spzk0/trouser/a/2/g/30-hltr003909-highlander-original-imafpchtbrkknm56.jpeg?q=50\n",
      "https://rukminim1.flixcart.com/image/330/396/k3ahbww0/trouser/k/x/v/32-rctl00428-k8-raymond-original-imafmdfhwshttkyq.jpeg?q=50\n",
      "https://rukminim1.flixcart.com/image/330/396/k687wy80/trouser/y/g/n/32-l38149248147-lee-original-imafzpzm5rfxvzan.jpeg?q=50\n",
      "https://rukminim1.flixcart.com/image/330/396/k2z1t3k0/trouser/f/t/s/34-rmts03535-f2-raymond-original-imafm7gmfdduxcs5.jpeg?q=50\n",
      "https://rukminim1.flixcart.com/image/330/396/k41mp3k0/trouser/r/z/9/32-rctl00425-b8-raymond-original-imafnfenzkazwzzf.jpeg?q=50\n",
      "https://rukminim1.flixcart.com/image/330/396/k0zlsi80/trouser/c/g/t/32-aw19ch005d-metronaut-original-imafkz5rzyn8k5km.jpeg?q=50\n",
      "https://rukminim1.flixcart.com/image/330/396/k70spzk0/trouser/9/2/q/30-hltr003863-highlander-original-imafpchtbd7yzysx.jpeg?q=50\n",
      "https://rukminim1.flixcart.com/image/330/396/k70spzk0/trouser/g/z/d/30-hltr003911-highlander-original-imafpchthbbndkac.jpeg?q=50\n",
      "https://rukminim1.flixcart.com/image/330/396/k4irzbk0/trouser/g/k/b/36-pctfcssps62342-peter-england-original-imafnetvkxuhqfmn.jpeg?q=50\n",
      "https://rukminim1.flixcart.com/image/330/396/k7tdj0w0/trouser/e/w/t/32-asyotr2593-arrow-sports-original-imafpwp6gsggm6pn.jpeg?q=50\n",
      "https://rukminim1.flixcart.com/image/330/396/k3dc7m80/trouser/5/g/r/32-k-3633-cpsslmft-mtgrn-killer-original-imafmf4mxgrm4vha.jpeg?q=50\n",
      "https://rukminim1.flixcart.com/image/330/396/k70spzk0/trouser/k/y/v/30-hltr004103-highlander-original-imafpchrzcdghb7n.jpeg?q=50\n",
      "https://rukminim1.flixcart.com/image/330/396/jljri4w0/trouser/k/q/t/36-chino-grey-urbano-fashion-original-imaf3u5sem6sphg9.jpeg?q=50\n",
      "https://rukminim1.flixcart.com/image/330/396/jt4olu80/trouser/z/v/g/30-jogger-black-plus91-original-imafek26fevusyda.jpeg?q=50\n",
      "https://rukminim1.flixcart.com/image/330/396/k687wy80/trouser/r/r/u/32-putfussp170662-peter-england-university-original-imafzq28cacfpchm.jpeg?q=50\n"
     ]
    }
   ],
   "source": [
    "urls=[]\n",
    "for image in images:\n",
    "    source=image.get_attribute('src')\n",
    "    urls.append(source)\n",
    "    print(source)"
   ]
  },
  {
   "cell_type": "code",
   "execution_count": 27,
   "metadata": {},
   "outputs": [
    {
     "name": "stdout",
     "output_type": "stream",
     "text": [
      "Downloading 1 of 40 images from page 3\n",
      "Downloading 2 of 40 images from page 3\n",
      "Downloading 3 of 40 images from page 3\n",
      "Downloading 4 of 40 images from page 3\n",
      "Downloading 5 of 40 images from page 3\n",
      "Downloading 6 of 40 images from page 3\n",
      "Downloading 7 of 40 images from page 3\n",
      "Downloading 8 of 40 images from page 3\n",
      "Downloading 9 of 40 images from page 3\n",
      "Downloading 10 of 40 images from page 3\n",
      "Downloading 11 of 40 images from page 3\n",
      "Downloading 12 of 40 images from page 3\n",
      "Downloading 13 of 40 images from page 3\n",
      "Downloading 14 of 40 images from page 3\n",
      "Downloading 15 of 40 images from page 3\n",
      "Downloading 16 of 40 images from page 3\n",
      "Downloading 17 of 40 images from page 3\n",
      "Downloading 18 of 40 images from page 3\n",
      "Downloading 19 of 40 images from page 3\n",
      "Downloading 20 of 40 images from page 3\n",
      "Downloading 21 of 40 images from page 3\n",
      "Downloading 22 of 40 images from page 3\n",
      "Downloading 23 of 40 images from page 3\n",
      "Downloading 24 of 40 images from page 3\n",
      "Downloading 25 of 40 images from page 3\n",
      "Downloading 26 of 40 images from page 3\n",
      "Downloading 27 of 40 images from page 3\n",
      "Downloading 28 of 40 images from page 3\n",
      "Downloading 29 of 40 images from page 3\n",
      "Downloading 30 of 40 images from page 3\n",
      "Downloading 31 of 40 images from page 3\n",
      "Downloading 32 of 40 images from page 3\n",
      "Downloading 33 of 40 images from page 3\n",
      "Downloading 34 of 40 images from page 3\n",
      "Downloading 35 of 40 images from page 3\n",
      "Downloading 36 of 40 images from page 3\n",
      "Downloading 37 of 40 images from page 3\n",
      "Downloading 38 of 40 images from page 3\n",
      "Downloading 39 of 40 images from page 3\n",
      "Downloading 40 of 40 images from page 3\n"
     ]
    }
   ],
   "source": [
    "page=3\n",
    "for index ,link in enumerate(urls):\n",
    "    print(\"Downloading {0} of {1} images from page 3\".format(index+1, len(urls)))\n",
    "    response=requests.get(link)\n",
    "    with open ('Men Trousers/img_{0}{1}.jpeg'.format(index,page),\"wb\")as file:\n",
    "        file.write(response.content)"
   ]
  },
  {
   "cell_type": "code",
   "execution_count": null,
   "metadata": {},
   "outputs": [],
   "source": []
  },
  {
   "cell_type": "code",
   "execution_count": null,
   "metadata": {},
   "outputs": [],
   "source": []
  },
  {
   "cell_type": "code",
   "execution_count": null,
   "metadata": {},
   "outputs": [],
   "source": []
  },
  {
   "cell_type": "code",
   "execution_count": null,
   "metadata": {},
   "outputs": [],
   "source": []
  },
  {
   "cell_type": "code",
   "execution_count": null,
   "metadata": {},
   "outputs": [],
   "source": []
  },
  {
   "cell_type": "code",
   "execution_count": null,
   "metadata": {},
   "outputs": [],
   "source": []
  },
  {
   "cell_type": "code",
   "execution_count": null,
   "metadata": {},
   "outputs": [],
   "source": []
  }
 ],
 "metadata": {
  "kernelspec": {
   "display_name": "Python 3 (ipykernel)",
   "language": "python",
   "name": "python3"
  },
  "language_info": {
   "codemirror_mode": {
    "name": "ipython",
    "version": 3
   },
   "file_extension": ".py",
   "mimetype": "text/x-python",
   "name": "python",
   "nbconvert_exporter": "python",
   "pygments_lexer": "ipython3",
   "version": "3.9.12"
  }
 },
 "nbformat": 4,
 "nbformat_minor": 4
}
