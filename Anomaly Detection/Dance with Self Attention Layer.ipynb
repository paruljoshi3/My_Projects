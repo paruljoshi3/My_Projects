{
 "cells": [
  {
   "cell_type": "code",
   "execution_count": 1,
   "id": "b32efa13",
   "metadata": {},
   "outputs": [],
   "source": [
    "import torch\n",
    "from torch.utils.data import TensorDataset\n",
    "import numpy as np"
   ]
  },
  {
   "cell_type": "code",
   "execution_count": 2,
   "id": "b087f2c9",
   "metadata": {},
   "outputs": [],
   "source": [
    "# Assuming you have your data and labels as tensors\n",
    "features = torch.load('C:/Users/parul/KIST_Research_Paper/features.pt')"
   ]
  },
  {
   "cell_type": "code",
   "execution_count": 3,
   "id": "3c3ef937",
   "metadata": {},
   "outputs": [
    {
     "data": {
      "text/plain": [
       "tensor([[-4.8009, -1.2275, -3.4029,  ..., -1.9273, -1.0958,  1.6958],\n",
       "        [-4.8076, -1.2441, -3.3980,  ..., -1.9423, -1.0766,  1.7222],\n",
       "        [-4.8022, -1.2364, -3.3939,  ..., -1.9411, -1.0752,  1.7155],\n",
       "        ...,\n",
       "        [-1.8786,  1.6181,  0.0378,  ..., -1.1894,  0.6525, -1.3284],\n",
       "        [-1.8312,  1.4049,  0.1747,  ..., -0.9394,  0.4374, -1.4905],\n",
       "        [-1.8601,  1.3853,  0.1716,  ..., -0.9265,  0.4233, -1.4928]])"
      ]
     },
     "execution_count": 3,
     "metadata": {},
     "output_type": "execute_result"
    }
   ],
   "source": [
    "features"
   ]
  },
  {
   "cell_type": "code",
   "execution_count": 4,
   "id": "6b8b9efe",
   "metadata": {},
   "outputs": [
    {
     "name": "stdout",
     "output_type": "stream",
     "text": [
      "Shape: torch.Size([94003, 1000])\n",
      "Size: torch.Size([94003, 1000])\n",
      "Length: 94003\n"
     ]
    }
   ],
   "source": [
    "# Access the shape, size, and length of the features tensor\n",
    "shape = features.shape\n",
    "size = features.size() # Get the dimensionality of the feature vectors\n",
    "length = len(features)\n",
    "\n",
    "print(\"Shape:\", shape)\n",
    "print(\"Size:\", size)\n",
    "print(\"Length:\", length)"
   ]
  },
  {
   "cell_type": "code",
   "execution_count": 5,
   "id": "39b5fdc8",
   "metadata": {},
   "outputs": [
    {
     "data": {
      "text/plain": [
       "1000"
      ]
     },
     "execution_count": 5,
     "metadata": {},
     "output_type": "execute_result"
    }
   ],
   "source": [
    "len(features[0])"
   ]
  },
  {
   "cell_type": "code",
   "execution_count": 6,
   "id": "588c5578",
   "metadata": {},
   "outputs": [
    {
     "name": "stdout",
     "output_type": "stream",
     "text": [
      "Array Shape: (94003,)\n",
      "Array Contents: [1. 1. 1. ... 0. 0. 0.]\n"
     ]
    }
   ],
   "source": [
    "import numpy as np\n",
    "\n",
    "labels_path = \"C:/Users/parul/KIST_Research_Paper/labels.npy\"\n",
    "\n",
    "# Load the labels array from the .npy file\n",
    "labels = np.load(labels_path)\n",
    "\n",
    "# Print the shape and contents of the loaded array\n",
    "print(\"Array Shape:\", labels.shape)\n",
    "print(\"Array Contents:\", labels)"
   ]
  },
  {
   "cell_type": "code",
   "execution_count": 7,
   "id": "fd5017d2",
   "metadata": {},
   "outputs": [
    {
     "name": "stdout",
     "output_type": "stream",
     "text": [
      "<class 'torch.Tensor'>\n"
     ]
    }
   ],
   "source": [
    "# Load labels from npy file\n",
    "labels_np = np.load('C:/Users/parul/KIST_Research_Paper/labels.npy')\n",
    "\n",
    "# Convert labels to tensors\n",
    "labels = torch.from_numpy(labels_np)\n",
    "\n",
    "# Verify the type of the resulting tensor\n",
    "print(type(labels))"
   ]
  },
  {
   "cell_type": "code",
   "execution_count": 8,
   "id": "7065c4d0",
   "metadata": {},
   "outputs": [
    {
     "name": "stdout",
     "output_type": "stream",
     "text": [
      "Class Distribution:\n",
      "Class 1.0: 71755 samples\n",
      "Class 0.0: 22248 samples\n"
     ]
    }
   ],
   "source": [
    "import torch\n",
    "from collections import Counter\n",
    "\n",
    "# Convert labels to NumPy array as they are tensors\n",
    "if isinstance(labels, torch.Tensor):\n",
    "    labels = labels.numpy()\n",
    "\n",
    "# Count the occurrences of each class label\n",
    "class_counts = Counter(labels)\n",
    "\n",
    "# Print class distribution\n",
    "print(\"Class Distribution:\")\n",
    "for class_label, count in class_counts.items():\n",
    "    print(f\"Class {class_label}: {count} samples\")"
   ]
  },
  {
   "cell_type": "code",
   "execution_count": 9,
   "id": "5af3d2dc",
   "metadata": {},
   "outputs": [
    {
     "name": "stdout",
     "output_type": "stream",
     "text": [
      "Class Distribution Before Oversampling:\n",
      "Class 1.0: 71755 samples\n",
      "Class 0.0: 22248 samples\n",
      "\n",
      "Class Distribution After Oversampling:\n",
      "Class 1.0: 71755 samples\n",
      "Class 0.0: 71755 samples\n"
     ]
    }
   ],
   "source": [
    "import torch\n",
    "import numpy as np\n",
    "from collections import Counter\n",
    "from imblearn.over_sampling import RandomOverSampler\n",
    "\n",
    "# Convert labels to NumPy array\n",
    "if isinstance(labels, torch.Tensor):\n",
    "    labels = labels.numpy()\n",
    "\n",
    "# Count the occurrences of each class label\n",
    "class_counts = Counter(labels)\n",
    "\n",
    "# Print class distribution before oversampling\n",
    "print(\"Class Distribution Before Oversampling:\")\n",
    "for class_label, count in class_counts.items():\n",
    "    print(f\"Class {class_label}: {count} samples\")\n",
    "\n",
    "# Create RandomOverSampler instance\n",
    "oversampler = RandomOverSampler(random_state=42)\n",
    "\n",
    "# Reshape the dataset for the oversampler\n",
    "num_samples, num_features = features.shape\n",
    "features_reshaped = features.reshape(num_samples, -1)\n",
    "\n",
    "# Perform oversampling\n",
    "oversampled_features, oversampled_labels = oversampler.fit_resample(features_reshaped, labels)\n",
    "\n",
    "# Reshape back to the original shape\n",
    "oversampled_features = oversampled_features.reshape(-1, num_features)\n",
    "\n",
    "# Convert back to PyTorch tensors\n",
    "features = torch.tensor(oversampled_features)\n",
    "labels = torch.tensor(oversampled_labels)\n",
    "# \n",
    "# Count the occurrences of each class label after oversampling\n",
    "oversampled_class_counts = Counter(labels.numpy())\n",
    "\n",
    "# Print class distribution after oversampling\n",
    "print(\"\\nClass Distribution After Oversampling:\")\n",
    "for class_label, count in oversampled_class_counts.items():\n",
    "    print(f\"Class {class_label}: {count} samples\")\n"
   ]
  },
  {
   "cell_type": "code",
   "execution_count": 10,
   "id": "f50b89d3",
   "metadata": {},
   "outputs": [],
   "source": [
    "from sklearn.model_selection import train_test_split\n",
    "from torch.utils.data import DataLoader"
   ]
  },
  {
   "cell_type": "code",
   "execution_count": 11,
   "id": "6b7ab14f",
   "metadata": {},
   "outputs": [],
   "source": [
    "x_train, x_val, y_train, y_val = train_test_split(features, labels, test_size=0.3, random_state=42, shuffle = True)\n",
    "x_val, x_test, y_val, y_test = train_test_split(x_val, y_val, test_size=0.4, random_state=42, shuffle = True)"
   ]
  },
  {
   "cell_type": "code",
   "execution_count": 12,
   "id": "3f190e24",
   "metadata": {},
   "outputs": [
    {
     "data": {
      "text/plain": [
       "tensor([[-2.2960, -1.4940, -1.8903,  ..., -2.6258, -0.0291, -0.6367],\n",
       "        [-4.3677, -1.4747,  0.3917,  ..., -3.2578, -0.0509, -0.0852],\n",
       "        [-1.9103, -0.2454, -2.6092,  ..., -2.1218,  0.1021,  2.2596],\n",
       "        ...,\n",
       "        [-2.2974, -1.3273, -2.2430,  ..., -1.9776, -0.2803, -0.9984],\n",
       "        [-0.9375, -0.2770, -3.0252,  ..., -2.5874,  0.5063,  0.8909],\n",
       "        [-1.7555, -0.7285, -2.4615,  ..., -2.2939, -0.2912, -1.2019]])"
      ]
     },
     "execution_count": 12,
     "metadata": {},
     "output_type": "execute_result"
    }
   ],
   "source": [
    "x_train"
   ]
  },
  {
   "cell_type": "code",
   "execution_count": 13,
   "id": "b2022f5d",
   "metadata": {},
   "outputs": [
    {
     "data": {
      "text/plain": [
       "tensor([0., 0., 0.,  ..., 0., 0., 0.], dtype=torch.float64)"
      ]
     },
     "execution_count": 13,
     "metadata": {},
     "output_type": "execute_result"
    }
   ],
   "source": [
    "y_train"
   ]
  },
  {
   "cell_type": "code",
   "execution_count": 14,
   "id": "036797a7",
   "metadata": {},
   "outputs": [
    {
     "data": {
      "text/plain": [
       "array([0., 1.])"
      ]
     },
     "execution_count": 14,
     "metadata": {},
     "output_type": "execute_result"
    }
   ],
   "source": [
    "val = np.unique(y_train)\n",
    "val"
   ]
  },
  {
   "cell_type": "code",
   "execution_count": 15,
   "id": "6b84cb44",
   "metadata": {},
   "outputs": [
    {
     "data": {
      "text/plain": [
       "torch.Tensor"
      ]
     },
     "execution_count": 15,
     "metadata": {},
     "output_type": "execute_result"
    }
   ],
   "source": [
    "type(x_train)"
   ]
  },
  {
   "cell_type": "code",
   "execution_count": 16,
   "id": "855c1585",
   "metadata": {},
   "outputs": [
    {
     "data": {
      "text/plain": [
       "torch.Tensor"
      ]
     },
     "execution_count": 16,
     "metadata": {},
     "output_type": "execute_result"
    }
   ],
   "source": [
    "type(y_train)"
   ]
  },
  {
   "cell_type": "code",
   "execution_count": 17,
   "id": "d9367430",
   "metadata": {},
   "outputs": [
    {
     "name": "stdout",
     "output_type": "stream",
     "text": [
      "X_train shape is: \n",
      " torch.Size([100457, 1000])\n",
      "Y_train shape is: \n",
      " torch.Size([100457])\n",
      "\n",
      "X_val shape is: \n",
      " torch.Size([25831, 1000])\n",
      "Y_val shape is:\n",
      " torch.Size([25831])\n",
      "\n",
      "X_test shape is: \n",
      " torch.Size([17222, 1000])\n",
      "Y_test shape is: \n",
      " torch.Size([17222])\n"
     ]
    }
   ],
   "source": [
    "print(\"X_train shape is: \\n\", x_train.shape)\n",
    "print(\"Y_train shape is: \\n\", y_train.shape)\n",
    "print(\"\\nX_val shape is: \\n\", x_val.shape)\n",
    "print(\"Y_val shape is:\\n\", y_val.shape)\n",
    "print(\"\\nX_test shape is: \\n\", x_test.shape)\n",
    "print(\"Y_test shape is: \\n\", y_test.shape)"
   ]
  },
  {
   "cell_type": "code",
   "execution_count": 18,
   "id": "edf9276f",
   "metadata": {},
   "outputs": [
    {
     "data": {
      "text/plain": [
       "100457"
      ]
     },
     "execution_count": 18,
     "metadata": {},
     "output_type": "execute_result"
    }
   ],
   "source": [
    "len(x_train)"
   ]
  },
  {
   "cell_type": "code",
   "execution_count": 19,
   "id": "afade6b5",
   "metadata": {},
   "outputs": [
    {
     "name": "stdout",
     "output_type": "stream",
     "text": [
      "X_train shape is: \n",
      " torch.Size([100457, 4, 25, 10])\n",
      "Y_train shape is: \n",
      " torch.Size([100457, 1])\n",
      "\n",
      "X_val shape is: \n",
      " torch.Size([25831, 4, 25, 10])\n",
      "Y_val shape is:\n",
      " torch.Size([25831, 1])\n",
      "\n",
      "X_test shape is: \n",
      " torch.Size([17222, 4, 25, 10])\n",
      "Y_test shape is: \n",
      " torch.Size([17222, 1])\n"
     ]
    }
   ],
   "source": [
    "x_train = x_train.view(100457, 4, 25, 10)\n",
    "y_train = y_train.view(100457,1)\n",
    "x_val = x_val.view(25831, 4, 25, 10)\n",
    "y_val = y_val.view(25831,1)\n",
    "x_test = x_test.view(17222, 4, 25, 10)\n",
    "y_test = y_test.view(17222,1)\n",
    "\n",
    "\n",
    "# Print the shapes of the train and test sets\n",
    "print(\"X_train shape is: \\n\", x_train.shape)\n",
    "print(\"Y_train shape is: \\n\", y_train.shape)\n",
    "print(\"\\nX_val shape is: \\n\", x_val.shape)\n",
    "print(\"Y_val shape is:\\n\", y_val.shape)\n",
    "print(\"\\nX_test shape is: \\n\", x_test.shape)\n",
    "print(\"Y_test shape is: \\n\", y_test.shape)"
   ]
  },
  {
   "cell_type": "code",
   "execution_count": 20,
   "id": "e5fadeb9",
   "metadata": {},
   "outputs": [],
   "source": [
    "import torch\n",
    "import torch.nn as nn\n",
    "from torch.utils.data import Dataset, DataLoader\n",
    "from sklearn.model_selection import train_test_split\n",
    "import torch.nn.functional as F\n",
    "\n",
    "class CustomDataset(Dataset):\n",
    "    def __init__(self, features, labels):\n",
    "        self.features = features\n",
    "        self.labels = labels\n",
    "    \n",
    "    def __len__(self):\n",
    "        return len(self.features)\n",
    "    \n",
    "    def __getitem__(self, index):\n",
    "        x = self.features[index]\n",
    "        y = self.labels[index]\n",
    "        return x, y\n",
    "        #return self.features[index], self.labels[index]\n",
    "    \n",
    "class RelationAwareFeatureExtractor(nn.Module):\n",
    "    def __init__(self):\n",
    "        super(RelationAwareFeatureExtractor, self).__init__()\n",
    "\n",
    "        # ConvNet layers\n",
    "        self.conv1 = nn.Conv2d(4, 8, kernel_size=3, stride=3, padding=1)\n",
    "        self.pool1 = nn.MaxPool2d(2, 2)\n",
    "        self.conv2 = nn.Conv2d(8, 16, kernel_size=3, stride=3, padding=1)\n",
    "        self.conv3 = nn.Conv2d(16, 32, kernel_size=3, stride=3, padding=1)\n",
    "        self.conv4 = nn.Conv2d(32, 64, kernel_size=3, stride=3, padding=1)\n",
    "        self.dropout1 = nn.Dropout(0.25)\n",
    "        self.fc1 = nn.Linear(64*1*1, 1024)\n",
    "        self.fc2 = nn.Linear(1024, 256)\n",
    "        self.fc3 = nn.Linear(256, 125)\n",
    "\n",
    "    def forward(self, x):\n",
    "        x = self.conv1(x)\n",
    "        x = F.relu(x)\n",
    "        x = self.pool1(x)\n",
    "        x = F.relu(self.conv2(x))\n",
    "        x = self.dropout1(x)\n",
    "        x = F.relu(self.conv3(x))\n",
    "        x = F.relu(self.conv4(x))\n",
    "        # Flatten the tensor before fully connected layers\n",
    "        x = torch.flatten(x, start_dim=1)  # Flatten dimensions except batch dimension\n",
    "        # Fully connected layers\n",
    "        x = self.fc1(x)\n",
    "        x = self.fc2(x)\n",
    "        x = self.fc3(x)\n",
    "        return x\n",
    "\n",
    "class SelfAttention(nn.Module):\n",
    "    def __init__(self, hidden_size):\n",
    "        super(SelfAttention, self).__init__()\n",
    "        self.query = nn.Linear(hidden_size, hidden_size)\n",
    "        self.key = nn.Linear(hidden_size, hidden_size)\n",
    "        self.value = nn.Linear(hidden_size, hidden_size)\n",
    "\n",
    "    def forward(self, x):\n",
    "        # Add an extra dimension for seq_len\n",
    "        x = x.unsqueeze(1)\n",
    "        batch_size, seq_len, hidden_size = x.size()\n",
    "\n",
    "        # Compute Query, Key, and Value matrices\n",
    "        q = self.query(x)\n",
    "        k = self.key(x)\n",
    "        v = self.value(x)\n",
    "\n",
    "        # Compute attention scores\n",
    "        scores = torch.matmul(q, k.transpose(1, 2))\n",
    "        attention_weights = F.softmax(scores, dim=2)\n",
    "\n",
    "        # Compute the weighted sum of Value using attention weights\n",
    "        x = torch.matmul(attention_weights, v)\n",
    "\n",
    "        # Squeeze the extra seq_len dimension and return the result\n",
    "        x = x.squeeze(1)\n",
    "        return x\n",
    "\n",
    "class ConditionalRandomFields(nn.Module):\n",
    "    def __init__(self, hidden_size, num_labels):\n",
    "        super(ConditionalRandomFields, self).__init__()\n",
    "        self.hidden_size = hidden_size\n",
    "        self.num_labels = num_labels\n",
    "        \n",
    "        self.linear1 = nn.Linear(hidden_size, num_labels)\n",
    "        self.linear2 = nn.Linear(num_labels, num_labels)\n",
    "        self.linear3 = nn.Linear(num_labels, 2)\n",
    "        \n",
    "    def forward(self, x):\n",
    "        x = self.linear1(x)\n",
    "        x = F.log_softmax(x, dim=1)\n",
    "        x = self.linear2(x)\n",
    "        x = F.log_softmax(x, dim=1)\n",
    "        #x = self.linear3(x)\n",
    "        return x\n",
    "\n",
    "class AnomalyDetector(nn.Module):\n",
    "    def __init__(self):\n",
    "        super(AnomalyDetector, self).__init__()\n",
    "        \n",
    "        # Feature extractor\n",
    "        self.feature_extractor = RelationAwareFeatureExtractor()\n",
    "\n",
    "        # Self-attention layer\n",
    "        self.self_attention = SelfAttention(125)\n",
    "\n",
    "        # Conditional random fields layer\n",
    "        self.conditional_random_fields = ConditionalRandomFields(125,2)\n",
    "\n",
    "    def forward(self, x):\n",
    "        # Extract features\n",
    "        x = self.feature_extractor(x)\n",
    "        x = self.self_attention(x)\n",
    "        log_likelihood = self.conditional_random_fields(x)\n",
    "\n",
    "        return log_likelihood"
   ]
  },
  {
   "cell_type": "markdown",
   "id": "8ed6f741",
   "metadata": {},
   "source": [
    "#### Training the Model:"
   ]
  },
  {
   "cell_type": "code",
   "execution_count": 21,
   "id": "20571e44",
   "metadata": {},
   "outputs": [],
   "source": [
    "# Initialize the models and move them to the desired device\n",
    "device = torch.device('cuda' if torch.cuda.is_available() else 'cpu')"
   ]
  },
  {
   "cell_type": "code",
   "execution_count": 22,
   "id": "b9315015",
   "metadata": {},
   "outputs": [],
   "source": [
    "input_dim = 125\n",
    "hidden_dim = 50\n",
    "output_dim = 124"
   ]
  },
  {
   "cell_type": "code",
   "execution_count": 23,
   "id": "5869643b",
   "metadata": {},
   "outputs": [],
   "source": [
    "# Define the train and test datasets\n",
    "train_dataset = CustomDataset(x_train, y_train)\n",
    "val_dataset = CustomDataset(x_val, y_val)\n",
    "test_dataset = CustomDataset(x_test, y_test)\n",
    "\n",
    "# Define the train loader\n",
    "batch_size = 4\n",
    "train_loader = DataLoader(train_dataset, batch_size=batch_size, shuffle=True)\n",
    "val_loader = DataLoader(val_dataset, batch_size=batch_size, shuffle=False)\n",
    "test_loader = DataLoader(test_dataset, batch_size=batch_size, shuffle=False)"
   ]
  },
  {
   "cell_type": "code",
   "execution_count": 24,
   "id": "80055200",
   "metadata": {},
   "outputs": [],
   "source": [
    "num_classes = 2\n",
    "num_epochs = 20\n",
    "learning_rate = 0.00001"
   ]
  },
  {
   "cell_type": "code",
   "execution_count": 25,
   "id": "f0dbe730",
   "metadata": {},
   "outputs": [],
   "source": [
    "# Create an instance of the AnomalyDetector\n",
    "model = AnomalyDetector()"
   ]
  },
  {
   "cell_type": "code",
   "execution_count": 26,
   "id": "c92cb676",
   "metadata": {},
   "outputs": [
    {
     "name": "stdout",
     "output_type": "stream",
     "text": [
      "----------------------------------------------------------------\n",
      "        Layer (type)               Output Shape         Param #\n",
      "================================================================\n",
      "            Conv2d-1              [-1, 8, 9, 4]             296\n",
      "         MaxPool2d-2              [-1, 8, 4, 2]               0\n",
      "            Conv2d-3             [-1, 16, 2, 1]           1,168\n",
      "           Dropout-4             [-1, 16, 2, 1]               0\n",
      "            Conv2d-5             [-1, 32, 1, 1]           4,640\n",
      "            Conv2d-6             [-1, 64, 1, 1]          18,496\n",
      "            Linear-7                 [-1, 1024]          66,560\n",
      "            Linear-8                  [-1, 256]         262,400\n",
      "            Linear-9                  [-1, 125]          32,125\n",
      "RelationAwareFeatureExtractor-10                  [-1, 125]               0\n",
      "           Linear-11               [-1, 1, 125]          15,750\n",
      "           Linear-12               [-1, 1, 125]          15,750\n",
      "           Linear-13               [-1, 1, 125]          15,750\n",
      "    SelfAttention-14                  [-1, 125]               0\n",
      "           Linear-15                    [-1, 2]             252\n",
      "           Linear-16                    [-1, 2]               6\n",
      "ConditionalRandomFields-17                    [-1, 2]               0\n",
      "================================================================\n",
      "Total params: 433,193\n",
      "Trainable params: 433,193\n",
      "Non-trainable params: 0\n",
      "----------------------------------------------------------------\n",
      "Input size (MB): 0.00\n",
      "Forward/backward pass size (MB): 0.02\n",
      "Params size (MB): 1.65\n",
      "Estimated Total Size (MB): 1.68\n",
      "----------------------------------------------------------------\n"
     ]
    }
   ],
   "source": [
    "from torchsummary import summary\n",
    "# Move the model to the GPU if available\n",
    "model.to(device)\n",
    "summary(model, (4, 25, 10))"
   ]
  },
  {
   "cell_type": "code",
   "execution_count": 27,
   "id": "172b9f69",
   "metadata": {},
   "outputs": [],
   "source": [
    "# Define the loss function\n",
    "criterion = nn.CrossEntropyLoss() \n",
    "\n",
    "# Define the optimizer\n",
    "optimizer = torch.optim.Adam(model.parameters(), lr=0.0001)"
   ]
  },
  {
   "cell_type": "code",
   "execution_count": 28,
   "id": "c10e8ae5",
   "metadata": {},
   "outputs": [],
   "source": [
    "def early_stopping(val_loss, patience=3):\n",
    "    if len(val_loss) <= patience:\n",
    "        return False\n",
    "    \n",
    "    for i in range(1, patience + 1):\n",
    "        if val_loss[-i] > val_loss[-i - 1]:\n",
    "            return True\n",
    "        \n",
    "    return False"
   ]
  },
  {
   "cell_type": "code",
   "execution_count": 29,
   "id": "5869a7b9",
   "metadata": {},
   "outputs": [
    {
     "name": "stdout",
     "output_type": "stream",
     "text": [
      "\n",
      "Epoch [1/20] | Train Loss: 0.5804 | Train Accuracy: 0.66\n",
      "Epoch [1/20] | Validation Loss: 0.3147 | Validation Accuracy: 0.81\n",
      "\n",
      "Epoch [2/20] | Train Loss: 0.3091 | Train Accuracy: 0.88\n",
      "Epoch [2/20] | Validation Loss: 0.2311 | Validation Accuracy: 0.91\n",
      "\n",
      "Epoch [3/20] | Train Loss: 0.2394 | Train Accuracy: 0.91\n",
      "Epoch [3/20] | Validation Loss: 0.1729 | Validation Accuracy: 0.96\n",
      "\n",
      "Epoch [4/20] | Train Loss: 0.1846 | Train Accuracy: 0.94\n",
      "Epoch [4/20] | Validation Loss: 0.1573 | Validation Accuracy: 0.96\n",
      "\n",
      "Epoch [5/20] | Train Loss: 0.1713 | Train Accuracy: 0.94\n",
      "Epoch [5/20] | Validation Loss: 0.1383 | Validation Accuracy: 0.97\n",
      "\n",
      "Epoch [6/20] | Train Loss: 0.1450 | Train Accuracy: 0.95\n",
      "Epoch [6/20] | Validation Loss: 0.1373 | Validation Accuracy: 0.96\n",
      "\n",
      "Epoch [7/20] | Train Loss: 0.1306 | Train Accuracy: 0.96\n",
      "Epoch [7/20] | Validation Loss: 0.2361 | Validation Accuracy: 0.92\n",
      "Early stopping triggered! \n"
     ]
    }
   ],
   "source": [
    "# Initialize lists to store accuracy values\n",
    "train_accuracy_history = []\n",
    "val_accuracy_history = []\n",
    "\n",
    "# Training loop\n",
    "best_val_loss = float('inf')\n",
    "patience = 3\n",
    "val_loss_history = []\n",
    "train_loss_history = []\n",
    "verbose = True\n",
    "\n",
    "l2_lambda = 0.0001 \n",
    "\n",
    "for epoch in range(num_epochs):\n",
    "    model.train()\n",
    "    train_loss = 0.0\n",
    "    correct = 0\n",
    "    total = 0\n",
    "\n",
    "    for batch_data, batch_labels in train_loader:\n",
    "        optimizer.zero_grad()\n",
    "\n",
    "        # Forward pass\n",
    "        output = model(batch_data)\n",
    "        \n",
    "        batch_labels = batch_labels.view(-1)\n",
    "\n",
    "        # Compute loss\n",
    "        ce_loss = criterion(output, batch_labels.long())\n",
    "        \n",
    "        l2_reg = 0.0\n",
    "        for param in model.parameters():\n",
    "            l2_reg += torch.norm(param, p=2)\n",
    "\n",
    "        # Combine the cross-entropy loss and L2 regularization term\n",
    "        loss = ce_loss + l2_lambda * l2_reg\n",
    "\n",
    "        # Backward pass and optimization\n",
    "        loss.backward()\n",
    "        optimizer.step()\n",
    "\n",
    "        train_loss += loss.item()\n",
    "        _, predicted = torch.max(output.data, 1)\n",
    "        total += batch_labels.size(0)\n",
    "        correct += (predicted == batch_labels).sum().item()\n",
    "\n",
    "    train_loss /= len(train_loader)\n",
    "    accuracy = correct / total\n",
    "    train_accuracy_history.append(accuracy)\n",
    "    train_loss_history.append(train_loss)\n",
    "    \n",
    "    if verbose: \n",
    "        print(f\"\\nEpoch [{epoch+1}/{num_epochs}] | Train Loss: {train_loss:.4f} | Train Accuracy: {accuracy:.2f}\")\n",
    "        \n",
    "    # Evaluate the model on the validation set\n",
    "    val_loss = 0.0\n",
    "    val_correct = 0\n",
    "    val_total = 0\n",
    "    model.eval()\n",
    "    with torch.no_grad():\n",
    "        for val_batch_data, val_batch_labels in val_loader:\n",
    "            outputs = model(val_batch_data)\n",
    "            labels = val_batch_labels.view(-1)\n",
    "            \n",
    "            # Compute loss\n",
    "            ce_val_loss = criterion(outputs, labels.long())\n",
    "        \n",
    "            l2_reg = 0.0\n",
    "            for param in model.parameters():\n",
    "                l2_reg += torch.norm(param, p=2)\n",
    "\n",
    "            # Combine the cross-entropy loss and L2 regularization term\n",
    "            loss = ce_val_loss + l2_lambda * l2_reg\n",
    "            \n",
    "            val_loss += loss.item()\n",
    "            _, predicted = torch.max(outputs.data, 1)\n",
    "            val_total += val_batch_labels.size(0)\n",
    "            val_correct += (predicted == val_batch_labels).sum().item()\n",
    "            \n",
    "        val_loss /=len(val_loader)\n",
    "        val_acc = val_correct / val_total\n",
    "        val_accuracy_history.append(val_acc)\n",
    "        val_loss_history.append(val_loss)  \n",
    "        \n",
    "        if verbose:\n",
    "            print(f\"Epoch [{epoch+1}/{num_epochs}] | Validation Loss: {val_loss:.4f} | Validation Accuracy: {val_acc:.2f}\")\n",
    "\n",
    "    #Check for early stopping\n",
    "    if val_loss < best_val_loss:\n",
    "        best_val_loss = val_loss\n",
    "        patience_counter = 0\n",
    "    else:\n",
    "        patience_counter += 1\n",
    "\n",
    "    if early_stopping(val_loss_history, patience):\n",
    "        print(\"Early stopping triggered! \")\n",
    "        break"
   ]
  },
  {
   "cell_type": "code",
   "execution_count": 30,
   "id": "8a5d9d72",
   "metadata": {},
   "outputs": [
    {
     "data": {
      "image/png": "[encoded data removed]",
      "text/plain": [
       "<Figure size 432x288 with 1 Axes>"
      ]
     },
     "metadata": {
      "needs_background": "light"
     },
     "output_type": "display_data"
    }
   ],
   "source": [
    "import matplotlib.pyplot as plt\n",
    "\n",
    "# Plot accuracy graph\n",
    "epochs = range(1, len(train_accuracy_history) + 1)\n",
    "\n",
    "plt.plot(epochs, train_accuracy_history, 'b', label='Training Accuracy')\n",
    "plt.plot(epochs, val_accuracy_history, 'r', labl='Validation Accuracy')\n",
    "plt.title('Training and Validation Accuracy')\n",
    "plt.xlabel('Epochs')\n",
    "plt.ylabel('Accuracy')\n",
    "plt.legend()\n",
    "plt.show()"
   ]
  },
  {
   "cell_type": "code",
   "execution_count": 31,
   "id": "3b2d6169",
   "metadata": {},
   "outputs": [
    {
     "name": "stdout",
     "output_type": "stream",
     "text": [
      "Test Loss: 0.2334 | Accuracy: 0.92\n"
     ]
    }
   ],
   "source": [
    "# TESTING\n",
    "model.eval()  # Set the model to evaluation mode\n",
    "\n",
    "test_loss = 0.0\n",
    "test_correct = 0\n",
    "test_total = 0\n",
    "\n",
    "with torch.no_grad():  # Turn off gradient tracking for testing\n",
    "    for test_batch_data, test_batch_labels in test_loader:\n",
    "\n",
    "        # Forward pass\n",
    "        output = model(test_batch_data)\n",
    "        labels = test_batch_labels.view(-1)\n",
    "\n",
    "        test_loss += criterion(output, labels.long()).item()\n",
    "        _, predicted = torch.max(output.data, 1)\n",
    "        test_total += test_batch_labels.size(0)\n",
    "        test_correct += (predicted == test_batch_labels).sum().item()\n",
    "\n",
    "test_loss /= len(test_loader)\n",
    "test_accuracy = test_correct / test_total\n",
    "\n",
    "print(f\"Test Loss: {test_loss:.4f} | Accuracy: {test_accuracy:.2f}\")\n"
   ]
  },
  {
   "cell_type": "code",
   "execution_count": 32,
   "id": "791241d6",
   "metadata": {},
   "outputs": [],
   "source": [
    "# After training, saving the model\n",
    "torch.save(model.state_dict(), 'anomaly_detector.pth')"
   ]
  },
  {
   "cell_type": "code",
   "execution_count": null,
   "id": "5f568c98",
   "metadata": {},
   "outputs": [],
   "source": []
  },
  {
   "cell_type": "code",
   "execution_count": null,
   "id": "d4b643ea",
   "metadata": {},
   "outputs": [],
   "source": []
  },
  {
   "cell_type": "code",
   "execution_count": null,
   "id": "4aa52e28",
   "metadata": {},
   "outputs": [],
   "source": []
  }
 ],
 "metadata": {
  "kernelspec": {
   "display_name": "Python 3 (ipykernel)",
   "language": "python",
   "name": "python3"
  },
  "language_info": {
   "codemirror_mode": {
    "name": "ipython",
    "version": 3
   },
   "file_extension": ".py",
   "mimetype": "text/x-python",
   "name": "python",
   "nbconvert_exporter": "python",
   "pygments_lexer": "ipython3",
   "version": "3.9.12"
  }
 },
 "nbformat": 4,
 "nbformat_minor": 5
}
