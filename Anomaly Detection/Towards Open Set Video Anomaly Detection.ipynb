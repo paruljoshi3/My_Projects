{
 "cells": [
  {
   "cell_type": "code",
   "execution_count": 4,
   "id": "a03fde2f",
   "metadata": {},
   "outputs": [],
   "source": [
    "import torch\n",
    "from torch.utils.data import TensorDataset\n",
    "from sklearn.metrics import roc_auc_score"
   ]
  },
  {
   "cell_type": "code",
   "execution_count": 5,
   "id": "8f80ddf8",
   "metadata": {},
   "outputs": [],
   "source": [
    "features = torch.load('C:/Users/user/features.pt')"
   ]
  },
  {
   "cell_type": "code",
   "execution_count": 6,
   "id": "005c29d8",
   "metadata": {},
   "outputs": [
    {
     "name": "stdout",
     "output_type": "stream",
     "text": [
      "Array Shape: (94003,)\n",
      "Array Contents: [1. 1. 1. ... 0. 0. 0.]\n"
     ]
    }
   ],
   "source": [
    "import numpy as np\n",
    "\n",
    "labels_path = \"C:/Users/user/labels.npy\"\n",
    "\n",
    "# Load the labels array from the .npy file\n",
    "labels = np.load(labels_path)\n",
    "\n",
    "# Print the shape and contents of the loaded array\n",
    "print(\"Array Shape:\", labels.shape)\n",
    "print(\"Array Contents:\", labels)"
   ]
  },
  {
   "cell_type": "code",
   "execution_count": 7,
   "id": "21e8bc3b",
   "metadata": {},
   "outputs": [
    {
     "name": "stdout",
     "output_type": "stream",
     "text": [
      "<class 'torch.Tensor'>\n"
     ]
    }
   ],
   "source": [
    "# Load labels from npy file\n",
    "labels_np = np.load('C:/Users/user/labels.npy')\n",
    "\n",
    "# Convert labels to tensors\n",
    "labels = torch.from_numpy(labels_np)\n",
    "\n",
    "# Verify the type of the resulting tensor\n",
    "print(type(labels))"
   ]
  },
  {
   "cell_type": "code",
   "execution_count": 10,
   "id": "621118e5",
   "metadata": {},
   "outputs": [],
   "source": [
    "import torch\n",
    "import torch.nn as nn\n",
    "import numpy as np\n",
    "import torch.nn.functional as F\n",
    "from torch.utils.data import DataLoader, Dataset\n",
    "from sklearn.model_selection import train_test_split\n",
    "from torch_geometric.nn import GCNConv"
   ]
  },
  {
   "cell_type": "code",
   "execution_count": 11,
   "id": "17afedb4",
   "metadata": {},
   "outputs": [],
   "source": [
    "x_train, x_val, y_train, y_val = train_test_split(features, labels, test_size=0.3, random_state=42)\n",
    "x_val, x_test, y_val, y_test = train_test_split(x_val, y_val, test_size=0.4, random_state=42)"
   ]
  },
  {
   "cell_type": "code",
   "execution_count": 12,
   "id": "c1e166d4",
   "metadata": {},
   "outputs": [
    {
     "data": {
      "text/plain": [
       "tensor([[-1.8507, -2.3431,  1.6074,  ..., -1.5637, -1.4387, -0.3762],\n",
       "        [ 0.4563, -1.0095, -1.5173,  ..., -1.0800, -0.6277,  0.5689],\n",
       "        [-1.8575, -2.3382,  1.9552,  ..., -1.9780, -0.8690, -0.4288],\n",
       "        ...,\n",
       "        [-4.2447, -1.6035,  0.1674,  ..., -3.2275, -0.0912,  0.0912],\n",
       "        [-4.8019, -1.4592, -3.4100,  ..., -1.6698, -1.4332,  1.3856],\n",
       "        [-1.2754,  0.8163,  1.2229,  ..., -2.6263, -0.3825,  0.2383]])"
      ]
     },
     "execution_count": 12,
     "metadata": {},
     "output_type": "execute_result"
    }
   ],
   "source": [
    "x_train"
   ]
  },
  {
   "cell_type": "code",
   "execution_count": 13,
   "id": "af3a5e4c",
   "metadata": {},
   "outputs": [
    {
     "data": {
      "text/plain": [
       "tensor([1., 1., 1.,  ..., 0., 1., 1.], dtype=torch.float64)"
      ]
     },
     "execution_count": 13,
     "metadata": {},
     "output_type": "execute_result"
    }
   ],
   "source": [
    "y_train"
   ]
  },
  {
   "cell_type": "code",
   "execution_count": 14,
   "id": "9613ddf7",
   "metadata": {},
   "outputs": [
    {
     "data": {
      "text/plain": [
       "array([0., 1.])"
      ]
     },
     "execution_count": 14,
     "metadata": {},
     "output_type": "execute_result"
    }
   ],
   "source": [
    "val = np.unique(y_train)\n",
    "val"
   ]
  },
  {
   "cell_type": "code",
   "execution_count": 15,
   "id": "1f4930ff",
   "metadata": {},
   "outputs": [
    {
     "data": {
      "text/plain": [
       "torch.Tensor"
      ]
     },
     "execution_count": 15,
     "metadata": {},
     "output_type": "execute_result"
    }
   ],
   "source": [
    "type(x_train)"
   ]
  },
  {
   "cell_type": "code",
   "execution_count": 16,
   "id": "6f575f5a",
   "metadata": {},
   "outputs": [
    {
     "data": {
      "text/plain": [
       "torch.Tensor"
      ]
     },
     "execution_count": 16,
     "metadata": {},
     "output_type": "execute_result"
    }
   ],
   "source": [
    "type(y_train)"
   ]
  },
  {
   "cell_type": "code",
   "execution_count": 17,
   "id": "9b66a864",
   "metadata": {},
   "outputs": [
    {
     "data": {
      "text/plain": [
       "65802"
      ]
     },
     "execution_count": 17,
     "metadata": {},
     "output_type": "execute_result"
    }
   ],
   "source": [
    "len(x_train)"
   ]
  },
  {
   "cell_type": "code",
   "execution_count": 18,
   "id": "749c1b4b",
   "metadata": {},
   "outputs": [],
   "source": [
    "import torch\n",
    "import torch.nn as nn\n",
    "import torch.optim as optim\n",
    "from torch_geometric.nn import GCNConv\n",
    "from torch_geometric.utils import add_self_loops\n",
    "from torch.utils.data import DataLoader, Dataset\n",
    "from sklearn.model_selection import train_test_split\n",
    "\n",
    "# Define custom dataset\n",
    "class UCFCrimeDataset(Dataset):\n",
    "    def __init__(self, features, labels):\n",
    "        self.features = features\n",
    "        self.labels = labels\n",
    "\n",
    "    def __len__(self):\n",
    "        return len(self.features)\n",
    "\n",
    "    def __getitem__(self, index):\n",
    "        x = self.features[index]\n",
    "        y = self.labels[index]\n",
    "        return x, y\n",
    "\n",
    "# Define GCN feature extractors, EDL model, and normalizing flow model\n",
    "class GCNFeatureExtractor(nn.Module):\n",
    "    def __init__(self, input_dim, hidden_dim, output_dim):\n",
    "        super(GCNFeatureExtractor, self).__init__()\n",
    "        # Define GCN layers\n",
    "        self.conv1 = GCNConv(input_dim, hidden_dim)\n",
    "        self.dropout1 = nn.Dropout(0.5)\n",
    "        self.conv2 = GCNConv(hidden_dim, output_dim)\n",
    "        \n",
    "    def forward(self, x, edge_index):\n",
    "        # Implement the forward pass of the GCN feature extractor\n",
    "        x = self.conv1(x, edge_index)\n",
    "        x = torch.relu(x)\n",
    "        x = self.dropout1(x)\n",
    "        x = self.conv2(x, edge_index)\n",
    "        return x\n",
    "\n",
    "class EDLModel(nn.Module):\n",
    "    def __init__(self, input_dim, hidden_dim, output_dim):\n",
    "        super(EDLModel, self).__init__()\n",
    "        # Define EDL layers\n",
    "        self.fc1 = nn.Linear(input_dim, hidden_dim)\n",
    "        self.fc2 = nn.Linear(hidden_dim, output_dim)\n",
    "        self.relu = nn.ReLU()\n",
    "        self.dropout = nn.Dropout(0.5)\n",
    "        \n",
    "    def forward(self, x):\n",
    "        # Implement the forward pass of the EDL model\n",
    "        x = self.relu(self.fc1(x))\n",
    "        x = self.dropout(x)\n",
    "        x = self.fc2(x)  \n",
    "        return x\n",
    "\n",
    "class NormalizingFlowModel(nn.Module):\n",
    "    def __init__(self, input_dim, hidden_dim, num_layers):\n",
    "        super(NormalizingFlowModel, self).__init__()\n",
    "        # Normalizing flow layers\n",
    "        self.input_dim = input_dim\n",
    "        self.hidden_dim = hidden_dim\n",
    "        self.num_layers = num_layers\n",
    "        self.layers = nn.ModuleList()\n",
    "        \n",
    "        for _ in range(num_layers):\n",
    "            self.layers.append(nn.Linear(input_dim, hidden_dim))\n",
    "        \n",
    "    def forward(self, x):\n",
    "        # Implement the forward pass of the normalizing flow model\n",
    "        for layer in self.layers:\n",
    "            x = layer(x)\n",
    "            x = torch.relu(x)\n",
    "        return x\n",
    "\n",
    "class MILModel(nn.Module):\n",
    "    def __init__(self, gcn_fe_extractor, edl_model, nf_model):\n",
    "        super(MILModel, self).__init__()\n",
    "        self.gcn_fe_extractor = gcn_fe_extractor\n",
    "        self.edl_model = edl_model\n",
    "        self.nf_model = nf_model\n",
    "        self.dropout = nn.Dropout(0.5)\n",
    "        \n",
    "    def forward(self, x, edge_index):\n",
    "        x = self.gcn_fe_extractor(x, edge_index)\n",
    "        x = self.edl_model(x)\n",
    "        x = self.nf_model(x)\n",
    "        x = self.dropout(x)\n",
    "        return x\n",
    "\n",
    "def weakly_supervised_mil_loss(y_true, y_pred):\n",
    "\n",
    "    # Use Binary Cross Entropy loss\n",
    "    mil_loss = F.cross_entropy(y_pred, y_true)\n",
    "\n",
    "    return mil_loss\n",
    "\n",
    "def lmil_ltriplet_loss(edl_outputs, batch_labels, embeddings, m=0.2):\n",
    "    # Weakly-Supervised MIL Loss (Binary Cross-Entropy Loss)\n",
    "    mil_loss = weakly_supervised_mil_loss(batch_labels, edl_outputs)\n",
    "\n",
    "    valid_instances = batch_labels.unique()\n",
    "    if len(valid_instances) < 2:\n",
    "        # Skip batch if there are less than two unique instances (cannot form anchor and positive pair)\n",
    "        return mil_loss\n",
    "    \n",
    "    # Sample triplet instances based on batch_labels (anchor, positive, and negative instances)\n",
    "    anchor = embeddings[batch_labels].unsqueeze(1)\n",
    "    \n",
    "    # Ensure positive and negative samples are different instances\n",
    "    positive_idx = torch.randint(0, len(valid_instances), (len(valid_instances),))\n",
    "    negative_idx = torch.randint(0, len(valid_instances), (len(valid_instances),))\n",
    "\n",
    "    while torch.any(positive_idx == negative_idx):\n",
    "        negative_idx[positive_idx == negative_idx] = torch.randint(0, len(valid_instances), (torch.sum(positive_idx == negative_idx),))\n",
    "\n",
    "    positive = embeddings[valid_instances[positive_idx]]\n",
    "    negative = embeddings[valid_instances[negative_idx]]\n",
    "\n",
    "    # Compute Euclidean distances between instances\n",
    "    distance = torch.nn.PairwiseDistance(p=2)  # Euclidean distance\n",
    "    dap = distance(anchor, positive)\n",
    "    dan = distance(anchor, negative)\n",
    "\n",
    "    # Calculate triplet loss based on the given formula\n",
    "    triplet_loss = torch.relu(dap - dan + m).mean()\n",
    "\n",
    "    # Can choose a trade-off parameter (e.g., alpha) to balance the contributions of both losses.\n",
    "    # For example, the total loss can be defined as a linear combination of both losses:\n",
    "    alpha = 0.5\n",
    "    total_loss = alpha * mil_loss + (1 - alpha) * triplet_loss\n",
    "\n",
    "    return total_loss"
   ]
  },
  {
   "cell_type": "code",
   "execution_count": 19,
   "id": "65468063",
   "metadata": {},
   "outputs": [
    {
     "name": "stdout",
     "output_type": "stream",
     "text": [
      "X_train shape is: \n",
      " torch.Size([65802, 1000])\n",
      "\n",
      " Y_train shape is: \n",
      " torch.Size([65802])\n",
      "\n",
      " X_test shape is: \n",
      " torch.Size([11281, 1000])\n",
      "\n",
      " Y_test shape is: \n",
      " torch.Size([11281])\n",
      "\n",
      " X_val shape is: \n",
      " torch.Size([16920, 1000])\n",
      "\n",
      " Y_val shape is: \n",
      " torch.Size([16920])\n"
     ]
    }
   ],
   "source": [
    "print(\"X_train shape is: \\n\", x_train.shape)\n",
    "print(\"\\n Y_train shape is: \\n\", y_train.shape)\n",
    "print(\"\\n X_test shape is: \\n\", x_test.shape)\n",
    "print(\"\\n Y_test shape is: \\n\", y_test.shape)\n",
    "print(\"\\n X_val shape is: \\n\", x_val.shape)\n",
    "print(\"\\n Y_val shape is: \\n\", y_val.shape)"
   ]
  },
  {
   "cell_type": "code",
   "execution_count": 20,
   "id": "7075869e",
   "metadata": {},
   "outputs": [
    {
     "data": {
      "text/plain": [
       "65802"
      ]
     },
     "execution_count": 20,
     "metadata": {},
     "output_type": "execute_result"
    }
   ],
   "source": [
    "len(x_train)"
   ]
  },
  {
   "cell_type": "code",
   "execution_count": 21,
   "id": "c77c5488",
   "metadata": {},
   "outputs": [],
   "source": [
    "# Initialize the models and move them to the desired device\n",
    "device = torch.device('cuda' if torch.cuda.is_available() else 'cpu')"
   ]
  },
  {
   "cell_type": "code",
   "execution_count": 22,
   "id": "48ca4e7a",
   "metadata": {},
   "outputs": [],
   "source": [
    "import torch\n",
    "\n",
    "def calculate_edge_index(x_train, y_train, x_test, y_test):\n",
    "    edge_index_train = []\n",
    "    edge_index_test = []\n",
    "    #def gen_edge_index_train():\n",
    "    for i in range(len(x_train)):\n",
    "        for j in range(i + 1, len(x_train)):\n",
    "            if y_train[i] == y_train[j]:\n",
    "                edge_index_train.append((i, j))\n",
    "                edge_index_train.append((j, i))\n",
    "                        \n",
    "    #def gen_edge_index_test():\n",
    "    for i in range(len(x_test)):\n",
    "        for j in range(i + 1, len(x_test)):\n",
    "            if y_test[i] == y_test[j]:\n",
    "                edge_index_test.append((i, j))\n",
    "                edge_index_test.append((j, i))\n",
    "\n",
    "    # Convert the edge index to a list of tuples.\n",
    "    edge_index_train = list(edge_index_train)\n",
    "    edge_index_test = list(edge_index_test)\n",
    "\n",
    "    # Combine the train and test edge indices.\n",
    "    edge_index = edge_index_train + edge_index_test\n",
    "\n",
    "    # Convert the edge index to a torch tensor.\n",
    "    edge_index = torch.tensor(edge_index, dtype=torch.long)\n",
    "    \n",
    "    # Clamping the edge_index to [0, 4]\n",
    "    edge_index = torch.clamp(edge_index, 0, 4)\n",
    "\n",
    "    return edge_index"
   ]
  },
  {
   "cell_type": "code",
   "execution_count": 23,
   "id": "6633e59b",
   "metadata": {},
   "outputs": [],
   "source": [
    "edge_index = calculate_edge_index(x_train[:20000], y_train[:20000], x_val[:10000], y_val[:10000])"
   ]
  },
  {
   "cell_type": "code",
   "execution_count": 25,
   "id": "6035f853",
   "metadata": {
    "scrolled": true
   },
   "outputs": [
    {
     "data": {
      "text/plain": [
       "torch.Size([319986050, 2])"
      ]
     },
     "execution_count": 25,
     "metadata": {},
     "output_type": "execute_result"
    }
   ],
   "source": [
    "edge_index.shape"
   ]
  },
  {
   "cell_type": "code",
   "execution_count": 26,
   "id": "381e6d05",
   "metadata": {},
   "outputs": [],
   "source": [
    "edge_index = edge_index.transpose(0, 1)"
   ]
  },
  {
   "cell_type": "code",
   "execution_count": 27,
   "id": "3a3172f9",
   "metadata": {},
   "outputs": [
    {
     "data": {
      "text/plain": [
       "torch.Size([2, 319986050])"
      ]
     },
     "execution_count": 27,
     "metadata": {},
     "output_type": "execute_result"
    }
   ],
   "source": [
    "edge_index.shape"
   ]
  },
  {
   "cell_type": "code",
   "execution_count": 28,
   "id": "906077eb",
   "metadata": {},
   "outputs": [
    {
     "data": {
      "text/plain": [
       "tensor([[-1.8507, -2.3431,  1.6074,  ..., -1.5637, -1.4387, -0.3762],\n",
       "        [ 0.4563, -1.0095, -1.5173,  ..., -1.0800, -0.6277,  0.5689],\n",
       "        [-1.8575, -2.3382,  1.9552,  ..., -1.9780, -0.8690, -0.4288],\n",
       "        ...,\n",
       "        [-0.2824, -2.0713, -2.4768,  ...,  0.9428,  0.0852, -1.0849],\n",
       "        [-4.3647, -1.9255, -2.8647,  ..., -1.7640, -1.3637,  1.7980],\n",
       "        [-1.5663, -0.8748, -1.3458,  ..., -2.1948,  0.1826, -0.3837]])"
      ]
     },
     "execution_count": 28,
     "metadata": {},
     "output_type": "execute_result"
    }
   ],
   "source": [
    "x_train[:10]"
   ]
  },
  {
   "cell_type": "code",
   "execution_count": 29,
   "id": "1266101a",
   "metadata": {},
   "outputs": [],
   "source": [
    "batch_size = 40\n",
    "\n",
    "# Create custom datasets and data loaders\n",
    "train_dataset = UCFCrimeDataset(x_train[:20000], y_train[:20000])\n",
    "val_dataset = UCFCrimeDataset(x_val[:10000], y_val[:10000])\n",
    "test_dataset = UCFCrimeDataset(x_test[:6000], y_test[:6000])\n",
    "\n",
    "\n",
    "train_loader = DataLoader(train_dataset, batch_size=batch_size, shuffle=True)\n",
    "val_loader = DataLoader(val_dataset, batch_size=batch_size, shuffle=False)\n",
    "test_loader = DataLoader(test_dataset, batch_size=batch_size, shuffle=False)"
   ]
  },
  {
   "cell_type": "code",
   "execution_count": 30,
   "id": "90d032a5",
   "metadata": {},
   "outputs": [],
   "source": [
    "input_dim = 1000\n",
    "hidden_dim = 1000\n",
    "output_dim = 1000\n",
    "num_epochs = 50\n",
    "m = 0.5"
   ]
  },
  {
   "cell_type": "code",
   "execution_count": 31,
   "id": "3503a8b1",
   "metadata": {},
   "outputs": [],
   "source": [
    "# Initialize models\n",
    "gcn_fe_extractor = GCNFeatureExtractor(input_dim, hidden_dim=256, output_dim=1000).to(device)\n",
    "edl_model = EDLModel(output_dim, hidden_dim, output_dim).to(device)\n",
    "normalizing_flow_model = NormalizingFlowModel(input_dim, hidden_dim, num_layers=5).to(device)\n",
    "mil_model = MILModel(gcn_fe_extractor, edl_model,normalizing_flow_model).to(device)\n",
    "\n",
    "# Define loss function and optimizer\n",
    "criterion = lmil_ltriplet_loss\n",
    "optimizer = optim.Adam(mil_model.parameters(), lr=0.0001)"
   ]
  },
  {
   "cell_type": "markdown",
   "id": "015eac01",
   "metadata": {},
   "source": [
    "   \"\"\"\n",
    "   Early stopping function.\n",
    "   Stops the training if validation loss does not improve for `patience` number of consecutive epochs.\n",
    "\n",
    "   \"\"\""
   ]
  },
  {
   "cell_type": "code",
   "execution_count": 32,
   "id": "0bf25748",
   "metadata": {},
   "outputs": [
    {
     "name": "stdout",
     "output_type": "stream",
     "text": [
      "Epoch [1/50] | Train Loss: 0.3373 | Train Accuracy: 0.8635 | AUC-ROC: 91.16%\n",
      "Epoch [1/50] | Validation Loss: 0.1325 | Validation Accuracy: 0.9761 | AUC-ROC: 99.70% \n",
      "\n",
      "Epoch [2/50] | Train Loss: 0.1358 | Train Accuracy: 0.9745 | AUC-ROC: 99.52%\n",
      "Epoch [2/50] | Validation Loss: 0.1259 | Validation Accuracy: 0.9783 | AUC-ROC: 99.78% \n",
      "\n",
      "Epoch [3/50] | Train Loss: 0.1285 | Train Accuracy: 0.9767 | AUC-ROC: 99.69%\n",
      "Epoch [3/50] | Validation Loss: 0.1240 | Validation Accuracy: 0.9786 | AUC-ROC: 99.78% \n",
      "\n",
      "Epoch [4/50] | Train Loss: 0.1295 | Train Accuracy: 0.9757 | AUC-ROC: 99.68%\n",
      "Epoch [4/50] | Validation Loss: 0.1239 | Validation Accuracy: 0.9759 | AUC-ROC: 99.79% \n",
      "\n",
      "Epoch [5/50] | Train Loss: 0.1266 | Train Accuracy: 0.9760 | AUC-ROC: 99.72%\n",
      "Epoch [5/50] | Validation Loss: 0.1240 | Validation Accuracy: 0.9779 | AUC-ROC: 99.80% \n",
      "\n",
      "Early stopping triggered!\n"
     ]
    }
   ],
   "source": [
    "def early_stopping(val_loss, patience=3):\n",
    "    if len(val_loss) <= patience:\n",
    "        return False\n",
    "    \n",
    "    for i in range(1, patience + 1):\n",
    "        if val_loss[-i] > val_loss[-i - 1]:\n",
    "            return True\n",
    "        \n",
    "    return False\n",
    "\n",
    "# Training loop\n",
    "best_val_loss = float('inf')\n",
    "patience = 3\n",
    "val_loss_history = []\n",
    "verbose = True\n",
    "\n",
    "# Initialize lists to store accuracy values\n",
    "train_accuracy_history = []\n",
    "val_accuracy_history = []\n",
    "\n",
    "for epoch in range(num_epochs):\n",
    "    mil_model.train()\n",
    "    train_loss = 0.0\n",
    "    correct = 0\n",
    "    total = 0\n",
    "    predicted_probs = []\n",
    "    true_labels = []\n",
    "\n",
    "    for batch_data, batch_labels in train_loader:\n",
    "        batch_data = batch_data.to(device) \n",
    "        edge_index = edge_index.to(device) # Move edge indices to device\n",
    "        batch_labels = batch_labels.to(device) # Move labels to device\n",
    "        optimizer.zero_grad()\n",
    "\n",
    "        # Forward pass through GCN feature extractor\n",
    "        embeddings = gcn_fe_extractor(batch_data, edge_index)\n",
    "        \n",
    "        # Forward pass\n",
    "        output = mil_model(batch_data, edge_index)\n",
    "        edl_outputs = edl_model(output)\n",
    "\n",
    "        # Compute loss\n",
    "        loss = criterion(edl_outputs,batch_labels.long(), embeddings, m=0.2)\n",
    "\n",
    "        # Backward pass and optimization\n",
    "        loss.backward(retain_graph=True)\n",
    "        optimizer.step()\n",
    "\n",
    "        edl_outputs = edl_model(output)\n",
    "        train_loss += loss.item()\n",
    "        _, predicted = torch.max(edl_outputs.data, 1)\n",
    "        total += batch_labels.size(0)\n",
    "        correct += (predicted == batch_labels).sum().item()\n",
    "\n",
    "        # Collect predicted probabilities and true labels for AUC-ROC calculation\n",
    "        predicted_probs.extend(torch.softmax(edl_outputs, dim=1)[:, 1].detach().cpu().numpy())\n",
    "        true_labels.extend(batch_labels.cpu().numpy())\n",
    "\n",
    "    train_loss /= len(train_loader)\n",
    "    accuracy = correct / total\n",
    "\n",
    "    # Calculate AUC-ROC percentage\n",
    "    auc_roc = roc_auc_score(true_labels, predicted_probs) * 100\n",
    "    \n",
    "    if verbose: \n",
    "        print(f\"Epoch [{epoch+1}/{num_epochs}] | Train Loss: {train_loss:.4f} | Train Accuracy: {accuracy:.4f} | AUC-ROC: {auc_roc:.2f}%\")\n",
    "\n",
    "    # Validation\n",
    "    mil_model.eval()\n",
    "    val_loss = 0.0\n",
    "    val_correct = 0\n",
    "    val_total = 0\n",
    "    val_predicted_probs = []\n",
    "    val_true_labels = []\n",
    "\n",
    "    with torch.no_grad():\n",
    "        for val_batch_data, val_batch_labels in val_loader:\n",
    "            val_batch_data = val_batch_data.to(device)\n",
    "            edge_index = edge_index.to(device)\n",
    "            val_batch_labels = val_batch_labels.to(device)\n",
    "            \n",
    "            # Forward pass through GCN feature extractor\n",
    "            embeddings = gcn_fe_extractor(val_batch_data, edge_index)\n",
    "\n",
    "            val_output = mil_model(val_batch_data, edge_index)\n",
    "            val_edl_outputs = edl_model(val_output)\n",
    "\n",
    "            val_loss += criterion(val_edl_outputs, val_batch_labels.long(), embeddings, m=0.2).item()\n",
    "            _, val_predicted = torch.max(val_edl_outputs.data, 1)\n",
    "            val_total += val_batch_labels.size(0)\n",
    "            val_correct += (val_predicted == val_batch_labels).sum().item()\n",
    "\n",
    "            # Collect predicted probabilities and true labels for AUC-ROC calculation\n",
    "            val_predicted_probs.extend(torch.softmax(val_edl_outputs, dim=1)[:, 1].detach().cpu().numpy())\n",
    "            val_true_labels.extend(val_batch_labels.cpu().numpy())\n",
    "\n",
    "    val_loss /= len(val_loader)\n",
    "    val_accuracy = val_correct / val_total\n",
    "    val_loss_history.append(val_loss)\n",
    "    \n",
    "    train_accuracy_history.append(accuracy)\n",
    "    val_accuracy_history.append(val_accuracy)\n",
    "    \n",
    "    # Calculate AUC-ROC percentage\n",
    "    val_auc_roc = roc_auc_score( val_true_labels, val_predicted_probs) * 100\n",
    "\n",
    "    if verbose:\n",
    "        print(f\"Epoch [{epoch+1}/{num_epochs}] | Validation Loss: {val_loss:.4f} | Validation Accuracy: {val_accuracy:.4f} | AUC-ROC: {val_auc_roc:.2f}% \\n\")\n",
    "\n",
    "    # Check for early stopping\n",
    "    if val_loss < best_val_loss:\n",
    "        best_val_loss = val_loss\n",
    "        patience_counter = 0\n",
    "    else:\n",
    "        patience_counter += 1\n",
    "\n",
    "    if early_stopping(val_loss_history, patience):\n",
    "        print(\"Early stopping triggered!\")\n",
    "        break"
   ]
  },
  {
   "cell_type": "code",
   "execution_count": 33,
   "id": "cc596781",
   "metadata": {},
   "outputs": [],
   "source": [
    "import matplotlib.pyplot as plt"
   ]
  },
  {
   "cell_type": "code",
   "execution_count": 34,
   "id": "ed7ee832",
   "metadata": {},
   "outputs": [
    {
     "data": {
      "image/png": "[encoded data removed]",
      "text/plain": [
       "<Figure size 640x480 with 1 Axes>"
      ]
     },
     "metadata": {},
     "output_type": "display_data"
    }
   ],
   "source": [
    "# Plot accuracy graph\n",
    "epochs = range(1, len(train_accuracy_history) + 1)\n",
    "\n",
    "plt.plot(epochs, train_accuracy_history, 'b', label='Training Accuracy')\n",
    "plt.plot(epochs, val_accuracy_history, 'r', label='Validation Accuracy')\n",
    "plt.title('Training and Validation Accuracy')\n",
    "plt.xlabel('Epochs')\n",
    "plt.ylabel('Accuracy')\n",
    "plt.legend()\n",
    "plt.show()"
   ]
  },
  {
   "cell_type": "code",
   "execution_count": 35,
   "id": "3c968630",
   "metadata": {},
   "outputs": [],
   "source": [
    "edge_index1 = calculate_edge_index(x_train[:20000], y_train[:20000], x_test[:6000], y_test[:6000])"
   ]
  },
  {
   "cell_type": "code",
   "execution_count": 36,
   "id": "443ecd4b",
   "metadata": {},
   "outputs": [],
   "source": [
    "edge_index1 = edge_index1.transpose(0, 1)"
   ]
  },
  {
   "cell_type": "code",
   "execution_count": 39,
   "id": "360f7ed9",
   "metadata": {},
   "outputs": [
    {
     "name": "stdout",
     "output_type": "stream",
     "text": [
      "Test Loss: 0.4748 | Test Accuracy: 0.9770\n"
     ]
    }
   ],
   "source": [
    "#TESTING\n",
    "mil_model.eval()\n",
    "\n",
    "test_loss = 0.0\n",
    "test_correct = 0\n",
    "test_total = 0\n",
    "\n",
    "with torch.no_grad():\n",
    "    for test_batch_data, test_batch_labels in test_loader:\n",
    "        test_batch_data = test_batch_data.to(device) \n",
    "        edge_index1 = edge_index1.to(device)  # Move edge indices to device\n",
    "        test_batch_labels = test_batch_labels.to(device)  # Move labels to device\n",
    "\n",
    "        # Forward pass\n",
    "        output = mil_model(test_batch_data, edge_index1)\n",
    "        test_edl_outputs = edl_model(output)\n",
    "\n",
    "        # Forward pass through GCN feature extractor\n",
    "        embeddings = gcn_fe_extractor(test_batch_data, edge_index1)\n",
    "\n",
    "        test_loss += criterion(test_edl_outputs, test_batch_labels.long(), embeddings, m=0.2).item()\n",
    "        _, test_predicted = torch.max(test_edl_outputs.data, 1)\n",
    "        test_total += test_batch_labels.size(0)\n",
    "        test_correct += (test_predicted == test_batch_labels).sum().item()\n",
    "\n",
    "test_loss /= len(test_loader)\n",
    "test_accuracy = test_correct / test_total\n",
    "\n",
    "print(f\"Test Loss: {test_loss:.4f} | Test Accuracy: {test_accuracy:.4f}\")"
   ]
  },
  {
   "cell_type": "code",
   "execution_count": null,
   "id": "e1d11c5e",
   "metadata": {},
   "outputs": [],
   "source": []
  }
 ],
 "metadata": {
  "kernelspec": {
   "display_name": "Python 3 (ipykernel)",
   "language": "python",
   "name": "python3"
  },
  "language_info": {
   "codemirror_mode": {
    "name": "ipython",
    "version": 3
   },
   "file_extension": ".py",
   "mimetype": "text/x-python",
   "name": "python",
   "nbconvert_exporter": "python",
   "pygments_lexer": "ipython3",
   "version": "3.9.12"
  }
 },
 "nbformat": 4,
 "nbformat_minor": 5
}
