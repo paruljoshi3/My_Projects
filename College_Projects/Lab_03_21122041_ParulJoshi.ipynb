{
 "cells": [
  {
   "cell_type": "markdown",
   "metadata": {},
   "source": [
    "# LAB 3 - Prediction of Numeric Values"
   ]
  },
  {
   "cell_type": "markdown",
   "metadata": {},
   "source": [
    "Submitted by <br>\n",
    "Name: Parul Joshi <br>\n",
    "Register Number: 21122041 <br>\n",
    "Class: MSC DS Sem 2 <br>"
   ]
  },
  {
   "cell_type": "markdown",
   "metadata": {},
   "source": [
    "## LAB OVERVIEW"
   ]
  },
  {
   "cell_type": "markdown",
   "metadata": {},
   "source": [
    "### Objectives"
   ]
  },
  {
   "cell_type": "markdown",
   "metadata": {},
   "source": [
    "- Import the neessary libraries.\n",
    "- Do the necessary Exploratory Data Analysis\n",
    "- Split the data accordingly to predict the rent.\n",
    "- Show the Regression Score, Intercept and other parameters etc in the Output\n",
    "- Explore wherever we can"
   ]
  },
  {
   "cell_type": "markdown",
   "metadata": {},
   "source": [
    "### Problem Defination"
   ]
  },
  {
   "cell_type": "markdown",
   "metadata": {},
   "source": [
    "**Common Instructions**\n",
    " - Use Pandas to Import the Dataset\n",
    " - Do the necessary Exploratory Data Analysis\n",
    " - Use the train_test_split method available in SCIKIT to split the dataset into Train Dataset and Test Dataset.\n",
    " - Show the Regression Score, Intercept and other parameters etc in the Output\n",
    " - Use visualizations and plots wherever possible\n",
    " - Format the outputs neatly; Do Documentation, Data Set Description, Objectives, Observations, Conclusions etc as you have done in your previous lab\n",
    " \n",
    "**Questions**\n",
    "1. What are your observations on the Dataset?\n",
    "2. What are the different Error Measures (Evaluation Metrics) in relation to Linear Regression? How much do you get in the above cases?\n",
    "3. Note down the errors/losses when the train-test ratio is 50:50, 60:40, 70:30, and 80:20\n",
    "4. During LinearRegression() process, what is the impact of giving TRUE/FALSE as the value for Normalize Parameter?\n",
    "\n",
    "**Cases\n",
    "Try to predict the rent of the below houses -**\n",
    "1. 1 BHK with 2 Baths in Portofino Street\n",
    "2. Fully Furnished 2 BHK in School Street\n",
    "3. Single Room anywhere in Lavasa"
   ]
  },
  {
   "cell_type": "markdown",
   "metadata": {},
   "source": [
    "### Approach"
   ]
  },
  {
   "cell_type": "markdown",
   "metadata": {},
   "source": [
    "- Importing all libraries which we needed.\n",
    "- Perform data preprocessing technique to get balanced structured data.\n",
    "- Perform statistical data analysis and derive valuable inference.\n",
    "- perform exploratory data analysis and derive valuable inference.\n",
    "- Visualizing things with some plot and derive valuable inference.\n",
    "- Train and test through LinearRegression models for better prediction."
   ]
  },
  {
   "cell_type": "markdown",
   "metadata": {},
   "source": [
    "### Sections"
   ]
  },
  {
   "cell_type": "markdown",
   "metadata": {},
   "source": [
    "Sections for this lab are -\n",
    "1. Lab Overview\n",
    "1. Coding\n",
    "1. References\n",
    "1. Conclusion"
   ]
  },
  {
   "cell_type": "markdown",
   "metadata": {},
   "source": [
    "## CODE"
   ]
  },
  {
   "cell_type": "code",
   "execution_count": 1,
   "metadata": {},
   "outputs": [],
   "source": [
    "import numpy as np\n",
    "import pandas as pd\n",
    "import matplotlib.pyplot as plt\n",
    "import seaborn as sns\n",
    "from sklearn.linear_model import LinearRegression\n",
    "from sklearn.model_selection import train_test_split\n",
    "from sklearn.metrics import r2_score\n",
    "from sklearn.metrics import mean_squared_error\n",
    "from sklearn.preprocessing import LabelEncoder"
   ]
  },
  {
   "cell_type": "code",
   "execution_count": 2,
   "metadata": {},
   "outputs": [],
   "source": [
    "df=pd.read_csv(\"D:\\HousePrices.csv\")"
   ]
  },
  {
   "cell_type": "code",
   "execution_count": 3,
   "metadata": {},
   "outputs": [
    {
     "data": {
      "text/html": [
       "<div>\n",
       "<style scoped>\n",
       "    .dataframe tbody tr th:only-of-type {\n",
       "        vertical-align: middle;\n",
       "    }\n",
       "\n",
       "    .dataframe tbody tr th {\n",
       "        vertical-align: top;\n",
       "    }\n",
       "\n",
       "    .dataframe thead th {\n",
       "        text-align: right;\n",
       "    }\n",
       "</style>\n",
       "<table border=\"1\" class=\"dataframe\">\n",
       "  <thead>\n",
       "    <tr style=\"text-align: right;\">\n",
       "      <th></th>\n",
       "      <th>BuildingType</th>\n",
       "      <th>Location</th>\n",
       "      <th>Size</th>\n",
       "      <th>AreaSqFt</th>\n",
       "      <th>NoOfBath</th>\n",
       "      <th>NoOfPeople</th>\n",
       "      <th>NoOfBalcony</th>\n",
       "      <th>RentPerMonth</th>\n",
       "    </tr>\n",
       "  </thead>\n",
       "  <tbody>\n",
       "    <tr>\n",
       "      <th>0</th>\n",
       "      <td>Minimum Budget Rooms</td>\n",
       "      <td>Portofino H</td>\n",
       "      <td>1 BHK</td>\n",
       "      <td>400.0</td>\n",
       "      <td>1</td>\n",
       "      <td>1</td>\n",
       "      <td>1</td>\n",
       "      <td>1100.0</td>\n",
       "    </tr>\n",
       "    <tr>\n",
       "      <th>1</th>\n",
       "      <td>Minimum Budget Rooms</td>\n",
       "      <td>Portofino H</td>\n",
       "      <td>1 BHK</td>\n",
       "      <td>450.0</td>\n",
       "      <td>1</td>\n",
       "      <td>1</td>\n",
       "      <td>1</td>\n",
       "      <td>1100.0</td>\n",
       "    </tr>\n",
       "    <tr>\n",
       "      <th>2</th>\n",
       "      <td>Minimum Budget Rooms</td>\n",
       "      <td>School Street</td>\n",
       "      <td>1 BHK</td>\n",
       "      <td>530.0</td>\n",
       "      <td>1</td>\n",
       "      <td>1</td>\n",
       "      <td>0</td>\n",
       "      <td>1166.0</td>\n",
       "    </tr>\n",
       "    <tr>\n",
       "      <th>3</th>\n",
       "      <td>Minimum Budget Rooms</td>\n",
       "      <td>Portofino B</td>\n",
       "      <td>1 BHK</td>\n",
       "      <td>400.0</td>\n",
       "      <td>1</td>\n",
       "      <td>1</td>\n",
       "      <td>0</td>\n",
       "      <td>1400.0</td>\n",
       "    </tr>\n",
       "    <tr>\n",
       "      <th>4</th>\n",
       "      <td>Minimum Budget Rooms</td>\n",
       "      <td>School Street</td>\n",
       "      <td>2 BHK</td>\n",
       "      <td>460.0</td>\n",
       "      <td>1</td>\n",
       "      <td>1</td>\n",
       "      <td>0</td>\n",
       "      <td>1500.0</td>\n",
       "    </tr>\n",
       "    <tr>\n",
       "      <th>...</th>\n",
       "      <td>...</td>\n",
       "      <td>...</td>\n",
       "      <td>...</td>\n",
       "      <td>...</td>\n",
       "      <td>...</td>\n",
       "      <td>...</td>\n",
       "      <td>...</td>\n",
       "      <td>...</td>\n",
       "    </tr>\n",
       "    <tr>\n",
       "      <th>995</th>\n",
       "      <td>Super Furnished Villa</td>\n",
       "      <td>Portofino D</td>\n",
       "      <td>4 BHK</td>\n",
       "      <td>4900.0</td>\n",
       "      <td>4</td>\n",
       "      <td>6</td>\n",
       "      <td>3</td>\n",
       "      <td>70000.0</td>\n",
       "    </tr>\n",
       "    <tr>\n",
       "      <th>996</th>\n",
       "      <td>Super Furnished Villa</td>\n",
       "      <td>Portofino B</td>\n",
       "      <td>4 BHK</td>\n",
       "      <td>3750.0</td>\n",
       "      <td>4</td>\n",
       "      <td>5</td>\n",
       "      <td>0</td>\n",
       "      <td>76000.0</td>\n",
       "    </tr>\n",
       "    <tr>\n",
       "      <th>997</th>\n",
       "      <td>Super Furnished Villa</td>\n",
       "      <td>School Street</td>\n",
       "      <td>4 BHK</td>\n",
       "      <td>5270.0</td>\n",
       "      <td>4</td>\n",
       "      <td>5</td>\n",
       "      <td>3</td>\n",
       "      <td>80000.0</td>\n",
       "    </tr>\n",
       "    <tr>\n",
       "      <th>998</th>\n",
       "      <td>Super Furnished Villa</td>\n",
       "      <td>Portofino B</td>\n",
       "      <td>6 BHK</td>\n",
       "      <td>5100.0</td>\n",
       "      <td>7</td>\n",
       "      <td>6</td>\n",
       "      <td>3</td>\n",
       "      <td>90000.0</td>\n",
       "    </tr>\n",
       "    <tr>\n",
       "      <th>999</th>\n",
       "      <td>Super Furnished Villa</td>\n",
       "      <td>Portofino B</td>\n",
       "      <td>7 BHK</td>\n",
       "      <td>6300.0</td>\n",
       "      <td>6</td>\n",
       "      <td>6</td>\n",
       "      <td>3</td>\n",
       "      <td>96000.0</td>\n",
       "    </tr>\n",
       "  </tbody>\n",
       "</table>\n",
       "<p>1000 rows × 8 columns</p>\n",
       "</div>"
      ],
      "text/plain": [
       "              BuildingType       Location   Size  AreaSqFt  NoOfBath  \\\n",
       "0     Minimum Budget Rooms    Portofino H  1 BHK     400.0         1   \n",
       "1     Minimum Budget Rooms    Portofino H  1 BHK     450.0         1   \n",
       "2     Minimum Budget Rooms  School Street  1 BHK     530.0         1   \n",
       "3     Minimum Budget Rooms    Portofino B  1 BHK     400.0         1   \n",
       "4     Minimum Budget Rooms  School Street  2 BHK     460.0         1   \n",
       "..                     ...            ...    ...       ...       ...   \n",
       "995  Super Furnished Villa    Portofino D  4 BHK    4900.0         4   \n",
       "996  Super Furnished Villa    Portofino B  4 BHK    3750.0         4   \n",
       "997  Super Furnished Villa  School Street  4 BHK    5270.0         4   \n",
       "998  Super Furnished Villa    Portofino B  6 BHK    5100.0         7   \n",
       "999  Super Furnished Villa    Portofino B  7 BHK    6300.0         6   \n",
       "\n",
       "     NoOfPeople  NoOfBalcony  RentPerMonth  \n",
       "0             1            1        1100.0  \n",
       "1             1            1        1100.0  \n",
       "2             1            0        1166.0  \n",
       "3             1            0        1400.0  \n",
       "4             1            0        1500.0  \n",
       "..          ...          ...           ...  \n",
       "995           6            3       70000.0  \n",
       "996           5            0       76000.0  \n",
       "997           5            3       80000.0  \n",
       "998           6            3       90000.0  \n",
       "999           6            3       96000.0  \n",
       "\n",
       "[1000 rows x 8 columns]"
      ]
     },
     "execution_count": 3,
     "metadata": {},
     "output_type": "execute_result"
    }
   ],
   "source": [
    "df"
   ]
  },
  {
   "cell_type": "code",
   "execution_count": 4,
   "metadata": {},
   "outputs": [
    {
     "data": {
      "text/html": [
       "<div>\n",
       "<style scoped>\n",
       "    .dataframe tbody tr th:only-of-type {\n",
       "        vertical-align: middle;\n",
       "    }\n",
       "\n",
       "    .dataframe tbody tr th {\n",
       "        vertical-align: top;\n",
       "    }\n",
       "\n",
       "    .dataframe thead th {\n",
       "        text-align: right;\n",
       "    }\n",
       "</style>\n",
       "<table border=\"1\" class=\"dataframe\">\n",
       "  <thead>\n",
       "    <tr style=\"text-align: right;\">\n",
       "      <th></th>\n",
       "      <th>BuildingType</th>\n",
       "      <th>Location</th>\n",
       "      <th>Size</th>\n",
       "      <th>AreaSqFt</th>\n",
       "      <th>NoOfBath</th>\n",
       "      <th>NoOfPeople</th>\n",
       "      <th>NoOfBalcony</th>\n",
       "      <th>RentPerMonth</th>\n",
       "    </tr>\n",
       "  </thead>\n",
       "  <tbody>\n",
       "    <tr>\n",
       "      <th>0</th>\n",
       "      <td>Minimum Budget Rooms</td>\n",
       "      <td>Portofino H</td>\n",
       "      <td>1 BHK</td>\n",
       "      <td>400.0</td>\n",
       "      <td>1</td>\n",
       "      <td>1</td>\n",
       "      <td>1</td>\n",
       "      <td>1100.0</td>\n",
       "    </tr>\n",
       "    <tr>\n",
       "      <th>1</th>\n",
       "      <td>Minimum Budget Rooms</td>\n",
       "      <td>Portofino H</td>\n",
       "      <td>1 BHK</td>\n",
       "      <td>450.0</td>\n",
       "      <td>1</td>\n",
       "      <td>1</td>\n",
       "      <td>1</td>\n",
       "      <td>1100.0</td>\n",
       "    </tr>\n",
       "    <tr>\n",
       "      <th>2</th>\n",
       "      <td>Minimum Budget Rooms</td>\n",
       "      <td>School Street</td>\n",
       "      <td>1 BHK</td>\n",
       "      <td>530.0</td>\n",
       "      <td>1</td>\n",
       "      <td>1</td>\n",
       "      <td>0</td>\n",
       "      <td>1166.0</td>\n",
       "    </tr>\n",
       "    <tr>\n",
       "      <th>3</th>\n",
       "      <td>Minimum Budget Rooms</td>\n",
       "      <td>Portofino B</td>\n",
       "      <td>1 BHK</td>\n",
       "      <td>400.0</td>\n",
       "      <td>1</td>\n",
       "      <td>1</td>\n",
       "      <td>0</td>\n",
       "      <td>1400.0</td>\n",
       "    </tr>\n",
       "    <tr>\n",
       "      <th>4</th>\n",
       "      <td>Minimum Budget Rooms</td>\n",
       "      <td>School Street</td>\n",
       "      <td>2 BHK</td>\n",
       "      <td>460.0</td>\n",
       "      <td>1</td>\n",
       "      <td>1</td>\n",
       "      <td>0</td>\n",
       "      <td>1500.0</td>\n",
       "    </tr>\n",
       "  </tbody>\n",
       "</table>\n",
       "</div>"
      ],
      "text/plain": [
       "           BuildingType       Location   Size  AreaSqFt  NoOfBath  NoOfPeople  \\\n",
       "0  Minimum Budget Rooms    Portofino H  1 BHK     400.0         1           1   \n",
       "1  Minimum Budget Rooms    Portofino H  1 BHK     450.0         1           1   \n",
       "2  Minimum Budget Rooms  School Street  1 BHK     530.0         1           1   \n",
       "3  Minimum Budget Rooms    Portofino B  1 BHK     400.0         1           1   \n",
       "4  Minimum Budget Rooms  School Street  2 BHK     460.0         1           1   \n",
       "\n",
       "   NoOfBalcony  RentPerMonth  \n",
       "0            1        1100.0  \n",
       "1            1        1100.0  \n",
       "2            0        1166.0  \n",
       "3            0        1400.0  \n",
       "4            0        1500.0  "
      ]
     },
     "execution_count": 4,
     "metadata": {},
     "output_type": "execute_result"
    }
   ],
   "source": [
    "df.head()"
   ]
  },
  {
   "cell_type": "code",
   "execution_count": 5,
   "metadata": {},
   "outputs": [
    {
     "data": {
      "text/html": [
       "<div>\n",
       "<style scoped>\n",
       "    .dataframe tbody tr th:only-of-type {\n",
       "        vertical-align: middle;\n",
       "    }\n",
       "\n",
       "    .dataframe tbody tr th {\n",
       "        vertical-align: top;\n",
       "    }\n",
       "\n",
       "    .dataframe thead th {\n",
       "        text-align: right;\n",
       "    }\n",
       "</style>\n",
       "<table border=\"1\" class=\"dataframe\">\n",
       "  <thead>\n",
       "    <tr style=\"text-align: right;\">\n",
       "      <th></th>\n",
       "      <th>BuildingType</th>\n",
       "      <th>Location</th>\n",
       "      <th>Size</th>\n",
       "      <th>AreaSqFt</th>\n",
       "      <th>NoOfBath</th>\n",
       "      <th>NoOfPeople</th>\n",
       "      <th>NoOfBalcony</th>\n",
       "      <th>RentPerMonth</th>\n",
       "    </tr>\n",
       "  </thead>\n",
       "  <tbody>\n",
       "    <tr>\n",
       "      <th>995</th>\n",
       "      <td>Super Furnished Villa</td>\n",
       "      <td>Portofino D</td>\n",
       "      <td>4 BHK</td>\n",
       "      <td>4900.0</td>\n",
       "      <td>4</td>\n",
       "      <td>6</td>\n",
       "      <td>3</td>\n",
       "      <td>70000.0</td>\n",
       "    </tr>\n",
       "    <tr>\n",
       "      <th>996</th>\n",
       "      <td>Super Furnished Villa</td>\n",
       "      <td>Portofino B</td>\n",
       "      <td>4 BHK</td>\n",
       "      <td>3750.0</td>\n",
       "      <td>4</td>\n",
       "      <td>5</td>\n",
       "      <td>0</td>\n",
       "      <td>76000.0</td>\n",
       "    </tr>\n",
       "    <tr>\n",
       "      <th>997</th>\n",
       "      <td>Super Furnished Villa</td>\n",
       "      <td>School Street</td>\n",
       "      <td>4 BHK</td>\n",
       "      <td>5270.0</td>\n",
       "      <td>4</td>\n",
       "      <td>5</td>\n",
       "      <td>3</td>\n",
       "      <td>80000.0</td>\n",
       "    </tr>\n",
       "    <tr>\n",
       "      <th>998</th>\n",
       "      <td>Super Furnished Villa</td>\n",
       "      <td>Portofino B</td>\n",
       "      <td>6 BHK</td>\n",
       "      <td>5100.0</td>\n",
       "      <td>7</td>\n",
       "      <td>6</td>\n",
       "      <td>3</td>\n",
       "      <td>90000.0</td>\n",
       "    </tr>\n",
       "    <tr>\n",
       "      <th>999</th>\n",
       "      <td>Super Furnished Villa</td>\n",
       "      <td>Portofino B</td>\n",
       "      <td>7 BHK</td>\n",
       "      <td>6300.0</td>\n",
       "      <td>6</td>\n",
       "      <td>6</td>\n",
       "      <td>3</td>\n",
       "      <td>96000.0</td>\n",
       "    </tr>\n",
       "  </tbody>\n",
       "</table>\n",
       "</div>"
      ],
      "text/plain": [
       "              BuildingType       Location   Size  AreaSqFt  NoOfBath  \\\n",
       "995  Super Furnished Villa    Portofino D  4 BHK    4900.0         4   \n",
       "996  Super Furnished Villa    Portofino B  4 BHK    3750.0         4   \n",
       "997  Super Furnished Villa  School Street  4 BHK    5270.0         4   \n",
       "998  Super Furnished Villa    Portofino B  6 BHK    5100.0         7   \n",
       "999  Super Furnished Villa    Portofino B  7 BHK    6300.0         6   \n",
       "\n",
       "     NoOfPeople  NoOfBalcony  RentPerMonth  \n",
       "995           6            3       70000.0  \n",
       "996           5            0       76000.0  \n",
       "997           5            3       80000.0  \n",
       "998           6            3       90000.0  \n",
       "999           6            3       96000.0  "
      ]
     },
     "execution_count": 5,
     "metadata": {},
     "output_type": "execute_result"
    }
   ],
   "source": [
    "df.tail()"
   ]
  },
  {
   "cell_type": "code",
   "execution_count": 6,
   "metadata": {},
   "outputs": [
    {
     "data": {
      "text/plain": [
       "BuildingType    0\n",
       "Location        0\n",
       "Size            0\n",
       "AreaSqFt        0\n",
       "NoOfBath        0\n",
       "NoOfPeople      0\n",
       "NoOfBalcony     0\n",
       "RentPerMonth    0\n",
       "dtype: int64"
      ]
     },
     "execution_count": 6,
     "metadata": {},
     "output_type": "execute_result"
    }
   ],
   "source": [
    "df.isnull().sum()"
   ]
  },
  {
   "cell_type": "code",
   "execution_count": 7,
   "metadata": {},
   "outputs": [
    {
     "data": {
      "text/plain": [
       "<matplotlib.axes._subplots.AxesSubplot at 0x2667e68ff08>"
      ]
     },
     "execution_count": 7,
     "metadata": {},
     "output_type": "execute_result"
    },
    {
     "data": {
      "image/png": "[encoded data removed]",
      "text/plain": [
       "<Figure size 432x288 with 2 Axes>"
      ]
     },
     "metadata": {
      "needs_background": "light"
     },
     "output_type": "display_data"
    }
   ],
   "source": [
    "#see if the null values are present through visualization\n",
    "sns.heatmap(df.isnull())"
   ]
  },
  {
   "cell_type": "code",
   "execution_count": 8,
   "metadata": {},
   "outputs": [
    {
     "data": {
      "text/plain": [
       "BuildingType     object\n",
       "Location         object\n",
       "Size             object\n",
       "AreaSqFt        float64\n",
       "NoOfBath          int64\n",
       "NoOfPeople        int64\n",
       "NoOfBalcony       int64\n",
       "RentPerMonth    float64\n",
       "dtype: object"
      ]
     },
     "execution_count": 8,
     "metadata": {},
     "output_type": "execute_result"
    }
   ],
   "source": [
    "df.dtypes"
   ]
  },
  {
   "cell_type": "code",
   "execution_count": 9,
   "metadata": {},
   "outputs": [
    {
     "name": "stdout",
     "output_type": "stream",
     "text": [
      "<class 'pandas.core.frame.DataFrame'>\n",
      "RangeIndex: 1000 entries, 0 to 999\n",
      "Data columns (total 8 columns):\n",
      " #   Column        Non-Null Count  Dtype  \n",
      "---  ------        --------------  -----  \n",
      " 0   BuildingType  1000 non-null   object \n",
      " 1   Location      1000 non-null   object \n",
      " 2   Size          1000 non-null   object \n",
      " 3   AreaSqFt      1000 non-null   float64\n",
      " 4   NoOfBath      1000 non-null   int64  \n",
      " 5   NoOfPeople    1000 non-null   int64  \n",
      " 6   NoOfBalcony   1000 non-null   int64  \n",
      " 7   RentPerMonth  1000 non-null   float64\n",
      "dtypes: float64(2), int64(3), object(3)\n",
      "memory usage: 62.6+ KB\n"
     ]
    }
   ],
   "source": [
    "df.info()"
   ]
  },
  {
   "cell_type": "code",
   "execution_count": 10,
   "metadata": {},
   "outputs": [
    {
     "data": {
      "text/plain": [
       "(1000, 8)"
      ]
     },
     "execution_count": 10,
     "metadata": {},
     "output_type": "execute_result"
    }
   ],
   "source": [
    "df.shape"
   ]
  },
  {
   "cell_type": "code",
   "execution_count": 11,
   "metadata": {},
   "outputs": [
    {
     "data": {
      "text/html": [
       "<div>\n",
       "<style scoped>\n",
       "    .dataframe tbody tr th:only-of-type {\n",
       "        vertical-align: middle;\n",
       "    }\n",
       "\n",
       "    .dataframe tbody tr th {\n",
       "        vertical-align: top;\n",
       "    }\n",
       "\n",
       "    .dataframe thead th {\n",
       "        text-align: right;\n",
       "    }\n",
       "</style>\n",
       "<table border=\"1\" class=\"dataframe\">\n",
       "  <thead>\n",
       "    <tr style=\"text-align: right;\">\n",
       "      <th></th>\n",
       "      <th>AreaSqFt</th>\n",
       "      <th>NoOfBath</th>\n",
       "      <th>NoOfPeople</th>\n",
       "      <th>NoOfBalcony</th>\n",
       "      <th>RentPerMonth</th>\n",
       "    </tr>\n",
       "  </thead>\n",
       "  <tbody>\n",
       "    <tr>\n",
       "      <th>count</th>\n",
       "      <td>1000.000000</td>\n",
       "      <td>1000.000000</td>\n",
       "      <td>1000.000000</td>\n",
       "      <td>1000.000000</td>\n",
       "      <td>1000.000000</td>\n",
       "    </tr>\n",
       "    <tr>\n",
       "      <th>mean</th>\n",
       "      <td>1548.270010</td>\n",
       "      <td>2.661000</td>\n",
       "      <td>2.168000</td>\n",
       "      <td>1.544000</td>\n",
       "      <td>10476.633500</td>\n",
       "    </tr>\n",
       "    <tr>\n",
       "      <th>std</th>\n",
       "      <td>1345.141175</td>\n",
       "      <td>1.247251</td>\n",
       "      <td>0.959529</td>\n",
       "      <td>0.838312</td>\n",
       "      <td>10509.508971</td>\n",
       "    </tr>\n",
       "    <tr>\n",
       "      <th>min</th>\n",
       "      <td>375.000000</td>\n",
       "      <td>1.000000</td>\n",
       "      <td>1.000000</td>\n",
       "      <td>0.000000</td>\n",
       "      <td>1100.000000</td>\n",
       "    </tr>\n",
       "    <tr>\n",
       "      <th>25%</th>\n",
       "      <td>1090.000000</td>\n",
       "      <td>2.000000</td>\n",
       "      <td>2.000000</td>\n",
       "      <td>1.000000</td>\n",
       "      <td>4890.500000</td>\n",
       "    </tr>\n",
       "    <tr>\n",
       "      <th>50%</th>\n",
       "      <td>1270.000000</td>\n",
       "      <td>2.000000</td>\n",
       "      <td>2.000000</td>\n",
       "      <td>2.000000</td>\n",
       "      <td>7000.000000</td>\n",
       "    </tr>\n",
       "    <tr>\n",
       "      <th>75%</th>\n",
       "      <td>1664.250000</td>\n",
       "      <td>3.000000</td>\n",
       "      <td>2.000000</td>\n",
       "      <td>2.000000</td>\n",
       "      <td>11925.000000</td>\n",
       "    </tr>\n",
       "    <tr>\n",
       "      <th>max</th>\n",
       "      <td>35000.000000</td>\n",
       "      <td>11.000000</td>\n",
       "      <td>6.000000</td>\n",
       "      <td>3.000000</td>\n",
       "      <td>96000.000000</td>\n",
       "    </tr>\n",
       "  </tbody>\n",
       "</table>\n",
       "</div>"
      ],
      "text/plain": [
       "           AreaSqFt     NoOfBath   NoOfPeople  NoOfBalcony  RentPerMonth\n",
       "count   1000.000000  1000.000000  1000.000000  1000.000000   1000.000000\n",
       "mean    1548.270010     2.661000     2.168000     1.544000  10476.633500\n",
       "std     1345.141175     1.247251     0.959529     0.838312  10509.508971\n",
       "min      375.000000     1.000000     1.000000     0.000000   1100.000000\n",
       "25%     1090.000000     2.000000     2.000000     1.000000   4890.500000\n",
       "50%     1270.000000     2.000000     2.000000     2.000000   7000.000000\n",
       "75%     1664.250000     3.000000     2.000000     2.000000  11925.000000\n",
       "max    35000.000000    11.000000     6.000000     3.000000  96000.000000"
      ]
     },
     "execution_count": 11,
     "metadata": {},
     "output_type": "execute_result"
    }
   ],
   "source": [
    "df.describe()"
   ]
  },
  {
   "cell_type": "code",
   "execution_count": 12,
   "metadata": {},
   "outputs": [
    {
     "name": "stderr",
     "output_type": "stream",
     "text": [
      "C:\\Users\\parul\\anaconda3\\lib\\site-packages\\ipykernel_launcher.py:2: UserWarning: Pandas doesn't allow columns to be created via a new attribute name - see https://pandas.pydata.org/pandas-docs/stable/indexing.html#attribute-access\n",
      "  \n"
     ]
    },
    {
     "data": {
      "text/html": [
       "<div>\n",
       "<style scoped>\n",
       "    .dataframe tbody tr th:only-of-type {\n",
       "        vertical-align: middle;\n",
       "    }\n",
       "\n",
       "    .dataframe tbody tr th {\n",
       "        vertical-align: top;\n",
       "    }\n",
       "\n",
       "    .dataframe thead th {\n",
       "        text-align: right;\n",
       "    }\n",
       "</style>\n",
       "<table border=\"1\" class=\"dataframe\">\n",
       "  <thead>\n",
       "    <tr style=\"text-align: right;\">\n",
       "      <th></th>\n",
       "      <th>AreaSqFt</th>\n",
       "      <th>NoOfBath</th>\n",
       "      <th>NoOfPeople</th>\n",
       "      <th>NoOfBalcony</th>\n",
       "      <th>RentPerMonth</th>\n",
       "    </tr>\n",
       "  </thead>\n",
       "  <tbody>\n",
       "    <tr>\n",
       "      <th>AreaSqFt</th>\n",
       "      <td>1.000000</td>\n",
       "      <td>0.375791</td>\n",
       "      <td>0.374907</td>\n",
       "      <td>0.206123</td>\n",
       "      <td>0.473022</td>\n",
       "    </tr>\n",
       "    <tr>\n",
       "      <th>NoOfBath</th>\n",
       "      <td>0.375791</td>\n",
       "      <td>1.000000</td>\n",
       "      <td>0.480063</td>\n",
       "      <td>0.258885</td>\n",
       "      <td>0.579693</td>\n",
       "    </tr>\n",
       "    <tr>\n",
       "      <th>NoOfPeople</th>\n",
       "      <td>0.374907</td>\n",
       "      <td>0.480063</td>\n",
       "      <td>1.000000</td>\n",
       "      <td>0.184932</td>\n",
       "      <td>0.782853</td>\n",
       "    </tr>\n",
       "    <tr>\n",
       "      <th>NoOfBalcony</th>\n",
       "      <td>0.206123</td>\n",
       "      <td>0.258885</td>\n",
       "      <td>0.184932</td>\n",
       "      <td>1.000000</td>\n",
       "      <td>0.193619</td>\n",
       "    </tr>\n",
       "    <tr>\n",
       "      <th>RentPerMonth</th>\n",
       "      <td>0.473022</td>\n",
       "      <td>0.579693</td>\n",
       "      <td>0.782853</td>\n",
       "      <td>0.193619</td>\n",
       "      <td>1.000000</td>\n",
       "    </tr>\n",
       "  </tbody>\n",
       "</table>\n",
       "</div>"
      ],
      "text/plain": [
       "              AreaSqFt  NoOfBath  NoOfPeople  NoOfBalcony  RentPerMonth\n",
       "AreaSqFt      1.000000  0.375791    0.374907     0.206123      0.473022\n",
       "NoOfBath      0.375791  1.000000    0.480063     0.258885      0.579693\n",
       "NoOfPeople    0.374907  0.480063    1.000000     0.184932      0.782853\n",
       "NoOfBalcony   0.206123  0.258885    0.184932     1.000000      0.193619\n",
       "RentPerMonth  0.473022  0.579693    0.782853     0.193619      1.000000"
      ]
     },
     "execution_count": 12,
     "metadata": {},
     "output_type": "execute_result"
    }
   ],
   "source": [
    "#checking the correlation \n",
    "df.cor=df.corr()\n",
    "df.cor"
   ]
  },
  {
   "cell_type": "code",
   "execution_count": 13,
   "metadata": {},
   "outputs": [
    {
     "data": {
      "text/plain": [
       "Index(['BuildingType', 'Location', 'Size', 'AreaSqFt', 'NoOfBath',\n",
       "       'NoOfPeople', 'NoOfBalcony', 'RentPerMonth'],\n",
       "      dtype='object')"
      ]
     },
     "execution_count": 13,
     "metadata": {},
     "output_type": "execute_result"
    }
   ],
   "source": [
    "df.columns"
   ]
  },
  {
   "cell_type": "code",
   "execution_count": 14,
   "metadata": {
    "scrolled": true
   },
   "outputs": [
    {
     "data": {
      "image/png": "[encoded data removed]",
      "text/plain": [
       "<Figure size 432x288 with 1 Axes>"
      ]
     },
     "metadata": {
      "needs_background": "light"
     },
     "output_type": "display_data"
    }
   ],
   "source": [
    "plt.hist(df['RentPerMonth'],bins=10)\n",
    "plt.title('Rent Price Histogram')\n",
    "plt.show()"
   ]
  },
  {
   "cell_type": "code",
   "execution_count": 15,
   "metadata": {},
   "outputs": [
    {
     "data": {
      "text/plain": [
       "Semi Furnished Single Room     274\n",
       "Semi Furnished Flat            246\n",
       "Fully Furnished Single Room    153\n",
       "Minimum Budget Rooms           146\n",
       "Semi Furnished Villa            63\n",
       "Fully Furnished Flat            41\n",
       "Super Furnished Single Room     25\n",
       "Super Furnished Villa           21\n",
       "Fully Furnished Villa           19\n",
       "Super Furnished Flat            12\n",
       "Name: BuildingType, dtype: int64"
      ]
     },
     "execution_count": 15,
     "metadata": {},
     "output_type": "execute_result"
    }
   ],
   "source": [
    "df['BuildingType'].value_counts()"
   ]
  },
  {
   "cell_type": "code",
   "execution_count": 16,
   "metadata": {},
   "outputs": [
    {
     "data": {
      "text/plain": [
       "Clubview Road    213\n",
       "Portofino B      173\n",
       "School Street    138\n",
       "Portofino D      105\n",
       "Portofino C      103\n",
       "Portofino A       95\n",
       "Portofino H       62\n",
       "Portofino E       54\n",
       "Portofino G       26\n",
       "Portofino F       22\n",
       "Starter Homes      9\n",
       "Name: Location, dtype: int64"
      ]
     },
     "execution_count": 16,
     "metadata": {},
     "output_type": "execute_result"
    }
   ],
   "source": [
    "df['Location'].value_counts()"
   ]
  },
  {
   "cell_type": "code",
   "execution_count": 17,
   "metadata": {},
   "outputs": [
    {
     "data": {
      "image/png": "[encoded data removed]",
      "text/plain": [
       "<Figure size 432x288 with 1 Axes>"
      ]
     },
     "metadata": {},
     "output_type": "display_data"
    }
   ],
   "source": [
    "sns.set(style=\"whitegrid\")\n",
    "ax=sns.stripplot(x='Size',y='RentPerMonth',data=df);\n",
    "plt.title('Graph')\n",
    "plt.show()"
   ]
  },
  {
   "cell_type": "code",
   "execution_count": 18,
   "metadata": {},
   "outputs": [
    {
     "data": {
      "text/html": [
       "<div>\n",
       "<style scoped>\n",
       "    .dataframe tbody tr th:only-of-type {\n",
       "        vertical-align: middle;\n",
       "    }\n",
       "\n",
       "    .dataframe tbody tr th {\n",
       "        vertical-align: top;\n",
       "    }\n",
       "\n",
       "    .dataframe thead th {\n",
       "        text-align: right;\n",
       "    }\n",
       "</style>\n",
       "<table border=\"1\" class=\"dataframe\">\n",
       "  <thead>\n",
       "    <tr style=\"text-align: right;\">\n",
       "      <th></th>\n",
       "      <th>BuildingType</th>\n",
       "      <th>Location</th>\n",
       "      <th>Size</th>\n",
       "      <th>AreaSqFt</th>\n",
       "      <th>NoOfBath</th>\n",
       "      <th>NoOfPeople</th>\n",
       "      <th>NoOfBalcony</th>\n",
       "      <th>RentPerMonth</th>\n",
       "    </tr>\n",
       "  </thead>\n",
       "  <tbody>\n",
       "    <tr>\n",
       "      <th>0</th>\n",
       "      <td>Minimum Budget Rooms</td>\n",
       "      <td>Portofino</td>\n",
       "      <td>1 BHK</td>\n",
       "      <td>400.0</td>\n",
       "      <td>1</td>\n",
       "      <td>1</td>\n",
       "      <td>1</td>\n",
       "      <td>1100.0</td>\n",
       "    </tr>\n",
       "    <tr>\n",
       "      <th>1</th>\n",
       "      <td>Minimum Budget Rooms</td>\n",
       "      <td>Portofino</td>\n",
       "      <td>1 BHK</td>\n",
       "      <td>450.0</td>\n",
       "      <td>1</td>\n",
       "      <td>1</td>\n",
       "      <td>1</td>\n",
       "      <td>1100.0</td>\n",
       "    </tr>\n",
       "    <tr>\n",
       "      <th>2</th>\n",
       "      <td>Minimum Budget Rooms</td>\n",
       "      <td>School Street</td>\n",
       "      <td>1 BHK</td>\n",
       "      <td>530.0</td>\n",
       "      <td>1</td>\n",
       "      <td>1</td>\n",
       "      <td>0</td>\n",
       "      <td>1166.0</td>\n",
       "    </tr>\n",
       "    <tr>\n",
       "      <th>3</th>\n",
       "      <td>Minimum Budget Rooms</td>\n",
       "      <td>Portofino</td>\n",
       "      <td>1 BHK</td>\n",
       "      <td>400.0</td>\n",
       "      <td>1</td>\n",
       "      <td>1</td>\n",
       "      <td>0</td>\n",
       "      <td>1400.0</td>\n",
       "    </tr>\n",
       "    <tr>\n",
       "      <th>4</th>\n",
       "      <td>Minimum Budget Rooms</td>\n",
       "      <td>School Street</td>\n",
       "      <td>2 BHK</td>\n",
       "      <td>460.0</td>\n",
       "      <td>1</td>\n",
       "      <td>1</td>\n",
       "      <td>0</td>\n",
       "      <td>1500.0</td>\n",
       "    </tr>\n",
       "    <tr>\n",
       "      <th>...</th>\n",
       "      <td>...</td>\n",
       "      <td>...</td>\n",
       "      <td>...</td>\n",
       "      <td>...</td>\n",
       "      <td>...</td>\n",
       "      <td>...</td>\n",
       "      <td>...</td>\n",
       "      <td>...</td>\n",
       "    </tr>\n",
       "    <tr>\n",
       "      <th>995</th>\n",
       "      <td>Super Furnished Villa</td>\n",
       "      <td>Portofino</td>\n",
       "      <td>4 BHK</td>\n",
       "      <td>4900.0</td>\n",
       "      <td>4</td>\n",
       "      <td>6</td>\n",
       "      <td>3</td>\n",
       "      <td>70000.0</td>\n",
       "    </tr>\n",
       "    <tr>\n",
       "      <th>996</th>\n",
       "      <td>Super Furnished Villa</td>\n",
       "      <td>Portofino</td>\n",
       "      <td>4 BHK</td>\n",
       "      <td>3750.0</td>\n",
       "      <td>4</td>\n",
       "      <td>5</td>\n",
       "      <td>0</td>\n",
       "      <td>76000.0</td>\n",
       "    </tr>\n",
       "    <tr>\n",
       "      <th>997</th>\n",
       "      <td>Super Furnished Villa</td>\n",
       "      <td>School Street</td>\n",
       "      <td>4 BHK</td>\n",
       "      <td>5270.0</td>\n",
       "      <td>4</td>\n",
       "      <td>5</td>\n",
       "      <td>3</td>\n",
       "      <td>80000.0</td>\n",
       "    </tr>\n",
       "    <tr>\n",
       "      <th>998</th>\n",
       "      <td>Super Furnished Villa</td>\n",
       "      <td>Portofino</td>\n",
       "      <td>6 BHK</td>\n",
       "      <td>5100.0</td>\n",
       "      <td>7</td>\n",
       "      <td>6</td>\n",
       "      <td>3</td>\n",
       "      <td>90000.0</td>\n",
       "    </tr>\n",
       "    <tr>\n",
       "      <th>999</th>\n",
       "      <td>Super Furnished Villa</td>\n",
       "      <td>Portofino</td>\n",
       "      <td>7 BHK</td>\n",
       "      <td>6300.0</td>\n",
       "      <td>6</td>\n",
       "      <td>6</td>\n",
       "      <td>3</td>\n",
       "      <td>96000.0</td>\n",
       "    </tr>\n",
       "  </tbody>\n",
       "</table>\n",
       "<p>1000 rows × 8 columns</p>\n",
       "</div>"
      ],
      "text/plain": [
       "              BuildingType       Location   Size  AreaSqFt  NoOfBath  \\\n",
       "0     Minimum Budget Rooms      Portofino  1 BHK     400.0         1   \n",
       "1     Minimum Budget Rooms      Portofino  1 BHK     450.0         1   \n",
       "2     Minimum Budget Rooms  School Street  1 BHK     530.0         1   \n",
       "3     Minimum Budget Rooms      Portofino  1 BHK     400.0         1   \n",
       "4     Minimum Budget Rooms  School Street  2 BHK     460.0         1   \n",
       "..                     ...            ...    ...       ...       ...   \n",
       "995  Super Furnished Villa      Portofino  4 BHK    4900.0         4   \n",
       "996  Super Furnished Villa      Portofino  4 BHK    3750.0         4   \n",
       "997  Super Furnished Villa  School Street  4 BHK    5270.0         4   \n",
       "998  Super Furnished Villa      Portofino  6 BHK    5100.0         7   \n",
       "999  Super Furnished Villa      Portofino  7 BHK    6300.0         6   \n",
       "\n",
       "     NoOfPeople  NoOfBalcony  RentPerMonth  \n",
       "0             1            1        1100.0  \n",
       "1             1            1        1100.0  \n",
       "2             1            0        1166.0  \n",
       "3             1            0        1400.0  \n",
       "4             1            0        1500.0  \n",
       "..          ...          ...           ...  \n",
       "995           6            3       70000.0  \n",
       "996           5            0       76000.0  \n",
       "997           5            3       80000.0  \n",
       "998           6            3       90000.0  \n",
       "999           6            3       96000.0  \n",
       "\n",
       "[1000 rows x 8 columns]"
      ]
     },
     "execution_count": 18,
     "metadata": {},
     "output_type": "execute_result"
    }
   ],
   "source": [
    "df['Location'] = df['Location'].replace(['Portofino A','Portofino B','Portofino C','Portofino D','Portofino E','Portofino F','Portofino G','Portofino H'],'Portofino')\n",
    "df"
   ]
  },
  {
   "cell_type": "code",
   "execution_count": 19,
   "metadata": {},
   "outputs": [
    {
     "data": {
      "image/png": "[encoded data removed]",
      "text/plain": [
       "<Figure size 1872x720 with 1 Axes>"
      ]
     },
     "metadata": {},
     "output_type": "display_data"
    }
   ],
   "source": [
    "plt.figure(figsize = [26,10])\n",
    "sns.countplot(x = 'BuildingType', palette = \"rainbow\", alpha = 0.7, data = df)\n",
    "sns.despine()"
   ]
  },
  {
   "cell_type": "code",
   "execution_count": 20,
   "metadata": {},
   "outputs": [
    {
     "data": {
      "text/plain": [
       "<matplotlib.axes._subplots.AxesSubplot at 0x266002b4808>"
      ]
     },
     "execution_count": 20,
     "metadata": {},
     "output_type": "execute_result"
    },
    {
     "data": {
      "image/png": "[encoded data removed]",
      "text/plain": [
       "<Figure size 432x288 with 1 Axes>"
      ]
     },
     "metadata": {},
     "output_type": "display_data"
    }
   ],
   "source": [
    "df.Location.hist(bins=20)"
   ]
  },
  {
   "cell_type": "code",
   "execution_count": 21,
   "metadata": {},
   "outputs": [
    {
     "data": {
      "image/png": "[encoded data removed]",
      "text/plain": [
       "<Figure size 432x288 with 1 Axes>"
      ]
     },
     "metadata": {},
     "output_type": "display_data"
    }
   ],
   "source": [
    "ax=sns.swarmplot(x='RentPerMonth',y='Location',data=df);\n",
    "plt.title('Graph')\n",
    "plt.show()"
   ]
  },
  {
   "cell_type": "code",
   "execution_count": 22,
   "metadata": {},
   "outputs": [
    {
     "data": {
      "image/png": "[encoded data removed]",
      "text/plain": [
       "<Figure size 547.225x360 with 1 Axes>"
      ]
     },
     "metadata": {},
     "output_type": "display_data"
    }
   ],
   "source": [
    "#set up a category plot\n",
    "g=sns.catplot(x='Location',y='RentPerMonth',hue='BuildingType',data=df,kind='bar')"
   ]
  },
  {
   "cell_type": "code",
   "execution_count": 23,
   "metadata": {},
   "outputs": [
    {
     "data": {
      "image/png": "[encoded data removed]",
      "text/plain": [
       "<Figure size 720x360 with 1 Axes>"
      ]
     },
     "metadata": {},
     "output_type": "display_data"
    }
   ],
   "source": [
    "plt.figure(figsize = [10,5])\n",
    "sns.countplot(x = 'Location', palette = \"twilight\", alpha = 0.7, data = df)\n",
    "sns.despine()"
   ]
  },
  {
   "cell_type": "code",
   "execution_count": 24,
   "metadata": {},
   "outputs": [
    {
     "data": {
      "text/plain": [
       "<seaborn.axisgrid.PairGrid at 0x2660013d8c8>"
      ]
     },
     "execution_count": 24,
     "metadata": {},
     "output_type": "execute_result"
    },
    {
     "data": {
      "image/png": "[encoded data removed]",
      "text/plain": [
       "<Figure size 900x900 with 30 Axes>"
      ]
     },
     "metadata": {},
     "output_type": "display_data"
    }
   ],
   "source": [
    "sns.pairplot(df)"
   ]
  },
  {
   "cell_type": "code",
   "execution_count": 25,
   "metadata": {},
   "outputs": [
    {
     "data": {
      "text/plain": [
       "<matplotlib.axes._subplots.AxesSubplot at 0x26600ddd288>"
      ]
     },
     "execution_count": 25,
     "metadata": {},
     "output_type": "execute_result"
    },
    {
     "data": {
      "image/png": "[encoded data removed]",
      "text/plain": [
       "<Figure size 1296x576 with 2 Axes>"
      ]
     },
     "metadata": {},
     "output_type": "display_data"
    }
   ],
   "source": [
    "plt.figure(figsize = [18,8])\n",
    "sns.heatmap(df.corr(),annot=True)"
   ]
  },
  {
   "cell_type": "code",
   "execution_count": 26,
   "metadata": {},
   "outputs": [
    {
     "data": {
      "text/plain": [
       "BuildingType    Super Furnished Villa\n",
       "Location                Starter Homes\n",
       "Size                            9 BHK\n",
       "AreaSqFt                        35000\n",
       "NoOfBath                           11\n",
       "NoOfPeople                          6\n",
       "NoOfBalcony                         3\n",
       "RentPerMonth                    96000\n",
       "dtype: object"
      ]
     },
     "execution_count": 26,
     "metadata": {},
     "output_type": "execute_result"
    }
   ],
   "source": [
    "df.max()"
   ]
  },
  {
   "cell_type": "code",
   "execution_count": 27,
   "metadata": {},
   "outputs": [
    {
     "data": {
      "image/png": "[encoded data removed]",
      "text/plain": [
       "<Figure size 1100x550 with 1 Axes>"
      ]
     },
     "metadata": {},
     "output_type": "display_data"
    }
   ],
   "source": [
    "val=df['Location'].value_counts().values.tolist()\n",
    "lbl=['Portofino',\"School Street\",\"Clubview Road\",\"Starter Homes\"]\n",
    "exp=(0.015,0.015,0.015,0.015)\n",
    "clr=(\"whitesmoke\",'forestgreen','red','blue')\n",
    "plt.figure(figsize=(10,5),dpi=110)\n",
    "sns.set(context='talk',style='whitegrid',palette='dark',font='monospace',font_scale=0.8)\n",
    "plt.pie(x=val,explode=exp,labels=lbl,colors=clr,autopct='%2.2F%%',pctdistance=0.5, shadow=True,radius=1.1)\n",
    "plt.title('PLOT TO VISUALIZE THAT WHERE ARE THE MAXIMUM NO.FLATS PRESENT\\n')\n",
    "plt.show()"
   ]
  },
  {
   "cell_type": "code",
   "execution_count": 28,
   "metadata": {},
   "outputs": [],
   "source": [
    "# Create a function where size column give only integer part\n",
    "def remove_BHK(x):\n",
    "    x=int(x[0])\n",
    "    return x"
   ]
  },
  {
   "cell_type": "code",
   "execution_count": 29,
   "metadata": {},
   "outputs": [
    {
     "data": {
      "text/plain": [
       "1"
      ]
     },
     "execution_count": 29,
     "metadata": {},
     "output_type": "execute_result"
    }
   ],
   "source": [
    "remove_BHK('1 BHK')"
   ]
  },
  {
   "cell_type": "code",
   "execution_count": 30,
   "metadata": {},
   "outputs": [
    {
     "data": {
      "text/html": [
       "<div>\n",
       "<style scoped>\n",
       "    .dataframe tbody tr th:only-of-type {\n",
       "        vertical-align: middle;\n",
       "    }\n",
       "\n",
       "    .dataframe tbody tr th {\n",
       "        vertical-align: top;\n",
       "    }\n",
       "\n",
       "    .dataframe thead th {\n",
       "        text-align: right;\n",
       "    }\n",
       "</style>\n",
       "<table border=\"1\" class=\"dataframe\">\n",
       "  <thead>\n",
       "    <tr style=\"text-align: right;\">\n",
       "      <th></th>\n",
       "      <th>BuildingType</th>\n",
       "      <th>Location</th>\n",
       "      <th>Size</th>\n",
       "      <th>AreaSqFt</th>\n",
       "      <th>NoOfBath</th>\n",
       "      <th>NoOfPeople</th>\n",
       "      <th>NoOfBalcony</th>\n",
       "      <th>RentPerMonth</th>\n",
       "    </tr>\n",
       "  </thead>\n",
       "  <tbody>\n",
       "    <tr>\n",
       "      <th>0</th>\n",
       "      <td>Minimum Budget Rooms</td>\n",
       "      <td>Portofino</td>\n",
       "      <td>1</td>\n",
       "      <td>400.0</td>\n",
       "      <td>1</td>\n",
       "      <td>1</td>\n",
       "      <td>1</td>\n",
       "      <td>1100.0</td>\n",
       "    </tr>\n",
       "    <tr>\n",
       "      <th>1</th>\n",
       "      <td>Minimum Budget Rooms</td>\n",
       "      <td>Portofino</td>\n",
       "      <td>1</td>\n",
       "      <td>450.0</td>\n",
       "      <td>1</td>\n",
       "      <td>1</td>\n",
       "      <td>1</td>\n",
       "      <td>1100.0</td>\n",
       "    </tr>\n",
       "    <tr>\n",
       "      <th>2</th>\n",
       "      <td>Minimum Budget Rooms</td>\n",
       "      <td>School Street</td>\n",
       "      <td>1</td>\n",
       "      <td>530.0</td>\n",
       "      <td>1</td>\n",
       "      <td>1</td>\n",
       "      <td>0</td>\n",
       "      <td>1166.0</td>\n",
       "    </tr>\n",
       "    <tr>\n",
       "      <th>3</th>\n",
       "      <td>Minimum Budget Rooms</td>\n",
       "      <td>Portofino</td>\n",
       "      <td>1</td>\n",
       "      <td>400.0</td>\n",
       "      <td>1</td>\n",
       "      <td>1</td>\n",
       "      <td>0</td>\n",
       "      <td>1400.0</td>\n",
       "    </tr>\n",
       "    <tr>\n",
       "      <th>4</th>\n",
       "      <td>Minimum Budget Rooms</td>\n",
       "      <td>School Street</td>\n",
       "      <td>2</td>\n",
       "      <td>460.0</td>\n",
       "      <td>1</td>\n",
       "      <td>1</td>\n",
       "      <td>0</td>\n",
       "      <td>1500.0</td>\n",
       "    </tr>\n",
       "    <tr>\n",
       "      <th>...</th>\n",
       "      <td>...</td>\n",
       "      <td>...</td>\n",
       "      <td>...</td>\n",
       "      <td>...</td>\n",
       "      <td>...</td>\n",
       "      <td>...</td>\n",
       "      <td>...</td>\n",
       "      <td>...</td>\n",
       "    </tr>\n",
       "    <tr>\n",
       "      <th>995</th>\n",
       "      <td>Super Furnished Villa</td>\n",
       "      <td>Portofino</td>\n",
       "      <td>4</td>\n",
       "      <td>4900.0</td>\n",
       "      <td>4</td>\n",
       "      <td>6</td>\n",
       "      <td>3</td>\n",
       "      <td>70000.0</td>\n",
       "    </tr>\n",
       "    <tr>\n",
       "      <th>996</th>\n",
       "      <td>Super Furnished Villa</td>\n",
       "      <td>Portofino</td>\n",
       "      <td>4</td>\n",
       "      <td>3750.0</td>\n",
       "      <td>4</td>\n",
       "      <td>5</td>\n",
       "      <td>0</td>\n",
       "      <td>76000.0</td>\n",
       "    </tr>\n",
       "    <tr>\n",
       "      <th>997</th>\n",
       "      <td>Super Furnished Villa</td>\n",
       "      <td>School Street</td>\n",
       "      <td>4</td>\n",
       "      <td>5270.0</td>\n",
       "      <td>4</td>\n",
       "      <td>5</td>\n",
       "      <td>3</td>\n",
       "      <td>80000.0</td>\n",
       "    </tr>\n",
       "    <tr>\n",
       "      <th>998</th>\n",
       "      <td>Super Furnished Villa</td>\n",
       "      <td>Portofino</td>\n",
       "      <td>6</td>\n",
       "      <td>5100.0</td>\n",
       "      <td>7</td>\n",
       "      <td>6</td>\n",
       "      <td>3</td>\n",
       "      <td>90000.0</td>\n",
       "    </tr>\n",
       "    <tr>\n",
       "      <th>999</th>\n",
       "      <td>Super Furnished Villa</td>\n",
       "      <td>Portofino</td>\n",
       "      <td>7</td>\n",
       "      <td>6300.0</td>\n",
       "      <td>6</td>\n",
       "      <td>6</td>\n",
       "      <td>3</td>\n",
       "      <td>96000.0</td>\n",
       "    </tr>\n",
       "  </tbody>\n",
       "</table>\n",
       "<p>1000 rows × 8 columns</p>\n",
       "</div>"
      ],
      "text/plain": [
       "              BuildingType       Location  Size  AreaSqFt  NoOfBath  \\\n",
       "0     Minimum Budget Rooms      Portofino     1     400.0         1   \n",
       "1     Minimum Budget Rooms      Portofino     1     450.0         1   \n",
       "2     Minimum Budget Rooms  School Street     1     530.0         1   \n",
       "3     Minimum Budget Rooms      Portofino     1     400.0         1   \n",
       "4     Minimum Budget Rooms  School Street     2     460.0         1   \n",
       "..                     ...            ...   ...       ...       ...   \n",
       "995  Super Furnished Villa      Portofino     4    4900.0         4   \n",
       "996  Super Furnished Villa      Portofino     4    3750.0         4   \n",
       "997  Super Furnished Villa  School Street     4    5270.0         4   \n",
       "998  Super Furnished Villa      Portofino     6    5100.0         7   \n",
       "999  Super Furnished Villa      Portofino     7    6300.0         6   \n",
       "\n",
       "     NoOfPeople  NoOfBalcony  RentPerMonth  \n",
       "0             1            1        1100.0  \n",
       "1             1            1        1100.0  \n",
       "2             1            0        1166.0  \n",
       "3             1            0        1400.0  \n",
       "4             1            0        1500.0  \n",
       "..          ...          ...           ...  \n",
       "995           6            3       70000.0  \n",
       "996           5            0       76000.0  \n",
       "997           5            3       80000.0  \n",
       "998           6            3       90000.0  \n",
       "999           6            3       96000.0  \n",
       "\n",
       "[1000 rows x 8 columns]"
      ]
     },
     "execution_count": 30,
     "metadata": {},
     "output_type": "execute_result"
    }
   ],
   "source": [
    "# Apply above function in size column\n",
    "df['Size'] = df['Size'].apply(remove_BHK)\n",
    "df"
   ]
  },
  {
   "cell_type": "code",
   "execution_count": 31,
   "metadata": {},
   "outputs": [
    {
     "name": "stdout",
     "output_type": "stream",
     "text": [
      "Index(['BuildingType', 'Location'], dtype='object')\n"
     ]
    }
   ],
   "source": [
    "objList = df.select_dtypes(include = \"object\").columns\n",
    "print (objList)"
   ]
  },
  {
   "cell_type": "code",
   "execution_count": 32,
   "metadata": {},
   "outputs": [
    {
     "name": "stdout",
     "output_type": "stream",
     "text": [
      "<class 'pandas.core.frame.DataFrame'>\n",
      "RangeIndex: 1000 entries, 0 to 999\n",
      "Data columns (total 8 columns):\n",
      " #   Column        Non-Null Count  Dtype  \n",
      "---  ------        --------------  -----  \n",
      " 0   BuildingType  1000 non-null   int32  \n",
      " 1   Location      1000 non-null   int32  \n",
      " 2   Size          1000 non-null   int64  \n",
      " 3   AreaSqFt      1000 non-null   float64\n",
      " 4   NoOfBath      1000 non-null   int64  \n",
      " 5   NoOfPeople    1000 non-null   int64  \n",
      " 6   NoOfBalcony   1000 non-null   int64  \n",
      " 7   RentPerMonth  1000 non-null   float64\n",
      "dtypes: float64(2), int32(2), int64(4)\n",
      "memory usage: 54.8 KB\n",
      "None\n"
     ]
    }
   ],
   "source": [
    "le = LabelEncoder()\n",
    "for i in objList:\n",
    "    df[i] = le.fit_transform(df[i].astype(str))\n",
    "\n",
    "print (df.info())"
   ]
  },
  {
   "cell_type": "code",
   "execution_count": 33,
   "metadata": {},
   "outputs": [
    {
     "data": {
      "text/html": [
       "<div>\n",
       "<style scoped>\n",
       "    .dataframe tbody tr th:only-of-type {\n",
       "        vertical-align: middle;\n",
       "    }\n",
       "\n",
       "    .dataframe tbody tr th {\n",
       "        vertical-align: top;\n",
       "    }\n",
       "\n",
       "    .dataframe thead th {\n",
       "        text-align: right;\n",
       "    }\n",
       "</style>\n",
       "<table border=\"1\" class=\"dataframe\">\n",
       "  <thead>\n",
       "    <tr style=\"text-align: right;\">\n",
       "      <th></th>\n",
       "      <th>BuildingType</th>\n",
       "      <th>Location</th>\n",
       "      <th>Size</th>\n",
       "      <th>AreaSqFt</th>\n",
       "      <th>NoOfBath</th>\n",
       "      <th>NoOfPeople</th>\n",
       "      <th>NoOfBalcony</th>\n",
       "      <th>RentPerMonth</th>\n",
       "    </tr>\n",
       "  </thead>\n",
       "  <tbody>\n",
       "    <tr>\n",
       "      <th>0</th>\n",
       "      <td>3</td>\n",
       "      <td>1</td>\n",
       "      <td>1</td>\n",
       "      <td>400.0</td>\n",
       "      <td>1</td>\n",
       "      <td>1</td>\n",
       "      <td>1</td>\n",
       "      <td>1100.0</td>\n",
       "    </tr>\n",
       "    <tr>\n",
       "      <th>1</th>\n",
       "      <td>3</td>\n",
       "      <td>1</td>\n",
       "      <td>1</td>\n",
       "      <td>450.0</td>\n",
       "      <td>1</td>\n",
       "      <td>1</td>\n",
       "      <td>1</td>\n",
       "      <td>1100.0</td>\n",
       "    </tr>\n",
       "    <tr>\n",
       "      <th>2</th>\n",
       "      <td>3</td>\n",
       "      <td>2</td>\n",
       "      <td>1</td>\n",
       "      <td>530.0</td>\n",
       "      <td>1</td>\n",
       "      <td>1</td>\n",
       "      <td>0</td>\n",
       "      <td>1166.0</td>\n",
       "    </tr>\n",
       "    <tr>\n",
       "      <th>3</th>\n",
       "      <td>3</td>\n",
       "      <td>1</td>\n",
       "      <td>1</td>\n",
       "      <td>400.0</td>\n",
       "      <td>1</td>\n",
       "      <td>1</td>\n",
       "      <td>0</td>\n",
       "      <td>1400.0</td>\n",
       "    </tr>\n",
       "    <tr>\n",
       "      <th>4</th>\n",
       "      <td>3</td>\n",
       "      <td>2</td>\n",
       "      <td>2</td>\n",
       "      <td>460.0</td>\n",
       "      <td>1</td>\n",
       "      <td>1</td>\n",
       "      <td>0</td>\n",
       "      <td>1500.0</td>\n",
       "    </tr>\n",
       "    <tr>\n",
       "      <th>...</th>\n",
       "      <td>...</td>\n",
       "      <td>...</td>\n",
       "      <td>...</td>\n",
       "      <td>...</td>\n",
       "      <td>...</td>\n",
       "      <td>...</td>\n",
       "      <td>...</td>\n",
       "      <td>...</td>\n",
       "    </tr>\n",
       "    <tr>\n",
       "      <th>995</th>\n",
       "      <td>9</td>\n",
       "      <td>1</td>\n",
       "      <td>4</td>\n",
       "      <td>4900.0</td>\n",
       "      <td>4</td>\n",
       "      <td>6</td>\n",
       "      <td>3</td>\n",
       "      <td>70000.0</td>\n",
       "    </tr>\n",
       "    <tr>\n",
       "      <th>996</th>\n",
       "      <td>9</td>\n",
       "      <td>1</td>\n",
       "      <td>4</td>\n",
       "      <td>3750.0</td>\n",
       "      <td>4</td>\n",
       "      <td>5</td>\n",
       "      <td>0</td>\n",
       "      <td>76000.0</td>\n",
       "    </tr>\n",
       "    <tr>\n",
       "      <th>997</th>\n",
       "      <td>9</td>\n",
       "      <td>2</td>\n",
       "      <td>4</td>\n",
       "      <td>5270.0</td>\n",
       "      <td>4</td>\n",
       "      <td>5</td>\n",
       "      <td>3</td>\n",
       "      <td>80000.0</td>\n",
       "    </tr>\n",
       "    <tr>\n",
       "      <th>998</th>\n",
       "      <td>9</td>\n",
       "      <td>1</td>\n",
       "      <td>6</td>\n",
       "      <td>5100.0</td>\n",
       "      <td>7</td>\n",
       "      <td>6</td>\n",
       "      <td>3</td>\n",
       "      <td>90000.0</td>\n",
       "    </tr>\n",
       "    <tr>\n",
       "      <th>999</th>\n",
       "      <td>9</td>\n",
       "      <td>1</td>\n",
       "      <td>7</td>\n",
       "      <td>6300.0</td>\n",
       "      <td>6</td>\n",
       "      <td>6</td>\n",
       "      <td>3</td>\n",
       "      <td>96000.0</td>\n",
       "    </tr>\n",
       "  </tbody>\n",
       "</table>\n",
       "<p>1000 rows × 8 columns</p>\n",
       "</div>"
      ],
      "text/plain": [
       "     BuildingType  Location  Size  AreaSqFt  NoOfBath  NoOfPeople  \\\n",
       "0               3         1     1     400.0         1           1   \n",
       "1               3         1     1     450.0         1           1   \n",
       "2               3         2     1     530.0         1           1   \n",
       "3               3         1     1     400.0         1           1   \n",
       "4               3         2     2     460.0         1           1   \n",
       "..            ...       ...   ...       ...       ...         ...   \n",
       "995             9         1     4    4900.0         4           6   \n",
       "996             9         1     4    3750.0         4           5   \n",
       "997             9         2     4    5270.0         4           5   \n",
       "998             9         1     6    5100.0         7           6   \n",
       "999             9         1     7    6300.0         6           6   \n",
       "\n",
       "     NoOfBalcony  RentPerMonth  \n",
       "0              1        1100.0  \n",
       "1              1        1100.0  \n",
       "2              0        1166.0  \n",
       "3              0        1400.0  \n",
       "4              0        1500.0  \n",
       "..           ...           ...  \n",
       "995            3       70000.0  \n",
       "996            0       76000.0  \n",
       "997            3       80000.0  \n",
       "998            3       90000.0  \n",
       "999            3       96000.0  \n",
       "\n",
       "[1000 rows x 8 columns]"
      ]
     },
     "execution_count": 33,
     "metadata": {},
     "output_type": "execute_result"
    }
   ],
   "source": [
    "df"
   ]
  },
  {
   "cell_type": "code",
   "execution_count": 34,
   "metadata": {},
   "outputs": [],
   "source": [
    "#IMPORTING IMPORTANT LIBRARIES FOR MODEL GENERATION\n",
    "from sklearn.linear_model import LinearRegression\n",
    "from sklearn.metrics import mean_absolute_error, mean_squared_error, r2_score"
   ]
  },
  {
   "cell_type": "code",
   "execution_count": 35,
   "metadata": {},
   "outputs": [],
   "source": [
    "from sklearn.metrics import roc_curve,roc_auc_score"
   ]
  },
  {
   "cell_type": "code",
   "execution_count": 36,
   "metadata": {},
   "outputs": [
    {
     "data": {
      "text/html": [
       "<div>\n",
       "<style scoped>\n",
       "    .dataframe tbody tr th:only-of-type {\n",
       "        vertical-align: middle;\n",
       "    }\n",
       "\n",
       "    .dataframe tbody tr th {\n",
       "        vertical-align: top;\n",
       "    }\n",
       "\n",
       "    .dataframe thead th {\n",
       "        text-align: right;\n",
       "    }\n",
       "</style>\n",
       "<table border=\"1\" class=\"dataframe\">\n",
       "  <thead>\n",
       "    <tr style=\"text-align: right;\">\n",
       "      <th></th>\n",
       "      <th>test_size</th>\n",
       "      <th>norm</th>\n",
       "      <th>r_score</th>\n",
       "      <th>mae</th>\n",
       "      <th>mse</th>\n",
       "      <th>r2_score</th>\n",
       "    </tr>\n",
       "  </thead>\n",
       "  <tbody>\n",
       "    <tr>\n",
       "      <th>0</th>\n",
       "      <td>0.5</td>\n",
       "      <td>True</td>\n",
       "      <td>-0.544352</td>\n",
       "      <td>4268.735146</td>\n",
       "      <td>1.427023e+08</td>\n",
       "      <td>-0.544352</td>\n",
       "    </tr>\n",
       "    <tr>\n",
       "      <th>1</th>\n",
       "      <td>0.5</td>\n",
       "      <td>False</td>\n",
       "      <td>-0.544352</td>\n",
       "      <td>4268.735146</td>\n",
       "      <td>1.427023e+08</td>\n",
       "      <td>-0.544352</td>\n",
       "    </tr>\n",
       "    <tr>\n",
       "      <th>2</th>\n",
       "      <td>0.4</td>\n",
       "      <td>True</td>\n",
       "      <td>-0.977358</td>\n",
       "      <td>4411.957837</td>\n",
       "      <td>1.551198e+08</td>\n",
       "      <td>-0.977358</td>\n",
       "    </tr>\n",
       "    <tr>\n",
       "      <th>3</th>\n",
       "      <td>0.4</td>\n",
       "      <td>False</td>\n",
       "      <td>-0.977358</td>\n",
       "      <td>4411.957837</td>\n",
       "      <td>1.551198e+08</td>\n",
       "      <td>-0.977358</td>\n",
       "    </tr>\n",
       "    <tr>\n",
       "      <th>4</th>\n",
       "      <td>0.3</td>\n",
       "      <td>True</td>\n",
       "      <td>0.597190</td>\n",
       "      <td>3966.604107</td>\n",
       "      <td>2.578813e+07</td>\n",
       "      <td>0.597190</td>\n",
       "    </tr>\n",
       "    <tr>\n",
       "      <th>5</th>\n",
       "      <td>0.3</td>\n",
       "      <td>False</td>\n",
       "      <td>0.597190</td>\n",
       "      <td>3966.604107</td>\n",
       "      <td>2.578813e+07</td>\n",
       "      <td>0.597190</td>\n",
       "    </tr>\n",
       "    <tr>\n",
       "      <th>6</th>\n",
       "      <td>0.2</td>\n",
       "      <td>True</td>\n",
       "      <td>0.469586</td>\n",
       "      <td>4034.828181</td>\n",
       "      <td>2.688959e+07</td>\n",
       "      <td>0.469586</td>\n",
       "    </tr>\n",
       "    <tr>\n",
       "      <th>7</th>\n",
       "      <td>0.2</td>\n",
       "      <td>False</td>\n",
       "      <td>0.469586</td>\n",
       "      <td>4034.828181</td>\n",
       "      <td>2.688959e+07</td>\n",
       "      <td>0.469586</td>\n",
       "    </tr>\n",
       "  </tbody>\n",
       "</table>\n",
       "</div>"
      ],
      "text/plain": [
       "   test_size   norm   r_score          mae           mse  r2_score\n",
       "0        0.5   True -0.544352  4268.735146  1.427023e+08 -0.544352\n",
       "1        0.5  False -0.544352  4268.735146  1.427023e+08 -0.544352\n",
       "2        0.4   True -0.977358  4411.957837  1.551198e+08 -0.977358\n",
       "3        0.4  False -0.977358  4411.957837  1.551198e+08 -0.977358\n",
       "4        0.3   True  0.597190  3966.604107  2.578813e+07  0.597190\n",
       "5        0.3  False  0.597190  3966.604107  2.578813e+07  0.597190\n",
       "6        0.2   True  0.469586  4034.828181  2.688959e+07  0.469586\n",
       "7        0.2  False  0.469586  4034.828181  2.688959e+07  0.469586"
      ]
     },
     "execution_count": 36,
     "metadata": {},
     "output_type": "execute_result"
    }
   ],
   "source": [
    "data1 = {'test_size':[],'norm':[],'r_score':[],'mae':[],'mse':[],'r2_score':[]}\n",
    "test_size = [0.5,0.4,0.3,0.2]\n",
    "n_value = [True,False]\n",
    "for i in test_size:\n",
    "    X_train, X_test, y_train, y_test = train_test_split(df.iloc[:,:-1], df.iloc[:,-1], test_size=i, random_state=2)\n",
    "    for j in n_value:\n",
    "        r = LinearRegression(normalize=j).fit(X_train, y_train)\n",
    "        ycap = r.predict(X_test)\n",
    "        #print(r.score(X_test,y_test))\n",
    "        #print(f'MSE train-test ratio: {(1-i)*100}:{i*100} - {mean_squared_error(y_test, ycap)}')\n",
    "        #print(f'MAE train-test ratio: {(1-i)*100}:{i*100} - {mean_absolute_error(y_test, ycap)}')\n",
    "        #print(f'regression score function train-test ratio: {(1-i)*100}:{i*100} - {r2_score(y_test, ycap)}')\n",
    "        #print(\"=*\"*50)\n",
    "        data1['test_size'].append(i)\n",
    "        data1['norm'].append(j)\n",
    "        data1['r_score'].append(r.score(X_test,y_test))\n",
    "        data1['mae'].append(mean_absolute_error(y_test, ycap))\n",
    "        data1['mse'].append(mean_squared_error(y_test, ycap))\n",
    "        data1['r2_score'].append(r2_score(y_test, ycap))\n",
    "data1 = pd.DataFrame(data1)\n",
    "data1"
   ]
  },
  {
   "cell_type": "markdown",
   "metadata": {},
   "source": [
    "**Questions**\n",
    "1. What are your observations on the Dataset?\n",
    "2. What are the different Error Measures (Evaluation Metrics) in relation to Linear Regression? How much do you get in the above cases?\n",
    "3. Note down the errors/losses when the train-test ratio is 50:50, 60:40, 70:30, and 80:20\n",
    "4. During LinearRegression() process, what is the impact of giving TRUE/FALSE as the value for Normalize Parameter?"
   ]
  },
  {
   "cell_type": "markdown",
   "metadata": {},
   "source": [
    "**1. Observation on the dataset**\n",
    "- The dataset shows the \n",
    "  1. Building Type - Is it a fully/semi/Un furnished Single Room, Flat, or Villa ?\n",
    "  1. Location - Where is the property located?\n",
    "  1. Size - Is it 1BHK, 2BHK, 3BHK ?\n",
    "  1. AreaSqFt - How much big is the property ? \n",
    "  1. No of Bath - How many bathrooms in the property?\n",
    "  1. No of Balcony - How many balconies in the property?\n",
    "  1. No of People - How many people stayed in the building in the academic year 2020-21.\n",
    "  1. RentPerMonth - Rent to be paid per month which is demanded by the current building owners."
   ]
  },
  {
   "cell_type": "markdown",
   "metadata": {},
   "source": [
    "**2. What are the different Error Measures (Evaluation Metrics) in relation to Linear Regression? How much do you get in the above cases?**\n",
    " - Different Error Measures (Evaluation Metrics) in relation to Linear Regression are MAE, MSE, r2, RMSE."
   ]
  },
  {
   "cell_type": "code",
   "execution_count": 46,
   "metadata": {},
   "outputs": [
    {
     "data": {
      "text/html": [
       "<div>\n",
       "<style scoped>\n",
       "    .dataframe tbody tr th:only-of-type {\n",
       "        vertical-align: middle;\n",
       "    }\n",
       "\n",
       "    .dataframe tbody tr th {\n",
       "        vertical-align: top;\n",
       "    }\n",
       "\n",
       "    .dataframe thead th {\n",
       "        text-align: right;\n",
       "    }\n",
       "</style>\n",
       "<table border=\"1\" class=\"dataframe\">\n",
       "  <thead>\n",
       "    <tr style=\"text-align: right;\">\n",
       "      <th></th>\n",
       "      <th>test_size</th>\n",
       "      <th>norm</th>\n",
       "      <th>r_score</th>\n",
       "      <th>mae</th>\n",
       "      <th>mse</th>\n",
       "      <th>r2_score</th>\n",
       "    </tr>\n",
       "  </thead>\n",
       "  <tbody>\n",
       "    <tr>\n",
       "      <th>0</th>\n",
       "      <td>0.5</td>\n",
       "      <td>True</td>\n",
       "      <td>-0.544352</td>\n",
       "      <td>4268.735146</td>\n",
       "      <td>1.427023e+08</td>\n",
       "      <td>-0.544352</td>\n",
       "    </tr>\n",
       "    <tr>\n",
       "      <th>1</th>\n",
       "      <td>0.5</td>\n",
       "      <td>False</td>\n",
       "      <td>-0.544352</td>\n",
       "      <td>4268.735146</td>\n",
       "      <td>1.427023e+08</td>\n",
       "      <td>-0.544352</td>\n",
       "    </tr>\n",
       "    <tr>\n",
       "      <th>2</th>\n",
       "      <td>0.4</td>\n",
       "      <td>True</td>\n",
       "      <td>-0.977358</td>\n",
       "      <td>4411.957837</td>\n",
       "      <td>1.551198e+08</td>\n",
       "      <td>-0.977358</td>\n",
       "    </tr>\n",
       "    <tr>\n",
       "      <th>3</th>\n",
       "      <td>0.4</td>\n",
       "      <td>False</td>\n",
       "      <td>-0.977358</td>\n",
       "      <td>4411.957837</td>\n",
       "      <td>1.551198e+08</td>\n",
       "      <td>-0.977358</td>\n",
       "    </tr>\n",
       "    <tr>\n",
       "      <th>4</th>\n",
       "      <td>0.3</td>\n",
       "      <td>True</td>\n",
       "      <td>0.597190</td>\n",
       "      <td>3966.604107</td>\n",
       "      <td>2.578813e+07</td>\n",
       "      <td>0.597190</td>\n",
       "    </tr>\n",
       "    <tr>\n",
       "      <th>5</th>\n",
       "      <td>0.3</td>\n",
       "      <td>False</td>\n",
       "      <td>0.597190</td>\n",
       "      <td>3966.604107</td>\n",
       "      <td>2.578813e+07</td>\n",
       "      <td>0.597190</td>\n",
       "    </tr>\n",
       "    <tr>\n",
       "      <th>6</th>\n",
       "      <td>0.2</td>\n",
       "      <td>True</td>\n",
       "      <td>0.469586</td>\n",
       "      <td>4034.828181</td>\n",
       "      <td>2.688959e+07</td>\n",
       "      <td>0.469586</td>\n",
       "    </tr>\n",
       "    <tr>\n",
       "      <th>7</th>\n",
       "      <td>0.2</td>\n",
       "      <td>False</td>\n",
       "      <td>0.469586</td>\n",
       "      <td>4034.828181</td>\n",
       "      <td>2.688959e+07</td>\n",
       "      <td>0.469586</td>\n",
       "    </tr>\n",
       "  </tbody>\n",
       "</table>\n",
       "</div>"
      ],
      "text/plain": [
       "   test_size   norm   r_score          mae           mse  r2_score\n",
       "0        0.5   True -0.544352  4268.735146  1.427023e+08 -0.544352\n",
       "1        0.5  False -0.544352  4268.735146  1.427023e+08 -0.544352\n",
       "2        0.4   True -0.977358  4411.957837  1.551198e+08 -0.977358\n",
       "3        0.4  False -0.977358  4411.957837  1.551198e+08 -0.977358\n",
       "4        0.3   True  0.597190  3966.604107  2.578813e+07  0.597190\n",
       "5        0.3  False  0.597190  3966.604107  2.578813e+07  0.597190\n",
       "6        0.2   True  0.469586  4034.828181  2.688959e+07  0.469586\n",
       "7        0.2  False  0.469586  4034.828181  2.688959e+07  0.469586"
      ]
     },
     "execution_count": 46,
     "metadata": {},
     "output_type": "execute_result"
    }
   ],
   "source": [
    "data1"
   ]
  },
  {
   "cell_type": "markdown",
   "metadata": {},
   "source": [
    "**3. Note down the errors/losses when the train-test ratio is 50:50, 60:40, 70:30, and 80:20**"
   ]
  },
  {
   "cell_type": "code",
   "execution_count": 47,
   "metadata": {},
   "outputs": [
    {
     "data": {
      "text/html": [
       "<div>\n",
       "<style scoped>\n",
       "    .dataframe tbody tr th:only-of-type {\n",
       "        vertical-align: middle;\n",
       "    }\n",
       "\n",
       "    .dataframe tbody tr th {\n",
       "        vertical-align: top;\n",
       "    }\n",
       "\n",
       "    .dataframe thead th {\n",
       "        text-align: right;\n",
       "    }\n",
       "</style>\n",
       "<table border=\"1\" class=\"dataframe\">\n",
       "  <thead>\n",
       "    <tr style=\"text-align: right;\">\n",
       "      <th></th>\n",
       "      <th>test_size</th>\n",
       "      <th>norm</th>\n",
       "      <th>r_score</th>\n",
       "      <th>mae</th>\n",
       "      <th>mse</th>\n",
       "      <th>r2_score</th>\n",
       "    </tr>\n",
       "  </thead>\n",
       "  <tbody>\n",
       "    <tr>\n",
       "      <th>0</th>\n",
       "      <td>0.5</td>\n",
       "      <td>True</td>\n",
       "      <td>-0.544352</td>\n",
       "      <td>4268.735146</td>\n",
       "      <td>1.427023e+08</td>\n",
       "      <td>-0.544352</td>\n",
       "    </tr>\n",
       "    <tr>\n",
       "      <th>1</th>\n",
       "      <td>0.5</td>\n",
       "      <td>False</td>\n",
       "      <td>-0.544352</td>\n",
       "      <td>4268.735146</td>\n",
       "      <td>1.427023e+08</td>\n",
       "      <td>-0.544352</td>\n",
       "    </tr>\n",
       "    <tr>\n",
       "      <th>2</th>\n",
       "      <td>0.4</td>\n",
       "      <td>True</td>\n",
       "      <td>-0.977358</td>\n",
       "      <td>4411.957837</td>\n",
       "      <td>1.551198e+08</td>\n",
       "      <td>-0.977358</td>\n",
       "    </tr>\n",
       "    <tr>\n",
       "      <th>3</th>\n",
       "      <td>0.4</td>\n",
       "      <td>False</td>\n",
       "      <td>-0.977358</td>\n",
       "      <td>4411.957837</td>\n",
       "      <td>1.551198e+08</td>\n",
       "      <td>-0.977358</td>\n",
       "    </tr>\n",
       "    <tr>\n",
       "      <th>4</th>\n",
       "      <td>0.3</td>\n",
       "      <td>True</td>\n",
       "      <td>0.597190</td>\n",
       "      <td>3966.604107</td>\n",
       "      <td>2.578813e+07</td>\n",
       "      <td>0.597190</td>\n",
       "    </tr>\n",
       "    <tr>\n",
       "      <th>5</th>\n",
       "      <td>0.3</td>\n",
       "      <td>False</td>\n",
       "      <td>0.597190</td>\n",
       "      <td>3966.604107</td>\n",
       "      <td>2.578813e+07</td>\n",
       "      <td>0.597190</td>\n",
       "    </tr>\n",
       "    <tr>\n",
       "      <th>6</th>\n",
       "      <td>0.2</td>\n",
       "      <td>True</td>\n",
       "      <td>0.469586</td>\n",
       "      <td>4034.828181</td>\n",
       "      <td>2.688959e+07</td>\n",
       "      <td>0.469586</td>\n",
       "    </tr>\n",
       "    <tr>\n",
       "      <th>7</th>\n",
       "      <td>0.2</td>\n",
       "      <td>False</td>\n",
       "      <td>0.469586</td>\n",
       "      <td>4034.828181</td>\n",
       "      <td>2.688959e+07</td>\n",
       "      <td>0.469586</td>\n",
       "    </tr>\n",
       "  </tbody>\n",
       "</table>\n",
       "</div>"
      ],
      "text/plain": [
       "   test_size   norm   r_score          mae           mse  r2_score\n",
       "0        0.5   True -0.544352  4268.735146  1.427023e+08 -0.544352\n",
       "1        0.5  False -0.544352  4268.735146  1.427023e+08 -0.544352\n",
       "2        0.4   True -0.977358  4411.957837  1.551198e+08 -0.977358\n",
       "3        0.4  False -0.977358  4411.957837  1.551198e+08 -0.977358\n",
       "4        0.3   True  0.597190  3966.604107  2.578813e+07  0.597190\n",
       "5        0.3  False  0.597190  3966.604107  2.578813e+07  0.597190\n",
       "6        0.2   True  0.469586  4034.828181  2.688959e+07  0.469586\n",
       "7        0.2  False  0.469586  4034.828181  2.688959e+07  0.469586"
      ]
     },
     "execution_count": 47,
     "metadata": {},
     "output_type": "execute_result"
    }
   ],
   "source": [
    "data1"
   ]
  },
  {
   "cell_type": "markdown",
   "metadata": {},
   "source": [
    "**4. During LinearRegression() process, what is the impact of giving TRUE/FALSE as the value for Normalize Parameter?**\n",
    " - During LinearRegression() process if we put Normalize Parameter equals to false, then the errors are less."
   ]
  },
  {
   "cell_type": "markdown",
   "metadata": {},
   "source": [
    "### Predicting rent for the given requirements\n",
    " - Cases\n",
    "   - Try to predict the rent of the below houses -\n",
    "   - 1. 1 BHK with 2 Baths in Portofino Street\n",
    "   - 2. Fully Furnished 2 BHK in School Street\n",
    "   - 3. Single Room anywhere in Lavasa"
   ]
  },
  {
   "cell_type": "code",
   "execution_count": 37,
   "metadata": {},
   "outputs": [
    {
     "name": "stdout",
     "output_type": "stream",
     "text": [
      "BuildingType : \n",
      "1\n",
      "Location : \n",
      "1\n",
      "Size : \n",
      "1\n",
      "AreaSqFt : \n",
      "670\n",
      "NoOfBath : \n",
      "2\n",
      "NoOfPeople : \n",
      "1\n",
      "NoOfBalcony : \n",
      "1\n"
     ]
    }
   ],
   "source": [
    "value = dict()\n",
    "for i in X_test.columns:\n",
    "    print(i,\": \")\n",
    "    value[i] = float(input())"
   ]
  },
  {
   "cell_type": "code",
   "execution_count": 38,
   "metadata": {},
   "outputs": [
    {
     "data": {
      "text/html": [
       "<div>\n",
       "<style scoped>\n",
       "    .dataframe tbody tr th:only-of-type {\n",
       "        vertical-align: middle;\n",
       "    }\n",
       "\n",
       "    .dataframe tbody tr th {\n",
       "        vertical-align: top;\n",
       "    }\n",
       "\n",
       "    .dataframe thead th {\n",
       "        text-align: right;\n",
       "    }\n",
       "</style>\n",
       "<table border=\"1\" class=\"dataframe\">\n",
       "  <thead>\n",
       "    <tr style=\"text-align: right;\">\n",
       "      <th></th>\n",
       "      <th>BuildingType</th>\n",
       "      <th>Location</th>\n",
       "      <th>Size</th>\n",
       "      <th>AreaSqFt</th>\n",
       "      <th>NoOfBath</th>\n",
       "      <th>NoOfPeople</th>\n",
       "      <th>NoOfBalcony</th>\n",
       "    </tr>\n",
       "  </thead>\n",
       "  <tbody>\n",
       "    <tr>\n",
       "      <th>0</th>\n",
       "      <td>1.0</td>\n",
       "      <td>1.0</td>\n",
       "      <td>1.0</td>\n",
       "      <td>670.0</td>\n",
       "      <td>2.0</td>\n",
       "      <td>1.0</td>\n",
       "      <td>1.0</td>\n",
       "    </tr>\n",
       "  </tbody>\n",
       "</table>\n",
       "</div>"
      ],
      "text/plain": [
       "   BuildingType  Location  Size  AreaSqFt  NoOfBath  NoOfPeople  NoOfBalcony\n",
       "0           1.0       1.0   1.0     670.0       2.0         1.0          1.0"
      ]
     },
     "execution_count": 38,
     "metadata": {},
     "output_type": "execute_result"
    }
   ],
   "source": [
    "df1=pd.DataFrame(value,index=[0])\n",
    "df1"
   ]
  },
  {
   "cell_type": "code",
   "execution_count": 39,
   "metadata": {},
   "outputs": [
    {
     "data": {
      "text/plain": [
       "array([-1873.26609998])"
      ]
     },
     "execution_count": 39,
     "metadata": {},
     "output_type": "execute_result"
    }
   ],
   "source": [
    "r.predict(df1)"
   ]
  },
  {
   "cell_type": "code",
   "execution_count": 40,
   "metadata": {},
   "outputs": [
    {
     "name": "stdout",
     "output_type": "stream",
     "text": [
      "BuildingType : \n",
      "9\n",
      "Location : \n",
      "4\n",
      "Size : \n",
      "2\n",
      "AreaSqFt : \n",
      "1132\n",
      "NoOfBath : \n",
      "2\n",
      "NoOfPeople : \n",
      "2\n",
      "NoOfBalcony : \n",
      "2\n"
     ]
    }
   ],
   "source": [
    "dict1 = dict()\n",
    "for i in X_test.columns:\n",
    "    print(i,\": \")\n",
    "    dict1[i] = float(input())"
   ]
  },
  {
   "cell_type": "code",
   "execution_count": 41,
   "metadata": {},
   "outputs": [
    {
     "data": {
      "text/html": [
       "<div>\n",
       "<style scoped>\n",
       "    .dataframe tbody tr th:only-of-type {\n",
       "        vertical-align: middle;\n",
       "    }\n",
       "\n",
       "    .dataframe tbody tr th {\n",
       "        vertical-align: top;\n",
       "    }\n",
       "\n",
       "    .dataframe thead th {\n",
       "        text-align: right;\n",
       "    }\n",
       "</style>\n",
       "<table border=\"1\" class=\"dataframe\">\n",
       "  <thead>\n",
       "    <tr style=\"text-align: right;\">\n",
       "      <th></th>\n",
       "      <th>BuildingType</th>\n",
       "      <th>Location</th>\n",
       "      <th>Size</th>\n",
       "      <th>AreaSqFt</th>\n",
       "      <th>NoOfBath</th>\n",
       "      <th>NoOfPeople</th>\n",
       "      <th>NoOfBalcony</th>\n",
       "    </tr>\n",
       "  </thead>\n",
       "  <tbody>\n",
       "    <tr>\n",
       "      <th>0</th>\n",
       "      <td>9.0</td>\n",
       "      <td>4.0</td>\n",
       "      <td>2.0</td>\n",
       "      <td>1132.0</td>\n",
       "      <td>2.0</td>\n",
       "      <td>2.0</td>\n",
       "      <td>2.0</td>\n",
       "    </tr>\n",
       "  </tbody>\n",
       "</table>\n",
       "</div>"
      ],
      "text/plain": [
       "   BuildingType  Location  Size  AreaSqFt  NoOfBath  NoOfPeople  NoOfBalcony\n",
       "0           9.0       4.0   2.0    1132.0       2.0         2.0          2.0"
      ]
     },
     "execution_count": 41,
     "metadata": {},
     "output_type": "execute_result"
    }
   ],
   "source": [
    "df2=pd.DataFrame(dict1,index=[0])\n",
    "df2"
   ]
  },
  {
   "cell_type": "code",
   "execution_count": 42,
   "metadata": {},
   "outputs": [
    {
     "data": {
      "text/plain": [
       "array([10399.92355864])"
      ]
     },
     "execution_count": 42,
     "metadata": {},
     "output_type": "execute_result"
    }
   ],
   "source": [
    "r.predict(df2)"
   ]
  },
  {
   "cell_type": "code",
   "execution_count": 43,
   "metadata": {},
   "outputs": [
    {
     "name": "stdout",
     "output_type": "stream",
     "text": [
      "BuildingType : \n",
      "1\n",
      "Location : \n",
      "0\n",
      "Size : \n",
      "3\n",
      "AreaSqFt : \n",
      "1753\n",
      "NoOfBath : \n",
      "1\n",
      "NoOfPeople : \n",
      "1\n",
      "NoOfBalcony : \n",
      "1\n"
     ]
    }
   ],
   "source": [
    "dict2 = dict()\n",
    "for i in X_test.columns:\n",
    "    print(i,\": \")\n",
    "    dict2[i] = float(input())"
   ]
  },
  {
   "cell_type": "code",
   "execution_count": 44,
   "metadata": {},
   "outputs": [
    {
     "data": {
      "text/html": [
       "<div>\n",
       "<style scoped>\n",
       "    .dataframe tbody tr th:only-of-type {\n",
       "        vertical-align: middle;\n",
       "    }\n",
       "\n",
       "    .dataframe tbody tr th {\n",
       "        vertical-align: top;\n",
       "    }\n",
       "\n",
       "    .dataframe thead th {\n",
       "        text-align: right;\n",
       "    }\n",
       "</style>\n",
       "<table border=\"1\" class=\"dataframe\">\n",
       "  <thead>\n",
       "    <tr style=\"text-align: right;\">\n",
       "      <th></th>\n",
       "      <th>BuildingType</th>\n",
       "      <th>Location</th>\n",
       "      <th>Size</th>\n",
       "      <th>AreaSqFt</th>\n",
       "      <th>NoOfBath</th>\n",
       "      <th>NoOfPeople</th>\n",
       "      <th>NoOfBalcony</th>\n",
       "    </tr>\n",
       "  </thead>\n",
       "  <tbody>\n",
       "    <tr>\n",
       "      <th>0</th>\n",
       "      <td>1.0</td>\n",
       "      <td>0.0</td>\n",
       "      <td>3.0</td>\n",
       "      <td>1753.0</td>\n",
       "      <td>1.0</td>\n",
       "      <td>1.0</td>\n",
       "      <td>1.0</td>\n",
       "    </tr>\n",
       "  </tbody>\n",
       "</table>\n",
       "</div>"
      ],
      "text/plain": [
       "   BuildingType  Location  Size  AreaSqFt  NoOfBath  NoOfPeople  NoOfBalcony\n",
       "0           1.0       0.0   3.0    1753.0       1.0         1.0          1.0"
      ]
     },
     "execution_count": 44,
     "metadata": {},
     "output_type": "execute_result"
    }
   ],
   "source": [
    "df3=pd.DataFrame(dict2,index=[0])\n",
    "df3"
   ]
  },
  {
   "cell_type": "code",
   "execution_count": 45,
   "metadata": {},
   "outputs": [
    {
     "data": {
      "text/plain": [
       "array([-2702.411849])"
      ]
     },
     "execution_count": 45,
     "metadata": {},
     "output_type": "execute_result"
    }
   ],
   "source": [
    "r.predict(df3)"
   ]
  },
  {
   "cell_type": "markdown",
   "metadata": {},
   "source": [
    "# Conclusion:\n",
    " - In this lab, we have tried to gain the knowledge about data and its varibles, further we did some preprocessing to the data in order to bring it into more analyst friendly mode, laterly we implemented various graphs using various libraries in order to get valuable insights, furthermore, we implemented and evaluated LinearRegression model to get high accuracy in term of predicting rental price to find houses for people who are in search for the one according to their preferences."
   ]
  },
  {
   "cell_type": "markdown",
   "metadata": {},
   "source": [
    "# Reference\n",
    " - https://www.geeksforgeeks.org/ml-one-hot-encoding-of-datasets-in-python/\n",
    " - https://www.analyticsvidhya.com/blog/2021/05/know-the-best-evaluation-metrics-for-your-regression-model/\n",
    " - https://pandas.pydata.org/\n",
    " - https://matplotlib.org/\n",
    " - https://seaborn.pydata.org/\n",
    " - https://plotly.com/\n",
    " - https://scikit-learn.org/stable/modules/classes.html#module-sklearn.linear_model\n",
    " - https://www.kaggle.com/c/house-prices-advanced-regression-techniques"
   ]
  },
  {
   "cell_type": "code",
   "execution_count": null,
   "metadata": {},
   "outputs": [],
   "source": []
  }
 ],
 "metadata": {
  "kernelspec": {
   "display_name": "Python 3",
   "language": "python",
   "name": "python3"
  },
  "language_info": {
   "codemirror_mode": {
    "name": "ipython",
    "version": 3
   },
   "file_extension": ".py",
   "mimetype": "text/x-python",
   "name": "python",
   "nbconvert_exporter": "python",
   "pygments_lexer": "ipython3",
   "version": "3.7.6"
  }
 },
 "nbformat": 4,
 "nbformat_minor": 4
}
