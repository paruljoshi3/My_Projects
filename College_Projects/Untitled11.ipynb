{
 "cells": [
  {
   "cell_type": "code",
   "execution_count": 1,
   "metadata": {},
   "outputs": [
    {
     "name": "stdout",
     "output_type": "stream",
     "text": [
      "Movies Available for Show\n",
      "{'1001': ['Shershaah', 'Hindi', 'Action', 8.7], '1002': ['Train to Busan', 'Korean', 'Thriller and Zombie', 7.6]}\n",
      "\n",
      " Provided actions are: \n",
      " ['Add', 'Delete', 'Update', 'Exit']\n",
      "\n",
      " Please select any one from the above option:Add\n",
      "Enter the Id you want to Add: 1003\n",
      "Enter the details as name {},language {},genre {},ratings {}[\"Cindrella\",\"English\",\"Fantasy\",5.6]\n"
     ]
    },
    {
     "ename": "NameError",
     "evalue": "name 'user_movies' is not defined",
     "output_type": "error",
     "traceback": [
      "\u001b[1;31m---------------------------------------------------------------------------\u001b[0m",
      "\u001b[1;31mNameError\u001b[0m                                 Traceback (most recent call last)",
      "\u001b[1;32m<ipython-input-1-6ab9a57615df>\u001b[0m in \u001b[0;36m<module>\u001b[1;34m\u001b[0m\n\u001b[0;32m     21\u001b[0m         \u001b[0muser_id\u001b[0m\u001b[1;33m=\u001b[0m\u001b[0minput\u001b[0m\u001b[1;33m(\u001b[0m\u001b[1;34m\"Enter the Id you want to Add: \"\u001b[0m\u001b[1;33m)\u001b[0m\u001b[1;33m\u001b[0m\u001b[1;33m\u001b[0m\u001b[0m\n\u001b[0;32m     22\u001b[0m         \u001b[0muser_movie\u001b[0m\u001b[1;33m=\u001b[0m\u001b[0minput\u001b[0m\u001b[1;33m(\u001b[0m\u001b[1;34m\"Enter the details as name {},language {},genre {},ratings {}\"\u001b[0m\u001b[1;33m)\u001b[0m\u001b[1;33m\u001b[0m\u001b[1;33m\u001b[0m\u001b[0m\n\u001b[1;32m---> 23\u001b[1;33m         \u001b[1;32mif\u001b[0m \u001b[0muser_id\u001b[0m \u001b[1;32mand\u001b[0m \u001b[0muser_movies\u001b[0m \u001b[1;32mnot\u001b[0m \u001b[1;32min\u001b[0m \u001b[0mmovies\u001b[0m\u001b[1;33m:\u001b[0m\u001b[1;33m\u001b[0m\u001b[1;33m\u001b[0m\u001b[0m\n\u001b[0m\u001b[0;32m     24\u001b[0m             \u001b[0mmovies\u001b[0m\u001b[1;33m[\u001b[0m\u001b[0muser_id\u001b[0m\u001b[1;33m]\u001b[0m\u001b[1;33m=\u001b[0m\u001b[0muser_movie\u001b[0m\u001b[1;33m\u001b[0m\u001b[1;33m\u001b[0m\u001b[0m\n\u001b[0;32m     25\u001b[0m             \u001b[0mprint\u001b[0m\u001b[1;33m(\u001b[0m\u001b[1;34m\"\\n New movies list is \\n\"\u001b[0m\u001b[1;33m,\u001b[0m\u001b[0mmovies\u001b[0m\u001b[1;33m)\u001b[0m\u001b[1;33m\u001b[0m\u001b[1;33m\u001b[0m\u001b[0m\n",
      "\u001b[1;31mNameError\u001b[0m: name 'user_movies' is not defined"
     ]
    }
   ],
   "source": [
    "# 1. Create a dictionary for a movie ticket booking system with keys as the movie ID and other attributes [name,language,genre,\n",
    "#ratings] as\n",
    "# values.\n",
    "# 2. Take an input from the user and add a new movie to the dictionary.\n",
    "# 3. Take the input from a user and remove a particular movie.\n",
    "# 4. Overwrite the details of any movie ID.\n",
    "# 5. Create a dictionary for a student register that stores the names of 5 students and marks of 5 subjects each.\n",
    "# 6. Print the marks of each student subjectwise and its aggregate of each student.\n",
    "\n",
    "print(\"Movies Available for Show\")\n",
    "\n",
    "movies={'1001':[\"Shershaah\",\"Hindi\",\"Action\",8.7],'1002':[\"Train to Busan\",\"Korean\",\"Thriller and Zombie\",7.6]}\n",
    "print(movies)\n",
    "\n",
    "Menu_Dict=[\"Add\",\"Delete\",\"Update\",\"Exit\"]\n",
    "print(\"\\n Provided actions are: \\n\",Menu_Dict)\n",
    "\n",
    "while True:\n",
    "    user_option=input(\"\\n Please select any one from the above option:\")\n",
    "    if user_option==Menu_Dict[0]:\n",
    "        user_id=input(\"Enter the Id you want to Add: \")\n",
    "        user_movie=input(\"Enter the details as name {},language {},genre {},ratings {}\")\n",
    "        if user_id and user_movie not in movies:\n",
    "            movies[user_id]=user_movie\n",
    "            print(\"\\n New movies list is \\n\",movies)\n",
    "        else:\n",
    "            print(\"\\n The given id/movie is already in the list \\n\")\n",
    "    elif user_option==Menu_Dict[1]:\n",
    "        print(\"\\n The present movies list are \\n\",movies)\n",
    "        user_id=input(\"Enter the Id you want to Delete: \")\n",
    "        user_movie=input(\"Enter the details as name {},language {},genre {},ratings {}\")\n",
    "        if user_id and user_movie in movies:\n",
    "            del movies[user_id]\n",
    "            print(\"\\n The new list after deletion \\n\",movies)\n",
    "        else:\n",
    "            print(\"This Id/movie is not in list. Please check again\")\n",
    "    elif user_option==Menu_Dict[2]:\n",
    "        print(\"\\n These are the list of available movies \\n\",movies)\n",
    "        user_id=input(\"Enter the Id you want to Update: \")\n",
    "        user_movie=input(\"Enter the update details as name {},language {},genre {},ratings {}\")\n",
    "        if user_id in movies:\n",
    "            movies[user_id]=user_movie\n",
    "            print(\"\\n The updated list of movies is \\n\",movies)\n",
    "        else:\n",
    "            print(\"\\n The provided id is not present in details. Please see available id's \\n\")\n",
    "    elif user_option==Menu_Dict[3]:\n",
    "        break\n",
    "    else:\n",
    "        print(\"\\n Sorry i dont understand the command\")"
   ]
  },
  {
   "cell_type": "code",
   "execution_count": null,
   "metadata": {},
   "outputs": [],
   "source": []
  },
  {
   "cell_type": "code",
   "execution_count": null,
   "metadata": {},
   "outputs": [],
   "source": []
  },
  {
   "cell_type": "code",
   "execution_count": null,
   "metadata": {},
   "outputs": [],
   "source": [
    "[\"Cindrella\",\"English\",\"Fantasy\",5.6]"
   ]
  },
  {
   "cell_type": "code",
   "execution_count": null,
   "metadata": {},
   "outputs": [],
   "source": [
    "[\"Happy bhaag jayegi\",\"Hindi\",\"Comedy\"7]"
   ]
  },
  {
   "cell_type": "code",
   "execution_count": null,
   "metadata": {},
   "outputs": [],
   "source": []
  },
  {
   "cell_type": "code",
   "execution_count": null,
   "metadata": {},
   "outputs": [],
   "source": []
  },
  {
   "cell_type": "code",
   "execution_count": null,
   "metadata": {},
   "outputs": [],
   "source": [
    "movies"
   ]
  },
  {
   "cell_type": "code",
   "execution_count": null,
   "metadata": {},
   "outputs": [],
   "source": []
  }
 ],
 "metadata": {
  "kernelspec": {
   "display_name": "Python 3",
   "language": "python",
   "name": "python3"
  },
  "language_info": {
   "codemirror_mode": {
    "name": "ipython",
    "version": 3
   },
   "file_extension": ".py",
   "mimetype": "text/x-python",
   "name": "python",
   "nbconvert_exporter": "python",
   "pygments_lexer": "ipython3",
   "version": "3.7.6"
  }
 },
 "nbformat": 4,
 "nbformat_minor": 4
}
