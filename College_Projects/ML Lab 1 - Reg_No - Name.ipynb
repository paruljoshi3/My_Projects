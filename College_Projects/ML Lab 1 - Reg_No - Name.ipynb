{
 "cells": [
  {
   "attachments": {},
   "cell_type": "markdown",
   "id": "3b92fb9d",
   "metadata": {},
   "source": [
    "# Machine Learning Lab __ - Topic Name\n",
    "<hr/>\n",
    "\n",
    "Submitted by <br>\n",
    "Name: **Student Name** <br>\n",
    "Register Number: **Register Number** <br>\n",
    "Class: **Class Name** <br> \n",
    "<hr/>\n",
    "\n",
    "\n",
    "\n",
    "\n",
    "\n",
    "\n"
   ]
  },
  {
   "cell_type": "markdown",
   "id": "3b828156",
   "metadata": {},
   "source": [
    "## Lab Overview  \n",
    "### Objectives\n",
    "Edit this sub-section based on your understanding of Objective (if required)\n",
    "- Execute some basic python code\n",
    "- Import the following libraries into Python *(Mandatory)*:\n",
    "    - pandas\n",
    "    - numpy\n",
    "    - sklearn\n",
    "    - seaborn\n",
    "    - theano\n",
    "    - scipy\n",
    "- Import the following libraries into Python *(Optional)*:\n",
    "    - pytorch \n",
    "    - keras\n",
    "    - tensorflow\n",
    "- Execute at least one line of code involving above-libraries *(Need not be your own code)*\n",
    "- Find out the various options in Jupyter Notebook Markdown Documentation"
   ]
  },
  {
   "cell_type": "markdown",
   "id": "dbd4ced9",
   "metadata": {},
   "source": [
    "### Problem Definition\n",
    "Type what you are going to do for reaching the above-mentioned objectives."
   ]
  },
  {
   "cell_type": "markdown",
   "id": "d1b07877",
   "metadata": {},
   "source": [
    "### Approach\n",
    "This is an extension to the Problem Defnintion. You have to mention the process/appraoch that you have followed in order to reach out the above problem defintion."
   ]
  },
  {
   "cell_type": "markdown",
   "id": "b18a418c",
   "metadata": {},
   "source": [
    "### Sections\n",
    "Here, you mention the sections you have defined in the below code. For this lab, the sections are -\n",
    "1. Lab Overview\n",
    "1. Executing Basic Python Code\n",
    "1. Libraries\n",
    "    1. Installation Instructions\n",
    "    1. Numpy\n",
    "    1. Pandas\n",
    "    1. SKLearn\n",
    "    1. ...\n",
    "1. Conclusion"
   ]
  },
  {
   "cell_type": "markdown",
   "id": "be6bf722",
   "metadata": {},
   "source": [
    "### References\n",
    "Provide any links that you will be referring\n",
    "1. https://www.geeksforgeeks.org/best-python-libraries-for-machine-learning/\n",
    "1. https://towardsdatascience.com/best-python-libraries-for-machine-learning-and-deep-learning-b0bd40c7e8c\n",
    "1. https://www.upgrad.com/blog/top-python-libraries-for-machine-learning/\n",
    "1. https://www.datacamp.com/community/tutorials/markdown-in-jupyter-notebook\n",
    "<hr/>"
   ]
  },
  {
   "cell_type": "markdown",
   "id": "03b8b9b4",
   "metadata": {},
   "source": [
    "## Executing Basic Python Code"
   ]
  },
  {
   "cell_type": "markdown",
   "id": "46489c48",
   "metadata": {},
   "source": [
    "#### A Python Statement to input the name"
   ]
  },
  {
   "cell_type": "code",
   "execution_count": null,
   "id": "dca4d8ff",
   "metadata": {},
   "outputs": [],
   "source": [
    "name = input(\"Enter your name: \")"
   ]
  },
  {
   "cell_type": "markdown",
   "id": "e5c2193a",
   "metadata": {},
   "source": [
    "#### A Program to add two numbers"
   ]
  },
  {
   "cell_type": "code",
   "execution_count": null,
   "id": "86e3ab05",
   "metadata": {},
   "outputs": [],
   "source": [
    "print(\"*\"*50)\n",
    "print((\"Add Two Numbers\").center(50))\n",
    "print(\"-\"*50)\n",
    "\n",
    "\n",
    "num1 = int(input(\"Enter a number: \"))\n",
    "num2 = int(input(\"Enter another number: \"))\n",
    "\n",
    "sumOfNumbers = num1 + num2\n",
    "\n",
    "print(\"-\"*50)\n",
    "print(\"Hello {}!! Sum of the numbers is {}\".format(name, sumOfNumbers))\n",
    "print(\"=\"*50)\n"
   ]
  },
  {
   "cell_type": "markdown",
   "id": "30fcad20",
   "metadata": {},
   "source": [
    "#### Some simple user-defined functions"
   ]
  },
  {
   "cell_type": "code",
   "execution_count": null,
   "id": "f032e961",
   "metadata": {},
   "outputs": [],
   "source": [
    "def printLine(symbol, size):\n",
    "    print(symbol*size)"
   ]
  },
  {
   "cell_type": "code",
   "execution_count": null,
   "id": "67fe6064",
   "metadata": {},
   "outputs": [],
   "source": [
    "def sayHello(name):\n",
    "    print(\"Hello {}!\".format(name))\n",
    "    \n",
    "def sayThankYou(name, title):\n",
    "    print(\"Thank you {} for using this program - '{}'\".format(name, title))"
   ]
  },
  {
   "cell_type": "code",
   "execution_count": null,
   "id": "87e2b49a",
   "metadata": {},
   "outputs": [],
   "source": [
    "programTitle = \"Introduction to ML Libraries\"\n",
    "\n",
    "printLine(\"*\", 50)\n",
    "sayHello(name)\n",
    "printLine(\"-\", 20)\n",
    "sayThankYou(name, programTitle)\n",
    "printLine(\"*\", 50)\n"
   ]
  },
  {
   "cell_type": "markdown",
   "id": "6a704dd1",
   "metadata": {},
   "source": [
    "Now that you have executed the basics, let us go to the ML Libraries"
   ]
  },
  {
   "cell_type": "markdown",
   "id": "ca5b8be1",
   "metadata": {},
   "source": [
    "## Libraries"
   ]
  },
  {
   "cell_type": "markdown",
   "id": "aa88792d",
   "metadata": {},
   "source": [
    "### Installation Instructions\n",
    "If any of the libraries cannot be imported (Python says *No module named _____*), then you will have to take **Command Prompt** and then use the **PIP** instruction to install libraries.\n",
    "\n",
    "For instance, ``pip install numpy`` will install the latest version of numpy library"
   ]
  },
  {
   "cell_type": "markdown",
   "id": "a8a79bfd",
   "metadata": {},
   "source": [
    "### Numpy\n",
    "#### About the Library\n",
    "NumPy is a well known general-purpose array-processing package. An extensive collection of high complexity mathematical functions make NumPy powerful to process large multi-dimensional arrays and matrices. NumPy is very useful for handling linear algebra, Fourier transforms, and random numbers. Other libraries like TensorFlow uses NumPy at the backend for manipulating tensors.\n",
    "\n",
    "With NumPy, you can define arbitrary data types and easily integrate with most databases. NumPy can also serve as an efficient multi-dimensional container for any generic data that is in any datatype. The key features of NumPy include powerful N-dimensional array object, broadcasting functions, and out-of-box tools to integrate C/C++ and Fortran code.\""
   ]
  },
  {
   "cell_type": "markdown",
   "id": "42368e9e",
   "metadata": {},
   "source": [
    "#### Importing NumPy"
   ]
  },
  {
   "cell_type": "code",
   "execution_count": null,
   "id": "b86488a5",
   "metadata": {},
   "outputs": [],
   "source": [
    "import numpy # Importing the Numpy Array"
   ]
  },
  {
   "cell_type": "markdown",
   "id": "e16fc1f6",
   "metadata": {},
   "source": [
    "#### Basic Statements using NumPy"
   ]
  },
  {
   "cell_type": "code",
   "execution_count": null,
   "id": "467a1868",
   "metadata": {},
   "outputs": [],
   "source": [
    "# Creating a rank 1 Array\n",
    "arr = numpy.array([1, 2, 3])\n",
    "print(\"Array with Rank 1: \\n\",arr)\n",
    "print(\"\")\n",
    " \n",
    "# Creating a rank 2 Array\n",
    "arr = numpy.array([[1, 2, 3], [4, 5, 6]])\n",
    "print(\"Array with Rank 2: \\n\", arr)\n",
    " \n",
    "# Creating an array from tuple\n",
    "arr = numpy.array((1, 3, 2))\n",
    "print(\"\\nArray created by passing python tuple:\\n\", arr)"
   ]
  },
  {
   "cell_type": "markdown",
   "id": "cfc91e6d",
   "metadata": {},
   "source": [
    "...\n",
    "<hr/>\n",
    "\n",
    "Add more sections above to satisfy the requirements specified in the Objectives of this lab.\n",
    "\n",
    "All the best!"
   ]
  },
  {
   "cell_type": "markdown",
   "id": "5dc3087d",
   "metadata": {},
   "source": [
    "## Conclusion/Results"
   ]
  },
  {
   "cell_type": "markdown",
   "id": "2ca5f18a",
   "metadata": {},
   "source": [
    "Type down your conclusions here based on the above experiments"
   ]
  }
 ],
 "metadata": {
  "kernelspec": {
   "display_name": "Python 3",
   "language": "python",
   "name": "python3"
  },
  "language_info": {
   "codemirror_mode": {
    "name": "ipython",
    "version": 3
   },
   "file_extension": ".py",
   "mimetype": "text/x-python",
   "name": "python",
   "nbconvert_exporter": "python",
   "pygments_lexer": "ipython3",
   "version": "3.8.8"
  }
 },
 "nbformat": 4,
 "nbformat_minor": 5
}
