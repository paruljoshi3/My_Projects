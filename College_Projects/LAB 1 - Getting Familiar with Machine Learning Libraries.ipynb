{
 "cells": [
  {
   "cell_type": "markdown",
   "id": "b49cf8a7",
   "metadata": {},
   "source": [
    "# Machine Learning Lab 01 - Machine Learning Libraries\n",
    "<hr/>\n",
    "\n",
    "Submitted by <br>\n",
    "Name: **Alex Sebastian** <br>\n",
    "Register Number: **21122006** <br>\n",
    "Class: **2MscDS** <br> \n",
    "<hr/>"
   ]
  },
  {
   "cell_type": "markdown",
   "id": "50f5909f",
   "metadata": {},
   "source": [
    "## Lab Overview  \n",
    "### Objectives\n",
    "1. Download the 80-cereals dataset from https://www.kaggle.com/crawford/80-cereals\n",
    "2. Load the dataset using pd.read_csv method\n",
    "3. a. In the column \"mfr\", replace the column \"K\" as \"Kellogg's\", \"G\" as \"Nestle\" and all other values as \"Other Brands\"\n",
    "   b. In the column \"type\", replace \"C\" with \"Type 1\" and \"H\" with \"Type 2\"\n",
    "4. Visualise the count of above two features \"mfr\" and \"type\" with a bar-plot\n",
    "5. Describe the five-number summary and boxplots of the features - protien, sugars, fat, carbo\n",
    "6. Plot Histograms for the features - fat, carbo, sodium, fiber\n",
    "7. Split the datasets into following ratios: 60:40, 70:30, 80:20. Write down what happens when you give \"random_state\" parameter with a constant value and what happens if you do not mention the parameter at all.\n",
    "8. Apply MinMaxScaler() and StandardScaler() to the following features: calories, protien, fat, sodium, fiber, carbo, sugars.\n",
    "9. Does the standard or min-max scaling make a difference in value distribution? Support your answers with some visualisations on the above dataset.\n",
    "10. As an extension of 7th step, Generate a new Pandas DataFrame with the following columns based on the Training Dataset: Split Ratio | Random State | Total Number of Entries | Count of Kellogg's | Count of Nestle | Count of Other Brands"
   ]
  },
  {
   "cell_type": "markdown",
   "id": "778a182e",
   "metadata": {},
   "source": [
    "### Problem Definition\n",
    "> Using the dataset of cereals you are required to work with pandas dataframe by manipulating the data and creating various visualisations.\n",
    "> Understand the MinMaxScaler and StandardScaler preprocessing from the sklearn library"
   ]
  },
  {
   "cell_type": "markdown",
   "id": "d826584f",
   "metadata": {},
   "source": [
    "### Approach\n",
    "Download the dataset from Kaggle and imported the dataset using pandas read_csv function. Changed the mfr and type features using pandas indexing and for loop. Understanding the MinMaxScaler and Standard Scaler and finding the distribution."
   ]
  },
  {
   "cell_type": "markdown",
   "id": "289c2b52",
   "metadata": {},
   "source": [
    "1. Download the 80-cereals dataset from https://www.kaggle.com/crawford/80-cereals"
   ]
  },
  {
   "cell_type": "markdown",
   "id": "25056b3c",
   "metadata": {},
   "source": [
    "2. Load the dataset using pd.read_csv method"
   ]
  },
  {
   "cell_type": "code",
   "execution_count": 1,
   "id": "201bfb69",
   "metadata": {},
   "outputs": [],
   "source": [
    "import pandas as pd"
   ]
  },
  {
   "cell_type": "code",
   "execution_count": 2,
   "id": "abccf8e4",
   "metadata": {},
   "outputs": [
    {
     "data": {
      "text/html": [
       "<div>\n",
       "<style scoped>\n",
       "    .dataframe tbody tr th:only-of-type {\n",
       "        vertical-align: middle;\n",
       "    }\n",
       "\n",
       "    .dataframe tbody tr th {\n",
       "        vertical-align: top;\n",
       "    }\n",
       "\n",
       "    .dataframe thead th {\n",
       "        text-align: right;\n",
       "    }\n",
       "</style>\n",
       "<table border=\"1\" class=\"dataframe\">\n",
       "  <thead>\n",
       "    <tr style=\"text-align: right;\">\n",
       "      <th></th>\n",
       "      <th>name</th>\n",
       "      <th>mfr</th>\n",
       "      <th>type</th>\n",
       "      <th>calories</th>\n",
       "      <th>protein</th>\n",
       "      <th>fat</th>\n",
       "      <th>sodium</th>\n",
       "      <th>fiber</th>\n",
       "      <th>carbo</th>\n",
       "      <th>sugars</th>\n",
       "      <th>potass</th>\n",
       "      <th>vitamins</th>\n",
       "      <th>shelf</th>\n",
       "      <th>weight</th>\n",
       "      <th>cups</th>\n",
       "      <th>rating</th>\n",
       "    </tr>\n",
       "  </thead>\n",
       "  <tbody>\n",
       "    <tr>\n",
       "      <th>0</th>\n",
       "      <td>100% Bran</td>\n",
       "      <td>N</td>\n",
       "      <td>C</td>\n",
       "      <td>70</td>\n",
       "      <td>4</td>\n",
       "      <td>1</td>\n",
       "      <td>130</td>\n",
       "      <td>10.0</td>\n",
       "      <td>5.0</td>\n",
       "      <td>6</td>\n",
       "      <td>280</td>\n",
       "      <td>25</td>\n",
       "      <td>3</td>\n",
       "      <td>1.0</td>\n",
       "      <td>0.33</td>\n",
       "      <td>68.402973</td>\n",
       "    </tr>\n",
       "    <tr>\n",
       "      <th>1</th>\n",
       "      <td>100% Natural Bran</td>\n",
       "      <td>Q</td>\n",
       "      <td>C</td>\n",
       "      <td>120</td>\n",
       "      <td>3</td>\n",
       "      <td>5</td>\n",
       "      <td>15</td>\n",
       "      <td>2.0</td>\n",
       "      <td>8.0</td>\n",
       "      <td>8</td>\n",
       "      <td>135</td>\n",
       "      <td>0</td>\n",
       "      <td>3</td>\n",
       "      <td>1.0</td>\n",
       "      <td>1.00</td>\n",
       "      <td>33.983679</td>\n",
       "    </tr>\n",
       "    <tr>\n",
       "      <th>2</th>\n",
       "      <td>All-Bran</td>\n",
       "      <td>K</td>\n",
       "      <td>C</td>\n",
       "      <td>70</td>\n",
       "      <td>4</td>\n",
       "      <td>1</td>\n",
       "      <td>260</td>\n",
       "      <td>9.0</td>\n",
       "      <td>7.0</td>\n",
       "      <td>5</td>\n",
       "      <td>320</td>\n",
       "      <td>25</td>\n",
       "      <td>3</td>\n",
       "      <td>1.0</td>\n",
       "      <td>0.33</td>\n",
       "      <td>59.425505</td>\n",
       "    </tr>\n",
       "    <tr>\n",
       "      <th>3</th>\n",
       "      <td>All-Bran with Extra Fiber</td>\n",
       "      <td>K</td>\n",
       "      <td>C</td>\n",
       "      <td>50</td>\n",
       "      <td>4</td>\n",
       "      <td>0</td>\n",
       "      <td>140</td>\n",
       "      <td>14.0</td>\n",
       "      <td>8.0</td>\n",
       "      <td>0</td>\n",
       "      <td>330</td>\n",
       "      <td>25</td>\n",
       "      <td>3</td>\n",
       "      <td>1.0</td>\n",
       "      <td>0.50</td>\n",
       "      <td>93.704912</td>\n",
       "    </tr>\n",
       "    <tr>\n",
       "      <th>4</th>\n",
       "      <td>Almond Delight</td>\n",
       "      <td>R</td>\n",
       "      <td>C</td>\n",
       "      <td>110</td>\n",
       "      <td>2</td>\n",
       "      <td>2</td>\n",
       "      <td>200</td>\n",
       "      <td>1.0</td>\n",
       "      <td>14.0</td>\n",
       "      <td>8</td>\n",
       "      <td>-1</td>\n",
       "      <td>25</td>\n",
       "      <td>3</td>\n",
       "      <td>1.0</td>\n",
       "      <td>0.75</td>\n",
       "      <td>34.384843</td>\n",
       "    </tr>\n",
       "  </tbody>\n",
       "</table>\n",
       "</div>"
      ],
      "text/plain": [
       "                        name mfr type  calories  protein  fat  sodium  fiber  \\\n",
       "0                  100% Bran   N    C        70        4    1     130   10.0   \n",
       "1          100% Natural Bran   Q    C       120        3    5      15    2.0   \n",
       "2                   All-Bran   K    C        70        4    1     260    9.0   \n",
       "3  All-Bran with Extra Fiber   K    C        50        4    0     140   14.0   \n",
       "4             Almond Delight   R    C       110        2    2     200    1.0   \n",
       "\n",
       "   carbo  sugars  potass  vitamins  shelf  weight  cups     rating  \n",
       "0    5.0       6     280        25      3     1.0  0.33  68.402973  \n",
       "1    8.0       8     135         0      3     1.0  1.00  33.983679  \n",
       "2    7.0       5     320        25      3     1.0  0.33  59.425505  \n",
       "3    8.0       0     330        25      3     1.0  0.50  93.704912  \n",
       "4   14.0       8      -1        25      3     1.0  0.75  34.384843  "
      ]
     },
     "execution_count": 2,
     "metadata": {},
     "output_type": "execute_result"
    }
   ],
   "source": [
    "df_cereals = pd.read_csv(\"D:\\Alex\\Documents\\Christ-MSDS\\Machine Learning\\cereal.csv\")\n",
    "df_cereals.head()"
   ]
  },
  {
   "cell_type": "markdown",
   "id": "f779ef5f",
   "metadata": {},
   "source": [
    "#### 3. a. In the column \"mfr\", replace the column \"K\" as \"Kellogg's\", \"G\" as \"Nestle\" and all other values as \"Other Brands\"\n",
    "#### b. In the column \"type\", replace \"C\" with \"Type 1\" and \"H\" with \"Type 2\""
   ]
  },
  {
   "cell_type": "code",
   "execution_count": 3,
   "id": "f264390f",
   "metadata": {},
   "outputs": [
    {
     "name": "stderr",
     "output_type": "stream",
     "text": [
      "<ipython-input-3-b65f09a376ff>:7: SettingWithCopyWarning: \n",
      "A value is trying to be set on a copy of a slice from a DataFrame\n",
      "\n",
      "See the caveats in the documentation: https://pandas.pydata.org/pandas-docs/stable/user_guide/indexing.html#returning-a-view-versus-a-copy\n",
      "  df_cereals['mfr'][i] = \"Other Brands\"\n",
      "<ipython-input-3-b65f09a376ff>:3: SettingWithCopyWarning: \n",
      "A value is trying to be set on a copy of a slice from a DataFrame\n",
      "\n",
      "See the caveats in the documentation: https://pandas.pydata.org/pandas-docs/stable/user_guide/indexing.html#returning-a-view-versus-a-copy\n",
      "  df_cereals['mfr'][i] = \"Kellog's\"\n",
      "<ipython-input-3-b65f09a376ff>:5: SettingWithCopyWarning: \n",
      "A value is trying to be set on a copy of a slice from a DataFrame\n",
      "\n",
      "See the caveats in the documentation: https://pandas.pydata.org/pandas-docs/stable/user_guide/indexing.html#returning-a-view-versus-a-copy\n",
      "  df_cereals['mfr'][i] = \"Nestle\"\n"
     ]
    },
    {
     "data": {
      "text/html": [
       "<div>\n",
       "<style scoped>\n",
       "    .dataframe tbody tr th:only-of-type {\n",
       "        vertical-align: middle;\n",
       "    }\n",
       "\n",
       "    .dataframe tbody tr th {\n",
       "        vertical-align: top;\n",
       "    }\n",
       "\n",
       "    .dataframe thead th {\n",
       "        text-align: right;\n",
       "    }\n",
       "</style>\n",
       "<table border=\"1\" class=\"dataframe\">\n",
       "  <thead>\n",
       "    <tr style=\"text-align: right;\">\n",
       "      <th></th>\n",
       "      <th>name</th>\n",
       "      <th>mfr</th>\n",
       "      <th>type</th>\n",
       "      <th>calories</th>\n",
       "      <th>protein</th>\n",
       "      <th>fat</th>\n",
       "      <th>sodium</th>\n",
       "      <th>fiber</th>\n",
       "      <th>carbo</th>\n",
       "      <th>sugars</th>\n",
       "      <th>potass</th>\n",
       "      <th>vitamins</th>\n",
       "      <th>shelf</th>\n",
       "      <th>weight</th>\n",
       "      <th>cups</th>\n",
       "      <th>rating</th>\n",
       "    </tr>\n",
       "  </thead>\n",
       "  <tbody>\n",
       "    <tr>\n",
       "      <th>0</th>\n",
       "      <td>100% Bran</td>\n",
       "      <td>Other Brands</td>\n",
       "      <td>C</td>\n",
       "      <td>70</td>\n",
       "      <td>4</td>\n",
       "      <td>1</td>\n",
       "      <td>130</td>\n",
       "      <td>10.0</td>\n",
       "      <td>5.0</td>\n",
       "      <td>6</td>\n",
       "      <td>280</td>\n",
       "      <td>25</td>\n",
       "      <td>3</td>\n",
       "      <td>1.0</td>\n",
       "      <td>0.33</td>\n",
       "      <td>68.402973</td>\n",
       "    </tr>\n",
       "    <tr>\n",
       "      <th>1</th>\n",
       "      <td>100% Natural Bran</td>\n",
       "      <td>Other Brands</td>\n",
       "      <td>C</td>\n",
       "      <td>120</td>\n",
       "      <td>3</td>\n",
       "      <td>5</td>\n",
       "      <td>15</td>\n",
       "      <td>2.0</td>\n",
       "      <td>8.0</td>\n",
       "      <td>8</td>\n",
       "      <td>135</td>\n",
       "      <td>0</td>\n",
       "      <td>3</td>\n",
       "      <td>1.0</td>\n",
       "      <td>1.00</td>\n",
       "      <td>33.983679</td>\n",
       "    </tr>\n",
       "    <tr>\n",
       "      <th>2</th>\n",
       "      <td>All-Bran</td>\n",
       "      <td>Kellog's</td>\n",
       "      <td>C</td>\n",
       "      <td>70</td>\n",
       "      <td>4</td>\n",
       "      <td>1</td>\n",
       "      <td>260</td>\n",
       "      <td>9.0</td>\n",
       "      <td>7.0</td>\n",
       "      <td>5</td>\n",
       "      <td>320</td>\n",
       "      <td>25</td>\n",
       "      <td>3</td>\n",
       "      <td>1.0</td>\n",
       "      <td>0.33</td>\n",
       "      <td>59.425505</td>\n",
       "    </tr>\n",
       "    <tr>\n",
       "      <th>3</th>\n",
       "      <td>All-Bran with Extra Fiber</td>\n",
       "      <td>Kellog's</td>\n",
       "      <td>C</td>\n",
       "      <td>50</td>\n",
       "      <td>4</td>\n",
       "      <td>0</td>\n",
       "      <td>140</td>\n",
       "      <td>14.0</td>\n",
       "      <td>8.0</td>\n",
       "      <td>0</td>\n",
       "      <td>330</td>\n",
       "      <td>25</td>\n",
       "      <td>3</td>\n",
       "      <td>1.0</td>\n",
       "      <td>0.50</td>\n",
       "      <td>93.704912</td>\n",
       "    </tr>\n",
       "    <tr>\n",
       "      <th>4</th>\n",
       "      <td>Almond Delight</td>\n",
       "      <td>Other Brands</td>\n",
       "      <td>C</td>\n",
       "      <td>110</td>\n",
       "      <td>2</td>\n",
       "      <td>2</td>\n",
       "      <td>200</td>\n",
       "      <td>1.0</td>\n",
       "      <td>14.0</td>\n",
       "      <td>8</td>\n",
       "      <td>-1</td>\n",
       "      <td>25</td>\n",
       "      <td>3</td>\n",
       "      <td>1.0</td>\n",
       "      <td>0.75</td>\n",
       "      <td>34.384843</td>\n",
       "    </tr>\n",
       "  </tbody>\n",
       "</table>\n",
       "</div>"
      ],
      "text/plain": [
       "                        name           mfr type  calories  protein  fat  \\\n",
       "0                  100% Bran  Other Brands    C        70        4    1   \n",
       "1          100% Natural Bran  Other Brands    C       120        3    5   \n",
       "2                   All-Bran      Kellog's    C        70        4    1   \n",
       "3  All-Bran with Extra Fiber      Kellog's    C        50        4    0   \n",
       "4             Almond Delight  Other Brands    C       110        2    2   \n",
       "\n",
       "   sodium  fiber  carbo  sugars  potass  vitamins  shelf  weight  cups  \\\n",
       "0     130   10.0    5.0       6     280        25      3     1.0  0.33   \n",
       "1      15    2.0    8.0       8     135         0      3     1.0  1.00   \n",
       "2     260    9.0    7.0       5     320        25      3     1.0  0.33   \n",
       "3     140   14.0    8.0       0     330        25      3     1.0  0.50   \n",
       "4     200    1.0   14.0       8      -1        25      3     1.0  0.75   \n",
       "\n",
       "      rating  \n",
       "0  68.402973  \n",
       "1  33.983679  \n",
       "2  59.425505  \n",
       "3  93.704912  \n",
       "4  34.384843  "
      ]
     },
     "execution_count": 3,
     "metadata": {},
     "output_type": "execute_result"
    }
   ],
   "source": [
    "for i in range(len(df_cereals)):\n",
    "    if df_cereals['mfr'][i] == \"K\":\n",
    "        df_cereals['mfr'][i] = \"Kellog's\"\n",
    "    elif df_cereals['mfr'][i] == \"G\":\n",
    "        df_cereals['mfr'][i] = \"Nestle\"\n",
    "    else:\n",
    "        df_cereals['mfr'][i] = \"Other Brands\"\n",
    "df_cereals.head()"
   ]
  },
  {
   "cell_type": "markdown",
   "id": "95b1fc79",
   "metadata": {},
   "source": [
    "b. In the column \"type\", replace \"C\" with \"Type 1\" and \"H\" with \"Type 2\""
   ]
  },
  {
   "cell_type": "code",
   "execution_count": 4,
   "id": "6d60a762",
   "metadata": {},
   "outputs": [
    {
     "name": "stderr",
     "output_type": "stream",
     "text": [
      "<ipython-input-4-72fd85902ceb>:3: SettingWithCopyWarning: \n",
      "A value is trying to be set on a copy of a slice from a DataFrame\n",
      "\n",
      "See the caveats in the documentation: https://pandas.pydata.org/pandas-docs/stable/user_guide/indexing.html#returning-a-view-versus-a-copy\n",
      "  df_cereals['type'][i] = \"Type 1\"\n",
      "<ipython-input-4-72fd85902ceb>:5: SettingWithCopyWarning: \n",
      "A value is trying to be set on a copy of a slice from a DataFrame\n",
      "\n",
      "See the caveats in the documentation: https://pandas.pydata.org/pandas-docs/stable/user_guide/indexing.html#returning-a-view-versus-a-copy\n",
      "  df_cereals['type'][i] = \"Type 2\"\n"
     ]
    },
    {
     "data": {
      "text/html": [
       "<div>\n",
       "<style scoped>\n",
       "    .dataframe tbody tr th:only-of-type {\n",
       "        vertical-align: middle;\n",
       "    }\n",
       "\n",
       "    .dataframe tbody tr th {\n",
       "        vertical-align: top;\n",
       "    }\n",
       "\n",
       "    .dataframe thead th {\n",
       "        text-align: right;\n",
       "    }\n",
       "</style>\n",
       "<table border=\"1\" class=\"dataframe\">\n",
       "  <thead>\n",
       "    <tr style=\"text-align: right;\">\n",
       "      <th></th>\n",
       "      <th>name</th>\n",
       "      <th>mfr</th>\n",
       "      <th>type</th>\n",
       "      <th>calories</th>\n",
       "      <th>protein</th>\n",
       "      <th>fat</th>\n",
       "      <th>sodium</th>\n",
       "      <th>fiber</th>\n",
       "      <th>carbo</th>\n",
       "      <th>sugars</th>\n",
       "      <th>potass</th>\n",
       "      <th>vitamins</th>\n",
       "      <th>shelf</th>\n",
       "      <th>weight</th>\n",
       "      <th>cups</th>\n",
       "      <th>rating</th>\n",
       "    </tr>\n",
       "  </thead>\n",
       "  <tbody>\n",
       "    <tr>\n",
       "      <th>0</th>\n",
       "      <td>100% Bran</td>\n",
       "      <td>Other Brands</td>\n",
       "      <td>Type 1</td>\n",
       "      <td>70</td>\n",
       "      <td>4</td>\n",
       "      <td>1</td>\n",
       "      <td>130</td>\n",
       "      <td>10.0</td>\n",
       "      <td>5.0</td>\n",
       "      <td>6</td>\n",
       "      <td>280</td>\n",
       "      <td>25</td>\n",
       "      <td>3</td>\n",
       "      <td>1.0</td>\n",
       "      <td>0.33</td>\n",
       "      <td>68.402973</td>\n",
       "    </tr>\n",
       "    <tr>\n",
       "      <th>1</th>\n",
       "      <td>100% Natural Bran</td>\n",
       "      <td>Other Brands</td>\n",
       "      <td>Type 1</td>\n",
       "      <td>120</td>\n",
       "      <td>3</td>\n",
       "      <td>5</td>\n",
       "      <td>15</td>\n",
       "      <td>2.0</td>\n",
       "      <td>8.0</td>\n",
       "      <td>8</td>\n",
       "      <td>135</td>\n",
       "      <td>0</td>\n",
       "      <td>3</td>\n",
       "      <td>1.0</td>\n",
       "      <td>1.00</td>\n",
       "      <td>33.983679</td>\n",
       "    </tr>\n",
       "    <tr>\n",
       "      <th>2</th>\n",
       "      <td>All-Bran</td>\n",
       "      <td>Kellog's</td>\n",
       "      <td>Type 1</td>\n",
       "      <td>70</td>\n",
       "      <td>4</td>\n",
       "      <td>1</td>\n",
       "      <td>260</td>\n",
       "      <td>9.0</td>\n",
       "      <td>7.0</td>\n",
       "      <td>5</td>\n",
       "      <td>320</td>\n",
       "      <td>25</td>\n",
       "      <td>3</td>\n",
       "      <td>1.0</td>\n",
       "      <td>0.33</td>\n",
       "      <td>59.425505</td>\n",
       "    </tr>\n",
       "    <tr>\n",
       "      <th>3</th>\n",
       "      <td>All-Bran with Extra Fiber</td>\n",
       "      <td>Kellog's</td>\n",
       "      <td>Type 1</td>\n",
       "      <td>50</td>\n",
       "      <td>4</td>\n",
       "      <td>0</td>\n",
       "      <td>140</td>\n",
       "      <td>14.0</td>\n",
       "      <td>8.0</td>\n",
       "      <td>0</td>\n",
       "      <td>330</td>\n",
       "      <td>25</td>\n",
       "      <td>3</td>\n",
       "      <td>1.0</td>\n",
       "      <td>0.50</td>\n",
       "      <td>93.704912</td>\n",
       "    </tr>\n",
       "    <tr>\n",
       "      <th>4</th>\n",
       "      <td>Almond Delight</td>\n",
       "      <td>Other Brands</td>\n",
       "      <td>Type 1</td>\n",
       "      <td>110</td>\n",
       "      <td>2</td>\n",
       "      <td>2</td>\n",
       "      <td>200</td>\n",
       "      <td>1.0</td>\n",
       "      <td>14.0</td>\n",
       "      <td>8</td>\n",
       "      <td>-1</td>\n",
       "      <td>25</td>\n",
       "      <td>3</td>\n",
       "      <td>1.0</td>\n",
       "      <td>0.75</td>\n",
       "      <td>34.384843</td>\n",
       "    </tr>\n",
       "  </tbody>\n",
       "</table>\n",
       "</div>"
      ],
      "text/plain": [
       "                        name           mfr    type  calories  protein  fat  \\\n",
       "0                  100% Bran  Other Brands  Type 1        70        4    1   \n",
       "1          100% Natural Bran  Other Brands  Type 1       120        3    5   \n",
       "2                   All-Bran      Kellog's  Type 1        70        4    1   \n",
       "3  All-Bran with Extra Fiber      Kellog's  Type 1        50        4    0   \n",
       "4             Almond Delight  Other Brands  Type 1       110        2    2   \n",
       "\n",
       "   sodium  fiber  carbo  sugars  potass  vitamins  shelf  weight  cups  \\\n",
       "0     130   10.0    5.0       6     280        25      3     1.0  0.33   \n",
       "1      15    2.0    8.0       8     135         0      3     1.0  1.00   \n",
       "2     260    9.0    7.0       5     320        25      3     1.0  0.33   \n",
       "3     140   14.0    8.0       0     330        25      3     1.0  0.50   \n",
       "4     200    1.0   14.0       8      -1        25      3     1.0  0.75   \n",
       "\n",
       "      rating  \n",
       "0  68.402973  \n",
       "1  33.983679  \n",
       "2  59.425505  \n",
       "3  93.704912  \n",
       "4  34.384843  "
      ]
     },
     "execution_count": 4,
     "metadata": {},
     "output_type": "execute_result"
    }
   ],
   "source": [
    "for i in range(len(df_cereals)):\n",
    "    if df_cereals['type'][i] == \"C\":\n",
    "        df_cereals['type'][i] = \"Type 1\"\n",
    "    elif df_cereals['type'][i] == \"H\":\n",
    "        df_cereals['type'][i] = \"Type 2\"\n",
    "df_cereals.head()"
   ]
  },
  {
   "cell_type": "markdown",
   "id": "a5de3ab0",
   "metadata": {},
   "source": [
    "#### 4. Visualise the count of above two features \"mfr\" and \"type\" with a bar-plot"
   ]
  },
  {
   "cell_type": "code",
   "execution_count": 5,
   "id": "9e000f46",
   "metadata": {},
   "outputs": [],
   "source": [
    "import matplotlib.pyplot as plt\n",
    "import seaborn as sns"
   ]
  },
  {
   "cell_type": "code",
   "execution_count": 6,
   "id": "ba95bce2",
   "metadata": {},
   "outputs": [
    {
     "data": {
      "text/plain": [
       "<AxesSubplot:xlabel='mfr', ylabel='count'>"
      ]
     },
     "execution_count": 6,
     "metadata": {},
     "output_type": "execute_result"
    },
    {
     "data": {
      "image/png": "[encoded data removed]",
      "text/plain": [
       "<Figure size 432x288 with 1 Axes>"
      ]
     },
     "metadata": {
      "needs_background": "light"
     },
     "output_type": "display_data"
    }
   ],
   "source": [
    "sns.countplot(x='mfr',data=df_cereals)"
   ]
  },
  {
   "cell_type": "code",
   "execution_count": 7,
   "id": "5bfa1c36",
   "metadata": {},
   "outputs": [
    {
     "data": {
      "text/plain": [
       "<AxesSubplot:xlabel='type', ylabel='count'>"
      ]
     },
     "execution_count": 7,
     "metadata": {},
     "output_type": "execute_result"
    },
    {
     "data": {
      "image/png": "[encoded data removed]",
      "text/plain": [
       "<Figure size 432x288 with 1 Axes>"
      ]
     },
     "metadata": {
      "needs_background": "light"
     },
     "output_type": "display_data"
    }
   ],
   "source": [
    "sns.countplot(x='type',data=df_cereals)"
   ]
  },
  {
   "cell_type": "markdown",
   "id": "08232e15",
   "metadata": {},
   "source": [
    "5. Describe the five-number summary and boxplots of the features - protien, sugars, fat, carbo"
   ]
  },
  {
   "cell_type": "code",
   "execution_count": 8,
   "id": "e5ab8fa0",
   "metadata": {},
   "outputs": [
    {
     "data": {
      "text/html": [
       "<div>\n",
       "<style scoped>\n",
       "    .dataframe tbody tr th:only-of-type {\n",
       "        vertical-align: middle;\n",
       "    }\n",
       "\n",
       "    .dataframe tbody tr th {\n",
       "        vertical-align: top;\n",
       "    }\n",
       "\n",
       "    .dataframe thead th {\n",
       "        text-align: right;\n",
       "    }\n",
       "</style>\n",
       "<table border=\"1\" class=\"dataframe\">\n",
       "  <thead>\n",
       "    <tr style=\"text-align: right;\">\n",
       "      <th></th>\n",
       "      <th>protein</th>\n",
       "      <th>sugars</th>\n",
       "      <th>fat</th>\n",
       "      <th>carbo</th>\n",
       "    </tr>\n",
       "  </thead>\n",
       "  <tbody>\n",
       "    <tr>\n",
       "      <th>count</th>\n",
       "      <td>77.000000</td>\n",
       "      <td>77.000000</td>\n",
       "      <td>77.000000</td>\n",
       "      <td>77.000000</td>\n",
       "    </tr>\n",
       "    <tr>\n",
       "      <th>mean</th>\n",
       "      <td>2.545455</td>\n",
       "      <td>6.922078</td>\n",
       "      <td>1.012987</td>\n",
       "      <td>14.597403</td>\n",
       "    </tr>\n",
       "    <tr>\n",
       "      <th>std</th>\n",
       "      <td>1.094790</td>\n",
       "      <td>4.444885</td>\n",
       "      <td>1.006473</td>\n",
       "      <td>4.278956</td>\n",
       "    </tr>\n",
       "    <tr>\n",
       "      <th>min</th>\n",
       "      <td>1.000000</td>\n",
       "      <td>-1.000000</td>\n",
       "      <td>0.000000</td>\n",
       "      <td>-1.000000</td>\n",
       "    </tr>\n",
       "    <tr>\n",
       "      <th>25%</th>\n",
       "      <td>2.000000</td>\n",
       "      <td>3.000000</td>\n",
       "      <td>0.000000</td>\n",
       "      <td>12.000000</td>\n",
       "    </tr>\n",
       "    <tr>\n",
       "      <th>50%</th>\n",
       "      <td>3.000000</td>\n",
       "      <td>7.000000</td>\n",
       "      <td>1.000000</td>\n",
       "      <td>14.000000</td>\n",
       "    </tr>\n",
       "    <tr>\n",
       "      <th>75%</th>\n",
       "      <td>3.000000</td>\n",
       "      <td>11.000000</td>\n",
       "      <td>2.000000</td>\n",
       "      <td>17.000000</td>\n",
       "    </tr>\n",
       "    <tr>\n",
       "      <th>max</th>\n",
       "      <td>6.000000</td>\n",
       "      <td>15.000000</td>\n",
       "      <td>5.000000</td>\n",
       "      <td>23.000000</td>\n",
       "    </tr>\n",
       "  </tbody>\n",
       "</table>\n",
       "</div>"
      ],
      "text/plain": [
       "         protein     sugars        fat      carbo\n",
       "count  77.000000  77.000000  77.000000  77.000000\n",
       "mean    2.545455   6.922078   1.012987  14.597403\n",
       "std     1.094790   4.444885   1.006473   4.278956\n",
       "min     1.000000  -1.000000   0.000000  -1.000000\n",
       "25%     2.000000   3.000000   0.000000  12.000000\n",
       "50%     3.000000   7.000000   1.000000  14.000000\n",
       "75%     3.000000  11.000000   2.000000  17.000000\n",
       "max     6.000000  15.000000   5.000000  23.000000"
      ]
     },
     "execution_count": 8,
     "metadata": {},
     "output_type": "execute_result"
    }
   ],
   "source": [
    "df_cereals.describe()[['protein','sugars','fat','carbo']]"
   ]
  },
  {
   "cell_type": "code",
   "execution_count": 15,
   "id": "15f8109e",
   "metadata": {},
   "outputs": [
    {
     "data": {
      "image/png": "[encoded data removed]",
      "text/plain": [
       "<Figure size 432x288 with 4 Axes>"
      ]
     },
     "metadata": {
      "needs_background": "light"
     },
     "output_type": "display_data"
    }
   ],
   "source": [
    "names = ['protein','sugars','fat','carbo']\n",
    "f , axes = plt.subplots(round(len(names)/2),2)\n",
    "y = 0\n",
    "for name in names:\n",
    "    i, j = divmod(y,2)\n",
    "    sns.boxplot(y=df_cereals[name],ax=axes[i,j])\n",
    "    y = y + 1\n",
    "    \n",
    "plt.tight_layout()\n",
    "plt.show()"
   ]
  },
  {
   "cell_type": "markdown",
   "id": "1c6d2f0f",
   "metadata": {},
   "source": [
    "6. Plot Histograms for the features - fat, carbo, sodium, fiber"
   ]
  },
  {
   "cell_type": "code",
   "execution_count": 16,
   "id": "2ffa1437",
   "metadata": {},
   "outputs": [
    {
     "data": {
      "image/png": "[encoded data removed]",
      "text/plain": [
       "<Figure size 432x288 with 1 Axes>"
      ]
     },
     "metadata": {
      "needs_background": "light"
     },
     "output_type": "display_data"
    }
   ],
   "source": [
    "sns.histplot(x = df_cereals['fat'])\n",
    "plt.show()"
   ]
  },
  {
   "cell_type": "code",
   "execution_count": 18,
   "id": "3600c06e",
   "metadata": {},
   "outputs": [
    {
     "data": {
      "image/png": "[encoded data removed]",
      "text/plain": [
       "<Figure size 432x288 with 4 Axes>"
      ]
     },
     "metadata": {
      "needs_background": "light"
     },
     "output_type": "display_data"
    }
   ],
   "source": [
    "names = ['fat','carbo','sodium','fiber']\n",
    "f , axes = plt.subplots(round(len(names)/2),2)\n",
    "y = 0\n",
    "for name in names:\n",
    "    i, j = divmod(y,2)\n",
    "    sns.histplot(x=df_cereals[name],ax=axes[i,j])\n",
    "    y = y + 1\n",
    "    \n",
    "plt.tight_layout()\n",
    "plt.show()"
   ]
  },
  {
   "cell_type": "markdown",
   "id": "d4814057",
   "metadata": {},
   "source": [
    "7. Split the datasets into following ratios: 60:40, 70:30, 80:20. Write down what happens when you give \"random_state\" parameter with a constant value and what happens if you do not mention the parameter at all."
   ]
  },
  {
   "cell_type": "code",
   "execution_count": 20,
   "id": "093655c1",
   "metadata": {},
   "outputs": [],
   "source": [
    "from sklearn.model_selection import train_test_split"
   ]
  },
  {
   "cell_type": "code",
   "execution_count": 68,
   "id": "ee65e1a5",
   "metadata": {},
   "outputs": [
    {
     "name": "stdout",
     "output_type": "stream",
     "text": [
      "Train size: 60\n",
      "\n",
      "With random state set train_X is:\n",
      "     calories  protein  fat  sodium  fiber  carbo  sugars\n",
      "76       110        2    1     200    1.0   16.0       8\n",
      "19       110        3    3     140    4.0   10.0       7\n",
      "64        90        3    0       0    4.0   19.0       0\n",
      "25       110        1    0     200    1.0   14.0      11\n",
      "\n",
      "With no random state given train_X is:\n",
      "     calories  protein  fat  sodium  fiber  carbo  sugars\n",
      "44       150        4    3      95    3.0   16.0      11\n",
      "46       160        3    2     150    3.0   17.0      13\n",
      "52       120        3    1     200    6.0   11.0      14\n",
      "67       110        6    0     230    1.0   16.0       3\n",
      "\n",
      "Train size: 60\n",
      "\n",
      "With random state set train_X is:\n",
      "     calories  protein  fat  sodium  fiber  carbo  sugars\n",
      "76       110        2    1     200    1.0   16.0       8\n",
      "19       110        3    3     140    4.0   10.0       7\n",
      "64        90        3    0       0    4.0   19.0       0\n",
      "25       110        1    0     200    1.0   14.0      11\n",
      "\n",
      "With no random state given train_X is:\n",
      "     calories  protein  fat  sodium  fiber  carbo  sugars\n",
      "26       100        3    0       0    3.0   14.0       7\n",
      "59       100        3    2     140    2.5   10.5       8\n",
      "22       100        2    1     140    2.0   11.0      10\n",
      "45       150        4    3     150    3.0   16.0      11\n",
      "\n",
      "Train size: 70\n",
      "\n",
      "With random state set train_X is:\n",
      "     calories  protein  fat  sodium  fiber  carbo  sugars\n",
      "54        50        1    0       0    0.0   13.0       0\n",
      "31       110        1    1     280    0.0   15.0       9\n",
      "7        130        3    2     210    2.0   18.0       8\n",
      "62       110        2    0     290    0.0   22.0       3\n",
      "\n",
      "With no random state given train_X is:\n",
      "     calories  protein  fat  sodium  fiber  carbo  sugars\n",
      "30       100        2    0      45    0.0   11.0      15\n",
      "47       100        2    1     220    2.0   15.0       6\n",
      "21       110        2    0     220    1.0   21.0       3\n",
      "12       120        1    3     210    0.0   13.0       9\n",
      "\n",
      "Train size: 70\n",
      "\n",
      "With random state set train_X is:\n",
      "     calories  protein  fat  sodium  fiber  carbo  sugars\n",
      "54        50        1    0       0    0.0   13.0       0\n",
      "31       110        1    1     280    0.0   15.0       9\n",
      "7        130        3    2     210    2.0   18.0       8\n",
      "62       110        2    0     290    0.0   22.0       3\n",
      "\n",
      "With no random state given train_X is:\n",
      "     calories  protein  fat  sodium  fiber  carbo  sugars\n",
      "44       150        4    3      95    3.0   16.0      11\n",
      "53       100        3    0     320    1.0   20.0       3\n",
      "39       140        3    1     170    2.0   20.0       9\n",
      "20       100        3    0      80    1.0   21.0       0\n",
      "\n",
      "Train size: 80\n",
      "\n",
      "With random state set train_X is:\n",
      "     calories  protein  fat  sodium  fiber  carbo  sugars\n",
      "5        110        2    2     180    1.5   10.5      10\n",
      "34       120        3    3      75    3.0   13.0       4\n",
      "22       100        2    1     140    2.0   11.0      10\n",
      "30       100        2    0      45    0.0   11.0      15\n",
      "\n",
      "With no random state given train_X is:\n",
      "     calories  protein  fat  sodium  fiber  carbo  sugars\n",
      "32       100        3    1     140    3.0   15.0       5\n",
      "16       100        2    0     290    1.0   21.0       2\n",
      "24       110        2    1     125    1.0   11.0      13\n",
      "57       100        5    2       0    2.7   -1.0      -1\n",
      "\n",
      "Train size: 80\n",
      "\n",
      "With random state set train_X is:\n",
      "     calories  protein  fat  sodium  fiber  carbo  sugars\n",
      "5        110        2    2     180    1.5   10.5      10\n",
      "34       120        3    3      75    3.0   13.0       4\n",
      "22       100        2    1     140    2.0   11.0      10\n",
      "30       100        2    0      45    0.0   11.0      15\n",
      "\n",
      "With no random state given train_X is:\n",
      "     calories  protein  fat  sodium  fiber  carbo  sugars\n",
      "19       110        3    3     140    4.0   10.0       7\n",
      "55        50        2    0       0    1.0   10.0       0\n",
      "66       110        2    1      70    1.0    9.0      15\n",
      "18       110        1    1     180    0.0   12.0      13\n",
      "\n"
     ]
    }
   ],
   "source": [
    "ratio = [60,70,80]\n",
    "for i in ratio:\n",
    "    train_X_r, test_X_r, train_y_r, test_y_r = train_test_split(df_cereals.iloc[:,3:10],df_cereals['mfr'],train_size=i/100,random_state=42)\n",
    "    train_X, test_X, train_y, test_y = train_test_split(df_cereals.iloc[:,3:10],df_cereals['mfr'],train_size=i/100)\n",
    "    print(f\"Train size: {i}\\n\")\n",
    "    print(f\"With random state set train_X is:\\n {train_X_r[1:5]}\\n\")\n",
    "    print(f\"With no random state given train_X is:\\n {train_X[1:5]}\\n\")\n",
    "    train_X_r, test_X_r, train_y_r, test_y_r = train_test_split(df_cereals.iloc[:,3:10],df_cereals['mfr'],train_size=i/100,random_state=42)\n",
    "    train_X, test_X, train_y, test_y = train_test_split(df_cereals.iloc[:,3:10],df_cereals['mfr'],train_size=i/100)\n",
    "    print(f\"Train size: {i}\\n\")\n",
    "    print(f\"With random state set train_X is:\\n {train_X_r[1:5]}\\n\")\n",
    "    print(f\"With no random state given train_X is:\\n {train_X[1:5]}\\n\")"
   ]
  },
  {
   "cell_type": "markdown",
   "id": "f09986dc",
   "metadata": {},
   "source": [
    "__Conclusion__:<br>\n",
    "When random state is given as a parameter then the split wise data is not changed but when random state is not given as a parameter then the split wise data changes everytime one runs the code."
   ]
  },
  {
   "cell_type": "markdown",
   "id": "d85bff91",
   "metadata": {},
   "source": [
    "#### 8. Apply MinMaxScaler() and StandardScaler() to the following features: calories, protien, fat, sodium, fiber, carbo, sugars."
   ]
  },
  {
   "cell_type": "markdown",
   "id": "8223c160",
   "metadata": {},
   "source": [
    "#### MinMaxScaler"
   ]
  },
  {
   "cell_type": "markdown",
   "id": "433c4a30",
   "metadata": {},
   "source": [
    "__Basic Syntax__: class sklearn.preprocessing.MinMaxScaler(feature_range=(0, 1), *, copy=True, clip=False)"
   ]
  },
  {
   "cell_type": "markdown",
   "id": "c905d633",
   "metadata": {},
   "source": [
    "> Transform features by scaling each feature to a given range.\n",
    "This estimator scales and translates each feature individually such that it is in the given range on the training set, e.g. between zero and one."
   ]
  },
  {
   "cell_type": "code",
   "execution_count": 42,
   "id": "3cea9e0e",
   "metadata": {},
   "outputs": [],
   "source": [
    "from sklearn.preprocessing import MinMaxScaler"
   ]
  },
  {
   "cell_type": "code",
   "execution_count": 43,
   "id": "c716adcb",
   "metadata": {},
   "outputs": [
    {
     "data": {
      "text/plain": [
       "(    calories  protein  fat  sodium  fiber  carbo  sugars\n",
       " 0         70        4    1     130   10.0    5.0       6\n",
       " 1        120        3    5      15    2.0    8.0       8\n",
       " 2         70        4    1     260    9.0    7.0       5\n",
       " 3         50        4    0     140   14.0    8.0       0\n",
       " 4        110        2    2     200    1.0   14.0       8\n",
       " ..       ...      ...  ...     ...    ...    ...     ...\n",
       " 72       110        2    1     250    0.0   21.0       3\n",
       " 73       110        1    1     140    0.0   13.0      12\n",
       " 74       100        3    1     230    3.0   17.0       3\n",
       " 75       100        3    1     200    3.0   17.0       3\n",
       " 76       110        2    1     200    1.0   16.0       8\n",
       " \n",
       " [77 rows x 7 columns],\n",
       " 0     Type 1\n",
       " 1     Type 1\n",
       " 2     Type 1\n",
       " 3     Type 1\n",
       " 4     Type 1\n",
       "        ...  \n",
       " 72    Type 1\n",
       " 73    Type 1\n",
       " 74    Type 1\n",
       " 75    Type 1\n",
       " 76    Type 1\n",
       " Name: type, Length: 77, dtype: object)"
      ]
     },
     "execution_count": 43,
     "metadata": {},
     "output_type": "execute_result"
    }
   ],
   "source": [
    "X, y = df_cereals.iloc[:,3:10], df_cereals['type']\n",
    "X, y"
   ]
  },
  {
   "cell_type": "code",
   "execution_count": 44,
   "id": "fa8c1478",
   "metadata": {},
   "outputs": [
    {
     "name": "stdout",
     "output_type": "stream",
     "text": [
      "[160.   6.   5. 320.  14.  23.  15.]\n"
     ]
    }
   ],
   "source": [
    "scaler = MinMaxScaler()\n",
    "scaler.fit(X)\n",
    "print(scaler.data_max_)"
   ]
  },
  {
   "cell_type": "markdown",
   "id": "a4157e86",
   "metadata": {},
   "source": [
    "#### StandardScaler()"
   ]
  },
  {
   "cell_type": "markdown",
   "id": "30440220",
   "metadata": {},
   "source": [
    "__Basic Syntax__: class sklearn.preprocessing.StandardScaler(*, copy=True, with_mean=True, with_std=True)"
   ]
  },
  {
   "cell_type": "markdown",
   "id": "6fcb7f79",
   "metadata": {},
   "source": [
    "> Standardize features by removing the mean and scaling to unit variance.\n",
    "The standard score of a sample x is calculated as:\n",
    "z = (x - u) / s\n",
    "where u is the mean of the training samples or zero if with_mean=False, and s is the standard deviation of the training samples or one if with_std=False."
   ]
  },
  {
   "cell_type": "code",
   "execution_count": 45,
   "id": "7aab4243",
   "metadata": {},
   "outputs": [],
   "source": [
    "from sklearn.preprocessing import StandardScaler"
   ]
  },
  {
   "cell_type": "code",
   "execution_count": 46,
   "id": "3fe00573",
   "metadata": {},
   "outputs": [
    {
     "name": "stdout",
     "output_type": "stream",
     "text": [
      "StandardScaler()\n"
     ]
    }
   ],
   "source": [
    "scaler_std = StandardScaler()\n",
    "print(scaler_std.fit(X))"
   ]
  },
  {
   "cell_type": "code",
   "execution_count": 47,
   "id": "6406884c",
   "metadata": {},
   "outputs": [
    {
     "name": "stdout",
     "output_type": "stream",
     "text": [
      "[19.35718533  1.08765749  0.99991567 83.2861507   2.367837    4.25108005\n",
      "  4.41592818]\n"
     ]
    }
   ],
   "source": [
    "print(scaler_std.scale_)"
   ]
  },
  {
   "cell_type": "markdown",
   "id": "a1bc2d56",
   "metadata": {},
   "source": [
    "#### 9. Does the standard or min-max scaling make a difference in value distribution? Support your answers with some visualisations on the above dataset."
   ]
  },
  {
   "cell_type": "code",
   "execution_count": 48,
   "id": "da1105f0",
   "metadata": {},
   "outputs": [
    {
     "data": {
      "text/plain": [
       "(array([13., 25.,  0.,  0., 28.,  0.,  8.,  1.,  0.,  2.]),\n",
       " array([0. , 0.1, 0.2, 0.3, 0.4, 0.5, 0.6, 0.7, 0.8, 0.9, 1. ]),\n",
       " <BarContainer object of 10 artists>)"
      ]
     },
     "execution_count": 48,
     "metadata": {},
     "output_type": "execute_result"
    },
    {
     "data": {
      "image/png": "[encoded data removed]",
      "text/plain": [
       "<Figure size 864x288 with 1 Axes>"
      ]
     },
     "metadata": {
      "needs_background": "light"
     },
     "output_type": "display_data"
    }
   ],
   "source": [
    "#Min_Max_Scaler\n",
    "fig, ax = plt.subplots(figsize=(12,4))\n",
    "min_max = scaler.fit_transform(X)\n",
    "ax.hist(min_max[:,0])\n",
    "ax.hist(min_max[:,1])"
   ]
  },
  {
   "cell_type": "code",
   "execution_count": 49,
   "id": "67bb6799",
   "metadata": {},
   "outputs": [
    {
     "data": {
      "text/plain": [
       "(array([13.,  0., 25.,  0., 28.,  0.,  8.,  0.,  1.,  2.]),\n",
       " array([-1.42090185, -0.96119831, -0.50149477, -0.04179123,  0.41791231,\n",
       "         0.87761585,  1.33731939,  1.79702293,  2.25672647,  2.71643001,\n",
       "         3.17613355]),\n",
       " <BarContainer object of 10 artists>)"
      ]
     },
     "execution_count": 49,
     "metadata": {},
     "output_type": "execute_result"
    },
    {
     "data": {
      "image/png": "[encoded data removed]",
      "text/plain": [
       "<Figure size 864x288 with 1 Axes>"
      ]
     },
     "metadata": {
      "needs_background": "light"
     },
     "output_type": "display_data"
    }
   ],
   "source": [
    "#Std Scaler\n",
    "fig, ax = plt.subplots(figsize=(12,4))\n",
    "x_std = scaler_std.fit_transform(X)\n",
    "ax.hist(x_std[:,0])\n",
    "ax.hist(x_std[:,1])"
   ]
  },
  {
   "cell_type": "markdown",
   "id": "80614d51",
   "metadata": {},
   "source": [
    "__Conclusion__:<br>\n",
    "In the Min Max Scaler the distribution is between 0 and 1 and there is no specific distribution it follows but in the Standard Scaler the distribution follows a normal distribution ranging from -3 standard deviation to +3 standard deviation."
   ]
  },
  {
   "cell_type": "markdown",
   "id": "a4998182",
   "metadata": {},
   "source": [
    "#### 10. As an extension of 7th step, Generate a new Pandas DataFrame with the following columns based on the Training Dataset: Split Ratio | Random State | Total Number of Entries | Count of Kellogg's | Count of Nestle | Count of Other Brands"
   ]
  },
  {
   "cell_type": "code",
   "execution_count": 88,
   "id": "2a588270",
   "metadata": {},
   "outputs": [
    {
     "data": {
      "text/html": [
       "<div>\n",
       "<style scoped>\n",
       "    .dataframe tbody tr th:only-of-type {\n",
       "        vertical-align: middle;\n",
       "    }\n",
       "\n",
       "    .dataframe tbody tr th {\n",
       "        vertical-align: top;\n",
       "    }\n",
       "\n",
       "    .dataframe thead th {\n",
       "        text-align: right;\n",
       "    }\n",
       "</style>\n",
       "<table border=\"1\" class=\"dataframe\">\n",
       "  <thead>\n",
       "    <tr style=\"text-align: right;\">\n",
       "      <th></th>\n",
       "      <th>Split Ratio</th>\n",
       "      <th>Random State</th>\n",
       "      <th>Total Number Of Entries</th>\n",
       "      <th>Count Of Kellog</th>\n",
       "      <th>Count Of Nestle</th>\n",
       "      <th>Count Of Other Brands</th>\n",
       "    </tr>\n",
       "  </thead>\n",
       "  <tbody>\n",
       "    <tr>\n",
       "      <th>0</th>\n",
       "      <td>60</td>\n",
       "      <td>42</td>\n",
       "      <td>46</td>\n",
       "      <td>15</td>\n",
       "      <td>13</td>\n",
       "      <td>18</td>\n",
       "    </tr>\n",
       "    <tr>\n",
       "      <th>1</th>\n",
       "      <td>60</td>\n",
       "      <td>0</td>\n",
       "      <td>46</td>\n",
       "      <td>16</td>\n",
       "      <td>12</td>\n",
       "      <td>18</td>\n",
       "    </tr>\n",
       "    <tr>\n",
       "      <th>2</th>\n",
       "      <td>70</td>\n",
       "      <td>23</td>\n",
       "      <td>53</td>\n",
       "      <td>17</td>\n",
       "      <td>14</td>\n",
       "      <td>22</td>\n",
       "    </tr>\n",
       "    <tr>\n",
       "      <th>3</th>\n",
       "      <td>70</td>\n",
       "      <td>0</td>\n",
       "      <td>53</td>\n",
       "      <td>14</td>\n",
       "      <td>16</td>\n",
       "      <td>23</td>\n",
       "    </tr>\n",
       "    <tr>\n",
       "      <th>4</th>\n",
       "      <td>80</td>\n",
       "      <td>40</td>\n",
       "      <td>61</td>\n",
       "      <td>17</td>\n",
       "      <td>21</td>\n",
       "      <td>23</td>\n",
       "    </tr>\n",
       "    <tr>\n",
       "      <th>5</th>\n",
       "      <td>80</td>\n",
       "      <td>0</td>\n",
       "      <td>61</td>\n",
       "      <td>18</td>\n",
       "      <td>15</td>\n",
       "      <td>28</td>\n",
       "    </tr>\n",
       "  </tbody>\n",
       "</table>\n",
       "</div>"
      ],
      "text/plain": [
       "   Split Ratio  Random State  Total Number Of Entries  Count Of Kellog  \\\n",
       "0           60            42                       46               15   \n",
       "1           60             0                       46               16   \n",
       "2           70            23                       53               17   \n",
       "3           70             0                       53               14   \n",
       "4           80            40                       61               17   \n",
       "5           80             0                       61               18   \n",
       "\n",
       "   Count Of Nestle  Count Of Other Brands  \n",
       "0               13                     18  \n",
       "1               12                     18  \n",
       "2               14                     22  \n",
       "3               16                     23  \n",
       "4               21                     23  \n",
       "5               15                     28  "
      ]
     },
     "execution_count": 88,
     "metadata": {},
     "output_type": "execute_result"
    }
   ],
   "source": [
    "columns = ['Split Ratio','Random State','Total Number of Entries',\"Count of Kellog's\",'Count of Nestle','Count of Other Brands']\n",
    "ratio = [60,70,80]\n",
    "random_state_l = [42,23,40]\n",
    "split_l = []\n",
    "r_s = []\n",
    "total_number = []\n",
    "C_kellog = []\n",
    "C_Nestle = []\n",
    "C_Other_Brand = []\n",
    "for i in range(3):\n",
    "    train_X_r, test_X_r, train_y_r, test_y_r = train_test_split(\n",
    "        df_cereals.iloc[:,3:10],df_cereals['mfr'],train_size=ratio[i]/100,random_state=random_state_l[i])\n",
    "    split_l.append(ratio[i])\n",
    "    r_s.append(random_state_l[i])\n",
    "    total_number.append(len(train_X_r))\n",
    "    C_kellog.append(len(train_y_r[train_y_r == \"Kellog's\"]))\n",
    "    C_Nestle.append(len(train_y_r[train_y_r == \"Nestle\"]))\n",
    "    C_Other_Brand.append(len(train_y_r[train_y_r == \"Other Brands\"]))\n",
    "    train_X, test_X, train_y, test_y = train_test_split(df_cereals.iloc[:,3:10],df_cereals['mfr'],train_size=ratio[i]/100)\n",
    "    split_l.append(ratio[i])\n",
    "    r_s.append(0)\n",
    "    total_number.append(len(train_X))\n",
    "    C_kellog.append(len(train_y[train_y == \"Kellog's\"]))\n",
    "    C_Nestle.append(len(train_y[train_y == \"Nestle\"]))\n",
    "    C_Other_Brand.append(len(train_y[train_y == \"Other Brands\"]))\n",
    "    \n",
    "d = {'Split Ratio': split_l,'Random State': r_s,'Total Number Of Entries': total_number,\n",
    "    'Count Of Kellog': C_kellog,'Count Of Nestle': C_Nestle, 'Count Of Other Brands': C_Other_Brand}\n",
    "df_score = pd.DataFrame(d)\n",
    "df_score"
   ]
  }
 ],
 "metadata": {
  "kernelspec": {
   "display_name": "Python 3",
   "language": "python",
   "name": "python3"
  },
  "language_info": {
   "codemirror_mode": {
    "name": "ipython",
    "version": 3
   },
   "file_extension": ".py",
   "mimetype": "text/x-python",
   "name": "python",
   "nbconvert_exporter": "python",
   "pygments_lexer": "ipython3",
   "version": "3.8.8"
  }
 },
 "nbformat": 4,
 "nbformat_minor": 5
}
