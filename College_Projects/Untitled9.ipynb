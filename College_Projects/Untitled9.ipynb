{
 "cells": [
  {
   "cell_type": "markdown",
   "metadata": {},
   "source": [
    "# Answer 1"
   ]
  },
  {
   "cell_type": "markdown",
   "metadata": {},
   "source": [
    "(PART A)"
   ]
  },
  {
   "cell_type": "code",
   "execution_count": 1,
   "metadata": {},
   "outputs": [
    {
     "name": "stdout",
     "output_type": "stream",
     "text": [
      "Passenger List is:\n",
      "  ['Parul', 'Sharaniya', 'Tushar', 'Subham', 'Sourav', 'Shubhi', 'Hema', 'Puran', 'Rohit', 'Divyanshu', 'Tulsi', 'Dev']\n",
      "\n",
      " Passenger_Age is:\n",
      "  [23, 24, 24, 24, 23, 26, 54, 61, 32, 18, 92, 5]\n"
     ]
    }
   ],
   "source": [
    "#Creating passenger name list\n",
    "Passenger_List=[i for i in('Parul','Sharaniya','Tushar',\n",
    "                           'Subham','Sourav','Shubhi',\n",
    "                           'Hema','Puran','Rohit',\n",
    "                           'Divyanshu','Tulsi','Dev')]\n",
    "\n",
    "#Creating passenger age list\n",
    "Passenger_Age=[x for x in(23,24,24,24,23,26,54,61,32,18,92,5)]\n",
    "\n",
    "print(\"Passenger List is:\\n \",Passenger_List) #printing the entered passenger name list\n",
    "print(\"\\n Passenger_Age is:\\n \",Passenger_Age) #printing the entered passenger age list"
   ]
  },
  {
   "cell_type": "markdown",
   "metadata": {},
   "source": [
    "(PART B)"
   ]
  },
  {
   "cell_type": "code",
   "execution_count": 2,
   "metadata": {},
   "outputs": [
    {
     "name": "stdout",
     "output_type": "stream",
     "text": [
      "These are under child category that is from 0-18:\n",
      "  [('Divyanshu', 18), ('Dev', 5)]\n",
      "\n",
      " These are under adult category that is from 19-40:\n",
      "  [('Parul', 23), ('Sharaniya', 24), ('Tushar', 24), ('Subham', 24), ('Sourav', 23), ('Shubhi', 26), ('Rohit', 32)]\n",
      "\n",
      " These are under old category that is from 41-65:\n",
      "  [('Hema', 54), ('Puran', 61)]\n",
      "\n",
      " These are under senior citizens that is more than 65:\n",
      "  [('Tulsi', 92)]\n"
     ]
    }
   ],
   "source": [
    "##FROM THE ABOVE MENTIONED LIST\n",
    "\n",
    "#Printing category of people who are from age 0 to 18 as child category\n",
    "Child_category=[(Passenger_List[i],Passenger_Age[i]) for i in range(len(Passenger_List))if Passenger_Age[i]<=18]\n",
    "print(\"These are under child category that is from 0-18:\\n \",Child_category)\n",
    "\n",
    "#Printing category of people who are from age 19 to 40 as adults category\n",
    "Adults_category=[(Passenger_List[i],Passenger_Age[i]) for i in range(len(Passenger_List))\n",
    "                 if Passenger_Age[i]>=19 and Passenger_Age[i]<=40]\n",
    "print(\"\\n These are under adult category that is from 19-40:\\n \",Adults_category)\n",
    "\n",
    "#Printing category of people who are from age 41 to 65 as old category\n",
    "Old_category=[(Passenger_List[i],Passenger_Age[i]) for i in range(len(Passenger_List))\n",
    "                 if Passenger_Age[i]>=41 and Passenger_Age[i]<=65]\n",
    "print(\"\\n These are under old category that is from 41-65:\\n \",Old_category)\n",
    "\n",
    "#Printing category of people who are more than 65 as senior citizen\n",
    "Senior_citizens=[(Passenger_List[i],Passenger_Age[i]) for i in range(len(Passenger_List))\n",
    "                 if Passenger_Age[i]>65]\n",
    "print(\"\\n These are under senior citizens that is more than 65:\\n \",Senior_citizens)"
   ]
  },
  {
   "cell_type": "markdown",
   "metadata": {},
   "source": [
    "# ANSWER 2"
   ]
  },
  {
   "cell_type": "markdown",
   "metadata": {},
   "source": [
    "PART A"
   ]
  },
  {
   "cell_type": "code",
   "execution_count": 3,
   "metadata": {},
   "outputs": [
    {
     "name": "stdout",
     "output_type": "stream",
     "text": [
      "Enter your length: 5\n",
      "\n",
      "Enter your values below:\n",
      "84\n",
      "91\n",
      "63\n",
      "74\n",
      "12\n",
      "The integer list is:  [84, 91, 63, 74, 12]\n"
     ]
    }
   ],
   "source": [
    "Int_list=[] #assigning an empty list\n",
    "\n",
    "length=int(input(\"Enter your length: \")) #taking size of the value from the input\n",
    "\n",
    "print(\"\\nEnter your values below:\")\n",
    "\n",
    "#mentioning the elements of the list by taking input from user\n",
    "for l in range(0,length):\n",
    "    values=int(input())\n",
    "    Int_list.append(values)\n",
    "print(\"The integer list is: \",Int_list)"
   ]
  },
  {
   "cell_type": "markdown",
   "metadata": {},
   "source": [
    "PART B"
   ]
  },
  {
   "cell_type": "code",
   "execution_count": 6,
   "metadata": {},
   "outputs": [
    {
     "name": "stdout",
     "output_type": "stream",
     "text": [
      "The new list is after taking odd elements greater than 50 from the given integer list:\n",
      "  [91, 63]\n"
     ]
    }
   ],
   "source": [
    "#creating a Sub_list with the odd elements greater than 50 from the Int_List using List Comprehension\n",
    "Sub_list=[i for i in Int_list if i%2!=0 and i>50]\n",
    "print('''The new list is after taking odd elements greater than 50 from the given integer list:\\n''',Sub_list)"
   ]
  },
  {
   "cell_type": "markdown",
   "metadata": {},
   "source": [
    "PART C"
   ]
  },
  {
   "cell_type": "code",
   "execution_count": 7,
   "metadata": {},
   "outputs": [
    {
     "name": "stdout",
     "output_type": "stream",
     "text": [
      "The new list is after using the operation (element**2-1) if the element is greater \n",
      "than 50 and is even:\n",
      " [7055, 5475]\n"
     ]
    }
   ],
   "source": [
    "#creating a Sub_list2 with the operation (element**2 - 1) if the element is greater than 50 and is even\n",
    "Sub_list2=[((i**2)-1) for i in Int_list if i>50 and i%2==0]\n",
    "print('''The new list is after using the operation (element**2-1) if the element is greater \n",
    "than 50 and is even:\\n''',Sub_list2)"
   ]
  }
 ],
 "metadata": {
  "kernelspec": {
   "display_name": "Python 3",
   "language": "python",
   "name": "python3"
  },
  "language_info": {
   "codemirror_mode": {
    "name": "ipython",
    "version": 3
   },
   "file_extension": ".py",
   "mimetype": "text/x-python",
   "name": "python",
   "nbconvert_exporter": "python",
   "pygments_lexer": "ipython3",
   "version": "3.7.6"
  }
 },
 "nbformat": 4,
 "nbformat_minor": 4
}
