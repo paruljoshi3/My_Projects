{
 "cells": [
  {
   "cell_type": "markdown",
   "id": "3b92fb9d",
   "metadata": {},
   "source": [
    "# Machine Learning Lab 1 - Introduction to Machine Learning Libraries II\n",
    "\n",
    "\n",
    "\n",
    "\n"
   ]
  },
  {
   "cell_type": "markdown",
   "id": "3b828156",
   "metadata": {},
   "source": [
    "## Lab Overview  \n",
    "### Objectives\n",
    "- Common Instructions\n",
    "    - Use Pandas to Import the Dataset\n",
    "    - Do the necessary Exploratory Data Analysis\n",
    "    - Use the train_test_split method available in SCIKIT to split the dataset into Train Dataset and Test Dataset.\n",
    "    - Show the Regression Score, Intercept and other parameters etc in the Output\n",
    "    - Use visualizations and plots wherever possible\n",
    "    - Format the outputs neatly; Do Documentation, Data Set Description, Objectives, Observations, Conclusions etc as you have done in your previous lab\n",
    "\n"
   ]
  },
  {
   "cell_type": "code",
   "execution_count": 33,
   "id": "bc0b002b",
   "metadata": {},
   "outputs": [],
   "source": [
    "#Importing packages\n",
    "import sklearn\n",
    "import pandas as pd\n",
    "import numpy as np\n",
    "from sklearn.model_selection import train_test_split\n",
    "import seaborn as sns\n",
    "import matplotlib.pyplot as plt\n",
    "from sklearn.datasets import make_classification\n",
    "from sklearn.datasets import make_regression\n",
    "from sklearn.dummy import DummyRegressor\n",
    "from sklearn.dummy import DummyClassifier\n",
    "from sklearn.metrics import confusion_matrix\n",
    "from sklearn.metrics import classification_report\n",
    "from sklearn.svm import SVC\n",
    "import pprint"
   ]
  },
  {
   "cell_type": "markdown",
   "id": "55181f09",
   "metadata": {},
   "source": [
    "# Data"
   ]
  },
  {
   "cell_type": "code",
   "execution_count": 34,
   "id": "28c79d2b",
   "metadata": {},
   "outputs": [
    {
     "data": {
      "text/html": [
       "<div>\n",
       "<style scoped>\n",
       "    .dataframe tbody tr th:only-of-type {\n",
       "        vertical-align: middle;\n",
       "    }\n",
       "\n",
       "    .dataframe tbody tr th {\n",
       "        vertical-align: top;\n",
       "    }\n",
       "\n",
       "    .dataframe thead th {\n",
       "        text-align: right;\n",
       "    }\n",
       "</style>\n",
       "<table border=\"1\" class=\"dataframe\">\n",
       "  <thead>\n",
       "    <tr style=\"text-align: right;\">\n",
       "      <th></th>\n",
       "      <th>BuildingType</th>\n",
       "      <th>Location</th>\n",
       "      <th>Size</th>\n",
       "      <th>AreaSqFt</th>\n",
       "      <th>NoOfBath</th>\n",
       "      <th>NoOfPeople</th>\n",
       "      <th>NoOfBalcony</th>\n",
       "      <th>RentPerMonth</th>\n",
       "    </tr>\n",
       "  </thead>\n",
       "  <tbody>\n",
       "    <tr>\n",
       "      <th>0</th>\n",
       "      <td>Minimum Budget Rooms</td>\n",
       "      <td>Portofino H</td>\n",
       "      <td>1 BHK</td>\n",
       "      <td>400.0</td>\n",
       "      <td>1</td>\n",
       "      <td>1</td>\n",
       "      <td>1</td>\n",
       "      <td>1100.0</td>\n",
       "    </tr>\n",
       "    <tr>\n",
       "      <th>1</th>\n",
       "      <td>Minimum Budget Rooms</td>\n",
       "      <td>Portofino H</td>\n",
       "      <td>1 BHK</td>\n",
       "      <td>450.0</td>\n",
       "      <td>1</td>\n",
       "      <td>1</td>\n",
       "      <td>1</td>\n",
       "      <td>1100.0</td>\n",
       "    </tr>\n",
       "    <tr>\n",
       "      <th>2</th>\n",
       "      <td>Minimum Budget Rooms</td>\n",
       "      <td>School Street</td>\n",
       "      <td>1 BHK</td>\n",
       "      <td>530.0</td>\n",
       "      <td>1</td>\n",
       "      <td>1</td>\n",
       "      <td>0</td>\n",
       "      <td>1166.0</td>\n",
       "    </tr>\n",
       "    <tr>\n",
       "      <th>3</th>\n",
       "      <td>Minimum Budget Rooms</td>\n",
       "      <td>Portofino B</td>\n",
       "      <td>1 BHK</td>\n",
       "      <td>400.0</td>\n",
       "      <td>1</td>\n",
       "      <td>1</td>\n",
       "      <td>0</td>\n",
       "      <td>1400.0</td>\n",
       "    </tr>\n",
       "    <tr>\n",
       "      <th>4</th>\n",
       "      <td>Minimum Budget Rooms</td>\n",
       "      <td>School Street</td>\n",
       "      <td>2 BHK</td>\n",
       "      <td>460.0</td>\n",
       "      <td>1</td>\n",
       "      <td>1</td>\n",
       "      <td>0</td>\n",
       "      <td>1500.0</td>\n",
       "    </tr>\n",
       "  </tbody>\n",
       "</table>\n",
       "</div>"
      ],
      "text/plain": [
       "           BuildingType       Location   Size  AreaSqFt  NoOfBath  NoOfPeople  \\\n",
       "0  Minimum Budget Rooms    Portofino H  1 BHK     400.0         1           1   \n",
       "1  Minimum Budget Rooms    Portofino H  1 BHK     450.0         1           1   \n",
       "2  Minimum Budget Rooms  School Street  1 BHK     530.0         1           1   \n",
       "3  Minimum Budget Rooms    Portofino B  1 BHK     400.0         1           1   \n",
       "4  Minimum Budget Rooms  School Street  2 BHK     460.0         1           1   \n",
       "\n",
       "   NoOfBalcony  RentPerMonth  \n",
       "0            1        1100.0  \n",
       "1            1        1100.0  \n",
       "2            0        1166.0  \n",
       "3            0        1400.0  \n",
       "4            0        1500.0  "
      ]
     },
     "execution_count": 34,
     "metadata": {},
     "output_type": "execute_result"
    }
   ],
   "source": [
    "df = pd.read_csv(\"HousePrices.csv\")\n",
    "df.head()"
   ]
  },
  {
   "cell_type": "markdown",
   "id": "0dd8576a",
   "metadata": {},
   "source": [
    "# Visualisation "
   ]
  },
  {
   "cell_type": "code",
   "execution_count": 35,
   "id": "a0419afb",
   "metadata": {},
   "outputs": [
    {
     "name": "stderr",
     "output_type": "stream",
     "text": [
      "C:\\Users\\rahul\\anaconda3\\lib\\site-packages\\seaborn\\distributions.py:2557: FutureWarning: `distplot` is a deprecated function and will be removed in a future version. Please adapt your code to use either `displot` (a figure-level function with similar flexibility) or `histplot` (an axes-level function for histograms).\n",
      "  warnings.warn(msg, FutureWarning)\n"
     ]
    },
    {
     "data": {
      "image/png": "[encoded data removed]",
      "text/plain": [
       "<Figure size 432x288 with 1 Axes>"
      ]
     },
     "metadata": {
      "needs_background": "light"
     },
     "output_type": "display_data"
    }
   ],
   "source": [
    "sns.distplot(df[\"RentPerMonth\"])\n",
    "plt.show()"
   ]
  },
  {
   "cell_type": "code",
   "execution_count": 36,
   "id": "6b6fd2f4",
   "metadata": {
    "scrolled": true
   },
   "outputs": [
    {
     "data": {
      "text/plain": [
       "<seaborn.axisgrid.PairGrid at 0x205a2051850>"
      ]
     },
     "execution_count": 36,
     "metadata": {},
     "output_type": "execute_result"
    },
    {
     "data": {
      "image/png": "[encoded data removed]",
      "text/plain": [
       "<Figure size 900x900 with 30 Axes>"
      ]
     },
     "metadata": {
      "needs_background": "light"
     },
     "output_type": "display_data"
    }
   ],
   "source": [
    "sns.pairplot(df)"
   ]
  },
  {
   "cell_type": "markdown",
   "id": "0a07df2f",
   "metadata": {},
   "source": [
    "##### Location distribution"
   ]
  },
  {
   "cell_type": "code",
   "execution_count": 37,
   "id": "275a4b5f",
   "metadata": {
    "scrolled": true
   },
   "outputs": [
    {
     "data": {
      "image/png": "[encoded data removed]",
      "text/plain": [
       "<Figure size 432x288 with 1 Axes>"
      ]
     },
     "metadata": {
      "needs_background": "light"
     },
     "output_type": "display_data"
    }
   ],
   "source": [
    "ax = sns.countplot(y=\"Location\", data=df)"
   ]
  },
  {
   "cell_type": "code",
   "execution_count": 38,
   "id": "a055966a",
   "metadata": {},
   "outputs": [
    {
     "data": {
      "image/png": "[encoded data removed]",
      "text/plain": [
       "<Figure size 432x288 with 1 Axes>"
      ]
     },
     "metadata": {
      "needs_background": "light"
     },
     "output_type": "display_data"
    }
   ],
   "source": [
    "ax = sns.countplot(y=\"NoOfBalcony\", data=df)"
   ]
  },
  {
   "cell_type": "markdown",
   "id": "7dbd0dd1",
   "metadata": {},
   "source": [
    "## Modelling"
   ]
  },
  {
   "cell_type": "code",
   "execution_count": 39,
   "id": "e173a1bf",
   "metadata": {
    "scrolled": false
   },
   "outputs": [
    {
     "data": {
      "text/html": [
       "<div>\n",
       "<style scoped>\n",
       "    .dataframe tbody tr th:only-of-type {\n",
       "        vertical-align: middle;\n",
       "    }\n",
       "\n",
       "    .dataframe tbody tr th {\n",
       "        vertical-align: top;\n",
       "    }\n",
       "\n",
       "    .dataframe thead th {\n",
       "        text-align: right;\n",
       "    }\n",
       "</style>\n",
       "<table border=\"1\" class=\"dataframe\">\n",
       "  <thead>\n",
       "    <tr style=\"text-align: right;\">\n",
       "      <th></th>\n",
       "      <th>BuildingType</th>\n",
       "      <th>Location</th>\n",
       "      <th>Size</th>\n",
       "      <th>AreaSqFt</th>\n",
       "      <th>NoOfBath</th>\n",
       "      <th>NoOfPeople</th>\n",
       "      <th>NoOfBalcony</th>\n",
       "      <th>RentPerMonth</th>\n",
       "    </tr>\n",
       "  </thead>\n",
       "  <tbody>\n",
       "    <tr>\n",
       "      <th>0</th>\n",
       "      <td>3</td>\n",
       "      <td>8</td>\n",
       "      <td>0</td>\n",
       "      <td>400.0</td>\n",
       "      <td>1</td>\n",
       "      <td>1</td>\n",
       "      <td>1</td>\n",
       "      <td>1100.0</td>\n",
       "    </tr>\n",
       "    <tr>\n",
       "      <th>1</th>\n",
       "      <td>3</td>\n",
       "      <td>8</td>\n",
       "      <td>0</td>\n",
       "      <td>450.0</td>\n",
       "      <td>1</td>\n",
       "      <td>1</td>\n",
       "      <td>1</td>\n",
       "      <td>1100.0</td>\n",
       "    </tr>\n",
       "    <tr>\n",
       "      <th>2</th>\n",
       "      <td>3</td>\n",
       "      <td>9</td>\n",
       "      <td>0</td>\n",
       "      <td>530.0</td>\n",
       "      <td>1</td>\n",
       "      <td>1</td>\n",
       "      <td>0</td>\n",
       "      <td>1166.0</td>\n",
       "    </tr>\n",
       "    <tr>\n",
       "      <th>3</th>\n",
       "      <td>3</td>\n",
       "      <td>2</td>\n",
       "      <td>0</td>\n",
       "      <td>400.0</td>\n",
       "      <td>1</td>\n",
       "      <td>1</td>\n",
       "      <td>0</td>\n",
       "      <td>1400.0</td>\n",
       "    </tr>\n",
       "    <tr>\n",
       "      <th>4</th>\n",
       "      <td>3</td>\n",
       "      <td>9</td>\n",
       "      <td>2</td>\n",
       "      <td>460.0</td>\n",
       "      <td>1</td>\n",
       "      <td>1</td>\n",
       "      <td>0</td>\n",
       "      <td>1500.0</td>\n",
       "    </tr>\n",
       "  </tbody>\n",
       "</table>\n",
       "</div>"
      ],
      "text/plain": [
       "   BuildingType  Location  Size  AreaSqFt  NoOfBath  NoOfPeople  NoOfBalcony  \\\n",
       "0             3         8     0     400.0         1           1            1   \n",
       "1             3         8     0     450.0         1           1            1   \n",
       "2             3         9     0     530.0         1           1            0   \n",
       "3             3         2     0     400.0         1           1            0   \n",
       "4             3         9     2     460.0         1           1            0   \n",
       "\n",
       "   RentPerMonth  \n",
       "0        1100.0  \n",
       "1        1100.0  \n",
       "2        1166.0  \n",
       "3        1400.0  \n",
       "4        1500.0  "
      ]
     },
     "execution_count": 39,
     "metadata": {},
     "output_type": "execute_result"
    }
   ],
   "source": [
    "from sklearn import preprocessing\n",
    "le = preprocessing.LabelEncoder()\n",
    "df['BuildingType']= le.fit_transform(df['BuildingType'])\n",
    "df['Location']= le.fit_transform(df['Location'])\n",
    "df['Size']= le.fit_transform(df['Size'])\n",
    "df.head()"
   ]
  },
  {
   "cell_type": "code",
   "execution_count": 40,
   "id": "5c794b04",
   "metadata": {},
   "outputs": [
    {
     "name": "stdout",
     "output_type": "stream",
     "text": [
      "socre: 0.6924266341110573\n"
     ]
    }
   ],
   "source": [
    "import numpy as np\n",
    "from sklearn.model_selection import train_test_split\n",
    "from sklearn.linear_model import LinearRegression\n",
    "from sklearn.metrics import r2_score\n",
    "from sklearn.metrics import mean_squared_error\n",
    "\n",
    "X = df.drop(\"RentPerMonth\", axis = 1)\n",
    "y = df[\"RentPerMonth\"]\n",
    "\n",
    "X_train, X_test, y_train, y_test = train_test_split(X, y, test_size=0.50)\n",
    "\n",
    "LR = LinearRegression()\n",
    "LR.fit(X_train,y_train)\n",
    "\n",
    "y_pred =  LR.predict(X_test)\n",
    "score=r2_score(y_test,y_pred)\n",
    "print(\"socre:\",score)\n"
   ]
  },
  {
   "cell_type": "code",
   "execution_count": 41,
   "id": "5a4c58e6",
   "metadata": {},
   "outputs": [
    {
     "name": "stdout",
     "output_type": "stream",
     "text": [
      "socre: 0.6980048966488632\n"
     ]
    }
   ],
   "source": [
    "import numpy as np\n",
    "from sklearn.model_selection import train_test_split\n",
    "from sklearn.linear_model import LinearRegression\n",
    "from sklearn.metrics import r2_score\n",
    "from sklearn.metrics import mean_squared_error\n",
    "X = df.drop(\"RentPerMonth\", axis = 1)\n",
    "y = df[\"RentPerMonth\"]\n",
    "\n",
    "X_train, X_test, y_train, y_test = train_test_split(X, y, test_size=0.40)\n",
    "\n",
    "LR = LinearRegression()\n",
    "LR.fit(X_train,y_train)\n",
    "\n",
    "y_pred =  LR.predict(X_test)\n",
    "score=r2_score(y_test,y_pred)\n",
    "print(\"socre:\",score)"
   ]
  },
  {
   "cell_type": "code",
   "execution_count": 42,
   "id": "08c03c6f",
   "metadata": {
    "scrolled": false
   },
   "outputs": [
    {
     "name": "stdout",
     "output_type": "stream",
     "text": [
      "socre: 0.651783910829782\n"
     ]
    }
   ],
   "source": [
    "import numpy as np\n",
    "from sklearn.model_selection import train_test_split\n",
    "from sklearn.linear_model import LinearRegression\n",
    "from sklearn.metrics import r2_score\n",
    "from sklearn.metrics import mean_squared_error\n",
    "X = df.drop(\"RentPerMonth\", axis = 1)\n",
    "y = df[\"RentPerMonth\"]\n",
    "\n",
    "X_train, X_test, y_train, y_test = train_test_split(X, y, test_size=0.30)\n",
    "\n",
    "LR = LinearRegression()\n",
    "LR.fit(X_train,y_train)\n",
    "\n",
    "y_pred =  LR.predict(X_test)\n",
    "score=r2_score(y_test,y_pred)\n",
    "print(\"socre:\",score)"
   ]
  },
  {
   "cell_type": "code",
   "execution_count": 43,
   "id": "cda8190f",
   "metadata": {
    "scrolled": true
   },
   "outputs": [
    {
     "name": "stdout",
     "output_type": "stream",
     "text": [
      "socre: 0.7331416210871464\n"
     ]
    }
   ],
   "source": [
    "import numpy as np\n",
    "from sklearn.model_selection import train_test_split\n",
    "from sklearn.linear_model import LinearRegression\n",
    "from sklearn.metrics import r2_score\n",
    "from sklearn.metrics import mean_squared_error\n",
    "X = df.drop(\"RentPerMonth\", axis = 1)\n",
    "y = df[\"RentPerMonth\"]\n",
    "\n",
    "X_train, X_test, y_train, y_test = train_test_split(X, y, test_size=0.20, random_state=42)\n",
    "\n",
    "LR = LinearRegression()\n",
    "LR.fit(X_train,y_train)\n",
    "\n",
    "y_prediction =  LR.predict(X_test)\n",
    "score=r2_score(y_test,y_prediction)\n",
    "print(\"socre:\",score)\n"
   ]
  },
  {
   "cell_type": "markdown",
   "id": "76253067",
   "metadata": {},
   "source": [
    "- The best model for montly rent prediction using LogisticRegression model is with split ration 70:30.\n",
    "- We will use model as default model to define use cases."
   ]
  },
  {
   "cell_type": "markdown",
   "id": "a6c47327",
   "metadata": {},
   "source": [
    "# Use Cases"
   ]
  },
  {
   "cell_type": "code",
   "execution_count": 44,
   "id": "74120ebf",
   "metadata": {},
   "outputs": [
    {
     "data": {
      "text/plain": [
       "array([ 8,  9,  2,  1,  0,  3,  4, 10,  7,  5,  6])"
      ]
     },
     "execution_count": 44,
     "metadata": {},
     "output_type": "execute_result"
    }
   ],
   "source": [
    "df['Location'].unique()"
   ]
  },
  {
   "cell_type": "code",
   "execution_count": 45,
   "id": "30e034a9",
   "metadata": {},
   "outputs": [
    {
     "data": {
      "text/plain": [
       "array([3, 5, 4, 1, 8, 6, 0, 7, 2, 9])"
      ]
     },
     "execution_count": 45,
     "metadata": {},
     "output_type": "execute_result"
    }
   ],
   "source": [
    "df['BuildingType'].unique()"
   ]
  },
  {
   "cell_type": "code",
   "execution_count": 46,
   "id": "569af160",
   "metadata": {},
   "outputs": [
    {
     "data": {
      "text/plain": [
       "array([0, 2, 1, 3, 4, 5, 6, 8, 7, 9])"
      ]
     },
     "execution_count": 46,
     "metadata": {},
     "output_type": "execute_result"
    }
   ],
   "source": [
    "df['Size'].unique()"
   ]
  },
  {
   "cell_type": "code",
   "execution_count": 47,
   "id": "87537833",
   "metadata": {
    "scrolled": true
   },
   "outputs": [
    {
     "data": {
      "text/html": [
       "<div>\n",
       "<style scoped>\n",
       "    .dataframe tbody tr th:only-of-type {\n",
       "        vertical-align: middle;\n",
       "    }\n",
       "\n",
       "    .dataframe tbody tr th {\n",
       "        vertical-align: top;\n",
       "    }\n",
       "\n",
       "    .dataframe thead th {\n",
       "        text-align: right;\n",
       "    }\n",
       "</style>\n",
       "<table border=\"1\" class=\"dataframe\">\n",
       "  <thead>\n",
       "    <tr style=\"text-align: right;\">\n",
       "      <th></th>\n",
       "      <th>BuildingType</th>\n",
       "      <th>Location</th>\n",
       "      <th>Size</th>\n",
       "      <th>AreaSqFt</th>\n",
       "      <th>NoOfBath</th>\n",
       "      <th>NoOfPeople</th>\n",
       "      <th>NoOfBalcony</th>\n",
       "      <th>RentPerMonth</th>\n",
       "    </tr>\n",
       "  </thead>\n",
       "  <tbody>\n",
       "    <tr>\n",
       "      <th>0</th>\n",
       "      <td>3</td>\n",
       "      <td>8</td>\n",
       "      <td>0</td>\n",
       "      <td>400.0</td>\n",
       "      <td>1</td>\n",
       "      <td>1</td>\n",
       "      <td>1</td>\n",
       "      <td>1100.0</td>\n",
       "    </tr>\n",
       "    <tr>\n",
       "      <th>1</th>\n",
       "      <td>3</td>\n",
       "      <td>8</td>\n",
       "      <td>0</td>\n",
       "      <td>450.0</td>\n",
       "      <td>1</td>\n",
       "      <td>1</td>\n",
       "      <td>1</td>\n",
       "      <td>1100.0</td>\n",
       "    </tr>\n",
       "    <tr>\n",
       "      <th>2</th>\n",
       "      <td>3</td>\n",
       "      <td>9</td>\n",
       "      <td>0</td>\n",
       "      <td>530.0</td>\n",
       "      <td>1</td>\n",
       "      <td>1</td>\n",
       "      <td>0</td>\n",
       "      <td>1166.0</td>\n",
       "    </tr>\n",
       "    <tr>\n",
       "      <th>3</th>\n",
       "      <td>3</td>\n",
       "      <td>2</td>\n",
       "      <td>0</td>\n",
       "      <td>400.0</td>\n",
       "      <td>1</td>\n",
       "      <td>1</td>\n",
       "      <td>0</td>\n",
       "      <td>1400.0</td>\n",
       "    </tr>\n",
       "    <tr>\n",
       "      <th>4</th>\n",
       "      <td>3</td>\n",
       "      <td>9</td>\n",
       "      <td>2</td>\n",
       "      <td>460.0</td>\n",
       "      <td>1</td>\n",
       "      <td>1</td>\n",
       "      <td>0</td>\n",
       "      <td>1500.0</td>\n",
       "    </tr>\n",
       "  </tbody>\n",
       "</table>\n",
       "</div>"
      ],
      "text/plain": [
       "   BuildingType  Location  Size  AreaSqFt  NoOfBath  NoOfPeople  NoOfBalcony  \\\n",
       "0             3         8     0     400.0         1           1            1   \n",
       "1             3         8     0     450.0         1           1            1   \n",
       "2             3         9     0     530.0         1           1            0   \n",
       "3             3         2     0     400.0         1           1            0   \n",
       "4             3         9     2     460.0         1           1            0   \n",
       "\n",
       "   RentPerMonth  \n",
       "0        1100.0  \n",
       "1        1100.0  \n",
       "2        1166.0  \n",
       "3        1400.0  \n",
       "4        1500.0  "
      ]
     },
     "execution_count": 47,
     "metadata": {},
     "output_type": "execute_result"
    }
   ],
   "source": [
    "df.head()"
   ]
  },
  {
   "cell_type": "code",
   "execution_count": 51,
   "id": "c34c616d",
   "metadata": {},
   "outputs": [
    {
     "name": "stdout",
     "output_type": "stream",
     "text": [
      "socre: 0.7331416210871464\n"
     ]
    }
   ],
   "source": [
    "import numpy as np\n",
    "from sklearn.model_selection import train_test_split\n",
    "from sklearn.linear_model import LinearRegression\n",
    "from sklearn.metrics import r2_score\n",
    "from sklearn.metrics import mean_squared_error\n",
    "X = df.drop(\"RentPerMonth\", axis = 1)\n",
    "y = df[\"RentPerMonth\"]\n",
    "\n",
    "X_train, X_test, y_train, y_test = train_test_split(X, y, test_size=0.20, random_state=42)\n",
    "\n",
    "LR = LinearRegression()\n",
    "LR.fit(X_train,y_train)\n",
    "\n",
    "y_pred =  LR.predict(X_test)\n",
    "score=r2_score(y_test,y_pred)\n",
    "print(\"socre:\",score)\n"
   ]
  },
  {
   "cell_type": "code",
   "execution_count": 54,
   "id": "1032f10b",
   "metadata": {},
   "outputs": [
    {
     "name": "stdout",
     "output_type": "stream",
     "text": [
      "Predicted rent is [26235.80269128]\n"
     ]
    }
   ],
   "source": [
    "#1. 1 BHK with 2 Baths in Portofino Street\n",
    "df1 = pd.DataFrame()\n",
    "df1['BuildingType'] = [1]\n",
    "df1['Location'] = [8]\n",
    "df1['Size'] = [1]\n",
    "df1['AreaSqFt'] = [2]\n",
    "df1['NoOfBath'] = [3]\n",
    "df1['NoOfPeople'] = [5]\n",
    "df1['NoOfBalcony'] = [5]\n",
    "y_pred =  LR.predict(df1)\n",
    "print(\"Predicted rent is\",y_pred)"
   ]
  },
  {
   "cell_type": "code",
   "execution_count": 57,
   "id": "a4a943cc",
   "metadata": {},
   "outputs": [
    {
     "name": "stdout",
     "output_type": "stream",
     "text": [
      "Predicted rent is [30462.62874831]\n"
     ]
    }
   ],
   "source": [
    "#2. Fully Furnished 2 BHK in School Street\n",
    "df1 = pd.DataFrame()\n",
    "df1['BuildingType'] = [9]\n",
    "df1['Location'] = [2]\n",
    "df1['Size'] = [2]\n",
    "df1['AreaSqFt'] = [2]\n",
    "df1['NoOfBath'] = [3]\n",
    "df1['NoOfPeople'] = [5]\n",
    "df1['NoOfBalcony'] = [5]\n",
    "y_pred =  LR.predict(df1)\n",
    "print(\"Predicted rent is\",y_pred)"
   ]
  },
  {
   "cell_type": "code",
   "execution_count": 58,
   "id": "d32f105b",
   "metadata": {},
   "outputs": [
    {
     "name": "stdout",
     "output_type": "stream",
     "text": [
      "Predicted rent is [26808.44496314]\n"
     ]
    }
   ],
   "source": [
    "#3. Single Room anywhere in Lavasa\n",
    "df1 = pd.DataFrame()\n",
    "df1['BuildingType'] = [3]\n",
    "df1['Location'] = [2]\n",
    "df1['Size'] = [3]\n",
    "df1['AreaSqFt'] = [2]\n",
    "df1['NoOfBath'] = [3]\n",
    "df1['NoOfPeople'] = [5]\n",
    "df1['NoOfBalcony'] = [5]\n",
    "y_pred =  LR.predict(df1)\n",
    "print(\"Predicted rent is\",y_pred)"
   ]
  }
 ],
 "metadata": {
  "kernelspec": {
   "display_name": "Python 3",
   "language": "python",
   "name": "python3"
  },
  "language_info": {
   "codemirror_mode": {
    "name": "ipython",
    "version": 3
   },
   "file_extension": ".py",
   "mimetype": "text/x-python",
   "name": "python",
   "nbconvert_exporter": "python",
   "pygments_lexer": "ipython3",
   "version": "3.8.8"
  }
 },
 "nbformat": 4,
 "nbformat_minor": 5
}
