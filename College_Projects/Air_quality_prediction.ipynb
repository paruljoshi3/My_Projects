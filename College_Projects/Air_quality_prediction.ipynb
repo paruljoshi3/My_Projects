{
 "cells": [
  {
   "cell_type": "code",
   "execution_count": 1,
   "metadata": {},
   "outputs": [],
   "source": [
    "import numpy as np\n",
    "import pandas as pd"
   ]
  },
  {
   "cell_type": "code",
   "execution_count": 2,
   "metadata": {},
   "outputs": [
    {
     "data": {
      "text/html": [
       "<div>\n",
       "<style scoped>\n",
       "    .dataframe tbody tr th:only-of-type {\n",
       "        vertical-align: middle;\n",
       "    }\n",
       "\n",
       "    .dataframe tbody tr th {\n",
       "        vertical-align: top;\n",
       "    }\n",
       "\n",
       "    .dataframe thead th {\n",
       "        text-align: right;\n",
       "    }\n",
       "</style>\n",
       "<table border=\"1\" class=\"dataframe\">\n",
       "  <thead>\n",
       "    <tr style=\"text-align: right;\">\n",
       "      <th></th>\n",
       "      <th>Timestamp</th>\n",
       "      <th>Year</th>\n",
       "      <th>Month</th>\n",
       "      <th>Day</th>\n",
       "      <th>Hour</th>\n",
       "      <th>PM2.5</th>\n",
       "    </tr>\n",
       "  </thead>\n",
       "  <tbody>\n",
       "    <tr>\n",
       "      <th>0</th>\n",
       "      <td>2017-11-07 12:00:00</td>\n",
       "      <td>2017</td>\n",
       "      <td>11</td>\n",
       "      <td>7</td>\n",
       "      <td>12</td>\n",
       "      <td>64.51</td>\n",
       "    </tr>\n",
       "    <tr>\n",
       "      <th>1</th>\n",
       "      <td>2017-11-07 13:00:00</td>\n",
       "      <td>2017</td>\n",
       "      <td>11</td>\n",
       "      <td>7</td>\n",
       "      <td>13</td>\n",
       "      <td>69.95</td>\n",
       "    </tr>\n",
       "    <tr>\n",
       "      <th>2</th>\n",
       "      <td>2017-11-07 14:00:00</td>\n",
       "      <td>2017</td>\n",
       "      <td>11</td>\n",
       "      <td>7</td>\n",
       "      <td>14</td>\n",
       "      <td>92.79</td>\n",
       "    </tr>\n",
       "    <tr>\n",
       "      <th>3</th>\n",
       "      <td>2017-11-07 15:00:00</td>\n",
       "      <td>2017</td>\n",
       "      <td>11</td>\n",
       "      <td>7</td>\n",
       "      <td>15</td>\n",
       "      <td>109.66</td>\n",
       "    </tr>\n",
       "    <tr>\n",
       "      <th>4</th>\n",
       "      <td>2017-11-07 16:00:00</td>\n",
       "      <td>2017</td>\n",
       "      <td>11</td>\n",
       "      <td>7</td>\n",
       "      <td>16</td>\n",
       "      <td>116.50</td>\n",
       "    </tr>\n",
       "    <tr>\n",
       "      <th>...</th>\n",
       "      <td>...</td>\n",
       "      <td>...</td>\n",
       "      <td>...</td>\n",
       "      <td>...</td>\n",
       "      <td>...</td>\n",
       "      <td>...</td>\n",
       "    </tr>\n",
       "    <tr>\n",
       "      <th>36187</th>\n",
       "      <td>2022-06-04 11:00:00</td>\n",
       "      <td>2022</td>\n",
       "      <td>6</td>\n",
       "      <td>4</td>\n",
       "      <td>11</td>\n",
       "      <td>35.89</td>\n",
       "    </tr>\n",
       "    <tr>\n",
       "      <th>36188</th>\n",
       "      <td>2022-06-04 12:00:00</td>\n",
       "      <td>2022</td>\n",
       "      <td>6</td>\n",
       "      <td>4</td>\n",
       "      <td>12</td>\n",
       "      <td>33.83</td>\n",
       "    </tr>\n",
       "    <tr>\n",
       "      <th>36189</th>\n",
       "      <td>2022-06-04 13:00:00</td>\n",
       "      <td>2022</td>\n",
       "      <td>6</td>\n",
       "      <td>4</td>\n",
       "      <td>13</td>\n",
       "      <td>33.05</td>\n",
       "    </tr>\n",
       "    <tr>\n",
       "      <th>36190</th>\n",
       "      <td>2022-06-04 14:00:00</td>\n",
       "      <td>2022</td>\n",
       "      <td>6</td>\n",
       "      <td>4</td>\n",
       "      <td>14</td>\n",
       "      <td>35.29</td>\n",
       "    </tr>\n",
       "    <tr>\n",
       "      <th>36191</th>\n",
       "      <td>2022-06-04 15:00:00</td>\n",
       "      <td>2022</td>\n",
       "      <td>6</td>\n",
       "      <td>4</td>\n",
       "      <td>15</td>\n",
       "      <td>40.67</td>\n",
       "    </tr>\n",
       "  </tbody>\n",
       "</table>\n",
       "<p>36192 rows × 6 columns</p>\n",
       "</div>"
      ],
      "text/plain": [
       "                 Timestamp  Year  Month  Day  Hour   PM2.5\n",
       "0      2017-11-07 12:00:00  2017     11    7    12   64.51\n",
       "1      2017-11-07 13:00:00  2017     11    7    13   69.95\n",
       "2      2017-11-07 14:00:00  2017     11    7    14   92.79\n",
       "3      2017-11-07 15:00:00  2017     11    7    15  109.66\n",
       "4      2017-11-07 16:00:00  2017     11    7    16  116.50\n",
       "...                    ...   ...    ...  ...   ...     ...\n",
       "36187  2022-06-04 11:00:00  2022      6    4    11   35.89\n",
       "36188  2022-06-04 12:00:00  2022      6    4    12   33.83\n",
       "36189  2022-06-04 13:00:00  2022      6    4    13   33.05\n",
       "36190  2022-06-04 14:00:00  2022      6    4    14   35.29\n",
       "36191  2022-06-04 15:00:00  2022      6    4    15   40.67\n",
       "\n",
       "[36192 rows x 6 columns]"
      ]
     },
     "execution_count": 2,
     "metadata": {},
     "output_type": "execute_result"
    }
   ],
   "source": [
    "air_quality=pd.read_csv(\"D:/air-quality-india.csv\")\n",
    "air_quality"
   ]
  },
  {
   "cell_type": "code",
   "execution_count": 3,
   "metadata": {},
   "outputs": [
    {
     "data": {
      "text/html": [
       "<div>\n",
       "<style scoped>\n",
       "    .dataframe tbody tr th:only-of-type {\n",
       "        vertical-align: middle;\n",
       "    }\n",
       "\n",
       "    .dataframe tbody tr th {\n",
       "        vertical-align: top;\n",
       "    }\n",
       "\n",
       "    .dataframe thead th {\n",
       "        text-align: right;\n",
       "    }\n",
       "</style>\n",
       "<table border=\"1\" class=\"dataframe\">\n",
       "  <thead>\n",
       "    <tr style=\"text-align: right;\">\n",
       "      <th></th>\n",
       "      <th>Timestamp</th>\n",
       "      <th>Year</th>\n",
       "      <th>Month</th>\n",
       "      <th>Day</th>\n",
       "      <th>Hour</th>\n",
       "      <th>PM2.5</th>\n",
       "    </tr>\n",
       "  </thead>\n",
       "  <tbody>\n",
       "    <tr>\n",
       "      <th>0</th>\n",
       "      <td>2017-11-07 12:00:00</td>\n",
       "      <td>2017</td>\n",
       "      <td>11</td>\n",
       "      <td>7</td>\n",
       "      <td>12</td>\n",
       "      <td>64.51</td>\n",
       "    </tr>\n",
       "    <tr>\n",
       "      <th>1</th>\n",
       "      <td>2017-11-07 13:00:00</td>\n",
       "      <td>2017</td>\n",
       "      <td>11</td>\n",
       "      <td>7</td>\n",
       "      <td>13</td>\n",
       "      <td>69.95</td>\n",
       "    </tr>\n",
       "    <tr>\n",
       "      <th>2</th>\n",
       "      <td>2017-11-07 14:00:00</td>\n",
       "      <td>2017</td>\n",
       "      <td>11</td>\n",
       "      <td>7</td>\n",
       "      <td>14</td>\n",
       "      <td>92.79</td>\n",
       "    </tr>\n",
       "    <tr>\n",
       "      <th>3</th>\n",
       "      <td>2017-11-07 15:00:00</td>\n",
       "      <td>2017</td>\n",
       "      <td>11</td>\n",
       "      <td>7</td>\n",
       "      <td>15</td>\n",
       "      <td>109.66</td>\n",
       "    </tr>\n",
       "    <tr>\n",
       "      <th>4</th>\n",
       "      <td>2017-11-07 16:00:00</td>\n",
       "      <td>2017</td>\n",
       "      <td>11</td>\n",
       "      <td>7</td>\n",
       "      <td>16</td>\n",
       "      <td>116.50</td>\n",
       "    </tr>\n",
       "  </tbody>\n",
       "</table>\n",
       "</div>"
      ],
      "text/plain": [
       "             Timestamp  Year  Month  Day  Hour   PM2.5\n",
       "0  2017-11-07 12:00:00  2017     11    7    12   64.51\n",
       "1  2017-11-07 13:00:00  2017     11    7    13   69.95\n",
       "2  2017-11-07 14:00:00  2017     11    7    14   92.79\n",
       "3  2017-11-07 15:00:00  2017     11    7    15  109.66\n",
       "4  2017-11-07 16:00:00  2017     11    7    16  116.50"
      ]
     },
     "execution_count": 3,
     "metadata": {},
     "output_type": "execute_result"
    }
   ],
   "source": [
    "air_quality.head()"
   ]
  },
  {
   "cell_type": "code",
   "execution_count": 4,
   "metadata": {},
   "outputs": [
    {
     "data": {
      "text/html": [
       "<div>\n",
       "<style scoped>\n",
       "    .dataframe tbody tr th:only-of-type {\n",
       "        vertical-align: middle;\n",
       "    }\n",
       "\n",
       "    .dataframe tbody tr th {\n",
       "        vertical-align: top;\n",
       "    }\n",
       "\n",
       "    .dataframe thead th {\n",
       "        text-align: right;\n",
       "    }\n",
       "</style>\n",
       "<table border=\"1\" class=\"dataframe\">\n",
       "  <thead>\n",
       "    <tr style=\"text-align: right;\">\n",
       "      <th></th>\n",
       "      <th>Timestamp</th>\n",
       "      <th>Year</th>\n",
       "      <th>Month</th>\n",
       "      <th>Day</th>\n",
       "      <th>Hour</th>\n",
       "      <th>PM2.5</th>\n",
       "    </tr>\n",
       "  </thead>\n",
       "  <tbody>\n",
       "    <tr>\n",
       "      <th>36187</th>\n",
       "      <td>2022-06-04 11:00:00</td>\n",
       "      <td>2022</td>\n",
       "      <td>6</td>\n",
       "      <td>4</td>\n",
       "      <td>11</td>\n",
       "      <td>35.89</td>\n",
       "    </tr>\n",
       "    <tr>\n",
       "      <th>36188</th>\n",
       "      <td>2022-06-04 12:00:00</td>\n",
       "      <td>2022</td>\n",
       "      <td>6</td>\n",
       "      <td>4</td>\n",
       "      <td>12</td>\n",
       "      <td>33.83</td>\n",
       "    </tr>\n",
       "    <tr>\n",
       "      <th>36189</th>\n",
       "      <td>2022-06-04 13:00:00</td>\n",
       "      <td>2022</td>\n",
       "      <td>6</td>\n",
       "      <td>4</td>\n",
       "      <td>13</td>\n",
       "      <td>33.05</td>\n",
       "    </tr>\n",
       "    <tr>\n",
       "      <th>36190</th>\n",
       "      <td>2022-06-04 14:00:00</td>\n",
       "      <td>2022</td>\n",
       "      <td>6</td>\n",
       "      <td>4</td>\n",
       "      <td>14</td>\n",
       "      <td>35.29</td>\n",
       "    </tr>\n",
       "    <tr>\n",
       "      <th>36191</th>\n",
       "      <td>2022-06-04 15:00:00</td>\n",
       "      <td>2022</td>\n",
       "      <td>6</td>\n",
       "      <td>4</td>\n",
       "      <td>15</td>\n",
       "      <td>40.67</td>\n",
       "    </tr>\n",
       "  </tbody>\n",
       "</table>\n",
       "</div>"
      ],
      "text/plain": [
       "                 Timestamp  Year  Month  Day  Hour  PM2.5\n",
       "36187  2022-06-04 11:00:00  2022      6    4    11  35.89\n",
       "36188  2022-06-04 12:00:00  2022      6    4    12  33.83\n",
       "36189  2022-06-04 13:00:00  2022      6    4    13  33.05\n",
       "36190  2022-06-04 14:00:00  2022      6    4    14  35.29\n",
       "36191  2022-06-04 15:00:00  2022      6    4    15  40.67"
      ]
     },
     "execution_count": 4,
     "metadata": {},
     "output_type": "execute_result"
    }
   ],
   "source": [
    "air_quality.tail()"
   ]
  },
  {
   "cell_type": "code",
   "execution_count": 5,
   "metadata": {},
   "outputs": [
    {
     "data": {
      "text/plain": [
       "(36192, 6)"
      ]
     },
     "execution_count": 5,
     "metadata": {},
     "output_type": "execute_result"
    }
   ],
   "source": [
    "air_quality.shape"
   ]
  },
  {
   "cell_type": "code",
   "execution_count": 6,
   "metadata": {},
   "outputs": [
    {
     "name": "stdout",
     "output_type": "stream",
     "text": [
      "<class 'pandas.core.frame.DataFrame'>\n",
      "RangeIndex: 36192 entries, 0 to 36191\n",
      "Data columns (total 6 columns):\n",
      " #   Column     Non-Null Count  Dtype  \n",
      "---  ------     --------------  -----  \n",
      " 0   Timestamp  36192 non-null  object \n",
      " 1   Year       36192 non-null  int64  \n",
      " 2   Month      36192 non-null  int64  \n",
      " 3   Day        36192 non-null  int64  \n",
      " 4   Hour       36192 non-null  int64  \n",
      " 5   PM2.5      36192 non-null  float64\n",
      "dtypes: float64(1), int64(4), object(1)\n",
      "memory usage: 1.7+ MB\n"
     ]
    }
   ],
   "source": [
    "air_quality.info()"
   ]
  },
  {
   "cell_type": "code",
   "execution_count": 7,
   "metadata": {},
   "outputs": [
    {
     "data": {
      "text/plain": [
       "Timestamp    0\n",
       "Year         0\n",
       "Month        0\n",
       "Day          0\n",
       "Hour         0\n",
       "PM2.5        0\n",
       "dtype: int64"
      ]
     },
     "execution_count": 7,
     "metadata": {},
     "output_type": "execute_result"
    }
   ],
   "source": [
    "air_quality.isnull().sum()"
   ]
  },
  {
   "cell_type": "code",
   "execution_count": 8,
   "metadata": {},
   "outputs": [],
   "source": [
    "air_quality[['Date','Time']]=air_quality['Timestamp'].str.split(' ',expand=True)"
   ]
  },
  {
   "cell_type": "code",
   "execution_count": 9,
   "metadata": {},
   "outputs": [
    {
     "data": {
      "text/html": [
       "<div>\n",
       "<style scoped>\n",
       "    .dataframe tbody tr th:only-of-type {\n",
       "        vertical-align: middle;\n",
       "    }\n",
       "\n",
       "    .dataframe tbody tr th {\n",
       "        vertical-align: top;\n",
       "    }\n",
       "\n",
       "    .dataframe thead th {\n",
       "        text-align: right;\n",
       "    }\n",
       "</style>\n",
       "<table border=\"1\" class=\"dataframe\">\n",
       "  <thead>\n",
       "    <tr style=\"text-align: right;\">\n",
       "      <th></th>\n",
       "      <th>Timestamp</th>\n",
       "      <th>Year</th>\n",
       "      <th>Month</th>\n",
       "      <th>Day</th>\n",
       "      <th>Hour</th>\n",
       "      <th>PM2.5</th>\n",
       "      <th>Date</th>\n",
       "      <th>Time</th>\n",
       "    </tr>\n",
       "  </thead>\n",
       "  <tbody>\n",
       "    <tr>\n",
       "      <th>0</th>\n",
       "      <td>2017-11-07 12:00:00</td>\n",
       "      <td>2017</td>\n",
       "      <td>11</td>\n",
       "      <td>7</td>\n",
       "      <td>12</td>\n",
       "      <td>64.51</td>\n",
       "      <td>2017-11-07</td>\n",
       "      <td>12:00:00</td>\n",
       "    </tr>\n",
       "    <tr>\n",
       "      <th>1</th>\n",
       "      <td>2017-11-07 13:00:00</td>\n",
       "      <td>2017</td>\n",
       "      <td>11</td>\n",
       "      <td>7</td>\n",
       "      <td>13</td>\n",
       "      <td>69.95</td>\n",
       "      <td>2017-11-07</td>\n",
       "      <td>13:00:00</td>\n",
       "    </tr>\n",
       "    <tr>\n",
       "      <th>2</th>\n",
       "      <td>2017-11-07 14:00:00</td>\n",
       "      <td>2017</td>\n",
       "      <td>11</td>\n",
       "      <td>7</td>\n",
       "      <td>14</td>\n",
       "      <td>92.79</td>\n",
       "      <td>2017-11-07</td>\n",
       "      <td>14:00:00</td>\n",
       "    </tr>\n",
       "    <tr>\n",
       "      <th>3</th>\n",
       "      <td>2017-11-07 15:00:00</td>\n",
       "      <td>2017</td>\n",
       "      <td>11</td>\n",
       "      <td>7</td>\n",
       "      <td>15</td>\n",
       "      <td>109.66</td>\n",
       "      <td>2017-11-07</td>\n",
       "      <td>15:00:00</td>\n",
       "    </tr>\n",
       "    <tr>\n",
       "      <th>4</th>\n",
       "      <td>2017-11-07 16:00:00</td>\n",
       "      <td>2017</td>\n",
       "      <td>11</td>\n",
       "      <td>7</td>\n",
       "      <td>16</td>\n",
       "      <td>116.50</td>\n",
       "      <td>2017-11-07</td>\n",
       "      <td>16:00:00</td>\n",
       "    </tr>\n",
       "    <tr>\n",
       "      <th>...</th>\n",
       "      <td>...</td>\n",
       "      <td>...</td>\n",
       "      <td>...</td>\n",
       "      <td>...</td>\n",
       "      <td>...</td>\n",
       "      <td>...</td>\n",
       "      <td>...</td>\n",
       "      <td>...</td>\n",
       "    </tr>\n",
       "    <tr>\n",
       "      <th>36187</th>\n",
       "      <td>2022-06-04 11:00:00</td>\n",
       "      <td>2022</td>\n",
       "      <td>6</td>\n",
       "      <td>4</td>\n",
       "      <td>11</td>\n",
       "      <td>35.89</td>\n",
       "      <td>2022-06-04</td>\n",
       "      <td>11:00:00</td>\n",
       "    </tr>\n",
       "    <tr>\n",
       "      <th>36188</th>\n",
       "      <td>2022-06-04 12:00:00</td>\n",
       "      <td>2022</td>\n",
       "      <td>6</td>\n",
       "      <td>4</td>\n",
       "      <td>12</td>\n",
       "      <td>33.83</td>\n",
       "      <td>2022-06-04</td>\n",
       "      <td>12:00:00</td>\n",
       "    </tr>\n",
       "    <tr>\n",
       "      <th>36189</th>\n",
       "      <td>2022-06-04 13:00:00</td>\n",
       "      <td>2022</td>\n",
       "      <td>6</td>\n",
       "      <td>4</td>\n",
       "      <td>13</td>\n",
       "      <td>33.05</td>\n",
       "      <td>2022-06-04</td>\n",
       "      <td>13:00:00</td>\n",
       "    </tr>\n",
       "    <tr>\n",
       "      <th>36190</th>\n",
       "      <td>2022-06-04 14:00:00</td>\n",
       "      <td>2022</td>\n",
       "      <td>6</td>\n",
       "      <td>4</td>\n",
       "      <td>14</td>\n",
       "      <td>35.29</td>\n",
       "      <td>2022-06-04</td>\n",
       "      <td>14:00:00</td>\n",
       "    </tr>\n",
       "    <tr>\n",
       "      <th>36191</th>\n",
       "      <td>2022-06-04 15:00:00</td>\n",
       "      <td>2022</td>\n",
       "      <td>6</td>\n",
       "      <td>4</td>\n",
       "      <td>15</td>\n",
       "      <td>40.67</td>\n",
       "      <td>2022-06-04</td>\n",
       "      <td>15:00:00</td>\n",
       "    </tr>\n",
       "  </tbody>\n",
       "</table>\n",
       "<p>36192 rows × 8 columns</p>\n",
       "</div>"
      ],
      "text/plain": [
       "                 Timestamp  Year  Month  Day  Hour   PM2.5        Date  \\\n",
       "0      2017-11-07 12:00:00  2017     11    7    12   64.51  2017-11-07   \n",
       "1      2017-11-07 13:00:00  2017     11    7    13   69.95  2017-11-07   \n",
       "2      2017-11-07 14:00:00  2017     11    7    14   92.79  2017-11-07   \n",
       "3      2017-11-07 15:00:00  2017     11    7    15  109.66  2017-11-07   \n",
       "4      2017-11-07 16:00:00  2017     11    7    16  116.50  2017-11-07   \n",
       "...                    ...   ...    ...  ...   ...     ...         ...   \n",
       "36187  2022-06-04 11:00:00  2022      6    4    11   35.89  2022-06-04   \n",
       "36188  2022-06-04 12:00:00  2022      6    4    12   33.83  2022-06-04   \n",
       "36189  2022-06-04 13:00:00  2022      6    4    13   33.05  2022-06-04   \n",
       "36190  2022-06-04 14:00:00  2022      6    4    14   35.29  2022-06-04   \n",
       "36191  2022-06-04 15:00:00  2022      6    4    15   40.67  2022-06-04   \n",
       "\n",
       "           Time  \n",
       "0      12:00:00  \n",
       "1      13:00:00  \n",
       "2      14:00:00  \n",
       "3      15:00:00  \n",
       "4      16:00:00  \n",
       "...         ...  \n",
       "36187  11:00:00  \n",
       "36188  12:00:00  \n",
       "36189  13:00:00  \n",
       "36190  14:00:00  \n",
       "36191  15:00:00  \n",
       "\n",
       "[36192 rows x 8 columns]"
      ]
     },
     "execution_count": 9,
     "metadata": {},
     "output_type": "execute_result"
    }
   ],
   "source": [
    "air_quality"
   ]
  },
  {
   "cell_type": "code",
   "execution_count": 10,
   "metadata": {},
   "outputs": [],
   "source": [
    "air_quality.drop(['Timestamp','Time','Date'],inplace=True,axis=1)"
   ]
  },
  {
   "cell_type": "code",
   "execution_count": 11,
   "metadata": {},
   "outputs": [
    {
     "data": {
      "text/html": [
       "<div>\n",
       "<style scoped>\n",
       "    .dataframe tbody tr th:only-of-type {\n",
       "        vertical-align: middle;\n",
       "    }\n",
       "\n",
       "    .dataframe tbody tr th {\n",
       "        vertical-align: top;\n",
       "    }\n",
       "\n",
       "    .dataframe thead th {\n",
       "        text-align: right;\n",
       "    }\n",
       "</style>\n",
       "<table border=\"1\" class=\"dataframe\">\n",
       "  <thead>\n",
       "    <tr style=\"text-align: right;\">\n",
       "      <th></th>\n",
       "      <th>Year</th>\n",
       "      <th>Month</th>\n",
       "      <th>Day</th>\n",
       "      <th>Hour</th>\n",
       "      <th>PM2.5</th>\n",
       "    </tr>\n",
       "  </thead>\n",
       "  <tbody>\n",
       "    <tr>\n",
       "      <th>0</th>\n",
       "      <td>2017</td>\n",
       "      <td>11</td>\n",
       "      <td>7</td>\n",
       "      <td>12</td>\n",
       "      <td>64.51</td>\n",
       "    </tr>\n",
       "    <tr>\n",
       "      <th>1</th>\n",
       "      <td>2017</td>\n",
       "      <td>11</td>\n",
       "      <td>7</td>\n",
       "      <td>13</td>\n",
       "      <td>69.95</td>\n",
       "    </tr>\n",
       "    <tr>\n",
       "      <th>2</th>\n",
       "      <td>2017</td>\n",
       "      <td>11</td>\n",
       "      <td>7</td>\n",
       "      <td>14</td>\n",
       "      <td>92.79</td>\n",
       "    </tr>\n",
       "    <tr>\n",
       "      <th>3</th>\n",
       "      <td>2017</td>\n",
       "      <td>11</td>\n",
       "      <td>7</td>\n",
       "      <td>15</td>\n",
       "      <td>109.66</td>\n",
       "    </tr>\n",
       "    <tr>\n",
       "      <th>4</th>\n",
       "      <td>2017</td>\n",
       "      <td>11</td>\n",
       "      <td>7</td>\n",
       "      <td>16</td>\n",
       "      <td>116.50</td>\n",
       "    </tr>\n",
       "    <tr>\n",
       "      <th>...</th>\n",
       "      <td>...</td>\n",
       "      <td>...</td>\n",
       "      <td>...</td>\n",
       "      <td>...</td>\n",
       "      <td>...</td>\n",
       "    </tr>\n",
       "    <tr>\n",
       "      <th>36187</th>\n",
       "      <td>2022</td>\n",
       "      <td>6</td>\n",
       "      <td>4</td>\n",
       "      <td>11</td>\n",
       "      <td>35.89</td>\n",
       "    </tr>\n",
       "    <tr>\n",
       "      <th>36188</th>\n",
       "      <td>2022</td>\n",
       "      <td>6</td>\n",
       "      <td>4</td>\n",
       "      <td>12</td>\n",
       "      <td>33.83</td>\n",
       "    </tr>\n",
       "    <tr>\n",
       "      <th>36189</th>\n",
       "      <td>2022</td>\n",
       "      <td>6</td>\n",
       "      <td>4</td>\n",
       "      <td>13</td>\n",
       "      <td>33.05</td>\n",
       "    </tr>\n",
       "    <tr>\n",
       "      <th>36190</th>\n",
       "      <td>2022</td>\n",
       "      <td>6</td>\n",
       "      <td>4</td>\n",
       "      <td>14</td>\n",
       "      <td>35.29</td>\n",
       "    </tr>\n",
       "    <tr>\n",
       "      <th>36191</th>\n",
       "      <td>2022</td>\n",
       "      <td>6</td>\n",
       "      <td>4</td>\n",
       "      <td>15</td>\n",
       "      <td>40.67</td>\n",
       "    </tr>\n",
       "  </tbody>\n",
       "</table>\n",
       "<p>36192 rows × 5 columns</p>\n",
       "</div>"
      ],
      "text/plain": [
       "       Year  Month  Day  Hour   PM2.5\n",
       "0      2017     11    7    12   64.51\n",
       "1      2017     11    7    13   69.95\n",
       "2      2017     11    7    14   92.79\n",
       "3      2017     11    7    15  109.66\n",
       "4      2017     11    7    16  116.50\n",
       "...     ...    ...  ...   ...     ...\n",
       "36187  2022      6    4    11   35.89\n",
       "36188  2022      6    4    12   33.83\n",
       "36189  2022      6    4    13   33.05\n",
       "36190  2022      6    4    14   35.29\n",
       "36191  2022      6    4    15   40.67\n",
       "\n",
       "[36192 rows x 5 columns]"
      ]
     },
     "execution_count": 11,
     "metadata": {},
     "output_type": "execute_result"
    }
   ],
   "source": [
    "air_quality"
   ]
  },
  {
   "cell_type": "code",
   "execution_count": 12,
   "metadata": {},
   "outputs": [
    {
     "data": {
      "text/plain": [
       "2020    8356\n",
       "2021    8283\n",
       "2019    7685\n",
       "2018    7537\n",
       "2022    3194\n",
       "2017    1137\n",
       "Name: Year, dtype: int64"
      ]
     },
     "execution_count": 12,
     "metadata": {},
     "output_type": "execute_result"
    }
   ],
   "source": [
    "air_quality['Year'].value_counts()"
   ]
  },
  {
   "cell_type": "markdown",
   "metadata": {},
   "source": [
    "### VISUALIZATION"
   ]
  },
  {
   "cell_type": "code",
   "execution_count": 13,
   "metadata": {},
   "outputs": [],
   "source": [
    "import matplotlib.pyplot as plt\n",
    "import seaborn as sns"
   ]
  },
  {
   "cell_type": "code",
   "execution_count": 14,
   "metadata": {},
   "outputs": [
    {
     "data": {
      "image/png": "[encoded data removed]",
      "text/plain": [
       "<Figure size 720x360 with 1 Axes>"
      ]
     },
     "metadata": {
      "needs_background": "light"
     },
     "output_type": "display_data"
    }
   ],
   "source": [
    "plt.figure(figsize=(10,5))\n",
    "plt.bar(air_quality['Year'],air_quality['PM2.5'],color='green')\n",
    "plt.xlabel('Year')\n",
    "plt.ylabel('PM2.5')\n",
    "plt.title(\"Air Quality for the year 2017 to 2022\")\n",
    "plt.show()"
   ]
  },
  {
   "cell_type": "code",
   "execution_count": 15,
   "metadata": {},
   "outputs": [
    {
     "data": {
      "text/plain": [
       "{'whiskers': [<matplotlib.lines.Line2D at 0x22e5a4fcd88>,\n",
       "  <matplotlib.lines.Line2D at 0x22e5a4e39c8>],\n",
       " 'caps': [<matplotlib.lines.Line2D at 0x22e5a502508>,\n",
       "  <matplotlib.lines.Line2D at 0x22e3d887b88>],\n",
       " 'boxes': [<matplotlib.lines.Line2D at 0x22e5a4bbfc8>],\n",
       " 'medians': [<matplotlib.lines.Line2D at 0x22e5a516a48>],\n",
       " 'fliers': [<matplotlib.lines.Line2D at 0x22e5a528508>],\n",
       " 'means': []}"
      ]
     },
     "execution_count": 15,
     "metadata": {},
     "output_type": "execute_result"
    },
    {
     "data": {
      "image/png": "[encoded data removed]",
      "text/plain": [
       "<Figure size 432x288 with 1 Axes>"
      ]
     },
     "metadata": {
      "needs_background": "light"
     },
     "output_type": "display_data"
    }
   ],
   "source": [
    "plt.boxplot(air_quality[\"PM2.5\"])"
   ]
  },
  {
   "cell_type": "code",
   "execution_count": 16,
   "metadata": {},
   "outputs": [
    {
     "data": {
      "image/png": "[encoded data removed]",
      "text/plain": [
       "<Figure size 421.375x360 with 1 Axes>"
      ]
     },
     "metadata": {
      "needs_background": "light"
     },
     "output_type": "display_data"
    }
   ],
   "source": [
    "g=sns.catplot(x='Month',y='PM2.5',hue='Year',data=air_quality,kind='bar')"
   ]
  },
  {
   "cell_type": "code",
   "execution_count": 17,
   "metadata": {},
   "outputs": [
    {
     "data": {
      "text/plain": [
       "<matplotlib.axes._subplots.AxesSubplot at 0x22e5cbd5648>"
      ]
     },
     "execution_count": 17,
     "metadata": {},
     "output_type": "execute_result"
    },
    {
     "data": {
      "image/png": "[encoded data removed]",
      "text/plain": [
       "<Figure size 432x288 with 1 Axes>"
      ]
     },
     "metadata": {
      "needs_background": "light"
     },
     "output_type": "display_data"
    }
   ],
   "source": [
    "sns.scatterplot(data=air_quality,x='Year',y='PM2.5')"
   ]
  },
  {
   "cell_type": "code",
   "execution_count": 18,
   "metadata": {},
   "outputs": [],
   "source": [
    "# air_quality.skew()"
   ]
  },
  {
   "cell_type": "code",
   "execution_count": 19,
   "metadata": {},
   "outputs": [],
   "source": [
    "# for index in air_quality.skew().index:\n",
    "#     if air_quality.skew().loc[index]>0.5:\n",
    "#         air_quality[index]=np.log1p(air_quality[index])"
   ]
  },
  {
   "cell_type": "code",
   "execution_count": 20,
   "metadata": {},
   "outputs": [
    {
     "data": {
      "text/plain": [
       "Year    -0.014525\n",
       "Month    0.101057\n",
       "Day      0.000521\n",
       "Hour     0.006854\n",
       "PM2.5    0.915632\n",
       "dtype: float64"
      ]
     },
     "execution_count": 20,
     "metadata": {},
     "output_type": "execute_result"
    }
   ],
   "source": [
    "air_quality.skew()"
   ]
  },
  {
   "cell_type": "code",
   "execution_count": 21,
   "metadata": {},
   "outputs": [
    {
     "name": "stdout",
     "output_type": "stream",
     "text": [
      "(36192, 5)\n"
     ]
    }
   ],
   "source": [
    "#removing of outliers\n",
    "from scipy.stats import zscore\n",
    "z_score=abs(zscore(air_quality))\n",
    "print(air_quality.shape)"
   ]
  },
  {
   "cell_type": "code",
   "execution_count": 22,
   "metadata": {},
   "outputs": [
    {
     "name": "stdout",
     "output_type": "stream",
     "text": [
      "(35914, 5)\n"
     ]
    }
   ],
   "source": [
    "air_quality1=air_quality.loc[(z_score<3).all(axis=1)]\n",
    "print(air_quality1.shape)"
   ]
  },
  {
   "cell_type": "code",
   "execution_count": 23,
   "metadata": {},
   "outputs": [
    {
     "name": "stderr",
     "output_type": "stream",
     "text": [
      "C:\\Users\\parul\\anaconda3\\lib\\site-packages\\pandas\\core\\frame.py:3997: SettingWithCopyWarning: \n",
      "A value is trying to be set on a copy of a slice from a DataFrame\n",
      "\n",
      "See the caveats in the documentation: https://pandas.pydata.org/pandas-docs/stable/user_guide/indexing.html#returning-a-view-versus-a-copy\n",
      "  errors=errors,\n"
     ]
    },
    {
     "data": {
      "text/html": [
       "<div>\n",
       "<style scoped>\n",
       "    .dataframe tbody tr th:only-of-type {\n",
       "        vertical-align: middle;\n",
       "    }\n",
       "\n",
       "    .dataframe tbody tr th {\n",
       "        vertical-align: top;\n",
       "    }\n",
       "\n",
       "    .dataframe thead th {\n",
       "        text-align: right;\n",
       "    }\n",
       "</style>\n",
       "<table border=\"1\" class=\"dataframe\">\n",
       "  <thead>\n",
       "    <tr style=\"text-align: right;\">\n",
       "      <th></th>\n",
       "      <th>Year</th>\n",
       "      <th>Month</th>\n",
       "      <th>Day</th>\n",
       "      <th>PM2.5</th>\n",
       "    </tr>\n",
       "  </thead>\n",
       "  <tbody>\n",
       "    <tr>\n",
       "      <th>0</th>\n",
       "      <td>2017</td>\n",
       "      <td>11</td>\n",
       "      <td>7</td>\n",
       "      <td>64.51</td>\n",
       "    </tr>\n",
       "    <tr>\n",
       "      <th>1</th>\n",
       "      <td>2017</td>\n",
       "      <td>11</td>\n",
       "      <td>7</td>\n",
       "      <td>69.95</td>\n",
       "    </tr>\n",
       "    <tr>\n",
       "      <th>2</th>\n",
       "      <td>2017</td>\n",
       "      <td>11</td>\n",
       "      <td>7</td>\n",
       "      <td>92.79</td>\n",
       "    </tr>\n",
       "    <tr>\n",
       "      <th>3</th>\n",
       "      <td>2017</td>\n",
       "      <td>11</td>\n",
       "      <td>7</td>\n",
       "      <td>109.66</td>\n",
       "    </tr>\n",
       "    <tr>\n",
       "      <th>4</th>\n",
       "      <td>2017</td>\n",
       "      <td>11</td>\n",
       "      <td>7</td>\n",
       "      <td>116.50</td>\n",
       "    </tr>\n",
       "    <tr>\n",
       "      <th>...</th>\n",
       "      <td>...</td>\n",
       "      <td>...</td>\n",
       "      <td>...</td>\n",
       "      <td>...</td>\n",
       "    </tr>\n",
       "    <tr>\n",
       "      <th>36187</th>\n",
       "      <td>2022</td>\n",
       "      <td>6</td>\n",
       "      <td>4</td>\n",
       "      <td>35.89</td>\n",
       "    </tr>\n",
       "    <tr>\n",
       "      <th>36188</th>\n",
       "      <td>2022</td>\n",
       "      <td>6</td>\n",
       "      <td>4</td>\n",
       "      <td>33.83</td>\n",
       "    </tr>\n",
       "    <tr>\n",
       "      <th>36189</th>\n",
       "      <td>2022</td>\n",
       "      <td>6</td>\n",
       "      <td>4</td>\n",
       "      <td>33.05</td>\n",
       "    </tr>\n",
       "    <tr>\n",
       "      <th>36190</th>\n",
       "      <td>2022</td>\n",
       "      <td>6</td>\n",
       "      <td>4</td>\n",
       "      <td>35.29</td>\n",
       "    </tr>\n",
       "    <tr>\n",
       "      <th>36191</th>\n",
       "      <td>2022</td>\n",
       "      <td>6</td>\n",
       "      <td>4</td>\n",
       "      <td>40.67</td>\n",
       "    </tr>\n",
       "  </tbody>\n",
       "</table>\n",
       "<p>35914 rows × 4 columns</p>\n",
       "</div>"
      ],
      "text/plain": [
       "       Year  Month  Day   PM2.5\n",
       "0      2017     11    7   64.51\n",
       "1      2017     11    7   69.95\n",
       "2      2017     11    7   92.79\n",
       "3      2017     11    7  109.66\n",
       "4      2017     11    7  116.50\n",
       "...     ...    ...  ...     ...\n",
       "36187  2022      6    4   35.89\n",
       "36188  2022      6    4   33.83\n",
       "36189  2022      6    4   33.05\n",
       "36190  2022      6    4   35.29\n",
       "36191  2022      6    4   40.67\n",
       "\n",
       "[35914 rows x 4 columns]"
      ]
     },
     "execution_count": 23,
     "metadata": {},
     "output_type": "execute_result"
    }
   ],
   "source": [
    "air_quality1.drop([\"Hour\"],axis=1,inplace=True)\n",
    "air_quality1"
   ]
  },
  {
   "cell_type": "code",
   "execution_count": 24,
   "metadata": {},
   "outputs": [
    {
     "data": {
      "text/html": [
       "<div>\n",
       "<style scoped>\n",
       "    .dataframe tbody tr th:only-of-type {\n",
       "        vertical-align: middle;\n",
       "    }\n",
       "\n",
       "    .dataframe tbody tr th {\n",
       "        vertical-align: top;\n",
       "    }\n",
       "\n",
       "    .dataframe thead th {\n",
       "        text-align: right;\n",
       "    }\n",
       "</style>\n",
       "<table border=\"1\" class=\"dataframe\">\n",
       "  <thead>\n",
       "    <tr style=\"text-align: right;\">\n",
       "      <th></th>\n",
       "      <th>Year</th>\n",
       "      <th>Month</th>\n",
       "      <th>Day</th>\n",
       "    </tr>\n",
       "  </thead>\n",
       "  <tbody>\n",
       "    <tr>\n",
       "      <th>0</th>\n",
       "      <td>2017</td>\n",
       "      <td>11</td>\n",
       "      <td>7</td>\n",
       "    </tr>\n",
       "    <tr>\n",
       "      <th>1</th>\n",
       "      <td>2017</td>\n",
       "      <td>11</td>\n",
       "      <td>7</td>\n",
       "    </tr>\n",
       "    <tr>\n",
       "      <th>2</th>\n",
       "      <td>2017</td>\n",
       "      <td>11</td>\n",
       "      <td>7</td>\n",
       "    </tr>\n",
       "    <tr>\n",
       "      <th>3</th>\n",
       "      <td>2017</td>\n",
       "      <td>11</td>\n",
       "      <td>7</td>\n",
       "    </tr>\n",
       "    <tr>\n",
       "      <th>4</th>\n",
       "      <td>2017</td>\n",
       "      <td>11</td>\n",
       "      <td>7</td>\n",
       "    </tr>\n",
       "    <tr>\n",
       "      <th>...</th>\n",
       "      <td>...</td>\n",
       "      <td>...</td>\n",
       "      <td>...</td>\n",
       "    </tr>\n",
       "    <tr>\n",
       "      <th>36187</th>\n",
       "      <td>2022</td>\n",
       "      <td>6</td>\n",
       "      <td>4</td>\n",
       "    </tr>\n",
       "    <tr>\n",
       "      <th>36188</th>\n",
       "      <td>2022</td>\n",
       "      <td>6</td>\n",
       "      <td>4</td>\n",
       "    </tr>\n",
       "    <tr>\n",
       "      <th>36189</th>\n",
       "      <td>2022</td>\n",
       "      <td>6</td>\n",
       "      <td>4</td>\n",
       "    </tr>\n",
       "    <tr>\n",
       "      <th>36190</th>\n",
       "      <td>2022</td>\n",
       "      <td>6</td>\n",
       "      <td>4</td>\n",
       "    </tr>\n",
       "    <tr>\n",
       "      <th>36191</th>\n",
       "      <td>2022</td>\n",
       "      <td>6</td>\n",
       "      <td>4</td>\n",
       "    </tr>\n",
       "  </tbody>\n",
       "</table>\n",
       "<p>35914 rows × 3 columns</p>\n",
       "</div>"
      ],
      "text/plain": [
       "       Year  Month  Day\n",
       "0      2017     11    7\n",
       "1      2017     11    7\n",
       "2      2017     11    7\n",
       "3      2017     11    7\n",
       "4      2017     11    7\n",
       "...     ...    ...  ...\n",
       "36187  2022      6    4\n",
       "36188  2022      6    4\n",
       "36189  2022      6    4\n",
       "36190  2022      6    4\n",
       "36191  2022      6    4\n",
       "\n",
       "[35914 rows x 3 columns]"
      ]
     },
     "execution_count": 24,
     "metadata": {},
     "output_type": "execute_result"
    }
   ],
   "source": [
    "x=air_quality1.drop(columns=['PM2.5'])\n",
    "x"
   ]
  },
  {
   "cell_type": "code",
   "execution_count": 25,
   "metadata": {},
   "outputs": [
    {
     "data": {
      "text/plain": [
       "0         64.51\n",
       "1         69.95\n",
       "2         92.79\n",
       "3        109.66\n",
       "4        116.50\n",
       "          ...  \n",
       "36187     35.89\n",
       "36188     33.83\n",
       "36189     33.05\n",
       "36190     35.29\n",
       "36191     40.67\n",
       "Name: PM2.5, Length: 35914, dtype: float64"
      ]
     },
     "execution_count": 25,
     "metadata": {},
     "output_type": "execute_result"
    }
   ],
   "source": [
    "y=air_quality1['PM2.5']\n",
    "y"
   ]
  },
  {
   "cell_type": "code",
   "execution_count": 26,
   "metadata": {},
   "outputs": [],
   "source": [
    "# from sklearn.preprocessing import StandardScaler\n",
    "# scx=StandardScaler()\n",
    "# X=scx.fit_transform(x)\n",
    "# X"
   ]
  },
  {
   "cell_type": "code",
   "execution_count": 28,
   "metadata": {},
   "outputs": [
    {
     "name": "stdout",
     "output_type": "stream",
     "text": [
      "(35914,)\n",
      "(35914, 3)\n"
     ]
    }
   ],
   "source": [
    "print(y.shape)\n",
    "print(x.shape)"
   ]
  },
  {
   "cell_type": "code",
   "execution_count": 29,
   "metadata": {},
   "outputs": [],
   "source": [
    "from sklearn.linear_model import LinearRegression\n",
    "from sklearn.model_selection import train_test_split\n",
    "from sklearn.metrics import r2_score"
   ]
  },
  {
   "cell_type": "code",
   "execution_count": 30,
   "metadata": {},
   "outputs": [],
   "source": [
    "def maxr2_score(regr,x,y):\n",
    "    max_r_score=0\n",
    "    for r_state in range(42,100):\n",
    "        x_train,x_test,y_train,y_test=train_test_split(x,y,random_state=r_state,test_size=0.22)\n",
    "        regr.fit(x_train,y_train)\n",
    "        y_pred=regr.predict(x_test)\n",
    "        r2_scr=r2_score(y_test,y_pred)\n",
    "        print(\"r2_score for :\",r_state,\" is\", r2_scr)\n",
    "        if r2_scr>max_r_score:\n",
    "            max_r_score=r2_scr\n",
    "            final_r_state=r_state\n",
    "    print(\"maximum r2_score to :\",final_r_state,\" is :\",max_r_score)\n",
    "    return final_r_state"
   ]
  },
  {
   "cell_type": "code",
   "execution_count": 31,
   "metadata": {},
   "outputs": [
    {
     "name": "stdout",
     "output_type": "stream",
     "text": [
      "r2_score for : 42  is 0.04009388857137075\n",
      "r2_score for : 43  is 0.04026819519237346\n",
      "r2_score for : 44  is 0.03819264937065292\n",
      "r2_score for : 45  is 0.03200446784619426\n",
      "r2_score for : 46  is 0.04249726846896762\n",
      "r2_score for : 47  is 0.046398153182502844\n",
      "r2_score for : 48  is 0.03793002920058908\n",
      "r2_score for : 49  is 0.04038419525992554\n",
      "r2_score for : 50  is 0.03209762941991634\n",
      "r2_score for : 51  is 0.043651645575512044\n",
      "r2_score for : 52  is 0.03584813330100045\n",
      "r2_score for : 53  is 0.04664904672957593\n",
      "r2_score for : 54  is 0.04654695921722962\n",
      "r2_score for : 55  is 0.04011893891959306\n",
      "r2_score for : 56  is 0.04490140684119681\n",
      "r2_score for : 57  is 0.04889303148064228\n",
      "r2_score for : 58  is 0.03474005861678353\n",
      "r2_score for : 59  is 0.036708788352274646\n",
      "r2_score for : 60  is 0.03970771302354159\n",
      "r2_score for : 61  is 0.04421412995001561\n",
      "r2_score for : 62  is 0.03980916536765955\n",
      "r2_score for : 63  is 0.04041916249281485\n",
      "r2_score for : 64  is 0.04040430086045599\n",
      "r2_score for : 65  is 0.04096610046070159\n",
      "r2_score for : 66  is 0.0425524255714026\n",
      "r2_score for : 67  is 0.045382638699695166\n",
      "r2_score for : 68  is 0.04356533240301952\n",
      "r2_score for : 69  is 0.04060264695087101\n",
      "r2_score for : 70  is 0.036268264855172094\n",
      "r2_score for : 71  is 0.042486771953263225\n",
      "r2_score for : 72  is 0.03897996216320032\n",
      "r2_score for : 73  is 0.03763468537527792\n",
      "r2_score for : 74  is 0.03403252678290125\n",
      "r2_score for : 75  is 0.040303122246383105\n",
      "r2_score for : 76  is 0.04567646119186708\n",
      "r2_score for : 77  is 0.04146106649963621\n",
      "r2_score for : 78  is 0.042742469881134504\n",
      "r2_score for : 79  is 0.04641311434733786\n",
      "r2_score for : 80  is 0.042441250388257745\n",
      "r2_score for : 81  is 0.03894773384198258\n",
      "r2_score for : 82  is 0.03246936967188141\n",
      "r2_score for : 83  is 0.045106709868913186\n",
      "r2_score for : 84  is 0.037547128364117\n",
      "r2_score for : 85  is 0.039609900258143704\n",
      "r2_score for : 86  is 0.04142903931405306\n",
      "r2_score for : 87  is 0.0383965044201543\n",
      "r2_score for : 88  is 0.042360310473377294\n",
      "r2_score for : 89  is 0.04003725500968913\n",
      "r2_score for : 90  is 0.042227389706074314\n",
      "r2_score for : 91  is 0.04279812246599901\n",
      "r2_score for : 92  is 0.04252560485248624\n",
      "r2_score for : 93  is 0.04925169192769052\n",
      "r2_score for : 94  is 0.04170925835518202\n",
      "r2_score for : 95  is 0.035731862270704684\n",
      "r2_score for : 96  is 0.042299462378502795\n",
      "r2_score for : 97  is 0.042556695149058466\n",
      "r2_score for : 98  is 0.03686052595102185\n",
      "r2_score for : 99  is 0.039905825087381164\n",
      "maximum r2_score to : 93  is : 0.04925169192769052\n"
     ]
    }
   ],
   "source": [
    "lregr=LinearRegression()\n",
    "r_state=maxr2_score(lregr,x,y)"
   ]
  },
  {
   "cell_type": "code",
   "execution_count": 32,
   "metadata": {},
   "outputs": [
    {
     "data": {
      "text/plain": [
       "-0.06208637909667745"
      ]
     },
     "execution_count": 32,
     "metadata": {},
     "output_type": "execute_result"
    }
   ],
   "source": [
    "#doing cross validation to check whether the model is suffering from overfitting or underfitting\n",
    "from sklearn.model_selection import cross_val_score\n",
    "cross_val_score(lregr,x,y,cv=5,scoring=\"r2\").mean()\n",
    "#not suffering from over fitting over under fitting"
   ]
  },
  {
   "cell_type": "code",
   "execution_count": 33,
   "metadata": {},
   "outputs": [],
   "source": [
    "#checking with decision_tree_classifier\n",
    "from sklearn.tree import DecisionTreeRegressor\n",
    "dt=DecisionTreeRegressor()"
   ]
  },
  {
   "cell_type": "code",
   "execution_count": 34,
   "metadata": {},
   "outputs": [
    {
     "name": "stdout",
     "output_type": "stream",
     "text": [
      "r2_score for : 42  is 0.8544346749570746\n",
      "r2_score for : 43  is 0.8512828456717513\n",
      "r2_score for : 44  is 0.8548114951728885\n",
      "r2_score for : 45  is 0.8472434893442513\n",
      "r2_score for : 46  is 0.8551515075016103\n",
      "r2_score for : 47  is 0.845821315784106\n",
      "r2_score for : 48  is 0.8534393137687817\n",
      "r2_score for : 49  is 0.8546894190088739\n",
      "r2_score for : 50  is 0.8501345373698734\n",
      "r2_score for : 51  is 0.850881449230947\n",
      "r2_score for : 52  is 0.8580453199863327\n",
      "r2_score for : 53  is 0.8474150766917485\n",
      "r2_score for : 54  is 0.8552845534136975\n",
      "r2_score for : 55  is 0.848292548538452\n",
      "r2_score for : 56  is 0.8540725632457729\n",
      "r2_score for : 57  is 0.8541879218944183\n",
      "r2_score for : 58  is 0.850338103884647\n",
      "r2_score for : 59  is 0.8505987153268705\n",
      "r2_score for : 60  is 0.8546855916791196\n",
      "r2_score for : 61  is 0.854891266646195\n",
      "r2_score for : 62  is 0.8535811074118265\n",
      "r2_score for : 63  is 0.8517972389516946\n",
      "r2_score for : 64  is 0.8485855159856444\n",
      "r2_score for : 65  is 0.8518151146028871\n",
      "r2_score for : 66  is 0.8500115189103177\n",
      "r2_score for : 67  is 0.8524666954854659\n",
      "r2_score for : 68  is 0.8502289506671301\n",
      "r2_score for : 69  is 0.8512761786554034\n",
      "r2_score for : 70  is 0.8475267583305326\n",
      "r2_score for : 71  is 0.8488874638396858\n",
      "r2_score for : 72  is 0.8488595920898718\n",
      "r2_score for : 73  is 0.8559693836222563\n",
      "r2_score for : 74  is 0.8491401803459081\n",
      "r2_score for : 75  is 0.8507673394391704\n",
      "r2_score for : 76  is 0.8527127978149875\n",
      "r2_score for : 77  is 0.8519749805894046\n",
      "r2_score for : 78  is 0.8563346267270919\n",
      "r2_score for : 79  is 0.8566631655653842\n",
      "r2_score for : 80  is 0.8561941565175859\n",
      "r2_score for : 81  is 0.8569453557467265\n",
      "r2_score for : 82  is 0.8510758837797874\n",
      "r2_score for : 83  is 0.8453984211361608\n",
      "r2_score for : 84  is 0.8505170754456621\n",
      "r2_score for : 85  is 0.8560618236005904\n",
      "r2_score for : 86  is 0.8556287224318646\n",
      "r2_score for : 87  is 0.8488605128294308\n",
      "r2_score for : 88  is 0.8482116881137347\n",
      "r2_score for : 89  is 0.8547560818694434\n",
      "r2_score for : 90  is 0.8579641694770335\n",
      "r2_score for : 91  is 0.8500580540817447\n",
      "r2_score for : 92  is 0.8519994085952763\n",
      "r2_score for : 93  is 0.8489436392117811\n",
      "r2_score for : 94  is 0.8591348122894549\n",
      "r2_score for : 95  is 0.8521336280806668\n",
      "r2_score for : 96  is 0.8563570411385935\n",
      "r2_score for : 97  is 0.8546868832035035\n",
      "r2_score for : 98  is 0.8584707120600306\n",
      "r2_score for : 99  is 0.8480108292528005\n",
      "maximum r2_score to : 94  is : 0.8591348122894549\n"
     ]
    }
   ],
   "source": [
    "r_state=maxr2_score(dt,x,y)"
   ]
  },
  {
   "cell_type": "code",
   "execution_count": 35,
   "metadata": {},
   "outputs": [
    {
     "data": {
      "text/plain": [
       "0.5409322860227339"
      ]
     },
     "execution_count": 35,
     "metadata": {},
     "output_type": "execute_result"
    }
   ],
   "source": [
    "#doing cross validation to check whether the model is suffering from overfitting or underfitting\n",
    "from sklearn.model_selection import cross_val_score\n",
    "cross_val_score(dt,x,y,cv=5,scoring=\"r2\").mean()\n",
    "#not suffering from over fitting over under fitting"
   ]
  },
  {
   "cell_type": "code",
   "execution_count": 36,
   "metadata": {},
   "outputs": [],
   "source": [
    "#Using KNeighbors\n",
    "from sklearn.neighbors import KNeighborsRegressor\n",
    "from sklearn.model_selection import GridSearchCV"
   ]
  },
  {
   "cell_type": "code",
   "execution_count": 37,
   "metadata": {},
   "outputs": [
    {
     "data": {
      "text/plain": [
       "{'n_neighbors': 29}"
      ]
     },
     "execution_count": 37,
     "metadata": {},
     "output_type": "execute_result"
    }
   ],
   "source": [
    "neighbors={\"n_neighbors\":range(1,30)}\n",
    "knn=KNeighborsRegressor()\n",
    "grs=GridSearchCV(knn,neighbors,cv=10)\n",
    "grs.fit(x,y)\n",
    "grs.best_params_"
   ]
  },
  {
   "cell_type": "code",
   "execution_count": 38,
   "metadata": {},
   "outputs": [
    {
     "name": "stdout",
     "output_type": "stream",
     "text": [
      "r2_score for : 42  is 0.832872273303116\n",
      "r2_score for : 43  is 0.8304113431358797\n",
      "r2_score for : 44  is 0.8344915835405775\n",
      "r2_score for : 45  is 0.8274893307303767\n",
      "r2_score for : 46  is 0.8373866091381463\n",
      "r2_score for : 47  is 0.82866172263781\n",
      "r2_score for : 48  is 0.8343462682826948\n",
      "r2_score for : 49  is 0.8325219871723797\n",
      "r2_score for : 50  is 0.8283740053827299\n",
      "r2_score for : 51  is 0.8253254134567247\n",
      "r2_score for : 52  is 0.8355658680052092\n",
      "r2_score for : 53  is 0.8286872674429271\n",
      "r2_score for : 54  is 0.8343927234391523\n",
      "r2_score for : 55  is 0.8274745614934663\n",
      "r2_score for : 56  is 0.8320095015279974\n",
      "r2_score for : 57  is 0.8345575266430245\n",
      "r2_score for : 58  is 0.8288408777560925\n",
      "r2_score for : 59  is 0.8272040762678657\n",
      "r2_score for : 60  is 0.8313471437462244\n",
      "r2_score for : 61  is 0.8354524710230609\n",
      "r2_score for : 62  is 0.8290860400930565\n",
      "r2_score for : 63  is 0.8324040997749991\n",
      "r2_score for : 64  is 0.8289942833943792\n",
      "r2_score for : 65  is 0.8302896278291712\n",
      "r2_score for : 66  is 0.8274271285073169\n",
      "r2_score for : 67  is 0.8338049380027613\n",
      "r2_score for : 68  is 0.8282225841298672\n",
      "r2_score for : 69  is 0.8339605074803254\n",
      "r2_score for : 70  is 0.8302000108789908\n",
      "r2_score for : 71  is 0.8287622164515116\n",
      "r2_score for : 72  is 0.8242485628610691\n",
      "r2_score for : 73  is 0.8351916382015379\n",
      "r2_score for : 74  is 0.8254261163670018\n",
      "r2_score for : 75  is 0.8311791182192685\n",
      "r2_score for : 76  is 0.8320764588705046\n",
      "r2_score for : 77  is 0.8334487156629169\n",
      "r2_score for : 78  is 0.8359473632490414\n",
      "r2_score for : 79  is 0.8356775428144365\n",
      "r2_score for : 80  is 0.8371443624564248\n",
      "r2_score for : 81  is 0.8324829478393193\n",
      "r2_score for : 82  is 0.8284704581515839\n",
      "r2_score for : 83  is 0.8283854897629488\n",
      "r2_score for : 84  is 0.8318701601536421\n",
      "r2_score for : 85  is 0.8342017374071804\n",
      "r2_score for : 86  is 0.8349926211517195\n",
      "r2_score for : 87  is 0.8262742884606664\n",
      "r2_score for : 88  is 0.8258447273798452\n",
      "r2_score for : 89  is 0.8314205225554274\n",
      "r2_score for : 90  is 0.8395488924317086\n",
      "r2_score for : 91  is 0.8295971197902594\n",
      "r2_score for : 92  is 0.830896130541778\n",
      "r2_score for : 93  is 0.832940076364124\n",
      "r2_score for : 94  is 0.8357292364145812\n",
      "r2_score for : 95  is 0.8307076912662229\n",
      "r2_score for : 96  is 0.8344803940254829\n",
      "r2_score for : 97  is 0.8342771498504165\n",
      "r2_score for : 98  is 0.8399385113264586\n",
      "r2_score for : 99  is 0.826815119655308\n",
      "maximum r2_score to : 98  is : 0.8399385113264586\n"
     ]
    }
   ],
   "source": [
    "knn=KNeighborsRegressor(n_neighbors=29)\n",
    "r_state=maxr2_score(knn,x,y)"
   ]
  },
  {
   "cell_type": "code",
   "execution_count": 39,
   "metadata": {},
   "outputs": [
    {
     "name": "stdout",
     "output_type": "stream",
     "text": [
      "Mean r2 score for KNN Regression:  0.6098384048793795\n",
      "standard deviation in r2 score for KNN Regression:  0.049444442102576376\n",
      "[0.67347603 0.66626335 0.57002103 0.57933801 0.56009361]\n"
     ]
    }
   ],
   "source": [
    "#doing cross validation to check whether the model is suffering from overfitting or underfitting\n",
    "print(\"Mean r2 score for KNN Regression: \",cross_val_score(knn,x,y,cv=5,scoring=\"r2\").mean())\n",
    "print(\"standard deviation in r2 score for KNN Regression: \",cross_val_score(knn,x,y,cv=5,scoring=\"r2\").std())\n",
    "print(cross_val_score(knn,x,y,cv=5,scoring=\"r2\"))\n",
    "#not suffering from overfitting or underfitting"
   ]
  },
  {
   "cell_type": "code",
   "execution_count": 40,
   "metadata": {},
   "outputs": [],
   "source": [
    "#Using SVM model\n",
    "from sklearn.svm import SVR\n",
    "svm=SVR()"
   ]
  },
  {
   "cell_type": "code",
   "execution_count": 41,
   "metadata": {},
   "outputs": [],
   "source": [
    "parameters={\"kernel\":[\"linear\", \"poly\", \"rbf\"],\"C\":[0.001,0.01,0.1]}\n",
    "grs = GridSearchCV(svm, parameters, cv=10)"
   ]
  },
  {
   "cell_type": "code",
   "execution_count": 42,
   "metadata": {},
   "outputs": [
    {
     "data": {
      "text/plain": [
       "GridSearchCV(cv=10, error_score=nan,\n",
       "             estimator=SVR(C=1.0, cache_size=200, coef0=0.0, degree=3,\n",
       "                           epsilon=0.1, gamma='scale', kernel='rbf',\n",
       "                           max_iter=-1, shrinking=True, tol=0.001,\n",
       "                           verbose=False),\n",
       "             iid='deprecated', n_jobs=None,\n",
       "             param_grid={'C': [0.001, 0.01, 0.1],\n",
       "                         'kernel': ['linear', 'poly', 'rbf']},\n",
       "             pre_dispatch='2*n_jobs', refit=True, return_train_score=False,\n",
       "             scoring=None, verbose=0)"
      ]
     },
     "execution_count": 42,
     "metadata": {},
     "output_type": "execute_result"
    }
   ],
   "source": [
    "grs.fit(x,y)"
   ]
  },
  {
   "cell_type": "code",
   "execution_count": null,
   "metadata": {},
   "outputs": [],
   "source": [
    "grs.best_params_"
   ]
  },
  {
   "cell_type": "code",
   "execution_count": null,
   "metadata": {},
   "outputs": [],
   "source": [
    "svm=SVR(kernel=\"rbf\",C=0.1)\n",
    "r_state=maxr2_score(svm,x,y)"
   ]
  },
  {
   "cell_type": "code",
   "execution_count": null,
   "metadata": {},
   "outputs": [],
   "source": [
    "#doing cross validation to check whether the model is suffering from overfitting or underfitting\n",
    "print(\"Mean r2 score for SVM Regression: \",cross_val_score(svm,x,y,cv=5,scoring=\"r2\").mean())\n",
    "print(\"standard deviation in r2 score for SVM Regression: \",cross_val_score(svm,x,y,cv=5,scoring=\"r2\").std())\n",
    "print(cross_val_score(svm,x,y,cv=5,scoring=\"r2\"))\n",
    "#not suffering from overfitting or underfitting"
   ]
  },
  {
   "cell_type": "code",
   "execution_count": null,
   "metadata": {},
   "outputs": [],
   "source": [
    "#As SVM is showing the best results so we will save it for the production\n",
    "x_train,x_test,y_train,y_test=train_test_split(x,y,random_state=63,test_size=0.22)\n",
    "svm=SVR(kernel=\"rbf\",C=10)\n",
    "svm.fit(x_train,y_train)\n",
    "y_pred=svm.predict(x_test)"
   ]
  },
  {
   "cell_type": "code",
   "execution_count": null,
   "metadata": {},
   "outputs": [],
   "source": [
    "from sklearn.metrics import mean_squared_error\n",
    "print(\"r2 score is:\" ,r2_score(y_test,y_pred))\n",
    "print(\"RMSE is:\" ,np.sqrt(mean_squared_error(y_test,y_pred)))"
   ]
  },
  {
   "cell_type": "code",
   "execution_count": null,
   "metadata": {},
   "outputs": [],
   "source": [
    "#Saving the model\n",
    "from sklearn.externals import joblib\n",
    "joblib.dump(svm,'Sales_Channel_svm.pk1')"
   ]
  },
  {
   "cell_type": "code",
   "execution_count": null,
   "metadata": {},
   "outputs": [],
   "source": []
  },
  {
   "cell_type": "code",
   "execution_count": null,
   "metadata": {},
   "outputs": [],
   "source": []
  },
  {
   "cell_type": "code",
   "execution_count": null,
   "metadata": {},
   "outputs": [],
   "source": []
  },
  {
   "cell_type": "code",
   "execution_count": null,
   "metadata": {},
   "outputs": [],
   "source": []
  }
 ],
 "metadata": {
  "kernelspec": {
   "display_name": "Python 3",
   "language": "python",
   "name": "python3"
  },
  "language_info": {
   "codemirror_mode": {
    "name": "ipython",
    "version": 3
   },
   "file_extension": ".py",
   "mimetype": "text/x-python",
   "name": "python",
   "nbconvert_exporter": "python",
   "pygments_lexer": "ipython3",
   "version": "3.7.6"
  }
 },
 "nbformat": 4,
 "nbformat_minor": 4
}
