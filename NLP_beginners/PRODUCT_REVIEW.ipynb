{
 "cells": [
  {
   "cell_type": "code",
   "execution_count": 1,
   "metadata": {},
   "outputs": [],
   "source": [
    "#importing basic liabraries\n",
    "import numpy as np\n",
    "import pandas as pd\n",
    "import warnings\n",
    "warnings.filterwarnings('ignore')"
   ]
  },
  {
   "cell_type": "code",
   "execution_count": 2,
   "metadata": {},
   "outputs": [],
   "source": [
    "review=pd.read_json('Cell_Phones_and_Accessories.json')"
   ]
  },
  {
   "cell_type": "code",
   "execution_count": 3,
   "metadata": {},
   "outputs": [
    {
     "data": {
      "text/html": [
       "<div>\n",
       "<style scoped>\n",
       "    .dataframe tbody tr th:only-of-type {\n",
       "        vertical-align: middle;\n",
       "    }\n",
       "\n",
       "    .dataframe tbody tr th {\n",
       "        vertical-align: top;\n",
       "    }\n",
       "\n",
       "    .dataframe thead th {\n",
       "        text-align: right;\n",
       "    }\n",
       "</style>\n",
       "<table border=\"1\" class=\"dataframe\">\n",
       "  <thead>\n",
       "    <tr style=\"text-align: right;\">\n",
       "      <th></th>\n",
       "      <th>Rating</th>\n",
       "      <th>Rev_verify</th>\n",
       "      <th>Review_Date</th>\n",
       "      <th>IC</th>\n",
       "      <th>Prod_meta</th>\n",
       "      <th>Reviewer_Name</th>\n",
       "      <th>Review</th>\n",
       "      <th>Rev_summ</th>\n",
       "      <th>Review_timestamp</th>\n",
       "      <th>Useful</th>\n",
       "      <th>Prod_img</th>\n",
       "    </tr>\n",
       "  </thead>\n",
       "  <tbody>\n",
       "    <tr>\n",
       "      <th>0</th>\n",
       "      <td>5</td>\n",
       "      <td>True</td>\n",
       "      <td>09 1, 2015</td>\n",
       "      <td>B009XD5TPQ</td>\n",
       "      <td>None</td>\n",
       "      <td>Sunny  Zoeller</td>\n",
       "      <td>Bought it for my husband. He's very happy with it</td>\n",
       "      <td>He's very happy with</td>\n",
       "      <td>1441065600</td>\n",
       "      <td>None</td>\n",
       "      <td>None</td>\n",
       "    </tr>\n",
       "    <tr>\n",
       "      <th>1</th>\n",
       "      <td>5</td>\n",
       "      <td>True</td>\n",
       "      <td>01 9, 2016</td>\n",
       "      <td>B016MF3P3K</td>\n",
       "      <td>None</td>\n",
       "      <td>Denise Lesley</td>\n",
       "      <td>Great screen protector.  Doesn't even seem as ...</td>\n",
       "      <td>Five Stars</td>\n",
       "      <td>1452297600</td>\n",
       "      <td>None</td>\n",
       "      <td>None</td>\n",
       "    </tr>\n",
       "    <tr>\n",
       "      <th>2</th>\n",
       "      <td>5</td>\n",
       "      <td>True</td>\n",
       "      <td>04 21, 2013</td>\n",
       "      <td>B008DC8N5G</td>\n",
       "      <td>None</td>\n",
       "      <td>Emir</td>\n",
       "      <td>Saved me lots of money! it's not gorilla glass...</td>\n",
       "      <td>As long as you know how to put it on!</td>\n",
       "      <td>1366502400</td>\n",
       "      <td>None</td>\n",
       "      <td>None</td>\n",
       "    </tr>\n",
       "    <tr>\n",
       "      <th>3</th>\n",
       "      <td>3</td>\n",
       "      <td>True</td>\n",
       "      <td>02 27, 2013</td>\n",
       "      <td>B0089CH3TM</td>\n",
       "      <td>{'Color:': ' Green'}</td>\n",
       "      <td>Alyse</td>\n",
       "      <td>The material and fit is very nice, but the col...</td>\n",
       "      <td>Good case overall</td>\n",
       "      <td>1361923200</td>\n",
       "      <td>3</td>\n",
       "      <td>None</td>\n",
       "    </tr>\n",
       "    <tr>\n",
       "      <th>4</th>\n",
       "      <td>4</td>\n",
       "      <td>True</td>\n",
       "      <td>12 19, 2013</td>\n",
       "      <td>B00AKZWGAC</td>\n",
       "      <td>None</td>\n",
       "      <td>TechGuy</td>\n",
       "      <td>This last me about 3 days till i have to charg...</td>\n",
       "      <td>Awesome Battery</td>\n",
       "      <td>1387411200</td>\n",
       "      <td>None</td>\n",
       "      <td>None</td>\n",
       "    </tr>\n",
       "    <tr>\n",
       "      <th>...</th>\n",
       "      <td>...</td>\n",
       "      <td>...</td>\n",
       "      <td>...</td>\n",
       "      <td>...</td>\n",
       "      <td>...</td>\n",
       "      <td>...</td>\n",
       "      <td>...</td>\n",
       "      <td>...</td>\n",
       "      <td>...</td>\n",
       "      <td>...</td>\n",
       "      <td>...</td>\n",
       "    </tr>\n",
       "    <tr>\n",
       "      <th>760445</th>\n",
       "      <td>4</td>\n",
       "      <td>False</td>\n",
       "      <td>07 12, 2014</td>\n",
       "      <td>B00C3V9M8A</td>\n",
       "      <td>None</td>\n",
       "      <td>momahjoub</td>\n",
       "      <td>Very good</td>\n",
       "      <td>Four Stars</td>\n",
       "      <td>1405123200</td>\n",
       "      <td>None</td>\n",
       "      <td>None</td>\n",
       "    </tr>\n",
       "    <tr>\n",
       "      <th>760446</th>\n",
       "      <td>5</td>\n",
       "      <td>False</td>\n",
       "      <td>07 13, 2016</td>\n",
       "      <td>B0178BYS24</td>\n",
       "      <td>None</td>\n",
       "      <td>Cindy</td>\n",
       "      <td>My name is Cynthia Beard and I believe that th...</td>\n",
       "      <td>... believe that the Samsung Galaxy car mount ...</td>\n",
       "      <td>1468368000</td>\n",
       "      <td>None</td>\n",
       "      <td>None</td>\n",
       "    </tr>\n",
       "    <tr>\n",
       "      <th>760447</th>\n",
       "      <td>4</td>\n",
       "      <td>True</td>\n",
       "      <td>07 23, 2015</td>\n",
       "      <td>B009KY47CE</td>\n",
       "      <td>None</td>\n",
       "      <td>zzrnam11</td>\n",
       "      <td>This iphone case is very durable and long last...</td>\n",
       "      <td>I LOVE THIS</td>\n",
       "      <td>1437609600</td>\n",
       "      <td>None</td>\n",
       "      <td>None</td>\n",
       "    </tr>\n",
       "    <tr>\n",
       "      <th>760448</th>\n",
       "      <td>5</td>\n",
       "      <td>True</td>\n",
       "      <td>12 14, 2015</td>\n",
       "      <td>B00X60AYDY</td>\n",
       "      <td>{'Style:': ' 6-in-1 Silver'}</td>\n",
       "      <td>ACER</td>\n",
       "      <td>great</td>\n",
       "      <td>Five Stars</td>\n",
       "      <td>1450051200</td>\n",
       "      <td>None</td>\n",
       "      <td>None</td>\n",
       "    </tr>\n",
       "    <tr>\n",
       "      <th>760449</th>\n",
       "      <td>5</td>\n",
       "      <td>True</td>\n",
       "      <td>02 24, 2016</td>\n",
       "      <td>B00QLD3YTO</td>\n",
       "      <td>None</td>\n",
       "      <td>Toubi Chanthavong</td>\n",
       "      <td>So so, it did not look like the picture advert...</td>\n",
       "      <td>Front cam has hole.</td>\n",
       "      <td>1456272000</td>\n",
       "      <td>None</td>\n",
       "      <td>None</td>\n",
       "    </tr>\n",
       "  </tbody>\n",
       "</table>\n",
       "<p>760450 rows × 11 columns</p>\n",
       "</div>"
      ],
      "text/plain": [
       "        Rating  Rev_verify  Review_Date          IC  \\\n",
       "0            5        True   09 1, 2015  B009XD5TPQ   \n",
       "1            5        True   01 9, 2016  B016MF3P3K   \n",
       "2            5        True  04 21, 2013  B008DC8N5G   \n",
       "3            3        True  02 27, 2013  B0089CH3TM   \n",
       "4            4        True  12 19, 2013  B00AKZWGAC   \n",
       "...        ...         ...          ...         ...   \n",
       "760445       4       False  07 12, 2014  B00C3V9M8A   \n",
       "760446       5       False  07 13, 2016  B0178BYS24   \n",
       "760447       4        True  07 23, 2015  B009KY47CE   \n",
       "760448       5        True  12 14, 2015  B00X60AYDY   \n",
       "760449       5        True  02 24, 2016  B00QLD3YTO   \n",
       "\n",
       "                           Prod_meta      Reviewer_Name  \\\n",
       "0                               None     Sunny  Zoeller   \n",
       "1                               None      Denise Lesley   \n",
       "2                               None               Emir   \n",
       "3               {'Color:': ' Green'}              Alyse   \n",
       "4                               None            TechGuy   \n",
       "...                              ...                ...   \n",
       "760445                          None          momahjoub   \n",
       "760446                          None              Cindy   \n",
       "760447                          None           zzrnam11   \n",
       "760448  {'Style:': ' 6-in-1 Silver'}               ACER   \n",
       "760449                          None  Toubi Chanthavong   \n",
       "\n",
       "                                                   Review  \\\n",
       "0       Bought it for my husband. He's very happy with it   \n",
       "1       Great screen protector.  Doesn't even seem as ...   \n",
       "2       Saved me lots of money! it's not gorilla glass...   \n",
       "3       The material and fit is very nice, but the col...   \n",
       "4       This last me about 3 days till i have to charg...   \n",
       "...                                                   ...   \n",
       "760445                                          Very good   \n",
       "760446  My name is Cynthia Beard and I believe that th...   \n",
       "760447  This iphone case is very durable and long last...   \n",
       "760448                                              great   \n",
       "760449  So so, it did not look like the picture advert...   \n",
       "\n",
       "                                                 Rev_summ  Review_timestamp  \\\n",
       "0                                    He's very happy with        1441065600   \n",
       "1                                              Five Stars        1452297600   \n",
       "2                   As long as you know how to put it on!        1366502400   \n",
       "3                                       Good case overall        1361923200   \n",
       "4                                         Awesome Battery        1387411200   \n",
       "...                                                   ...               ...   \n",
       "760445                                         Four Stars        1405123200   \n",
       "760446  ... believe that the Samsung Galaxy car mount ...        1468368000   \n",
       "760447                                        I LOVE THIS        1437609600   \n",
       "760448                                         Five Stars        1450051200   \n",
       "760449                                Front cam has hole.        1456272000   \n",
       "\n",
       "       Useful Prod_img  \n",
       "0        None     None  \n",
       "1        None     None  \n",
       "2        None     None  \n",
       "3           3     None  \n",
       "4        None     None  \n",
       "...       ...      ...  \n",
       "760445   None     None  \n",
       "760446   None     None  \n",
       "760447   None     None  \n",
       "760448   None     None  \n",
       "760449   None     None  \n",
       "\n",
       "[760450 rows x 11 columns]"
      ]
     },
     "execution_count": 3,
     "metadata": {},
     "output_type": "execute_result"
    }
   ],
   "source": [
    "review"
   ]
  },
  {
   "cell_type": "code",
   "execution_count": 4,
   "metadata": {},
   "outputs": [
    {
     "data": {
      "text/plain": [
       "B00VH88CJ0    1127\n",
       "B005NF5NTK    1106\n",
       "B019PV2I3G    1033\n",
       "B00X5RV14Y    1018\n",
       "B00P7N0320    1011\n",
       "              ... \n",
       "B00EA0INQ4       1\n",
       "B00GM3LTFY       1\n",
       "B00PJMOMCQ       1\n",
       "B00OH6KQ02       1\n",
       "B008GXPI8W       1\n",
       "Name: IC, Length: 48134, dtype: int64"
      ]
     },
     "execution_count": 4,
     "metadata": {},
     "output_type": "execute_result"
    }
   ],
   "source": [
    "#viewing the counts of Item Code present in dataset\n",
    "review['IC'].value_counts()"
   ]
  },
  {
   "cell_type": "code",
   "execution_count": 7,
   "metadata": {},
   "outputs": [
    {
     "name": "stdout",
     "output_type": "stream",
     "text": [
      "Bought it for my husband. He's very happy with it\n",
      "Good product.  Does exactly what the description says it will do. I recommend buying this product.\n",
      "This is a very nice case for medium to larger smartphones.  My Droid Razor Maxx fits very nicely, the belt clip is strong spring steel, and the magnetic clasp holds very well for a magnetic design.\n",
      "Appears to be excellent product. Fits the phone very nicely even with the hard shell back I have on my phone. I like the fact it has a belt loop and well as the clip that slides over the belt. The loop ensures the case will not come off the belt yet you have the option of just using the clip when you have to quickly remove the phone.  Time will tell concerning the durability.  The price is hard to beat.\n",
      "Great fit for iPhone 5 with protective case on - yes you read correctly.  Needed a belt clip to hold iPhone 5 that has a thin protective case already on. This works perfectly. Price is very good too.\n",
      "The quality of this case feels nice and solid.\n",
      "My only complaint is that it's a little larger to support protective cases for the phone and since I don't use one there's a lot of extra room for my phone to move around in.\n",
      "Good phone \"holster\" with belt loops and clip.  Phone fits well and appearance is as described.\n",
      "[July 9, 2013] After I picked up \" Body Glove 9314201 DropSuit Rugged Case for Motorola Droid Razr Maxx HD - 1 Pack - Retail Packaging - Black\" from seller for 9.67USD, I realized it was awesome - but since the phone won't fit into this \"Hedocell\" case when the phone is in the body glove, I have not used this case pouch.\n",
      "\n",
      "CONtributing factor: it smelled \"to high heaven\" when I opened the package.  Today, more than a month later, the smell much less detectable, but for a few weeks....whew! Be prepared not to use it right away...\n",
      "\n",
      "I've kept it, and will try to 'stretch' it to fit my Razr Maxx HD with the body glove...it would be nice to have this on my belt.\n",
      "\n",
      "Update nearly a year later.  It still sits on a shelf.  The Body Glove has saved me several times, so that takes priority over having this case. I would not recommend you buy it if you are using something like Body Glove to protect your Razr Maxx.\n",
      "Better than I would expect, been using it daily for a few months with no issues.  So far it is holding up great. My Motorola Droid HD Maxx fits perfectly with a small protective cover on it.\n",
      "The case is as it was explained.  However, it does not have enough room to hold the Droid Razr Maxx HD with another cover on the phone.  I have and OtterBox on my phone now, but have ordered a smaller case.  Hopefully that cover will fit inside this holster.  I really do like the look of the holster.  One of the elastic bands on the side seems to be a tad loose, but time will tell how my new case fits inside this holster and how the holster holds up.  Thus far, I'm a fan.\n",
      "This case is quite durable. Excellent price. Arrived on time and in excellent condition. Goes on your belt loop. magnetic closer\n",
      "Happy husband\n"
     ]
    }
   ],
   "source": [
    "I_C = 'B009XD5TPQ'\n",
    "\n",
    "for val in review[review.IC == I_C].Review:\n",
    "    print(val)"
   ]
  },
  {
   "cell_type": "code",
   "execution_count": 8,
   "metadata": {},
   "outputs": [
    {
     "data": {
      "text/plain": [
       "Rating               int64\n",
       "Rev_verify            bool\n",
       "Review_Date         object\n",
       "IC                  object\n",
       "Prod_meta           object\n",
       "Reviewer_Name       object\n",
       "Review              object\n",
       "Rev_summ            object\n",
       "Review_timestamp     int64\n",
       "Useful              object\n",
       "Prod_img            object\n",
       "dtype: object"
      ]
     },
     "execution_count": 8,
     "metadata": {},
     "output_type": "execute_result"
    }
   ],
   "source": [
    "review.dtypes"
   ]
  },
  {
   "cell_type": "code",
   "execution_count": 9,
   "metadata": {},
   "outputs": [
    {
     "data": {
      "text/plain": [
       "(760450, 11)"
      ]
     },
     "execution_count": 9,
     "metadata": {},
     "output_type": "execute_result"
    }
   ],
   "source": [
    "review.shape"
   ]
  },
  {
   "cell_type": "code",
   "execution_count": 10,
   "metadata": {},
   "outputs": [
    {
     "data": {
      "text/plain": [
       "Rating                   0\n",
       "Rev_verify               0\n",
       "Review_Date              0\n",
       "IC                       0\n",
       "Prod_meta           352624\n",
       "Reviewer_Name           91\n",
       "Review                 530\n",
       "Rev_summ               355\n",
       "Review_timestamp         0\n",
       "Useful              698250\n",
       "Prod_img            742256\n",
       "dtype: int64"
      ]
     },
     "execution_count": 10,
     "metadata": {},
     "output_type": "execute_result"
    }
   ],
   "source": [
    "review.isnull().sum()"
   ]
  },
  {
   "cell_type": "code",
   "execution_count": 11,
   "metadata": {},
   "outputs": [],
   "source": [
    "import matplotlib.pyplot as plt\n",
    "import seaborn as sns"
   ]
  },
  {
   "cell_type": "code",
   "execution_count": 12,
   "metadata": {},
   "outputs": [
    {
     "data": {
      "text/plain": [
       "<matplotlib.axes._subplots.AxesSubplot at 0x2284272e7c8>"
      ]
     },
     "execution_count": 12,
     "metadata": {},
     "output_type": "execute_result"
    },
    {
     "data": {
      "image/png": "[encoded data removed]",
      "text/plain": [
       "<Figure size 432x288 with 2 Axes>"
      ]
     },
     "metadata": {
      "needs_background": "light"
     },
     "output_type": "display_data"
    }
   ],
   "source": [
    "sns.heatmap(review.isnull())"
   ]
  },
  {
   "cell_type": "code",
   "execution_count": 13,
   "metadata": {},
   "outputs": [],
   "source": [
    "reviews = review[review['Review'].notna()]"
   ]
  },
  {
   "cell_type": "code",
   "execution_count": 14,
   "metadata": {},
   "outputs": [
    {
     "data": {
      "text/plain": [
       "Rating                   0\n",
       "Rev_verify               0\n",
       "Review_Date              0\n",
       "IC                       0\n",
       "Prod_meta           352384\n",
       "Reviewer_Name           90\n",
       "Review                   0\n",
       "Rev_summ               318\n",
       "Review_timestamp         0\n",
       "Useful              697743\n",
       "Prod_img            741786\n",
       "dtype: int64"
      ]
     },
     "execution_count": 14,
     "metadata": {},
     "output_type": "execute_result"
    }
   ],
   "source": [
    "reviews.isnull().sum()"
   ]
  },
  {
   "cell_type": "code",
   "execution_count": 15,
   "metadata": {},
   "outputs": [],
   "source": [
    "reviews = reviews[reviews['Rev_summ'].notna()]"
   ]
  },
  {
   "cell_type": "code",
   "execution_count": 16,
   "metadata": {},
   "outputs": [
    {
     "data": {
      "text/plain": [
       "Rating                   0\n",
       "Rev_verify               0\n",
       "Review_Date              0\n",
       "IC                       0\n",
       "Prod_meta           352259\n",
       "Reviewer_Name           89\n",
       "Review                   0\n",
       "Rev_summ                 0\n",
       "Review_timestamp         0\n",
       "Useful              697443\n",
       "Prod_img            741480\n",
       "dtype: int64"
      ]
     },
     "execution_count": 16,
     "metadata": {},
     "output_type": "execute_result"
    }
   ],
   "source": [
    "reviews.isnull().sum()"
   ]
  },
  {
   "cell_type": "code",
   "execution_count": 17,
   "metadata": {},
   "outputs": [
    {
     "data": {
      "text/plain": [
       "(759602, 11)"
      ]
     },
     "execution_count": 17,
     "metadata": {},
     "output_type": "execute_result"
    }
   ],
   "source": [
    "reviews.shape"
   ]
  },
  {
   "cell_type": "code",
   "execution_count": 18,
   "metadata": {},
   "outputs": [
    {
     "data": {
      "text/html": [
       "<div>\n",
       "<style scoped>\n",
       "    .dataframe tbody tr th:only-of-type {\n",
       "        vertical-align: middle;\n",
       "    }\n",
       "\n",
       "    .dataframe tbody tr th {\n",
       "        vertical-align: top;\n",
       "    }\n",
       "\n",
       "    .dataframe thead th {\n",
       "        text-align: right;\n",
       "    }\n",
       "</style>\n",
       "<table border=\"1\" class=\"dataframe\">\n",
       "  <thead>\n",
       "    <tr style=\"text-align: right;\">\n",
       "      <th></th>\n",
       "      <th>Rating</th>\n",
       "      <th>IC</th>\n",
       "      <th>Review</th>\n",
       "      <th>Rev_summ</th>\n",
       "    </tr>\n",
       "  </thead>\n",
       "  <tbody>\n",
       "    <tr>\n",
       "      <th>0</th>\n",
       "      <td>5</td>\n",
       "      <td>B009XD5TPQ</td>\n",
       "      <td>Bought it for my husband. He's very happy with it</td>\n",
       "      <td>He's very happy with</td>\n",
       "    </tr>\n",
       "    <tr>\n",
       "      <th>1</th>\n",
       "      <td>5</td>\n",
       "      <td>B016MF3P3K</td>\n",
       "      <td>Great screen protector.  Doesn't even seem as ...</td>\n",
       "      <td>Five Stars</td>\n",
       "    </tr>\n",
       "    <tr>\n",
       "      <th>2</th>\n",
       "      <td>5</td>\n",
       "      <td>B008DC8N5G</td>\n",
       "      <td>Saved me lots of money! it's not gorilla glass...</td>\n",
       "      <td>As long as you know how to put it on!</td>\n",
       "    </tr>\n",
       "    <tr>\n",
       "      <th>3</th>\n",
       "      <td>3</td>\n",
       "      <td>B0089CH3TM</td>\n",
       "      <td>The material and fit is very nice, but the col...</td>\n",
       "      <td>Good case overall</td>\n",
       "    </tr>\n",
       "    <tr>\n",
       "      <th>4</th>\n",
       "      <td>4</td>\n",
       "      <td>B00AKZWGAC</td>\n",
       "      <td>This last me about 3 days till i have to charg...</td>\n",
       "      <td>Awesome Battery</td>\n",
       "    </tr>\n",
       "    <tr>\n",
       "      <th>...</th>\n",
       "      <td>...</td>\n",
       "      <td>...</td>\n",
       "      <td>...</td>\n",
       "      <td>...</td>\n",
       "    </tr>\n",
       "    <tr>\n",
       "      <th>760445</th>\n",
       "      <td>4</td>\n",
       "      <td>B00C3V9M8A</td>\n",
       "      <td>Very good</td>\n",
       "      <td>Four Stars</td>\n",
       "    </tr>\n",
       "    <tr>\n",
       "      <th>760446</th>\n",
       "      <td>5</td>\n",
       "      <td>B0178BYS24</td>\n",
       "      <td>My name is Cynthia Beard and I believe that th...</td>\n",
       "      <td>... believe that the Samsung Galaxy car mount ...</td>\n",
       "    </tr>\n",
       "    <tr>\n",
       "      <th>760447</th>\n",
       "      <td>4</td>\n",
       "      <td>B009KY47CE</td>\n",
       "      <td>This iphone case is very durable and long last...</td>\n",
       "      <td>I LOVE THIS</td>\n",
       "    </tr>\n",
       "    <tr>\n",
       "      <th>760448</th>\n",
       "      <td>5</td>\n",
       "      <td>B00X60AYDY</td>\n",
       "      <td>great</td>\n",
       "      <td>Five Stars</td>\n",
       "    </tr>\n",
       "    <tr>\n",
       "      <th>760449</th>\n",
       "      <td>5</td>\n",
       "      <td>B00QLD3YTO</td>\n",
       "      <td>So so, it did not look like the picture advert...</td>\n",
       "      <td>Front cam has hole.</td>\n",
       "    </tr>\n",
       "  </tbody>\n",
       "</table>\n",
       "<p>759602 rows × 4 columns</p>\n",
       "</div>"
      ],
      "text/plain": [
       "        Rating          IC                                             Review  \\\n",
       "0            5  B009XD5TPQ  Bought it for my husband. He's very happy with it   \n",
       "1            5  B016MF3P3K  Great screen protector.  Doesn't even seem as ...   \n",
       "2            5  B008DC8N5G  Saved me lots of money! it's not gorilla glass...   \n",
       "3            3  B0089CH3TM  The material and fit is very nice, but the col...   \n",
       "4            4  B00AKZWGAC  This last me about 3 days till i have to charg...   \n",
       "...        ...         ...                                                ...   \n",
       "760445       4  B00C3V9M8A                                          Very good   \n",
       "760446       5  B0178BYS24  My name is Cynthia Beard and I believe that th...   \n",
       "760447       4  B009KY47CE  This iphone case is very durable and long last...   \n",
       "760448       5  B00X60AYDY                                              great   \n",
       "760449       5  B00QLD3YTO  So so, it did not look like the picture advert...   \n",
       "\n",
       "                                                 Rev_summ  \n",
       "0                                    He's very happy with  \n",
       "1                                              Five Stars  \n",
       "2                   As long as you know how to put it on!  \n",
       "3                                       Good case overall  \n",
       "4                                         Awesome Battery  \n",
       "...                                                   ...  \n",
       "760445                                         Four Stars  \n",
       "760446  ... believe that the Samsung Galaxy car mount ...  \n",
       "760447                                        I LOVE THIS  \n",
       "760448                                         Five Stars  \n",
       "760449                                Front cam has hole.  \n",
       "\n",
       "[759602 rows x 4 columns]"
      ]
     },
     "execution_count": 18,
     "metadata": {},
     "output_type": "execute_result"
    }
   ],
   "source": [
    "reviews.drop(['Reviewer_Name','Review_Date','Prod_meta','Review_timestamp','Useful','Prod_img','Rev_verify'], axis = 1)"
   ]
  },
  {
   "cell_type": "code",
   "execution_count": 19,
   "metadata": {},
   "outputs": [],
   "source": [
    "import nltk\n",
    "import string\n",
    "from nltk.corpus import stopwords\n",
    "from nltk.corpus import wordnet\n",
    "import re"
   ]
  },
  {
   "cell_type": "code",
   "execution_count": 20,
   "metadata": {},
   "outputs": [
    {
     "name": "stdout",
     "output_type": "stream",
     "text": [
      "Review # 1\n",
      "He's very happy with\n",
      "Bought it for my husband. He's very happy with it\n",
      "\n",
      "Review # 2\n",
      "Five Stars\n",
      "Great screen protector.  Doesn't even seem as though it's on there\n",
      "\n",
      "Review # 3\n",
      "As long as you know how to put it on!\n",
      "Saved me lots of money! it's not gorilla glass, so be careful as it will be subject to easier scratching. it also doesn't have sticky stuff on the glass like the original. If you press hard on the glass, the digitizer will go crazy. Just shut the screen on and off, and you'll be fine.\n",
      "\n",
      "Review # 4\n",
      "Good case overall\n",
      "The material and fit is very nice, but the color is more of a neon green than I expected or would have liked.\n",
      "\n",
      "Review # 5\n",
      "Awesome Battery\n",
      "This last me about 3 days till i have to charge it. It does take FOREVER to charge so make sure you plug it in early at night so it will be fully charged in the morning. Sometimes I will get home late (1AM) and when i wake up (10AM) 9 hours It will still be charging, only at 70-80%. And it will take another 2 to be fully charged. But if i have to go somewhere after i wake up it won't be fully charged.\n",
      "Anyways, great battery if you have the time to fully charge it.\n",
      "\n"
     ]
    }
   ],
   "source": [
    "# Inspecting some of the reviews\n",
    "for i in range(5):\n",
    "    print(\"Review #\",i+1)\n",
    "    print(reviews.Rev_summ[i])\n",
    "    print(reviews.Review[i])\n",
    "    print()"
   ]
  },
  {
   "cell_type": "code",
   "execution_count": 21,
   "metadata": {},
   "outputs": [],
   "source": [
    "stop_words = stopwords.words('english')\n",
    "punct =string.punctuation"
   ]
  },
  {
   "cell_type": "code",
   "execution_count": 22,
   "metadata": {},
   "outputs": [],
   "source": [
    "def clean_text(text, remove_stopwords = True):\n",
    "    '''Remove unwanted characters, stopwords, and format the text to create fewer nulls word embeddings'''\n",
    "    \n",
    "    # Convert words to lower case\n",
    "    text = text.lower()\n",
    "    \n",
    "    # Format words and remove unwanted characters\n",
    "    text = re.sub(r'https?:\\/\\/.*[\\r\\n]*', '', text, flags=re.MULTILINE)\n",
    "    text = re.sub(r'\\<a href', ' ', text)\n",
    "    text = re.sub(r'&amp;', '', text) \n",
    "    text = re.sub(r'[_\"\\-;%()|+&=*%.,!?:#$@\\[\\]/]', ' ', text)\n",
    "    text = re.sub(r'<br />', ' ', text)\n",
    "    text = re.sub(r'\\'', ' ', text)\n",
    "    \n",
    "    # Optionally, remove stop words\n",
    "    if remove_stopwords:\n",
    "        text = text.split()\n",
    "        stops = set(stopwords.words(\"english\"))\n",
    "        text = [w for w in text if not w in stops]\n",
    "        text = \" \".join(text)\n",
    "\n",
    "    return text"
   ]
  },
  {
   "cell_type": "code",
   "execution_count": 23,
   "metadata": {},
   "outputs": [
    {
     "name": "stdout",
     "output_type": "stream",
     "text": [
      "Summaries are complete.\n",
      "Texts are complete.\n"
     ]
    }
   ],
   "source": [
    "# Clean the summaries and texts\n",
    "clean_summaries = []\n",
    "for summary in reviews.Rev_summ:\n",
    "    clean_summaries.append(clean_text(summary, remove_stopwords=False))\n",
    "print(\"Summaries are complete.\")\n",
    "\n",
    "clean_texts = []\n",
    "for text in reviews.Review:\n",
    "    clean_texts.append(clean_text(text))\n",
    "print(\"Texts are complete.\")"
   ]
  },
  {
   "cell_type": "code",
   "execution_count": 24,
   "metadata": {},
   "outputs": [
    {
     "name": "stdout",
     "output_type": "stream",
     "text": [
      "Clean Review # 1\n",
      "he s very happy with\n",
      "bought husband happy\n",
      "\n",
      "Clean Review # 2\n",
      "five stars\n",
      "great screen protector even seem though\n",
      "\n",
      "Clean Review # 3\n",
      "as long as you know how to put it on \n",
      "saved lots money gorilla glass careful subject easier scratching also sticky stuff glass like original press hard glass digitizer go crazy shut screen fine\n",
      "\n",
      "Clean Review # 4\n",
      "good case overall\n",
      "material fit nice color neon green expected would liked\n",
      "\n",
      "Clean Review # 5\n",
      "awesome battery\n",
      "last 3 days till charge take forever charge make sure plug early night fully charged morning sometimes get home late 1am wake 10am 9 hours still charging 70 80 take another 2 fully charged go somewhere wake fully charged anyways great battery time fully charge\n",
      "\n"
     ]
    }
   ],
   "source": [
    "for i in range(5):\n",
    "    print(\"Clean Review #\",i+1)\n",
    "    print(clean_summaries[i])\n",
    "    print(clean_texts[i])\n",
    "    print()"
   ]
  },
  {
   "cell_type": "code",
   "execution_count": 26,
   "metadata": {},
   "outputs": [],
   "source": [
    "from collections import defaultdict\n",
    "from nltk import word_tokenize\n",
    "from nltk.corpus import sentiwordnet as swn\n",
    "from nltk.corpus import wordnet as wn\n",
    "from nltk.stem.porter import PorterStemmer\n",
    "from nltk import sentiment"
   ]
  },
  {
   "cell_type": "code",
   "execution_count": 27,
   "metadata": {},
   "outputs": [],
   "source": [
    "def get_tf_idf_transform(tokenized_reviews, tdm, n_reviews):\n",
    "    tf_idf = []        \n",
    "    all_terms = get_all_terms(tokenized_reviews)    \n",
    "    terms_dft = get_all_terms_dft(tokenized_reviews, all_terms)\n",
    "    \n",
    "    for review in tdm:\n",
    "        review_tf_idf = defaultdict(int)\n",
    "        for k,v in review.items():\n",
    "            review_tf_idf[k] = v * math.log(n_reviews / terms_dft[k], 2)\n",
    "        \n",
    "        tf_idf.append(review_tf_idf)     \n",
    "    \n",
    "    return tf_idf\n",
    "\n",
    "\n",
    "def get_idf_transform(tokenized_reviews, tdm, n_reviews):\n",
    "    idf = []    \n",
    "    terms_dft = defaultdict(int)    \n",
    "    \n",
    "    all_terms = get_all_terms(tokenized_reviews)\n",
    "    \n",
    "    for term in all_terms: \n",
    "        for review in tokenized_reviews:\n",
    "            if term in review:\n",
    "                terms_dft[term] += 1\n",
    "    \n",
    "    for review in tdm:\n",
    "        review_idf = defaultdict(int)\n",
    "        for k,v in review.items():\n",
    "            review_idf[k] = math.log(n_reviews / terms_dft[k], 2)\n",
    "        \n",
    "        idf.append(review_idf)     \n",
    "    \n",
    "    return idf\n",
    "\n",
    "\n",
    "def correction(x):\n",
    "    ok_words = [\"microsd\"]\n",
    "    \n",
    "    if x.find(\"_NEG\") == -1 and x not in ok_words: # Don't correct if they are negated words or exceptions\n",
    "        return spell(x)\n",
    "    else:\n",
    "        return x\n",
    "\n",
    "def get_synonym(word):\n",
    "    synonyms = [[\"camera\",\"video\", \"display\"], \n",
    "                [\"phone\", \"cellphone\", \"smartphone\", \"phones\"],\n",
    "               [\"setting\", \"settings\"],\n",
    "               [\"feature\", \"features\"],\n",
    "               [\"pictures\", \"photos\"],\n",
    "               [\"speakers\", \"speaker\"]]\n",
    "    synonyms_parent = [\"camera\", \"phone\", \"settings\", \"features\", \"photos\", \"speakers\"]\n",
    "    \n",
    "    for i in range(len(synonyms)):\n",
    "        if word in synonyms[i]:\n",
    "            return synonyms_parent[i]\n",
    "    \n",
    "    return word\n",
    "\n",
    "\n",
    "def get_similarity_matrix(similarity, tokenized_reviews):\n",
    "    similarity_matrix = []\n",
    "    all_terms = get_all_terms(tokenized_reviews)\n",
    "    \n",
    "    for review in similarity:\n",
    "        similarity_matrix_row = []\n",
    "        for term in all_terms:\n",
    "            similarity_matrix_row.append(review[term])\n",
    "            \n",
    "        similarity_matrix.append(similarity_matrix_row)\n",
    "            \n",
    "    return similarity_matrix"
   ]
  },
  {
   "cell_type": "code",
   "execution_count": 29,
   "metadata": {},
   "outputs": [],
   "source": [
    "import timeit"
   ]
  },
  {
   "cell_type": "code",
   "execution_count": 30,
   "metadata": {},
   "outputs": [
    {
     "ename": "NameError",
     "evalue": "name 'get_tokens' is not defined",
     "output_type": "error",
     "traceback": [
      "\u001b[1;31m---------------------------------------------------------------------------\u001b[0m",
      "\u001b[1;31mNameError\u001b[0m                                 Traceback (most recent call last)",
      "\u001b[1;32m<ipython-input-30-64ec24d5a8e5>\u001b[0m in \u001b[0;36m<module>\u001b[1;34m\u001b[0m\n\u001b[0;32m      1\u001b[0m \u001b[0mtic\u001b[0m\u001b[1;33m=\u001b[0m\u001b[0mtimeit\u001b[0m\u001b[1;33m.\u001b[0m\u001b[0mdefault_timer\u001b[0m\u001b[1;33m(\u001b[0m\u001b[1;33m)\u001b[0m\u001b[1;33m\u001b[0m\u001b[1;33m\u001b[0m\u001b[0m\n\u001b[0;32m      2\u001b[0m \u001b[1;33m\u001b[0m\u001b[0m\n\u001b[1;32m----> 3\u001b[1;33m \u001b[0mtokenized_reviews\u001b[0m \u001b[1;33m=\u001b[0m \u001b[0mget_tokens\u001b[0m\u001b[1;33m(\u001b[0m\u001b[0mdf\u001b[0m\u001b[1;33m,\u001b[0m \u001b[0mstem\u001b[0m \u001b[1;33m=\u001b[0m \u001b[1;32mFalse\u001b[0m\u001b[1;33m,\u001b[0m \u001b[0mnegation\u001b[0m \u001b[1;33m=\u001b[0m \u001b[1;32mFalse\u001b[0m\u001b[1;33m)\u001b[0m\u001b[1;33m\u001b[0m\u001b[1;33m\u001b[0m\u001b[0m\n\u001b[0m\u001b[0;32m      4\u001b[0m \u001b[0mtokenized_pos\u001b[0m \u001b[1;33m=\u001b[0m \u001b[0mget_pos\u001b[0m\u001b[1;33m(\u001b[0m\u001b[0mtokenized_reviews\u001b[0m\u001b[1;33m)\u001b[0m\u001b[1;33m\u001b[0m\u001b[1;33m\u001b[0m\u001b[0m\n\u001b[0;32m      5\u001b[0m \u001b[0mtdm\u001b[0m \u001b[1;33m=\u001b[0m \u001b[0mget_tdm\u001b[0m\u001b[1;33m(\u001b[0m\u001b[0mtokenized_reviews\u001b[0m\u001b[1;33m)\u001b[0m\u001b[1;33m\u001b[0m\u001b[1;33m\u001b[0m\u001b[0m\n",
      "\u001b[1;31mNameError\u001b[0m: name 'get_tokens' is not defined"
     ]
    }
   ],
   "source": [
    "tic=timeit.default_timer()\n",
    "\n",
    "tokenized_reviews = get_tokens(df, stem = False, negation = False)\n",
    "tokenized_pos = get_pos(tokenized_reviews)\n",
    "tdm = get_tdm(tokenized_reviews)\n",
    "vsm = normalize_tdm(tdm)\n",
    "tf_idf = get_tf_idf_transform(tokenized_reviews, tdm, n_reviews)\n",
    "\n",
    "toc=timeit.default_timer()\n",
    "\n",
    "print(\"minutes: \", (toc - tic)/60)"
   ]
  },
  {
   "cell_type": "code",
   "execution_count": null,
   "metadata": {},
   "outputs": [],
   "source": []
  },
  {
   "cell_type": "code",
   "execution_count": null,
   "metadata": {},
   "outputs": [],
   "source": []
  }
 ],
 "metadata": {
  "kernelspec": {
   "display_name": "Python 3",
   "language": "python",
   "name": "python3"
  },
  "language_info": {
   "codemirror_mode": {
    "name": "ipython",
    "version": 3
   },
   "file_extension": ".py",
   "mimetype": "text/x-python",
   "name": "python",
   "nbconvert_exporter": "python",
   "pygments_lexer": "ipython3",
   "version": "3.7.6"
  }
 },
 "nbformat": 4,
 "nbformat_minor": 4
}
