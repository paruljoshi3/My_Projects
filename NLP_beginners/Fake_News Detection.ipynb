{
 "cells": [
  {
   "cell_type": "code",
   "execution_count": 1,
   "metadata": {},
   "outputs": [],
   "source": [
    "#importing necessary liabraries\n",
    "import numpy as np\n",
    "import pandas as pd\n",
    "import warnings\n",
    "warnings.filterwarnings('ignore')"
   ]
  },
  {
   "cell_type": "code",
   "execution_count": 2,
   "metadata": {},
   "outputs": [
    {
     "data": {
      "text/html": [
       "<div>\n",
       "<style scoped>\n",
       "    .dataframe tbody tr th:only-of-type {\n",
       "        vertical-align: middle;\n",
       "    }\n",
       "\n",
       "    .dataframe tbody tr th {\n",
       "        vertical-align: top;\n",
       "    }\n",
       "\n",
       "    .dataframe thead th {\n",
       "        text-align: right;\n",
       "    }\n",
       "</style>\n",
       "<table border=\"1\" class=\"dataframe\">\n",
       "  <thead>\n",
       "    <tr style=\"text-align: right;\">\n",
       "      <th></th>\n",
       "      <th>Unnamed: 0</th>\n",
       "      <th>id</th>\n",
       "      <th>headline</th>\n",
       "      <th>written_by</th>\n",
       "      <th>news</th>\n",
       "      <th>label</th>\n",
       "    </tr>\n",
       "  </thead>\n",
       "  <tbody>\n",
       "    <tr>\n",
       "      <th>0</th>\n",
       "      <td>0</td>\n",
       "      <td>9653</td>\n",
       "      <td>Ethics Questions Dogged Agriculture Nominee as...</td>\n",
       "      <td>Eric Lipton and Steve Eder</td>\n",
       "      <td>WASHINGTON  —   In Sonny Perdue’s telling, Geo...</td>\n",
       "      <td>0</td>\n",
       "    </tr>\n",
       "    <tr>\n",
       "      <th>1</th>\n",
       "      <td>1</td>\n",
       "      <td>10041</td>\n",
       "      <td>U.S. Must Dig Deep to Stop Argentina’s Lionel ...</td>\n",
       "      <td>David Waldstein</td>\n",
       "      <td>HOUSTON  —   Venezuela had a plan. It was a ta...</td>\n",
       "      <td>0</td>\n",
       "    </tr>\n",
       "    <tr>\n",
       "      <th>2</th>\n",
       "      <td>2</td>\n",
       "      <td>19113</td>\n",
       "      <td>Cotton to House: ’Do Not Walk the Plank and Vo...</td>\n",
       "      <td>Pam Key</td>\n",
       "      <td>Sunday on ABC’s “This Week,” while discussing ...</td>\n",
       "      <td>0</td>\n",
       "    </tr>\n",
       "    <tr>\n",
       "      <th>3</th>\n",
       "      <td>3</td>\n",
       "      <td>6868</td>\n",
       "      <td>Paul LePage, Besieged Maine Governor, Sends Co...</td>\n",
       "      <td>Jess Bidgood</td>\n",
       "      <td>AUGUSTA, Me.  —   The beleaguered Republican g...</td>\n",
       "      <td>0</td>\n",
       "    </tr>\n",
       "    <tr>\n",
       "      <th>4</th>\n",
       "      <td>4</td>\n",
       "      <td>7596</td>\n",
       "      <td>A Digital 9/11 If Trump Wins</td>\n",
       "      <td>Finian Cunningham</td>\n",
       "      <td>Finian Cunningham has written extensively on...</td>\n",
       "      <td>1</td>\n",
       "    </tr>\n",
       "    <tr>\n",
       "      <th>...</th>\n",
       "      <td>...</td>\n",
       "      <td>...</td>\n",
       "      <td>...</td>\n",
       "      <td>...</td>\n",
       "      <td>...</td>\n",
       "      <td>...</td>\n",
       "    </tr>\n",
       "    <tr>\n",
       "      <th>20795</th>\n",
       "      <td>20795</td>\n",
       "      <td>5671</td>\n",
       "      <td>NaN</td>\n",
       "      <td>NeverSurrender</td>\n",
       "      <td>No, you'll be a dog licking of the vomit of yo...</td>\n",
       "      <td>1</td>\n",
       "    </tr>\n",
       "    <tr>\n",
       "      <th>20796</th>\n",
       "      <td>20796</td>\n",
       "      <td>14831</td>\n",
       "      <td>Albert Pike and the European Migrant Crisis</td>\n",
       "      <td>Rixon Stewart</td>\n",
       "      <td>By Rixon Stewart on November 5, 2016 Rixon Ste...</td>\n",
       "      <td>1</td>\n",
       "    </tr>\n",
       "    <tr>\n",
       "      <th>20797</th>\n",
       "      <td>20797</td>\n",
       "      <td>18142</td>\n",
       "      <td>Dakota Access Caught Infiltrating Protests to ...</td>\n",
       "      <td>Eddy Lavine</td>\n",
       "      <td>posted by Eddie You know the Dakota Access Pip...</td>\n",
       "      <td>1</td>\n",
       "    </tr>\n",
       "    <tr>\n",
       "      <th>20798</th>\n",
       "      <td>20798</td>\n",
       "      <td>12139</td>\n",
       "      <td>How to Stretch the Summer Solstice - The New Y...</td>\n",
       "      <td>Alison S. Cohn</td>\n",
       "      <td>It’s officially summer, and the Society Boutiq...</td>\n",
       "      <td>0</td>\n",
       "    </tr>\n",
       "    <tr>\n",
       "      <th>20799</th>\n",
       "      <td>20799</td>\n",
       "      <td>15660</td>\n",
       "      <td>Emory University to Pay for ’100 Percent’ of U...</td>\n",
       "      <td>Tom Ciccotta</td>\n",
       "      <td>Emory University in Atlanta, Georgia, has anno...</td>\n",
       "      <td>0</td>\n",
       "    </tr>\n",
       "  </tbody>\n",
       "</table>\n",
       "<p>20800 rows × 6 columns</p>\n",
       "</div>"
      ],
      "text/plain": [
       "       Unnamed: 0     id                                           headline  \\\n",
       "0               0   9653  Ethics Questions Dogged Agriculture Nominee as...   \n",
       "1               1  10041  U.S. Must Dig Deep to Stop Argentina’s Lionel ...   \n",
       "2               2  19113  Cotton to House: ’Do Not Walk the Plank and Vo...   \n",
       "3               3   6868  Paul LePage, Besieged Maine Governor, Sends Co...   \n",
       "4               4   7596                       A Digital 9/11 If Trump Wins   \n",
       "...           ...    ...                                                ...   \n",
       "20795       20795   5671                                                NaN   \n",
       "20796       20796  14831        Albert Pike and the European Migrant Crisis   \n",
       "20797       20797  18142  Dakota Access Caught Infiltrating Protests to ...   \n",
       "20798       20798  12139  How to Stretch the Summer Solstice - The New Y...   \n",
       "20799       20799  15660  Emory University to Pay for ’100 Percent’ of U...   \n",
       "\n",
       "                       written_by  \\\n",
       "0      Eric Lipton and Steve Eder   \n",
       "1                 David Waldstein   \n",
       "2                         Pam Key   \n",
       "3                    Jess Bidgood   \n",
       "4               Finian Cunningham   \n",
       "...                           ...   \n",
       "20795              NeverSurrender   \n",
       "20796               Rixon Stewart   \n",
       "20797                 Eddy Lavine   \n",
       "20798              Alison S. Cohn   \n",
       "20799                Tom Ciccotta   \n",
       "\n",
       "                                                    news  label  \n",
       "0      WASHINGTON  —   In Sonny Perdue’s telling, Geo...      0  \n",
       "1      HOUSTON  —   Venezuela had a plan. It was a ta...      0  \n",
       "2      Sunday on ABC’s “This Week,” while discussing ...      0  \n",
       "3      AUGUSTA, Me.  —   The beleaguered Republican g...      0  \n",
       "4        Finian Cunningham has written extensively on...      1  \n",
       "...                                                  ...    ...  \n",
       "20795  No, you'll be a dog licking of the vomit of yo...      1  \n",
       "20796  By Rixon Stewart on November 5, 2016 Rixon Ste...      1  \n",
       "20797  posted by Eddie You know the Dakota Access Pip...      1  \n",
       "20798  It’s officially summer, and the Society Boutiq...      0  \n",
       "20799  Emory University in Atlanta, Georgia, has anno...      0  \n",
       "\n",
       "[20800 rows x 6 columns]"
      ]
     },
     "execution_count": 2,
     "metadata": {},
     "output_type": "execute_result"
    }
   ],
   "source": [
    "#importing the csv file\n",
    "fake_news=pd.read_csv(r\"D:\\Fake news project\\train_news.csv\")\n",
    "fake_news"
   ]
  },
  {
   "cell_type": "code",
   "execution_count": 3,
   "metadata": {},
   "outputs": [
    {
     "name": "stdout",
     "output_type": "stream",
     "text": [
      "<class 'pandas.core.series.Series'>\n"
     ]
    }
   ],
   "source": [
    "#getting labels\n",
    "print(type(fake_news['label'])) "
   ]
  },
  {
   "cell_type": "code",
   "execution_count": 4,
   "metadata": {},
   "outputs": [],
   "source": [
    "#converting the label column into object for better working and understanding\n",
    "fake_news['label']=fake_news.label.replace(to_replace=[0, 1], value=['Real','Fake'])"
   ]
  },
  {
   "cell_type": "code",
   "execution_count": 5,
   "metadata": {},
   "outputs": [
    {
     "data": {
      "text/html": [
       "<div>\n",
       "<style scoped>\n",
       "    .dataframe tbody tr th:only-of-type {\n",
       "        vertical-align: middle;\n",
       "    }\n",
       "\n",
       "    .dataframe tbody tr th {\n",
       "        vertical-align: top;\n",
       "    }\n",
       "\n",
       "    .dataframe thead th {\n",
       "        text-align: right;\n",
       "    }\n",
       "</style>\n",
       "<table border=\"1\" class=\"dataframe\">\n",
       "  <thead>\n",
       "    <tr style=\"text-align: right;\">\n",
       "      <th></th>\n",
       "      <th>Unnamed: 0</th>\n",
       "      <th>id</th>\n",
       "      <th>headline</th>\n",
       "      <th>written_by</th>\n",
       "      <th>news</th>\n",
       "      <th>label</th>\n",
       "    </tr>\n",
       "  </thead>\n",
       "  <tbody>\n",
       "    <tr>\n",
       "      <th>0</th>\n",
       "      <td>0</td>\n",
       "      <td>9653</td>\n",
       "      <td>Ethics Questions Dogged Agriculture Nominee as...</td>\n",
       "      <td>Eric Lipton and Steve Eder</td>\n",
       "      <td>WASHINGTON  —   In Sonny Perdue’s telling, Geo...</td>\n",
       "      <td>Real</td>\n",
       "    </tr>\n",
       "    <tr>\n",
       "      <th>1</th>\n",
       "      <td>1</td>\n",
       "      <td>10041</td>\n",
       "      <td>U.S. Must Dig Deep to Stop Argentina’s Lionel ...</td>\n",
       "      <td>David Waldstein</td>\n",
       "      <td>HOUSTON  —   Venezuela had a plan. It was a ta...</td>\n",
       "      <td>Real</td>\n",
       "    </tr>\n",
       "    <tr>\n",
       "      <th>2</th>\n",
       "      <td>2</td>\n",
       "      <td>19113</td>\n",
       "      <td>Cotton to House: ’Do Not Walk the Plank and Vo...</td>\n",
       "      <td>Pam Key</td>\n",
       "      <td>Sunday on ABC’s “This Week,” while discussing ...</td>\n",
       "      <td>Real</td>\n",
       "    </tr>\n",
       "    <tr>\n",
       "      <th>3</th>\n",
       "      <td>3</td>\n",
       "      <td>6868</td>\n",
       "      <td>Paul LePage, Besieged Maine Governor, Sends Co...</td>\n",
       "      <td>Jess Bidgood</td>\n",
       "      <td>AUGUSTA, Me.  —   The beleaguered Republican g...</td>\n",
       "      <td>Real</td>\n",
       "    </tr>\n",
       "    <tr>\n",
       "      <th>4</th>\n",
       "      <td>4</td>\n",
       "      <td>7596</td>\n",
       "      <td>A Digital 9/11 If Trump Wins</td>\n",
       "      <td>Finian Cunningham</td>\n",
       "      <td>Finian Cunningham has written extensively on...</td>\n",
       "      <td>Fake</td>\n",
       "    </tr>\n",
       "    <tr>\n",
       "      <th>...</th>\n",
       "      <td>...</td>\n",
       "      <td>...</td>\n",
       "      <td>...</td>\n",
       "      <td>...</td>\n",
       "      <td>...</td>\n",
       "      <td>...</td>\n",
       "    </tr>\n",
       "    <tr>\n",
       "      <th>20795</th>\n",
       "      <td>20795</td>\n",
       "      <td>5671</td>\n",
       "      <td>NaN</td>\n",
       "      <td>NeverSurrender</td>\n",
       "      <td>No, you'll be a dog licking of the vomit of yo...</td>\n",
       "      <td>Fake</td>\n",
       "    </tr>\n",
       "    <tr>\n",
       "      <th>20796</th>\n",
       "      <td>20796</td>\n",
       "      <td>14831</td>\n",
       "      <td>Albert Pike and the European Migrant Crisis</td>\n",
       "      <td>Rixon Stewart</td>\n",
       "      <td>By Rixon Stewart on November 5, 2016 Rixon Ste...</td>\n",
       "      <td>Fake</td>\n",
       "    </tr>\n",
       "    <tr>\n",
       "      <th>20797</th>\n",
       "      <td>20797</td>\n",
       "      <td>18142</td>\n",
       "      <td>Dakota Access Caught Infiltrating Protests to ...</td>\n",
       "      <td>Eddy Lavine</td>\n",
       "      <td>posted by Eddie You know the Dakota Access Pip...</td>\n",
       "      <td>Fake</td>\n",
       "    </tr>\n",
       "    <tr>\n",
       "      <th>20798</th>\n",
       "      <td>20798</td>\n",
       "      <td>12139</td>\n",
       "      <td>How to Stretch the Summer Solstice - The New Y...</td>\n",
       "      <td>Alison S. Cohn</td>\n",
       "      <td>It’s officially summer, and the Society Boutiq...</td>\n",
       "      <td>Real</td>\n",
       "    </tr>\n",
       "    <tr>\n",
       "      <th>20799</th>\n",
       "      <td>20799</td>\n",
       "      <td>15660</td>\n",
       "      <td>Emory University to Pay for ’100 Percent’ of U...</td>\n",
       "      <td>Tom Ciccotta</td>\n",
       "      <td>Emory University in Atlanta, Georgia, has anno...</td>\n",
       "      <td>Real</td>\n",
       "    </tr>\n",
       "  </tbody>\n",
       "</table>\n",
       "<p>20800 rows × 6 columns</p>\n",
       "</div>"
      ],
      "text/plain": [
       "       Unnamed: 0     id                                           headline  \\\n",
       "0               0   9653  Ethics Questions Dogged Agriculture Nominee as...   \n",
       "1               1  10041  U.S. Must Dig Deep to Stop Argentina’s Lionel ...   \n",
       "2               2  19113  Cotton to House: ’Do Not Walk the Plank and Vo...   \n",
       "3               3   6868  Paul LePage, Besieged Maine Governor, Sends Co...   \n",
       "4               4   7596                       A Digital 9/11 If Trump Wins   \n",
       "...           ...    ...                                                ...   \n",
       "20795       20795   5671                                                NaN   \n",
       "20796       20796  14831        Albert Pike and the European Migrant Crisis   \n",
       "20797       20797  18142  Dakota Access Caught Infiltrating Protests to ...   \n",
       "20798       20798  12139  How to Stretch the Summer Solstice - The New Y...   \n",
       "20799       20799  15660  Emory University to Pay for ’100 Percent’ of U...   \n",
       "\n",
       "                       written_by  \\\n",
       "0      Eric Lipton and Steve Eder   \n",
       "1                 David Waldstein   \n",
       "2                         Pam Key   \n",
       "3                    Jess Bidgood   \n",
       "4               Finian Cunningham   \n",
       "...                           ...   \n",
       "20795              NeverSurrender   \n",
       "20796               Rixon Stewart   \n",
       "20797                 Eddy Lavine   \n",
       "20798              Alison S. Cohn   \n",
       "20799                Tom Ciccotta   \n",
       "\n",
       "                                                    news label  \n",
       "0      WASHINGTON  —   In Sonny Perdue’s telling, Geo...  Real  \n",
       "1      HOUSTON  —   Venezuela had a plan. It was a ta...  Real  \n",
       "2      Sunday on ABC’s “This Week,” while discussing ...  Real  \n",
       "3      AUGUSTA, Me.  —   The beleaguered Republican g...  Real  \n",
       "4        Finian Cunningham has written extensively on...  Fake  \n",
       "...                                                  ...   ...  \n",
       "20795  No, you'll be a dog licking of the vomit of yo...  Fake  \n",
       "20796  By Rixon Stewart on November 5, 2016 Rixon Ste...  Fake  \n",
       "20797  posted by Eddie You know the Dakota Access Pip...  Fake  \n",
       "20798  It’s officially summer, and the Society Boutiq...  Real  \n",
       "20799  Emory University in Atlanta, Georgia, has anno...  Real  \n",
       "\n",
       "[20800 rows x 6 columns]"
      ]
     },
     "execution_count": 5,
     "metadata": {},
     "output_type": "execute_result"
    }
   ],
   "source": [
    "fake_news"
   ]
  },
  {
   "cell_type": "code",
   "execution_count": 6,
   "metadata": {},
   "outputs": [],
   "source": [
    "#Drop unecessary columns\n",
    "fake_news.drop([\"Unnamed: 0\",\"id\",\"written_by\"],axis=1,inplace=True)"
   ]
  },
  {
   "cell_type": "code",
   "execution_count": 7,
   "metadata": {},
   "outputs": [
    {
     "data": {
      "text/plain": [
       "headline    558\n",
       "news         39\n",
       "label         0\n",
       "dtype: int64"
      ]
     },
     "execution_count": 7,
     "metadata": {},
     "output_type": "execute_result"
    }
   ],
   "source": [
    "#Check for null values\n",
    "fake_news.isnull().sum()"
   ]
  },
  {
   "cell_type": "code",
   "execution_count": 8,
   "metadata": {},
   "outputs": [],
   "source": [
    "#Dropping the rows with null values\n",
    "fake_news.dropna(axis=0,inplace=True)"
   ]
  },
  {
   "cell_type": "code",
   "execution_count": 9,
   "metadata": {},
   "outputs": [
    {
     "data": {
      "text/plain": [
       "headline    0\n",
       "news        0\n",
       "label       0\n",
       "dtype: int64"
      ]
     },
     "execution_count": 9,
     "metadata": {},
     "output_type": "execute_result"
    }
   ],
   "source": [
    "#Checking again for null values\n",
    "fake_news.isnull().sum()"
   ]
  },
  {
   "cell_type": "code",
   "execution_count": 10,
   "metadata": {},
   "outputs": [
    {
     "data": {
      "text/plain": [
       "headline    object\n",
       "news        object\n",
       "label       object\n",
       "dtype: object"
      ]
     },
     "execution_count": 10,
     "metadata": {},
     "output_type": "execute_result"
    }
   ],
   "source": [
    "#Views dtypes\n",
    "fake_news.dtypes"
   ]
  },
  {
   "cell_type": "code",
   "execution_count": 11,
   "metadata": {},
   "outputs": [
    {
     "name": "stdout",
     "output_type": "stream",
     "text": [
      "<class 'pandas.core.frame.DataFrame'>\n",
      "Int64Index: 20203 entries, 0 to 20799\n",
      "Data columns (total 3 columns):\n",
      " #   Column    Non-Null Count  Dtype \n",
      "---  ------    --------------  ----- \n",
      " 0   headline  20203 non-null  object\n",
      " 1   news      20203 non-null  object\n",
      " 2   label     20203 non-null  object\n",
      "dtypes: object(3)\n",
      "memory usage: 631.3+ KB\n"
     ]
    }
   ],
   "source": [
    "#details of the data\n",
    "fake_news.info()"
   ]
  },
  {
   "cell_type": "code",
   "execution_count": 12,
   "metadata": {},
   "outputs": [
    {
     "data": {
      "text/html": [
       "<div>\n",
       "<style scoped>\n",
       "    .dataframe tbody tr th:only-of-type {\n",
       "        vertical-align: middle;\n",
       "    }\n",
       "\n",
       "    .dataframe tbody tr th {\n",
       "        vertical-align: top;\n",
       "    }\n",
       "\n",
       "    .dataframe thead th {\n",
       "        text-align: right;\n",
       "    }\n",
       "</style>\n",
       "<table border=\"1\" class=\"dataframe\">\n",
       "  <thead>\n",
       "    <tr style=\"text-align: right;\">\n",
       "      <th></th>\n",
       "      <th>headline</th>\n",
       "      <th>news</th>\n",
       "      <th>label</th>\n",
       "    </tr>\n",
       "  </thead>\n",
       "  <tbody>\n",
       "    <tr>\n",
       "      <th>0</th>\n",
       "      <td>Ethics Questions Dogged Agriculture Nominee as...</td>\n",
       "      <td>WASHINGTON  —   In Sonny Perdue’s telling, Geo...</td>\n",
       "      <td>Real</td>\n",
       "    </tr>\n",
       "    <tr>\n",
       "      <th>1</th>\n",
       "      <td>U.S. Must Dig Deep to Stop Argentina’s Lionel ...</td>\n",
       "      <td>HOUSTON  —   Venezuela had a plan. It was a ta...</td>\n",
       "      <td>Real</td>\n",
       "    </tr>\n",
       "    <tr>\n",
       "      <th>2</th>\n",
       "      <td>Cotton to House: ’Do Not Walk the Plank and Vo...</td>\n",
       "      <td>Sunday on ABC’s “This Week,” while discussing ...</td>\n",
       "      <td>Real</td>\n",
       "    </tr>\n",
       "    <tr>\n",
       "      <th>3</th>\n",
       "      <td>Paul LePage, Besieged Maine Governor, Sends Co...</td>\n",
       "      <td>AUGUSTA, Me.  —   The beleaguered Republican g...</td>\n",
       "      <td>Real</td>\n",
       "    </tr>\n",
       "    <tr>\n",
       "      <th>4</th>\n",
       "      <td>A Digital 9/11 If Trump Wins</td>\n",
       "      <td>Finian Cunningham has written extensively on...</td>\n",
       "      <td>Fake</td>\n",
       "    </tr>\n",
       "    <tr>\n",
       "      <th>...</th>\n",
       "      <td>...</td>\n",
       "      <td>...</td>\n",
       "      <td>...</td>\n",
       "    </tr>\n",
       "    <tr>\n",
       "      <th>20794</th>\n",
       "      <td>One Police Shift: Patrolling an Anxious Americ...</td>\n",
       "      <td>Policing in America today is a rib dinner paid...</td>\n",
       "      <td>Real</td>\n",
       "    </tr>\n",
       "    <tr>\n",
       "      <th>20796</th>\n",
       "      <td>Albert Pike and the European Migrant Crisis</td>\n",
       "      <td>By Rixon Stewart on November 5, 2016 Rixon Ste...</td>\n",
       "      <td>Fake</td>\n",
       "    </tr>\n",
       "    <tr>\n",
       "      <th>20797</th>\n",
       "      <td>Dakota Access Caught Infiltrating Protests to ...</td>\n",
       "      <td>posted by Eddie You know the Dakota Access Pip...</td>\n",
       "      <td>Fake</td>\n",
       "    </tr>\n",
       "    <tr>\n",
       "      <th>20798</th>\n",
       "      <td>How to Stretch the Summer Solstice - The New Y...</td>\n",
       "      <td>It’s officially summer, and the Society Boutiq...</td>\n",
       "      <td>Real</td>\n",
       "    </tr>\n",
       "    <tr>\n",
       "      <th>20799</th>\n",
       "      <td>Emory University to Pay for ’100 Percent’ of U...</td>\n",
       "      <td>Emory University in Atlanta, Georgia, has anno...</td>\n",
       "      <td>Real</td>\n",
       "    </tr>\n",
       "  </tbody>\n",
       "</table>\n",
       "<p>20203 rows × 3 columns</p>\n",
       "</div>"
      ],
      "text/plain": [
       "                                                headline  \\\n",
       "0      Ethics Questions Dogged Agriculture Nominee as...   \n",
       "1      U.S. Must Dig Deep to Stop Argentina’s Lionel ...   \n",
       "2      Cotton to House: ’Do Not Walk the Plank and Vo...   \n",
       "3      Paul LePage, Besieged Maine Governor, Sends Co...   \n",
       "4                           A Digital 9/11 If Trump Wins   \n",
       "...                                                  ...   \n",
       "20794  One Police Shift: Patrolling an Anxious Americ...   \n",
       "20796        Albert Pike and the European Migrant Crisis   \n",
       "20797  Dakota Access Caught Infiltrating Protests to ...   \n",
       "20798  How to Stretch the Summer Solstice - The New Y...   \n",
       "20799  Emory University to Pay for ’100 Percent’ of U...   \n",
       "\n",
       "                                                    news label  \n",
       "0      WASHINGTON  —   In Sonny Perdue’s telling, Geo...  Real  \n",
       "1      HOUSTON  —   Venezuela had a plan. It was a ta...  Real  \n",
       "2      Sunday on ABC’s “This Week,” while discussing ...  Real  \n",
       "3      AUGUSTA, Me.  —   The beleaguered Republican g...  Real  \n",
       "4        Finian Cunningham has written extensively on...  Fake  \n",
       "...                                                  ...   ...  \n",
       "20794  Policing in America today is a rib dinner paid...  Real  \n",
       "20796  By Rixon Stewart on November 5, 2016 Rixon Ste...  Fake  \n",
       "20797  posted by Eddie You know the Dakota Access Pip...  Fake  \n",
       "20798  It’s officially summer, and the Society Boutiq...  Real  \n",
       "20799  Emory University in Atlanta, Georgia, has anno...  Real  \n",
       "\n",
       "[20203 rows x 3 columns]"
      ]
     },
     "execution_count": 12,
     "metadata": {},
     "output_type": "execute_result"
    }
   ],
   "source": [
    "fake_news"
   ]
  },
  {
   "cell_type": "code",
   "execution_count": 13,
   "metadata": {},
   "outputs": [],
   "source": [
    "#import of necessary data for datacleaning and dataexploring\n",
    "import nltk\n",
    "from nltk.corpus import stopwords\n",
    "import string"
   ]
  },
  {
   "cell_type": "code",
   "execution_count": 14,
   "metadata": {},
   "outputs": [],
   "source": [
    "#removing the stopwords from the dataset\n",
    "stop_words = set(stopwords.words('english'))\n",
    "fake_news['headline'] = fake_news['headline'].apply(lambda x: ' '.join([word for word in x.split() if word not in (stop_words)]))\n",
    "fake_news['news'] = fake_news['news'].apply(lambda x: ' '.join([word for word in x.split() if word not in (stop_words)]))"
   ]
  },
  {
   "cell_type": "code",
   "execution_count": 15,
   "metadata": {},
   "outputs": [
    {
     "name": "stdout",
     "output_type": "stream",
     "text": [
      "['headline', 'news', 'label']\n"
     ]
    }
   ],
   "source": [
    "print (list(fake_news))"
   ]
  },
  {
   "cell_type": "code",
   "execution_count": 16,
   "metadata": {},
   "outputs": [],
   "source": [
    "#converting data to lowercase\n",
    "fake_news['headline'] = fake_news['headline'].str.lower()"
   ]
  },
  {
   "cell_type": "code",
   "execution_count": 17,
   "metadata": {},
   "outputs": [
    {
     "name": "stdout",
     "output_type": "stream",
     "text": [
      "ethics questions dogged agriculture nominee georgia governor - the new york times\n"
     ]
    }
   ],
   "source": [
    "#viewing a example\n",
    "example_headline = fake_news.iloc[0]\n",
    "print(example_headline['headline'])"
   ]
  },
  {
   "cell_type": "code",
   "execution_count": 18,
   "metadata": {},
   "outputs": [],
   "source": [
    "fake_news['news'] = fake_news['news'].str.lower()"
   ]
  },
  {
   "cell_type": "code",
   "execution_count": 19,
   "metadata": {},
   "outputs": [
    {
     "name": "stdout",
     "output_type": "stream",
     "text": [
      "washington — in sonny perdue’s telling, georgians growing weary corruption scandals state took governor 2003 — time gave version “drain swamp” pledge. “my first goal governor restore public trust state government changing culture state government,” mr. perdue told leadership conference kennesaw state university april 2003. “our form government depends mutual bond trust people government. but people become cynical government. ” but mr. perdue, republican awaiting confirmation serve president trump’s agriculture secretary, became target frequent criticism failing honor ethics pledge eight years governor. the criticism centers fact that, mr. trump has, continued help run family business ventures — four companies — serving governor. mr. perdue one last cabinet members awaiting senate confirmation. no date set confirmation hearing holdup release paperwork accompanying nomination federal office government ethics blamed delay. the office must examine mr. perdue’s proposal avoid conflicts interest running u. s. d. a. department known, may include selling farming assets. before tenure governor ended 2011, 13 complaints filed mr. perdue state ethics commission, two occasions ruled governor violated state ethics laws. the commission took unusual step fining mr. perdue governor. there numerous questions, including role mr. perdue’s personal lawyer — also state legislator — pushing bill legislature included special provision gave mr. perdue $100, 000 state tax relief. and, tenure governor coming close, mr. perdue met georgia officials oversee state’s ports discuss use terminal family business, according documents obtained the atlanta . soon left office, fact, opened new company specialized exporting products savannah. “when public official supposed acting entirely behalf public ” said yasha heidari, former senior legal counsel state ethics commission. “looking record, attorney citizen state, i serious concerns. ” in written statement, spokeswoman mr. perdue rejected assessment, saying frequent criticism faced governor largely politically motivated. “there hadn’t republican governor georgia 135 years,” statement said. “governor perdue david slew democrats’ goliath. ” during wait mr. perdue’s confirmation hearing, farming industry come defense. “i don’t think going find man honorable sonny perdue,” said zippy duvall, georgia cattle poultry farmer president american farm bureau federation, adding known mr. perdue decade. “he ethical come. ” born family farmers, mr. perdue played college football university georgia, later worked briefly practicing veterinarian. he rose ranks state legislature and, late 1990s, switched party affiliation democrat republican because, said, state party lost focus family values. one mr. perdue’s first acts sworn governor january 2003 sign executive order establishing new code ethics executive branch employees. the order, applied governor himself, prohibited state employees using powers “any financial personal benefit” barred taking gifts worth $25. “in carrying official duties obligations, officers employees state government must work solely public good, striving vigilantly avoid even appearance actions motivated private personal interest,” 2003 executive order said. but mr. perdue ended collecting least $25, 000 worth benefits gifts years governor, state records show. the gifts ranged tickets nascar race football games flights paid altria, tobacco company, csx, railroad giant, according 2010 report citizens responsibility ethics washington, liberal nonprofit group. mr. perdue’s spokeswoman, written statement, said none gifts violated ban “trips official state business perfectly acceptable saving taxpayer funds. ” “the gifts state,” statement read, “not governor. ” the fine state ethics commission 2005 came commission concluded mr. perdue failed properly report use airplane owned one family’s businesses trip. the commission also found taken campaign contributions amounts exceeded state limits several donors — including political action committee run suntrust, bank. mr. perdue called violations technical, investigation politically motivated. teddy lee, executive secretary state ethics commission, fired job january 2006, interview blamed mr. perdue firing. mr. lee served job four governors. “this looked like political hit me,” mr. lee said. mr. lee’s dismissal came mr. perdue seeking months largest scandal emerged, $100, 000 state tax break received thanks legislative maneuver engineered lawmaker also personal lawyer. the focus controversy piece property florida mr. perdue purchased 2004. the purchase allowed defer paying federal capital gains taxes separate piece georgia land — previously sold profit. when transaction completed, mr. perdue still owed georgia $100, 000 state taxes. then, mr. perdue signed bill following year eliminating state tax obligation — state law changed allow rollover relief capital gains, even new property purchased state. during deliberations legislation, larry o’neal, member georgia house representatives also worked part time personal lawyer mr. perdue, intervened make change provision retroactive. that meant would cover mr. perdue’s 2004 land deal, saving governor $100, 000, the reported time. mr. perdue’s spokeswoman said change state law intended benefit mr. perdue. “it benefited georgians,” statement said. scott faber environmental working group, nonprofit organization keeps close watch policies agriculture department, said questions mr. perdue’s fitness take department. “given record conflicts interest governor georgia, fair ask fit run $ federal agency,” mr. faber said. but mr. duvall, american farm bureau federation, believes opposite. mr. duvall said former farmer, mr. perdue nation needs run department. “he worked farm owned businesses buy sell grain domestically internationally,” mr. duvall said. “it ought requirement someone runs u. s. d. a. knows something farming. and sonny certainly does. ”\n"
     ]
    }
   ],
   "source": [
    "example_news = fake_news.iloc[0]\n",
    "print(example_news['news'])"
   ]
  },
  {
   "cell_type": "code",
   "execution_count": 20,
   "metadata": {},
   "outputs": [
    {
     "name": "stdout",
     "output_type": "stream",
     "text": [
      "['ethics', 'questions', 'dogged', 'agriculture', 'nominee', 'georgia', 'governor', '-', 'the', 'new', 'york', 'times']\n",
      "['washington', '—', 'in', 'sonny', 'perdue', '’', 's', 'telling', ',', 'georgians', 'growing', 'weary', 'corruption', 'scandals', 'state', 'took', 'governor', '2003', '—', 'time', 'gave', 'version', '“', 'drain', 'swamp', '”', 'pledge', '.', '“', 'my', 'first', 'goal', 'governor', 'restore', 'public', 'trust', 'state', 'government', 'changing', 'culture', 'state', 'government', ',', '”', 'mr.', 'perdue', 'told', 'leadership', 'conference', 'kennesaw', 'state', 'university', 'april', '2003', '.', '“', 'our', 'form', 'government', 'depends', 'mutual', 'bond', 'trust', 'people', 'government', '.', 'but', 'people', 'become', 'cynical', 'government', '.', '”', 'but', 'mr.', 'perdue', ',', 'republican', 'awaiting', 'confirmation', 'serve', 'president', 'trump', '’', 's', 'agriculture', 'secretary', ',', 'became', 'target', 'frequent', 'criticism', 'failing', 'honor', 'ethics', 'pledge', 'eight', 'years', 'governor', '.', 'the', 'criticism', 'centers', 'fact', 'that', ',', 'mr.', 'trump', 'has', ',', 'continued', 'help', 'run', 'family', 'business', 'ventures', '—', 'four', 'companies', '—', 'serving', 'governor', '.', 'mr.', 'perdue', 'one', 'last', 'cabinet', 'members', 'awaiting', 'senate', 'confirmation', '.', 'no', 'date', 'set', 'confirmation', 'hearing', 'holdup', 'release', 'paperwork', 'accompanying', 'nomination', 'federal', 'office', 'government', 'ethics', 'blamed', 'delay', '.', 'the', 'office', 'must', 'examine', 'mr.', 'perdue', '’', 's', 'proposal', 'avoid', 'conflicts', 'interest', 'running', 'u.', 's.', 'd.', 'a.', 'department', 'known', ',', 'may', 'include', 'selling', 'farming', 'assets', '.', 'before', 'tenure', 'governor', 'ended', '2011', ',', '13', 'complaints', 'filed', 'mr.', 'perdue', 'state', 'ethics', 'commission', ',', 'two', 'occasions', 'ruled', 'governor', 'violated', 'state', 'ethics', 'laws', '.', 'the', 'commission', 'took', 'unusual', 'step', 'fining', 'mr.', 'perdue', 'governor', '.', 'there', 'numerous', 'questions', ',', 'including', 'role', 'mr.', 'perdue', '’', 's', 'personal', 'lawyer', '—', 'also', 'state', 'legislator', '—', 'pushing', 'bill', 'legislature', 'included', 'special', 'provision', 'gave', 'mr.', 'perdue', '$', '100', ',', '000', 'state', 'tax', 'relief', '.', 'and', ',', 'tenure', 'governor', 'coming', 'close', ',', 'mr.', 'perdue', 'met', 'georgia', 'officials', 'oversee', 'state', '’', 's', 'ports', 'discuss', 'use', 'terminal', 'family', 'business', ',', 'according', 'documents', 'obtained', 'the', 'atlanta', '.', 'soon', 'left', 'office', ',', 'fact', ',', 'opened', 'new', 'company', 'specialized', 'exporting', 'products', 'savannah', '.', '“', 'when', 'public', 'official', 'supposed', 'acting', 'entirely', 'behalf', 'public', '”', 'said', 'yasha', 'heidari', ',', 'former', 'senior', 'legal', 'counsel', 'state', 'ethics', 'commission', '.', '“', 'looking', 'record', ',', 'attorney', 'citizen', 'state', ',', 'i', 'serious', 'concerns', '.', '”', 'in', 'written', 'statement', ',', 'spokeswoman', 'mr.', 'perdue', 'rejected', 'assessment', ',', 'saying', 'frequent', 'criticism', 'faced', 'governor', 'largely', 'politically', 'motivated', '.', '“', 'there', 'hadn', '’', 't', 'republican', 'governor', 'georgia', '135', 'years', ',', '”', 'statement', 'said', '.', '“', 'governor', 'perdue', 'david', 'slew', 'democrats', '’', 'goliath', '.', '”', 'during', 'wait', 'mr.', 'perdue', '’', 's', 'confirmation', 'hearing', ',', 'farming', 'industry', 'come', 'defense', '.', '“', 'i', 'don', '’', 't', 'think', 'going', 'find', 'man', 'honorable', 'sonny', 'perdue', ',', '”', 'said', 'zippy', 'duvall', ',', 'georgia', 'cattle', 'poultry', 'farmer', 'president', 'american', 'farm', 'bureau', 'federation', ',', 'adding', 'known', 'mr.', 'perdue', 'decade', '.', '“', 'he', 'ethical', 'come', '.', '”', 'born', 'family', 'farmers', ',', 'mr.', 'perdue', 'played', 'college', 'football', 'university', 'georgia', ',', 'later', 'worked', 'briefly', 'practicing', 'veterinarian', '.', 'he', 'rose', 'ranks', 'state', 'legislature', 'and', ',', 'late', '1990s', ',', 'switched', 'party', 'affiliation', 'democrat', 'republican', 'because', ',', 'said', ',', 'state', 'party', 'lost', 'focus', 'family', 'values', '.', 'one', 'mr.', 'perdue', '’', 's', 'first', 'acts', 'sworn', 'governor', 'january', '2003', 'sign', 'executive', 'order', 'establishing', 'new', 'code', 'ethics', 'executive', 'branch', 'employees', '.', 'the', 'order', ',', 'applied', 'governor', 'himself', ',', 'prohibited', 'state', 'employees', 'using', 'powers', '“', 'any', 'financial', 'personal', 'benefit', '”', 'barred', 'taking', 'gifts', 'worth', '$', '25', '.', '“', 'in', 'carrying', 'official', 'duties', 'obligations', ',', 'officers', 'employees', 'state', 'government', 'must', 'work', 'solely', 'public', 'good', ',', 'striving', 'vigilantly', 'avoid', 'even', 'appearance', 'actions', 'motivated', 'private', 'personal', 'interest', ',', '”', '2003', 'executive', 'order', 'said', '.', 'but', 'mr.', 'perdue', 'ended', 'collecting', 'least', '$', '25', ',', '000', 'worth', 'benefits', 'gifts', 'years', 'governor', ',', 'state', 'records', 'show', '.', 'the', 'gifts', 'ranged', 'tickets', 'nascar', 'race', 'football', 'games', 'flights', 'paid', 'altria', ',', 'tobacco', 'company', ',', 'csx', ',', 'railroad', 'giant', ',', 'according', '2010', 'report', 'citizens', 'responsibility', 'ethics', 'washington', ',', 'liberal', 'nonprofit', 'group', '.', 'mr.', 'perdue', '’', 's', 'spokeswoman', ',', 'written', 'statement', ',', 'said', 'none', 'gifts', 'violated', 'ban', '“', 'trips', 'official', 'state', 'business', 'perfectly', 'acceptable', 'saving', 'taxpayer', 'funds', '.', '”', '“', 'the', 'gifts', 'state', ',', '”', 'statement', 'read', ',', '“', 'not', 'governor', '.', '”', 'the', 'fine', 'state', 'ethics', 'commission', '2005', 'came', 'commission', 'concluded', 'mr.', 'perdue', 'failed', 'properly', 'report', 'use', 'airplane', 'owned', 'one', 'family', '’', 's', 'businesses', 'trip', '.', 'the', 'commission', 'also', 'found', 'taken', 'campaign', 'contributions', 'amounts', 'exceeded', 'state', 'limits', 'several', 'donors', '—', 'including', 'political', 'action', 'committee', 'run', 'suntrust', ',', 'bank', '.', 'mr.', 'perdue', 'called', 'violations', 'technical', ',', 'investigation', 'politically', 'motivated', '.', 'teddy', 'lee', ',', 'executive', 'secretary', 'state', 'ethics', 'commission', ',', 'fired', 'job', 'january', '2006', ',', 'interview', 'blamed', 'mr.', 'perdue', 'firing', '.', 'mr.', 'lee', 'served', 'job', 'four', 'governors', '.', '“', 'this', 'looked', 'like', 'political', 'hit', 'me', ',', '”', 'mr.', 'lee', 'said', '.', 'mr.', 'lee', '’', 's', 'dismissal', 'came', 'mr.', 'perdue', 'seeking', 'months', 'largest', 'scandal', 'emerged', ',', '$', '100', ',', '000', 'state', 'tax', 'break', 'received', 'thanks', 'legislative', 'maneuver', 'engineered', 'lawmaker', 'also', 'personal', 'lawyer', '.', 'the', 'focus', 'controversy', 'piece', 'property', 'florida', 'mr.', 'perdue', 'purchased', '2004.', 'the', 'purchase', 'allowed', 'defer', 'paying', 'federal', 'capital', 'gains', 'taxes', 'separate', 'piece', 'georgia', 'land', '—', 'previously', 'sold', 'profit', '.', 'when', 'transaction', 'completed', ',', 'mr.', 'perdue', 'still', 'owed', 'georgia', '$', '100', ',', '000', 'state', 'taxes', '.', 'then', ',', 'mr.', 'perdue', 'signed', 'bill', 'following', 'year', 'eliminating', 'state', 'tax', 'obligation', '—', 'state', 'law', 'changed', 'allow', 'rollover', 'relief', 'capital', 'gains', ',', 'even', 'new', 'property', 'purchased', 'state', '.', 'during', 'deliberations', 'legislation', ',', 'larry', 'o', '’', 'neal', ',', 'member', 'georgia', 'house', 'representatives', 'also', 'worked', 'part', 'time', 'personal', 'lawyer', 'mr.', 'perdue', ',', 'intervened', 'make', 'change', 'provision', 'retroactive', '.', 'that', 'meant', 'would', 'cover', 'mr.', 'perdue', '’', 's', '2004', 'land', 'deal', ',', 'saving', 'governor', '$', '100', ',', '000', ',', 'the', 'reported', 'time', '.', 'mr.', 'perdue', '’', 's', 'spokeswoman', 'said', 'change', 'state', 'law', 'intended', 'benefit', 'mr.', 'perdue', '.', '“', 'it', 'benefited', 'georgians', ',', '”', 'statement', 'said', '.', 'scott', 'faber', 'environmental', 'working', 'group', ',', 'nonprofit', 'organization', 'keeps', 'close', 'watch', 'policies', 'agriculture', 'department', ',', 'said', 'questions', 'mr.', 'perdue', '’', 's', 'fitness', 'take', 'department', '.', '“', 'given', 'record', 'conflicts', 'interest', 'governor', 'georgia', ',', 'fair', 'ask', 'fit', 'run', '$', 'federal', 'agency', ',', '”', 'mr.', 'faber', 'said', '.', 'but', 'mr.', 'duvall', ',', 'american', 'farm', 'bureau', 'federation', ',', 'believes', 'opposite', '.', 'mr.', 'duvall', 'said', 'former', 'farmer', ',', 'mr.', 'perdue', 'nation', 'needs', 'run', 'department', '.', '“', 'he', 'worked', 'farm', 'owned', 'businesses', 'buy', 'sell', 'grain', 'domestically', 'internationally', ',', '”', 'mr.', 'duvall', 'said', '.', '“', 'it', 'ought', 'requirement', 'someone', 'runs', 'u.', 's.', 'd.', 'a.', 'knows', 'something', 'farming', '.', 'and', 'sonny', 'certainly', 'does', '.', '”']\n"
     ]
    }
   ],
   "source": [
    "print (nltk.word_tokenize(example_headline['headline']))\n",
    "print (nltk.word_tokenize(example_news['news']))"
   ]
  },
  {
   "cell_type": "code",
   "execution_count": 21,
   "metadata": {},
   "outputs": [],
   "source": [
    "#defining a function to word tokenize data\n",
    "def identify_tokens(row):\n",
    "    headline = row['headline']\n",
    "    tokens = nltk.word_tokenize(headline)\n",
    "    # taken only words (not punctuation)\n",
    "    token_words = [w for w in tokens if w.isalnum()]\n",
    "    return token_words\n",
    "\n",
    "fake_news['words_headline'] = fake_news.apply(identify_tokens, axis=1)"
   ]
  },
  {
   "cell_type": "code",
   "execution_count": 22,
   "metadata": {},
   "outputs": [
    {
     "data": {
      "text/html": [
       "<div>\n",
       "<style scoped>\n",
       "    .dataframe tbody tr th:only-of-type {\n",
       "        vertical-align: middle;\n",
       "    }\n",
       "\n",
       "    .dataframe tbody tr th {\n",
       "        vertical-align: top;\n",
       "    }\n",
       "\n",
       "    .dataframe thead th {\n",
       "        text-align: right;\n",
       "    }\n",
       "</style>\n",
       "<table border=\"1\" class=\"dataframe\">\n",
       "  <thead>\n",
       "    <tr style=\"text-align: right;\">\n",
       "      <th></th>\n",
       "      <th>headline</th>\n",
       "      <th>news</th>\n",
       "      <th>label</th>\n",
       "      <th>words_headline</th>\n",
       "    </tr>\n",
       "  </thead>\n",
       "  <tbody>\n",
       "    <tr>\n",
       "      <th>0</th>\n",
       "      <td>ethics questions dogged agriculture nominee ge...</td>\n",
       "      <td>washington — in sonny perdue’s telling, georgi...</td>\n",
       "      <td>Real</td>\n",
       "      <td>[ethics, questions, dogged, agriculture, nomin...</td>\n",
       "    </tr>\n",
       "    <tr>\n",
       "      <th>1</th>\n",
       "      <td>u.s. must dig deep stop argentina’s lionel mes...</td>\n",
       "      <td>houston — venezuela plan. it tactical approach...</td>\n",
       "      <td>Real</td>\n",
       "      <td>[must, dig, deep, stop, argentina, s, lionel, ...</td>\n",
       "    </tr>\n",
       "    <tr>\n",
       "      <th>2</th>\n",
       "      <td>cotton house: ’do not walk plank vote bill can...</td>\n",
       "      <td>sunday abc’s “this week,” discussing republica...</td>\n",
       "      <td>Real</td>\n",
       "      <td>[cotton, house, do, not, walk, plank, vote, bi...</td>\n",
       "    </tr>\n",
       "    <tr>\n",
       "      <th>3</th>\n",
       "      <td>paul lepage, besieged maine governor, sends co...</td>\n",
       "      <td>augusta, me. — the beleaguered republican gove...</td>\n",
       "      <td>Real</td>\n",
       "      <td>[paul, lepage, besieged, maine, governor, send...</td>\n",
       "    </tr>\n",
       "    <tr>\n",
       "      <th>4</th>\n",
       "      <td>a digital 9/11 if trump wins</td>\n",
       "      <td>finian cunningham written extensively internat...</td>\n",
       "      <td>Fake</td>\n",
       "      <td>[a, digital, if, trump, wins]</td>\n",
       "    </tr>\n",
       "    <tr>\n",
       "      <th>...</th>\n",
       "      <td>...</td>\n",
       "      <td>...</td>\n",
       "      <td>...</td>\n",
       "      <td>...</td>\n",
       "    </tr>\n",
       "    <tr>\n",
       "      <th>20794</th>\n",
       "      <td>one police shift: patrolling anxious america -...</td>\n",
       "      <td>policing america today rib dinner paid strange...</td>\n",
       "      <td>Real</td>\n",
       "      <td>[one, police, shift, patrolling, anxious, amer...</td>\n",
       "    </tr>\n",
       "    <tr>\n",
       "      <th>20796</th>\n",
       "      <td>albert pike european migrant crisis</td>\n",
       "      <td>by rixon stewart november 5, 2016 rixon stewar...</td>\n",
       "      <td>Fake</td>\n",
       "      <td>[albert, pike, european, migrant, crisis]</td>\n",
       "    </tr>\n",
       "    <tr>\n",
       "      <th>20797</th>\n",
       "      <td>dakota access caught infiltrating protests inc...</td>\n",
       "      <td>posted eddie you know dakota access pipeline p...</td>\n",
       "      <td>Fake</td>\n",
       "      <td>[dakota, access, caught, infiltrating, protest...</td>\n",
       "    </tr>\n",
       "    <tr>\n",
       "      <th>20798</th>\n",
       "      <td>how stretch summer solstice - the new york times</td>\n",
       "      <td>it’s officially summer, society boutique, soci...</td>\n",
       "      <td>Real</td>\n",
       "      <td>[how, stretch, summer, solstice, the, new, yor...</td>\n",
       "    </tr>\n",
       "    <tr>\n",
       "      <th>20799</th>\n",
       "      <td>emory university pay ’100 percent’ undocumente...</td>\n",
       "      <td>emory university atlanta, georgia, announced f...</td>\n",
       "      <td>Real</td>\n",
       "      <td>[emory, university, pay, 100, percent, undocum...</td>\n",
       "    </tr>\n",
       "  </tbody>\n",
       "</table>\n",
       "<p>20203 rows × 4 columns</p>\n",
       "</div>"
      ],
      "text/plain": [
       "                                                headline  \\\n",
       "0      ethics questions dogged agriculture nominee ge...   \n",
       "1      u.s. must dig deep stop argentina’s lionel mes...   \n",
       "2      cotton house: ’do not walk plank vote bill can...   \n",
       "3      paul lepage, besieged maine governor, sends co...   \n",
       "4                           a digital 9/11 if trump wins   \n",
       "...                                                  ...   \n",
       "20794  one police shift: patrolling anxious america -...   \n",
       "20796                albert pike european migrant crisis   \n",
       "20797  dakota access caught infiltrating protests inc...   \n",
       "20798   how stretch summer solstice - the new york times   \n",
       "20799  emory university pay ’100 percent’ undocumente...   \n",
       "\n",
       "                                                    news label  \\\n",
       "0      washington — in sonny perdue’s telling, georgi...  Real   \n",
       "1      houston — venezuela plan. it tactical approach...  Real   \n",
       "2      sunday abc’s “this week,” discussing republica...  Real   \n",
       "3      augusta, me. — the beleaguered republican gove...  Real   \n",
       "4      finian cunningham written extensively internat...  Fake   \n",
       "...                                                  ...   ...   \n",
       "20794  policing america today rib dinner paid strange...  Real   \n",
       "20796  by rixon stewart november 5, 2016 rixon stewar...  Fake   \n",
       "20797  posted eddie you know dakota access pipeline p...  Fake   \n",
       "20798  it’s officially summer, society boutique, soci...  Real   \n",
       "20799  emory university atlanta, georgia, announced f...  Real   \n",
       "\n",
       "                                          words_headline  \n",
       "0      [ethics, questions, dogged, agriculture, nomin...  \n",
       "1      [must, dig, deep, stop, argentina, s, lionel, ...  \n",
       "2      [cotton, house, do, not, walk, plank, vote, bi...  \n",
       "3      [paul, lepage, besieged, maine, governor, send...  \n",
       "4                          [a, digital, if, trump, wins]  \n",
       "...                                                  ...  \n",
       "20794  [one, police, shift, patrolling, anxious, amer...  \n",
       "20796          [albert, pike, european, migrant, crisis]  \n",
       "20797  [dakota, access, caught, infiltrating, protest...  \n",
       "20798  [how, stretch, summer, solstice, the, new, yor...  \n",
       "20799  [emory, university, pay, 100, percent, undocum...  \n",
       "\n",
       "[20203 rows x 4 columns]"
      ]
     },
     "execution_count": 22,
     "metadata": {},
     "output_type": "execute_result"
    }
   ],
   "source": [
    "fake_news"
   ]
  },
  {
   "cell_type": "code",
   "execution_count": 23,
   "metadata": {},
   "outputs": [],
   "source": [
    "#droping the words_headline column as it is not required\n",
    "#Worked on word-tokenize only for data exploration\n",
    "fake_news.drop([\"words_headline\"],axis=1,inplace=True)"
   ]
  },
  {
   "cell_type": "code",
   "execution_count": 24,
   "metadata": {},
   "outputs": [],
   "source": [
    "#removing punctuations\n",
    "import string\n",
    "def punctuation_removal(text):\n",
    "    all_list = [char for char in text if char not in string.punctuation]\n",
    "    clean_str = ''.join(all_list)\n",
    "    return clean_str\n",
    "fake_news['headline'] = fake_news['headline'].apply(punctuation_removal)"
   ]
  },
  {
   "cell_type": "code",
   "execution_count": 25,
   "metadata": {},
   "outputs": [],
   "source": [
    "fake_news['news'] = fake_news['news'].apply(punctuation_removal)"
   ]
  },
  {
   "cell_type": "code",
   "execution_count": 26,
   "metadata": {},
   "outputs": [
    {
     "data": {
      "text/html": [
       "<div>\n",
       "<style scoped>\n",
       "    .dataframe tbody tr th:only-of-type {\n",
       "        vertical-align: middle;\n",
       "    }\n",
       "\n",
       "    .dataframe tbody tr th {\n",
       "        vertical-align: top;\n",
       "    }\n",
       "\n",
       "    .dataframe thead th {\n",
       "        text-align: right;\n",
       "    }\n",
       "</style>\n",
       "<table border=\"1\" class=\"dataframe\">\n",
       "  <thead>\n",
       "    <tr style=\"text-align: right;\">\n",
       "      <th></th>\n",
       "      <th>headline</th>\n",
       "      <th>news</th>\n",
       "      <th>label</th>\n",
       "    </tr>\n",
       "  </thead>\n",
       "  <tbody>\n",
       "    <tr>\n",
       "      <th>0</th>\n",
       "      <td>ethics questions dogged agriculture nominee ge...</td>\n",
       "      <td>washington — in sonny perdue’s telling georgia...</td>\n",
       "      <td>Real</td>\n",
       "    </tr>\n",
       "    <tr>\n",
       "      <th>1</th>\n",
       "      <td>us must dig deep stop argentina’s lionel messi...</td>\n",
       "      <td>houston — venezuela plan it tactical approach ...</td>\n",
       "      <td>Real</td>\n",
       "    </tr>\n",
       "    <tr>\n",
       "      <th>2</th>\n",
       "      <td>cotton house ’do not walk plank vote bill cann...</td>\n",
       "      <td>sunday abc’s “this week” discussing republican...</td>\n",
       "      <td>Real</td>\n",
       "    </tr>\n",
       "    <tr>\n",
       "      <th>3</th>\n",
       "      <td>paul lepage besieged maine governor sends conf...</td>\n",
       "      <td>augusta me — the beleaguered republican govern...</td>\n",
       "      <td>Real</td>\n",
       "    </tr>\n",
       "    <tr>\n",
       "      <th>4</th>\n",
       "      <td>a digital 911 if trump wins</td>\n",
       "      <td>finian cunningham written extensively internat...</td>\n",
       "      <td>Fake</td>\n",
       "    </tr>\n",
       "    <tr>\n",
       "      <th>...</th>\n",
       "      <td>...</td>\n",
       "      <td>...</td>\n",
       "      <td>...</td>\n",
       "    </tr>\n",
       "    <tr>\n",
       "      <th>20794</th>\n",
       "      <td>one police shift patrolling anxious america  t...</td>\n",
       "      <td>policing america today rib dinner paid strange...</td>\n",
       "      <td>Real</td>\n",
       "    </tr>\n",
       "    <tr>\n",
       "      <th>20796</th>\n",
       "      <td>albert pike european migrant crisis</td>\n",
       "      <td>by rixon stewart november 5 2016 rixon stewart...</td>\n",
       "      <td>Fake</td>\n",
       "    </tr>\n",
       "    <tr>\n",
       "      <th>20797</th>\n",
       "      <td>dakota access caught infiltrating protests inc...</td>\n",
       "      <td>posted eddie you know dakota access pipeline p...</td>\n",
       "      <td>Fake</td>\n",
       "    </tr>\n",
       "    <tr>\n",
       "      <th>20798</th>\n",
       "      <td>how stretch summer solstice  the new york times</td>\n",
       "      <td>it’s officially summer society boutique societ...</td>\n",
       "      <td>Real</td>\n",
       "    </tr>\n",
       "    <tr>\n",
       "      <th>20799</th>\n",
       "      <td>emory university pay ’100 percent’ undocumente...</td>\n",
       "      <td>emory university atlanta georgia announced fun...</td>\n",
       "      <td>Real</td>\n",
       "    </tr>\n",
       "  </tbody>\n",
       "</table>\n",
       "<p>20203 rows × 3 columns</p>\n",
       "</div>"
      ],
      "text/plain": [
       "                                                headline  \\\n",
       "0      ethics questions dogged agriculture nominee ge...   \n",
       "1      us must dig deep stop argentina’s lionel messi...   \n",
       "2      cotton house ’do not walk plank vote bill cann...   \n",
       "3      paul lepage besieged maine governor sends conf...   \n",
       "4                            a digital 911 if trump wins   \n",
       "...                                                  ...   \n",
       "20794  one police shift patrolling anxious america  t...   \n",
       "20796                albert pike european migrant crisis   \n",
       "20797  dakota access caught infiltrating protests inc...   \n",
       "20798    how stretch summer solstice  the new york times   \n",
       "20799  emory university pay ’100 percent’ undocumente...   \n",
       "\n",
       "                                                    news label  \n",
       "0      washington — in sonny perdue’s telling georgia...  Real  \n",
       "1      houston — venezuela plan it tactical approach ...  Real  \n",
       "2      sunday abc’s “this week” discussing republican...  Real  \n",
       "3      augusta me — the beleaguered republican govern...  Real  \n",
       "4      finian cunningham written extensively internat...  Fake  \n",
       "...                                                  ...   ...  \n",
       "20794  policing america today rib dinner paid strange...  Real  \n",
       "20796  by rixon stewart november 5 2016 rixon stewart...  Fake  \n",
       "20797  posted eddie you know dakota access pipeline p...  Fake  \n",
       "20798  it’s officially summer society boutique societ...  Real  \n",
       "20799  emory university atlanta georgia announced fun...  Real  \n",
       "\n",
       "[20203 rows x 3 columns]"
      ]
     },
     "execution_count": 26,
     "metadata": {},
     "output_type": "execute_result"
    }
   ],
   "source": [
    "fake_news"
   ]
  },
  {
   "cell_type": "code",
   "execution_count": 27,
   "metadata": {},
   "outputs": [
    {
     "data": {
      "text/plain": [
       "0    Real\n",
       "1    Real\n",
       "2    Real\n",
       "3    Real\n",
       "4    Fake\n",
       "Name: label, dtype: object"
      ]
     },
     "execution_count": 27,
     "metadata": {},
     "output_type": "execute_result"
    }
   ],
   "source": [
    "#View labels\n",
    "labels=fake_news.label\n",
    "labels.head()"
   ]
  },
  {
   "cell_type": "code",
   "execution_count": 28,
   "metadata": {},
   "outputs": [],
   "source": [
    "#import of necessary liabraries for training and testing the model\n",
    "from sklearn.model_selection import train_test_split\n",
    "from sklearn.metrics import accuracy_score, confusion_matrix\n",
    "from sklearn.feature_extraction.text import TfidfTransformer\n",
    "from sklearn.feature_extraction.text import TfidfVectorizer\n",
    "from sklearn.feature_extraction.text import CountVectorizer\n",
    "from sklearn.pipeline import Pipeline"
   ]
  },
  {
   "cell_type": "code",
   "execution_count": 29,
   "metadata": {},
   "outputs": [],
   "source": [
    "x_train,x_test,y_train,y_test = train_test_split(fake_news['headline'], fake_news.label, test_size=0.2, random_state=42)"
   ]
  },
  {
   "cell_type": "code",
   "execution_count": 30,
   "metadata": {},
   "outputs": [
    {
     "name": "stdout",
     "output_type": "stream",
     "text": [
      "accuracy: 92.65%\n"
     ]
    }
   ],
   "source": [
    "#checking accuracy by logistic regression\n",
    "from sklearn.linear_model import LogisticRegression\n",
    "pipe = Pipeline([('vect', CountVectorizer()),\n",
    "                 ('tfidf', TfidfTransformer()),\n",
    "                 ('model', LogisticRegression())])\n",
    "# Fitting the model\n",
    "model = pipe.fit(x_train, y_train)\n",
    "# Accuracy\n",
    "prediction = model.predict(x_test)\n",
    "print(\"accuracy: {}%\".format(round(accuracy_score(y_test, prediction)*100,2)))"
   ]
  },
  {
   "cell_type": "code",
   "execution_count": 31,
   "metadata": {},
   "outputs": [],
   "source": [
    "from sklearn.metrics import accuracy_score, confusion_matrix\n",
    "from sklearn.metrics import mean_squared_error\n",
    "from sklearn.metrics import f1_score\n",
    "from sklearn.metrics import roc_auc_score"
   ]
  },
  {
   "cell_type": "code",
   "execution_count": 38,
   "metadata": {},
   "outputs": [
    {
     "name": "stdout",
     "output_type": "stream",
     "text": [
      "accuracy: 91.64%\n"
     ]
    }
   ],
   "source": [
    "#checking accuracy by DecisionTreeClassifier\n",
    "from sklearn.tree import DecisionTreeClassifier\n",
    "# Vectorizing and applying TF-IDF\n",
    "pipe = Pipeline([('vect', CountVectorizer()),\n",
    "                 ('tfidf', TfidfTransformer()),\n",
    "                 ('model', DecisionTreeClassifier(criterion= 'entropy',\n",
    "                                           max_depth = 20, \n",
    "                                           splitter='best', \n",
    "                                           random_state=63))])\n",
    "# Fitting the model\n",
    "model = pipe.fit(x_train, y_train)\n",
    "# Accuracy\n",
    "prediction = model.predict(x_test)\n",
    "print(\"accuracy: {}%\".format(round(accuracy_score(y_test, prediction)*100,2)))"
   ]
  },
  {
   "cell_type": "code",
   "execution_count": 37,
   "metadata": {},
   "outputs": [
    {
     "name": "stdout",
     "output_type": "stream",
     "text": [
      "accuracy: 94.01%\n"
     ]
    }
   ],
   "source": [
    "#checking accuracy by RandomForestClassifier\n",
    "from sklearn.ensemble import RandomForestClassifier\n",
    "pipe = Pipeline([('vect', CountVectorizer()),\n",
    "                 ('tfidf', TfidfTransformer()),\n",
    "                 ('model', RandomForestClassifier(n_estimators=100, criterion=\"entropy\"))])\n",
    "model = pipe.fit(x_train, y_train)\n",
    "prediction = model.predict(x_test)\n",
    "print(\"accuracy: {}%\".format(round(accuracy_score(y_test, prediction)*100,2)))"
   ]
  },
  {
   "cell_type": "code",
   "execution_count": null,
   "metadata": {},
   "outputs": [],
   "source": [
    "#Got the best accurracy by RandomForestClassifier that is of 94.01%"
   ]
  },
  {
   "cell_type": "code",
   "execution_count": null,
   "metadata": {},
   "outputs": [],
   "source": []
  }
 ],
 "metadata": {
  "kernelspec": {
   "display_name": "Python 3 (ipykernel)",
   "language": "python",
   "name": "python3"
  },
  "language_info": {
   "codemirror_mode": {
    "name": "ipython",
    "version": 3
   },
   "file_extension": ".py",
   "mimetype": "text/x-python",
   "name": "python",
   "nbconvert_exporter": "python",
   "pygments_lexer": "ipython3",
   "version": "3.9.12"
  }
 },
 "nbformat": 4,
 "nbformat_minor": 4
}
